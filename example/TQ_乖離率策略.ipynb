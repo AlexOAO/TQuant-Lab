{
 "cells": [
  {
   "cell_type": "markdown",
   "id": "70b58cb5",
   "metadata": {},
   "source": [
    "# 乖離率策略\n",
    "\n",
    "## 交易邏輯\n",
    "乖離率為當期股價與均線的垂直距離。\n",
    "* 當距離正越大時，股價出現反轉機會上升，應當賣出。\n",
    "* 當距離負越大時，股價出現反轉機會上升，應當買入。\n",
    "\n",
    "## 交易策略\n",
    "加入收盤價與過去最高低價格比較做為第二層濾網。\n",
    "* 若收盤價低於過去 7 天的最低價，同時出現負乖離時，隔日開盤買入。\n",
    "* 若收盤價高於過去 7 天最最高價，同時出現正乖離時，隔日開盤賣出。\n",
    "\n",
    "## 參考來源\n",
    "[官網文章: 乖離率策略]:https://www.tejwin.com/insight/%E4%B9%96%E9%9B%A2%E7%8E%87%E4%BA%A4%E6%98%93%E7%AD%96%E7%95%A5/\n",
    "[官網文章: 乖離率策略]"
   ]
  },
  {
   "cell_type": "markdown",
   "id": "da01fe1e",
   "metadata": {},
   "source": [
    "## 導入資料與套件\n",
    "\n",
    "資料導入階段，我們使用 `os.environ` 設置環境變數，分別設定:\n",
    "\n",
    "1. TEJAPI_BASE: 設定 tej api 網域名稱。\n",
    "2. TEJAPI_KEY: 為購買 T Quant Lab 隨附的 api key，用於驗證個人身分。\n",
    "3. mdate: 所欲抓取資料的時間範圍，格式為 \"西元年份月份日期 西元年份月份日期\"。\n",
    "4. ticker: 所欲抓取資料的股價代碼。\n",
    "\n",
    "於本次案例我們抓取台積電資料，時間區間設定為 2005-07-02 到 2023-07-02 之間。"
   ]
  },
  {
   "cell_type": "code",
   "execution_count": null,
   "id": "c19b81e9",
   "metadata": {},
   "outputs": [],
   "source": [
    "import os\n",
    "import pandas as pd\n",
    "import numpy as np \n",
    "import tejapi\n",
    "import matplotlib.pyplot as plt\n",
    "\n",
    "os.environ['TEJAPI_BASE'] = 'https://api.tej.com.tw'\n",
    "os.environ['TEJAPI_KEY'] = 'your key' \n",
    "os.environ['mdate'] = '20050702 20230702'\n",
    "os.environ['ticker'] = '2330'\n",
    "\n",
    "!zipline ingest -b tquant"
   ]
  },
  {
   "cell_type": "markdown",
   "id": "4420265e",
   "metadata": {},
   "source": [
    "## 編輯交易策略\n",
    "\n",
    "### 導入所需套件"
   ]
  },
  {
   "cell_type": "code",
   "execution_count": null,
   "id": "3e90a0f5",
   "metadata": {},
   "outputs": [],
   "source": [
    "from zipline.api import (set_slippage, \n",
    "                         set_commission, \n",
    "                         set_benchmark, \n",
    "                         attach_pipeline, \n",
    "                         symbol, \n",
    "                         pipeline_output,\n",
    "                         record, \n",
    "                         order,\n",
    "                         order_target\n",
    "                        )\n",
    "from zipline.pipeline.filters import StaticSids\n",
    "from zipline.finance import slippage, commission\n",
    "from zipline import run_algorithm\n",
    "from zipline.pipeline import CustomFactor, Pipeline\n",
    "from zipline.pipeline.data import EquityPricing\n",
    "from zipline.pipeline.factors import ExponentialWeightedMovingAverage"
   ]
  },
  {
   "cell_type": "markdown",
   "id": "a2237466",
   "metadata": {},
   "source": [
    "### 建立 Pipeline 函式\n",
    "\n",
    "`Pipeline()` 提供使用者快速處理多檔標的的量化指標與價量資料的功能，於本次案例我們用以處理:\n",
    "\n",
    "* 股價的 7 日指數移動平均\n",
    "* 過去 7 日的股價最高價 (自定義 factor 函式: `NdaysMaxHigh`)\n",
    "* 過去 7 日的股價最低價 (自定義 factor 函式: `NdaysMinLow`)\n",
    "* 當日收盤價\n"
   ]
  },
  {
   "cell_type": "code",
   "execution_count": null,
   "id": "32111f09",
   "metadata": {},
   "outputs": [],
   "source": [
    "def make_pipeline():\n",
    "    ema = ExponentialWeightedMovingAverage(inputs = [EquityPricing.close],window_length = 7,decay_rate = 1/7)\n",
    "    high = NdaysMaxHigh(inputs = [EquityPricing.close], window_length = 8) # window_length 設定為 8，因為 factor 會包含當日價格。\n",
    "    low = NdaysMinLow(inputs = [EquityPricing.close], window_length = 8)\n",
    "    close = EquityPricing.close.latest\n",
    "    return Pipeline(\n",
    "        columns = {\n",
    "            'ema':ema,\n",
    "            'highesthigh':high,\n",
    "            'lowestlow':low,\n",
    "            'latest':close\n",
    "        }\n",
    "    )\n",
    "class NdaysMaxHigh(CustomFactor):\n",
    "    def compute(self, today, assets, out, data):\n",
    "        out[:] = np.nanmax(data[:-2], axis=0)\n",
    "class NdaysMinLow(CustomFactor):\n",
    "    def compute(self, today, assets, out, data):\n",
    "        out[:] = np.nanmin(data[:-2], axis=0)"
   ]
  },
  {
   "cell_type": "markdown",
   "id": "b636af70",
   "metadata": {},
   "source": [
    "### 建立 initialize 函式\n",
    "\n",
    "`inintialize` 函式用於定義交易開始前的每日交易環境，與此例中我們設置:\n",
    "\n",
    "* 流動性滑價\n",
    "* 交易手續費\n",
    "* 買入持有台積電的報酬作為基準\n",
    "* 將 Pipeline 導入交易流程中"
   ]
  },
  {
   "cell_type": "code",
   "execution_count": null,
   "id": "6360fc74",
   "metadata": {},
   "outputs": [],
   "source": [
    "def initialize(context):\n",
    "    set_slippage(slippage.VolumeShareSlippage())\n",
    "    set_commission(commission.PerShare(cost=0.00285))\n",
    "    set_benchmark(symbol('2330'))\n",
    "    attach_pipeline(make_pipeline(), 'mystrategy')"
   ]
  },
  {
   "cell_type": "markdown",
   "id": "ebdae7b1",
   "metadata": {},
   "source": [
    "### 建立 handle_date 函式\n",
    "\n",
    "`handle_data` 函式用於處理每天的交易策略或行動，其中:\n",
    "\n",
    "* condition1: 當日收盤價大於過去 7 日最高價且產生正乖離時，產生賣出訊號。\n",
    "* condition2: 當日收盤價小於過去 7 日最低價且產生負乖離時，產生買入訊號。"
   ]
  },
  {
   "cell_type": "code",
   "execution_count": null,
   "id": "e2e5030e",
   "metadata": {},
   "outputs": [],
   "source": [
    "def handle_data(context, data):\n",
    "    \n",
    "    pipe = pipeline_output('mystrategy')\n",
    "    \n",
    "    for i in pipe.index:\n",
    "        ema = pipe.loc[i, 'ema']\n",
    "        highesthigh = pipe.loc[i, 'highesthigh']\n",
    "        lowestlow = pipe.loc[i, 'lowestlow']\n",
    "        close = pipe.loc[i, 'latest']\n",
    "        bias = close - ema\n",
    "        residual_position = context.portfolio.positions[i].amount # 當日該資產的股數\n",
    "        condition1 = (close > highesthigh) and (bias > 0) and (residual_position > 0) # 賣出訊號\n",
    "        condition2 = (close < lowestlow) and (bias < 0) # 買入訊號\n",
    "        \n",
    "        record( # 用以紀錄以下資訊至最終產出的 result 表格中\n",
    "            con1 = condition1,\n",
    "            con2 = condition2,\n",
    "            price = close,\n",
    "            ema = ema,\n",
    "            bias = bias,\n",
    "            highesthigh = highesthigh,\n",
    "            lowestlow = lowestlow\n",
    "        )\n",
    "    \n",
    "        if condition1:\n",
    "            order_target(i, 0)\n",
    "        elif condition2:\n",
    "            order(i, 10)\n",
    "        else:\n",
    "            pass"
   ]
  },
  {
   "cell_type": "markdown",
   "id": "422c15b3",
   "metadata": {},
   "source": [
    "### 建立 analyze 函式\n",
    "\n",
    "多半用於繪製績效圖表，於本案例使用 matplotlib 將視覺化買賣點與投組價值變化。"
   ]
  },
  {
   "cell_type": "code",
   "execution_count": null,
   "id": "983b9ce4",
   "metadata": {},
   "outputs": [],
   "source": [
    "import matplotlib.pyplot as plt\n",
    "def analyze(context, perf):\n",
    "    fig = plt.figure()\n",
    "    ax1 = fig.add_subplot(211)\n",
    "    perf.portfolio_value.plot(ax=ax1)\n",
    "    ax1.set_ylabel(\"Portfolio value (NTD)\")\n",
    "    ax2 = fig.add_subplot(212)\n",
    "    ax2.set_ylabel(\"Price (NTD)\")\n",
    "    perf.price.plot(ax=ax2)\n",
    "    ax2.plot( # 繪製買入訊號\n",
    "        perf.index[perf.con2],\n",
    "        perf.loc[perf.con2, 'price'],\n",
    "        '^',\n",
    "        markersize=5,\n",
    "        color='red'\n",
    "    )\n",
    "    ax2.plot( # 繪製賣出訊號\n",
    "        perf.index[perf.con1],\n",
    "        perf.loc[perf.con1, 'price'],\n",
    "        'v',\n",
    "        markersize=5,\n",
    "        color='green'\n",
    "    )\n",
    "    plt.legend(loc=0)\n",
    "    plt.gcf().set_size_inches(18,8)\n",
    "    plt.show()"
   ]
  },
  {
   "cell_type": "markdown",
   "id": "9870b25e",
   "metadata": {},
   "source": [
    "## 執行交易策略\n",
    "\n",
    "使用 `run_algorithm` 執行上述所編撰的交易策略，設置交易期間為 2015-01-05 到 2022-07-02，所使用資料集為 *tquant*，初始資金為 10,000 元。其中輸出的 __results__ 就是每日績效與交易的明細表。"
   ]
  },
  {
   "cell_type": "code",
   "execution_count": null,
   "id": "a5c2ffad",
   "metadata": {},
   "outputs": [],
   "source": [
    "results = run_algorithm(start = pd.Timestamp('20150106', tz='UTC'),\n",
    "                       end = pd.Timestamp('20221125', tz='UTC'),\n",
    "                       initialize=initialize,\n",
    "                       bundle='tquant',\n",
    "                       analyze=analyze,\n",
    "                       capital_base=1e4,\n",
    "                       handle_data = handle_data\n",
    "                      )"
   ]
  },
  {
   "cell_type": "code",
   "execution_count": null,
   "id": "be13d238",
   "metadata": {},
   "outputs": [],
   "source": [
    "results # 績效與交易明細"
   ]
  },
  {
   "cell_type": "markdown",
   "id": "411e2903",
   "metadata": {},
   "source": [
    "# 績效評估與視覺化"
   ]
  },
  {
   "cell_type": "code",
   "execution_count": null,
   "id": "0e32166e",
   "metadata": {},
   "outputs": [],
   "source": [
    "import pyfolio as pf \n",
    "returns, positions, transactions = pf.utils.extract_rets_pos_txn_from_zipline(results)"
   ]
  },
  {
   "cell_type": "markdown",
   "id": "72cc9ddd",
   "metadata": {},
   "source": [
    "### 交易策略投組報酬率"
   ]
  },
  {
   "cell_type": "code",
   "execution_count": null,
   "id": "32c45177",
   "metadata": {},
   "outputs": [],
   "source": [
    "returns"
   ]
  },
  {
   "cell_type": "markdown",
   "id": "d89f7663",
   "metadata": {},
   "source": [
    "### 交易策略部位數量"
   ]
  },
  {
   "cell_type": "code",
   "execution_count": null,
   "id": "a39f03bf",
   "metadata": {},
   "outputs": [],
   "source": [
    "positions"
   ]
  },
  {
   "cell_type": "markdown",
   "id": "105d5203",
   "metadata": {},
   "source": [
    "### 交易策略交易紀錄"
   ]
  },
  {
   "cell_type": "code",
   "execution_count": null,
   "id": "390ac3cd",
   "metadata": {},
   "outputs": [],
   "source": [
    "transactions"
   ]
  },
  {
   "cell_type": "markdown",
   "id": "06075b74",
   "metadata": {},
   "source": [
    "## 視覺化與績效評估\n",
    "\n",
    "### 生成 pyfolio 所需資料表\n",
    "\n",
    "之後我們使用 pyfolio 進行績效視覺化與評估，首先使用 `extract_rets_pos_txn_from_zipline()` 先將上述的 __results__ 資料表細分成以下部分:\n",
    "\n",
    "* return: 投組每日報酬\n",
    "* positions: 持有部位資料表\n",
    "* transactions: 交易明細資料表"
   ]
  },
  {
   "cell_type": "code",
   "execution_count": null,
   "id": "9dddb7c4",
   "metadata": {},
   "outputs": [],
   "source": [
    "benchmark_rets = results['benchmark_return'] \n",
    "from pyfolio.utils import extract_rets_pos_txn_from_zipline\n",
    "returns, positions, transactions = extract_rets_pos_txn_from_zipline(results)"
   ]
  },
  {
   "cell_type": "code",
   "execution_count": null,
   "id": "f8515e8c",
   "metadata": {},
   "outputs": [],
   "source": [
    "returns.head()"
   ]
  },
  {
   "cell_type": "code",
   "execution_count": null,
   "id": "e0fd3b05",
   "metadata": {},
   "outputs": [],
   "source": [
    "positions.head()"
   ]
  },
  {
   "cell_type": "code",
   "execution_count": null,
   "id": "4e81caa5",
   "metadata": {},
   "outputs": [],
   "source": [
    "transactions.head()"
   ]
  },
  {
   "cell_type": "markdown",
   "id": "71ae576d",
   "metadata": {},
   "source": [
    "### 製作投資績效表\n",
    "\n",
    "使用 `show_perf_stats()` 製作績效表，可以快速計算投資常用績效與風險指標。"
   ]
  },
  {
   "cell_type": "code",
   "execution_count": null,
   "id": "00638d16",
   "metadata": {},
   "outputs": [],
   "source": [
    "import pyfolio as pf \n",
    "perf_stats = pf.plotting.show_perf_stats(\n",
    "        returns,\n",
    "        benchmark_rets,\n",
    "        positions=positions,\n",
    "        transactions=transactions)"
   ]
  },
  {
   "cell_type": "markdown",
   "id": "731e0eb0",
   "metadata": {},
   "source": [
    "### 繪製基準 (benchmark) 與投組累積報酬率\n",
    "\n",
    "使用 `plot_rolling_returns()` 繪製，本案例的基準為台積電買入持有。"
   ]
  },
  {
   "cell_type": "code",
   "execution_count": null,
   "id": "aff7a27a",
   "metadata": {},
   "outputs": [],
   "source": [
    "pf.plotting.plot_rolling_returns(returns, factor_returns=benchmark_rets)"
   ]
  }
 ],
 "metadata": {
  "kernelspec": {
   "display_name": "Python [conda env:zipline-tej_v11]",
   "language": "python",
   "name": "conda-env-zipline-tej_v11-py"
  },
  "language_info": {
   "codemirror_mode": {
    "name": "ipython",
    "version": 3
   },
   "file_extension": ".py",
   "mimetype": "text/x-python",
   "name": "python",
   "nbconvert_exporter": "python",
   "pygments_lexer": "ipython3",
   "version": "3.11.5"
  }
 },
 "nbformat": 4,
 "nbformat_minor": 5
}
