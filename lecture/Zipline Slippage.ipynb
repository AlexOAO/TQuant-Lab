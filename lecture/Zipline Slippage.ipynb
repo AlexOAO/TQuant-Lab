{
 "cells": [
  {
   "cell_type": "markdown",
   "id": "1cd4cd21",
   "metadata": {},
   "source": [
    "# Zipline 滑價調整"
   ]
  },
  {
   "cell_type": "markdown",
   "id": "76a584c2",
   "metadata": {},
   "source": [
    "在真實世界交易時，因為股價隨時都在變動，下單時的些微時間差也可能造成預期的價格與成交價有落差，而這個價差就是滑價。\n",
    "\n",
    "TQuant Lab 提供使用者四種不同 slippage model 模擬這項因素：\n",
    "\n",
    "### zipline.finance.slippage.FixedSlippage:\n",
    "\n",
    "自動在每筆交易加入 $\\pm \\frac{spread}{2}$。如果是買入 $+ \\frac{spread}{2}$，成交價 ，賣出 $- \\frac{spread}{2}$，也就是模擬較不利的情況。\n",
    "    \n",
    "#### Parameters:\n",
    "* spread: _float_, optional\n",
    "        決定上述 spread 大小。\n",
    "                \n",
    "### zipline.finance.slippage.VolumeShareSlippage\n",
    "    \n",
    "根據當日股票的流動性決定滑價大小，滑價後成交價計算方法如下:\n",
    "    \n",
    "$$\n",
    "price \\times [1 \\pm {price\\_impact}) \\times ({volume\\_share}^2)], \\\\\n",
    "price=當日收盤價, \\\\\n",
    "volume\\_share=此單交易量佔總交易量百分比數，最高為 {volume\\_limit}。\n",
    "$$ \n",
    "    \n",
    "#### Parameters:\n",
    "* volume_limit: _float_, optional\n",
    "        買賣量最高佔總交易量的百分比，預設 = 2.5%。\n",
    "* price_impact: _float_, optional\n",
    "        滑價影響程度，其值越大時，滑價程度越大，預設 = 0.1。\n",
    "            \n",
    "### zipline.finance.slippage.FixedBasisPointsSlippage\n",
    "\n",
    "設定固定基點的滑價，其計算方法為:\n",
    "    \n",
    "$$\n",
    "price \\times [(1 \\pm basis\\_points \\times 0.0001)]\n",
    "$$\n",
    "\n",
    "設定當日交易量限制:\n",
    "    \n",
    "$$\n",
    "historical\\_volume \\times volume\\_limit, \\\\\n",
    "historical\\_volume=當日成交量\\\\\n",
    "$$\n",
    "\n",
    "#### Parameters:\n",
    "* basis_point: _float_, optional\n",
    "        設置滑價基點，基點越大，滑價程度越大，預設 = 5.0。\n",
    "* volume_limit: _float_, optional    \n",
    "        買賣量最高佔總交易量的百分比，預設 = 10%。\n",
    "            \n",
    "### zipline.finance.slippage.NoSlippage\n",
    "\n",
    "不設置滑價。\n",
    "\n",
    "## 編程方法\n",
    "滑價於 initialize 函式中所設置，設置方法如下:\n",
    "    \n",
    "    from zipline.api import set_slippage\n",
    "    from zipline.finance import slippage\n",
    "    \n",
    "    def initialize(context, data):\n",
    "        set_slippage(slippage.上述其中一種)\n",
    "    \n",
    "如果 initialize(context, data): 裡面沒有任何 set_slippage()，系統預設使用 FixedBasisPointsSlippage(basis_points = 5.0, volume_limit = 0.1)。如果希望完全不考慮交易量跟滑價，建議用 set_slippage(slippage.FixedSlippage(spread = 0.0))。"
   ]
  },
  {
   "cell_type": "markdown",
   "id": "3a84be1f",
   "metadata": {},
   "source": [
    "## 設定環境"
   ]
  },
  {
   "cell_type": "code",
   "execution_count": 34,
   "id": "66281888",
   "metadata": {},
   "outputs": [
    {
     "name": "stdout",
     "output_type": "stream",
     "text": [
      "Merging daily equity files:\n"
     ]
    },
    {
     "name": "stderr",
     "output_type": "stream",
     "text": [
      "[2023-08-08 02:54:22.028390] INFO: zipline.data.bundles.core: Ingesting tquant.\n"
     ]
    }
   ],
   "source": [
    "import pandas as pd \n",
    "import numpy as np\n",
    "import tejapi\n",
    "import os\n",
    "\n",
    "apikey = 'your key'\n",
    "os.environ['TEJAPI_BASE'] = 'https://api.tej.com.tw'\n",
    "os.environ['TEJAPI_KEY'] = apikey\n",
    "os.environ['mdate'] = \"20221201 20221231\"\n",
    "os.environ['ticker'] = \"IR0001 1216 5844\"\n",
    "\n",
    "tejapi.ApiConfig.api_key = apikey\n",
    "\n",
    "!zipline ingest -b tquant"
   ]
  },
  {
   "cell_type": "code",
   "execution_count": 35,
   "id": "d02b9f9f",
   "metadata": {},
   "outputs": [],
   "source": [
    "from zipline.api import *\n",
    "from zipline import run_algorithm  \n",
    "from zipline.finance import commission, slippage\n",
    "from zipline.pipeline import Pipeline, CustomFactor\n",
    "from zipline.pipeline.factors import Returns, AverageDollarVolume\n",
    "from zipline.utils.run_algo import  (get_transaction_detail,get_data_for_alphalens,get_record_vars)\n",
    "from zipline.sources.TEJ_Api_Data import get_Treasury_Return"
   ]
  },
  {
   "cell_type": "markdown",
   "id": "c4e0ef5d",
   "metadata": {},
   "source": [
    "## FixedSlippage 示範"
   ]
  },
  {
   "cell_type": "code",
   "execution_count": 36,
   "id": "a3bf786b",
   "metadata": {},
   "outputs": [],
   "source": [
    "start_dt = pd.Timestamp('2022-12-01', tz='UTC')\n",
    "end_dt = pd.Timestamp('2022-12-31', tz='UTC')\n",
    "\n",
    "def initialize(context):\n",
    "    context.i = 0\n",
    "    context.tickers = ['1216']\n",
    "    context.asset = [symbol(ticker) for ticker in context.tickers]  \n",
    "    # 設定滑架模型來進行模擬                \n",
    "    # set_slippage()只接收一個spread參數\n",
    "    set_slippage(slippage.FixedSlippage(spread = 0.2))\n",
    "    # set_commision()可接收股票與期貨兩個參數\n",
    "    # 這裡在接收commission.PerDollar()回傳結果後輸入參數\n",
    "    set_commission(commission.PerDollar(cost = commission_cost))\n",
    "    # 設定benchmark\n",
    "    set_benchmark(symbol('IR0001'))\n",
    "    \n",
    "def handle_data(context, data):\n",
    "    \n",
    "    if context.i == 0:\n",
    "        for asset in context.asset:\n",
    "            order(asset, 5000)\n",
    "\n",
    "    if context.i == 7:\n",
    "        for asset in context.asset:\n",
    "            order(asset, -2000)        \n",
    "    \n",
    "    record(close=data.current(context.asset, 'close'))\n",
    "    context.i += 1\n",
    "    \n",
    "def analyze(context, perf):\n",
    "\n",
    "    pass\n",
    "\n",
    "commission_cost = 0.001425\n",
    "capital_base = 1e6\n",
    "treasury_returns = get_Treasury_Return(start = start_dt,\n",
    "                                      end = end_dt,\n",
    "                                      rate_type = 'Time_Deposit_Rate',                     \n",
    "                                      term = '1y',\n",
    "                                      symbol = '5844')\n"
   ]
  },
  {
   "cell_type": "code",
   "execution_count": 37,
   "id": "10a55a66",
   "metadata": {},
   "outputs": [],
   "source": [
    "# 評估結果\n",
    "performance = run_algorithm(start=start_dt,\n",
    "                            end=end_dt,\n",
    "                            initialize=initialize,\n",
    "                            handle_data=handle_data,\n",
    "                            capital_base=capital_base,\n",
    "                            analyze=analyze,\n",
    "                            treasury_returns=treasury_returns,\n",
    "                            bundle='tquant')\n",
    "\n",
    "positions, transactions, orders = get_transaction_detail(performance)"
   ]
  },
  {
   "cell_type": "markdown",
   "id": "6716e08d",
   "metadata": {},
   "source": [
    "### 情況 1: 買入時計算滑價"
   ]
  },
  {
   "cell_type": "markdown",
   "id": "3ea85252",
   "metadata": {},
   "source": [
    "12/1 時下單買五張統一 (1216) 股票，12/2 日成交。收盤價是 65.0，但因為我們設定spread = 0.2，所以成交價是 65 + 0.2 / 1 = 65.1 (看圖二)，手續費 (看圖一'commission') 是 65.1 * 5000 * 0.001425 = 463.8375 ( commission_cost是預先設定好的，這次用PerDollar )。"
   ]
  },
  {
   "cell_type": "code",
   "execution_count": 38,
   "id": "76e14d71",
   "metadata": {
    "scrolled": true
   },
   "outputs": [
    {
     "data": {
      "text/plain": [
       "[{'id': '69a852e55c5e4b2c8d1fb438baa130e4',\n",
       "  'dt': Timestamp('2022-12-02 13:30:00+0800', tz='Asia/Taipei'),\n",
       "  'reason': None,\n",
       "  'created': Timestamp('2022-12-01 13:30:00+0800', tz='Asia/Taipei'),\n",
       "  'amount': 5000,\n",
       "  'filled': 5000,\n",
       "  'commission': 463.8374999999999,\n",
       "  'stop': None,\n",
       "  'limit': None,\n",
       "  'stop_reached': False,\n",
       "  'limit_reached': False,\n",
       "  'sid': Equity(0 [1216]),\n",
       "  'status': <ORDER_STATUS.FILLED: 1>}]"
      ]
     },
     "execution_count": 38,
     "metadata": {},
     "output_type": "execute_result"
    }
   ],
   "source": [
    "# 圖一\n",
    "performance['orders'][1]"
   ]
  },
  {
   "cell_type": "code",
   "execution_count": 39,
   "id": "8c1276fb",
   "metadata": {
    "scrolled": true
   },
   "outputs": [
    {
     "data": {
      "text/html": [
       "<div>\n",
       "<style scoped>\n",
       "    .dataframe tbody tr th:only-of-type {\n",
       "        vertical-align: middle;\n",
       "    }\n",
       "\n",
       "    .dataframe tbody tr th {\n",
       "        vertical-align: top;\n",
       "    }\n",
       "\n",
       "    .dataframe thead th {\n",
       "        text-align: right;\n",
       "    }\n",
       "</style>\n",
       "<table border=\"1\" class=\"dataframe\">\n",
       "  <thead>\n",
       "    <tr style=\"text-align: right;\">\n",
       "      <th></th>\n",
       "      <th></th>\n",
       "      <th></th>\n",
       "      <th>amount</th>\n",
       "      <th>dt</th>\n",
       "      <th>price</th>\n",
       "      <th>order_id</th>\n",
       "      <th>commission</th>\n",
       "    </tr>\n",
       "    <tr>\n",
       "      <th>date</th>\n",
       "      <th>asset</th>\n",
       "      <th>symbol</th>\n",
       "      <th></th>\n",
       "      <th></th>\n",
       "      <th></th>\n",
       "      <th></th>\n",
       "      <th></th>\n",
       "    </tr>\n",
       "  </thead>\n",
       "  <tbody>\n",
       "    <tr>\n",
       "      <th>2022-12-02 00:00:00+08:00</th>\n",
       "      <th>Equity(0 [1216])</th>\n",
       "      <th>1216</th>\n",
       "      <td>5000</td>\n",
       "      <td>2022-12-02 13:30:00+08:00</td>\n",
       "      <td>65.1</td>\n",
       "      <td>69a852e55c5e4b2c8d1fb438baa130e4</td>\n",
       "      <td>None</td>\n",
       "    </tr>\n",
       "    <tr>\n",
       "      <th>2022-12-13 00:00:00+08:00</th>\n",
       "      <th>Equity(0 [1216])</th>\n",
       "      <th>1216</th>\n",
       "      <td>-2000</td>\n",
       "      <td>2022-12-13 13:30:00+08:00</td>\n",
       "      <td>65.3</td>\n",
       "      <td>1885a7140d0342d98f3672f858650e69</td>\n",
       "      <td>None</td>\n",
       "    </tr>\n",
       "  </tbody>\n",
       "</table>\n",
       "</div>"
      ],
      "text/plain": [
       "                                                   amount  \\\n",
       "date                      asset            symbol           \n",
       "2022-12-02 00:00:00+08:00 Equity(0 [1216]) 1216      5000   \n",
       "2022-12-13 00:00:00+08:00 Equity(0 [1216]) 1216     -2000   \n",
       "\n",
       "                                                                         dt  \\\n",
       "date                      asset            symbol                             \n",
       "2022-12-02 00:00:00+08:00 Equity(0 [1216]) 1216   2022-12-02 13:30:00+08:00   \n",
       "2022-12-13 00:00:00+08:00 Equity(0 [1216]) 1216   2022-12-13 13:30:00+08:00   \n",
       "\n",
       "                                                   price  \\\n",
       "date                      asset            symbol          \n",
       "2022-12-02 00:00:00+08:00 Equity(0 [1216]) 1216     65.1   \n",
       "2022-12-13 00:00:00+08:00 Equity(0 [1216]) 1216     65.3   \n",
       "\n",
       "                                                                           order_id  \\\n",
       "date                      asset            symbol                                     \n",
       "2022-12-02 00:00:00+08:00 Equity(0 [1216]) 1216    69a852e55c5e4b2c8d1fb438baa130e4   \n",
       "2022-12-13 00:00:00+08:00 Equity(0 [1216]) 1216    1885a7140d0342d98f3672f858650e69   \n",
       "\n",
       "                                                  commission  \n",
       "date                      asset            symbol             \n",
       "2022-12-02 00:00:00+08:00 Equity(0 [1216]) 1216         None  \n",
       "2022-12-13 00:00:00+08:00 Equity(0 [1216]) 1216         None  "
      ]
     },
     "execution_count": 39,
     "metadata": {},
     "output_type": "execute_result"
    }
   ],
   "source": [
    "# 圖二\n",
    "transactions"
   ]
  },
  {
   "cell_type": "markdown",
   "id": "7bae2849",
   "metadata": {},
   "source": [
    "### 情況 2: 賣出時計算滑價"
   ]
  },
  {
   "cell_type": "markdown",
   "id": "60daea1c",
   "metadata": {},
   "source": [
    "在 12/12 賣出兩張，12/13 成交。12/13 收盤價65.4，因為是賣出，所以成交價是 65.4 扣掉 spread / 2 = 65.3，手續費計算方法同上。 "
   ]
  },
  {
   "cell_type": "code",
   "execution_count": 40,
   "id": "4fa094e4",
   "metadata": {},
   "outputs": [
    {
     "data": {
      "text/plain": [
       "[{'id': '1885a7140d0342d98f3672f858650e69',\n",
       "  'dt': Timestamp('2022-12-13 13:30:00+0800', tz='Asia/Taipei'),\n",
       "  'reason': None,\n",
       "  'created': Timestamp('2022-12-12 13:30:00+0800', tz='Asia/Taipei'),\n",
       "  'amount': -2000,\n",
       "  'filled': -2000,\n",
       "  'commission': 186.10500000000005,\n",
       "  'stop': None,\n",
       "  'limit': None,\n",
       "  'stop_reached': False,\n",
       "  'limit_reached': False,\n",
       "  'sid': Equity(0 [1216]),\n",
       "  'status': <ORDER_STATUS.FILLED: 1>}]"
      ]
     },
     "execution_count": 40,
     "metadata": {},
     "output_type": "execute_result"
    }
   ],
   "source": [
    "performance['orders'][8]"
   ]
  },
  {
   "cell_type": "markdown",
   "id": "b5ce0820",
   "metadata": {},
   "source": [
    " "
   ]
  },
  {
   "cell_type": "markdown",
   "id": "0d0d166f",
   "metadata": {},
   "source": [
    "##  VolumeShareSlippage 示範\n"
   ]
  },
  {
   "cell_type": "code",
   "execution_count": 41,
   "id": "77e32d54",
   "metadata": {},
   "outputs": [],
   "source": [
    "def initialize(context):\n",
    "    context.i = 0\n",
    "    context.tickers = ['1216']\n",
    "    context.asset = [symbol(ticker) for ticker in context.tickers]      \n",
    "    set_slippage(slippage. VolumeShareSlippage(volume_limit=0.025, price_impact=0.1))\n",
    "    set_commission(commission.PerDollar(cost = commission_cost))\n",
    "    set_benchmark(symbol('IR0001'))\n",
    "    \n",
    "def handle_data(context, data):\n",
    "    \n",
    "    if context.i == 0:\n",
    "        for asset in context.asset:\n",
    "            order(asset, 1500000)       \n",
    "    \n",
    "    if context.i == 10:\n",
    "        for asset in context.asset:\n",
    "            order(asset, -200000)    \n",
    "    \n",
    "    record(close=data.current(context.asset, 'close'))\n",
    "    record(volume=data.current(context.asset, 'volume'))\n",
    "    context.i += 1\n",
    "    \n",
    "def analyze(context, perf):\n",
    "\n",
    "    pass\n",
    "\n",
    "commission_cost = 0.001425\n",
    "capital_base = 1e8\n",
    "treasury_returns = get_Treasury_Return(start = start_dt,\n",
    "                                      end = end_dt,\n",
    "                                      rate_type = 'Time_Deposit_Rate',                     \n",
    "                                      term = '1y',\n",
    "                                      symbol = '5844')\n"
   ]
  },
  {
   "cell_type": "code",
   "execution_count": 42,
   "id": "82344285",
   "metadata": {},
   "outputs": [],
   "source": [
    "performance = run_algorithm(start=start_dt,\n",
    "                            end=end_dt,\n",
    "                            initialize=initialize,\n",
    "                            handle_data=handle_data,\n",
    "                            capital_base=capital_base,\n",
    "                            analyze=analyze,\n",
    "                            treasury_returns=treasury_returns,\n",
    "                            bundle='tquant')\n",
    "\n",
    "positions, transactions, orders = get_transaction_detail(performance)"
   ]
  },
  {
   "cell_type": "markdown",
   "id": "eda87fa2",
   "metadata": {},
   "source": [
    "### 情況 1: 買入時計算滑價"
   ]
  },
  {
   "cell_type": "markdown",
   "id": "b650284d",
   "metadata": {},
   "source": [
    "在 12/1 日下單一萬五千張統一，但觀察上面資料發現，這段期間每日成交量大約只有數千到一萬多張，而且我們設定 volume_limit = 0.025，所以zipline會把這單拆成數天慢慢消化，每天成交量不超過當天總成交量的 2.5%。"
   ]
  },
  {
   "cell_type": "code",
   "execution_count": 43,
   "id": "919cab29",
   "metadata": {},
   "outputs": [
    {
     "data": {
      "text/plain": [
       "[{'id': '6fbc1851eba045e38a6b66cfef0558bf',\n",
       "  'dt': Timestamp('2022-12-01 13:30:00+0800', tz='Asia/Taipei'),\n",
       "  'reason': None,\n",
       "  'created': Timestamp('2022-12-01 13:30:00+0800', tz='Asia/Taipei'),\n",
       "  'amount': 1500000,\n",
       "  'filled': 0,\n",
       "  'commission': 0,\n",
       "  'stop': None,\n",
       "  'limit': None,\n",
       "  'stop_reached': False,\n",
       "  'limit_reached': False,\n",
       "  'sid': Equity(0 [1216]),\n",
       "  'status': <ORDER_STATUS.OPEN: 0>}]"
      ]
     },
     "execution_count": 43,
     "metadata": {},
     "output_type": "execute_result"
    }
   ],
   "source": [
    "performance['orders'][0]"
   ]
  },
  {
   "cell_type": "code",
   "execution_count": 44,
   "id": "c7779a2c",
   "metadata": {
    "scrolled": false
   },
   "outputs": [
    {
     "data": {
      "text/plain": [
       "2022-12-01 13:30:00+08:00    Equity(0 [1216])    18963000\n",
       "Name: volume, dty...\n",
       "2022-12-02 13:30:00+08:00    Equity(0 [1216])    15184000\n",
       "Name: volume, dty...\n",
       "2022-12-05 13:30:00+08:00    Equity(0 [1216])    9704000\n",
       "Name: volume, dtyp...\n",
       "2022-12-06 13:30:00+08:00    Equity(0 [1216])    13171000\n",
       "Name: volume, dty...\n",
       "2022-12-07 13:30:00+08:00    Equity(0 [1216])    13674000\n",
       "Name: volume, dty...\n",
       "2022-12-08 13:30:00+08:00    Equity(0 [1216])    9149000\n",
       "Name: volume, dtyp...\n",
       "Name: volume, dtype: object"
      ]
     },
     "execution_count": 44,
     "metadata": {},
     "output_type": "execute_result"
    }
   ],
   "source": [
    "performance['volume'][0:6]"
   ]
  },
  {
   "cell_type": "markdown",
   "id": "805582d1",
   "metadata": {},
   "source": [
    "下單後第二天 12/2 的總交易量是 18963000 股，所以 VolumeShareSlippage 把成交量限制在 2.5%，也就是 379600。\n",
    "\n",
    "成交價計算方法是：原價 * ( 1 + price_impact * volume_share * volume_share ) = 65 * ( 1 + 0.1 * 0.025^2 ) ~= 65.004063\n",
    "\n",
    "price_impact 是預先設定好的 0.1，因為是買入，所以用加的。volume_share 就是這筆交易佔總交易量的比例 379600 / 18963000 = 0.025。"
   ]
  },
  {
   "cell_type": "code",
   "execution_count": 45,
   "id": "da747c8a",
   "metadata": {
    "scrolled": true
   },
   "outputs": [
    {
     "data": {
      "text/html": [
       "<div>\n",
       "<style scoped>\n",
       "    .dataframe tbody tr th:only-of-type {\n",
       "        vertical-align: middle;\n",
       "    }\n",
       "\n",
       "    .dataframe tbody tr th {\n",
       "        vertical-align: top;\n",
       "    }\n",
       "\n",
       "    .dataframe thead th {\n",
       "        text-align: right;\n",
       "    }\n",
       "</style>\n",
       "<table border=\"1\" class=\"dataframe\">\n",
       "  <thead>\n",
       "    <tr style=\"text-align: right;\">\n",
       "      <th></th>\n",
       "      <th></th>\n",
       "      <th></th>\n",
       "      <th>amount</th>\n",
       "      <th>dt</th>\n",
       "      <th>price</th>\n",
       "      <th>order_id</th>\n",
       "      <th>commission</th>\n",
       "    </tr>\n",
       "    <tr>\n",
       "      <th>date</th>\n",
       "      <th>asset</th>\n",
       "      <th>symbol</th>\n",
       "      <th></th>\n",
       "      <th></th>\n",
       "      <th></th>\n",
       "      <th></th>\n",
       "      <th></th>\n",
       "    </tr>\n",
       "  </thead>\n",
       "  <tbody>\n",
       "    <tr>\n",
       "      <th>2022-12-02 00:00:00+08:00</th>\n",
       "      <th>Equity(0 [1216])</th>\n",
       "      <th>1216</th>\n",
       "      <td>379600</td>\n",
       "      <td>2022-12-02 13:30:00+08:00</td>\n",
       "      <td>65.004063</td>\n",
       "      <td>6fbc1851eba045e38a6b66cfef0558bf</td>\n",
       "      <td>None</td>\n",
       "    </tr>\n",
       "    <tr>\n",
       "      <th>2022-12-05 00:00:00+08:00</th>\n",
       "      <th>Equity(0 [1216])</th>\n",
       "      <th>1216</th>\n",
       "      <td>242600</td>\n",
       "      <td>2022-12-05 13:30:00+08:00</td>\n",
       "      <td>65.404088</td>\n",
       "      <td>6fbc1851eba045e38a6b66cfef0558bf</td>\n",
       "      <td>None</td>\n",
       "    </tr>\n",
       "    <tr>\n",
       "      <th>2022-12-06 00:00:00+08:00</th>\n",
       "      <th>Equity(0 [1216])</th>\n",
       "      <th>1216</th>\n",
       "      <td>329275</td>\n",
       "      <td>2022-12-06 13:30:00+08:00</td>\n",
       "      <td>64.604037</td>\n",
       "      <td>6fbc1851eba045e38a6b66cfef0558bf</td>\n",
       "      <td>None</td>\n",
       "    </tr>\n",
       "    <tr>\n",
       "      <th>2022-12-07 00:00:00+08:00</th>\n",
       "      <th>Equity(0 [1216])</th>\n",
       "      <th>1216</th>\n",
       "      <td>341850</td>\n",
       "      <td>2022-12-07 13:30:00+08:00</td>\n",
       "      <td>65.204075</td>\n",
       "      <td>6fbc1851eba045e38a6b66cfef0558bf</td>\n",
       "      <td>None</td>\n",
       "    </tr>\n",
       "    <tr>\n",
       "      <th>2022-12-08 00:00:00+08:00</th>\n",
       "      <th>Equity(0 [1216])</th>\n",
       "      <th>1216</th>\n",
       "      <td>206675</td>\n",
       "      <td>2022-12-08 13:30:00+08:00</td>\n",
       "      <td>65.003317</td>\n",
       "      <td>6fbc1851eba045e38a6b66cfef0558bf</td>\n",
       "      <td>None</td>\n",
       "    </tr>\n",
       "  </tbody>\n",
       "</table>\n",
       "</div>"
      ],
      "text/plain": [
       "                                                   amount  \\\n",
       "date                      asset            symbol           \n",
       "2022-12-02 00:00:00+08:00 Equity(0 [1216]) 1216    379600   \n",
       "2022-12-05 00:00:00+08:00 Equity(0 [1216]) 1216    242600   \n",
       "2022-12-06 00:00:00+08:00 Equity(0 [1216]) 1216    329275   \n",
       "2022-12-07 00:00:00+08:00 Equity(0 [1216]) 1216    341850   \n",
       "2022-12-08 00:00:00+08:00 Equity(0 [1216]) 1216    206675   \n",
       "\n",
       "                                                                         dt  \\\n",
       "date                      asset            symbol                             \n",
       "2022-12-02 00:00:00+08:00 Equity(0 [1216]) 1216   2022-12-02 13:30:00+08:00   \n",
       "2022-12-05 00:00:00+08:00 Equity(0 [1216]) 1216   2022-12-05 13:30:00+08:00   \n",
       "2022-12-06 00:00:00+08:00 Equity(0 [1216]) 1216   2022-12-06 13:30:00+08:00   \n",
       "2022-12-07 00:00:00+08:00 Equity(0 [1216]) 1216   2022-12-07 13:30:00+08:00   \n",
       "2022-12-08 00:00:00+08:00 Equity(0 [1216]) 1216   2022-12-08 13:30:00+08:00   \n",
       "\n",
       "                                                       price  \\\n",
       "date                      asset            symbol              \n",
       "2022-12-02 00:00:00+08:00 Equity(0 [1216]) 1216    65.004063   \n",
       "2022-12-05 00:00:00+08:00 Equity(0 [1216]) 1216    65.404088   \n",
       "2022-12-06 00:00:00+08:00 Equity(0 [1216]) 1216    64.604037   \n",
       "2022-12-07 00:00:00+08:00 Equity(0 [1216]) 1216    65.204075   \n",
       "2022-12-08 00:00:00+08:00 Equity(0 [1216]) 1216    65.003317   \n",
       "\n",
       "                                                                           order_id  \\\n",
       "date                      asset            symbol                                     \n",
       "2022-12-02 00:00:00+08:00 Equity(0 [1216]) 1216    6fbc1851eba045e38a6b66cfef0558bf   \n",
       "2022-12-05 00:00:00+08:00 Equity(0 [1216]) 1216    6fbc1851eba045e38a6b66cfef0558bf   \n",
       "2022-12-06 00:00:00+08:00 Equity(0 [1216]) 1216    6fbc1851eba045e38a6b66cfef0558bf   \n",
       "2022-12-07 00:00:00+08:00 Equity(0 [1216]) 1216    6fbc1851eba045e38a6b66cfef0558bf   \n",
       "2022-12-08 00:00:00+08:00 Equity(0 [1216]) 1216    6fbc1851eba045e38a6b66cfef0558bf   \n",
       "\n",
       "                                                  commission  \n",
       "date                      asset            symbol             \n",
       "2022-12-02 00:00:00+08:00 Equity(0 [1216]) 1216         None  \n",
       "2022-12-05 00:00:00+08:00 Equity(0 [1216]) 1216         None  \n",
       "2022-12-06 00:00:00+08:00 Equity(0 [1216]) 1216         None  \n",
       "2022-12-07 00:00:00+08:00 Equity(0 [1216]) 1216         None  \n",
       "2022-12-08 00:00:00+08:00 Equity(0 [1216]) 1216         None  "
      ]
     },
     "execution_count": 45,
     "metadata": {},
     "output_type": "execute_result"
    }
   ],
   "source": [
    "transactions[0:5]"
   ]
  },
  {
   "cell_type": "code",
   "execution_count": 46,
   "id": "cc16f855",
   "metadata": {
    "scrolled": true
   },
   "outputs": [
    {
     "data": {
      "text/plain": [
       "[{'id': '6fbc1851eba045e38a6b66cfef0558bf',\n",
       "  'dt': Timestamp('2022-12-02 13:30:00+0800', tz='Asia/Taipei'),\n",
       "  'reason': None,\n",
       "  'created': Timestamp('2022-12-01 13:30:00+0800', tz='Asia/Taipei'),\n",
       "  'amount': 1500000,\n",
       "  'filled': 379600,\n",
       "  'commission': 35162.647528125,\n",
       "  'stop': None,\n",
       "  'limit': None,\n",
       "  'stop_reached': False,\n",
       "  'limit_reached': False,\n",
       "  'sid': Equity(0 [1216]),\n",
       "  'status': <ORDER_STATUS.OPEN: 0>}]"
      ]
     },
     "execution_count": 46,
     "metadata": {},
     "output_type": "execute_result"
    }
   ],
   "source": [
    "performance['orders'][1]"
   ]
  },
  {
   "cell_type": "markdown",
   "id": "76e439cc",
   "metadata": {},
   "source": [
    "如果一個訂單被拆成多天，'filled' 就是累積成交量，例如圖一，'filled' = 1293325 就是從 12/2 到 12/7 成交的 379600 + 242600 + 329275 + 341850 = 1293325。到了 12/8 已經買到一百五十萬股 (圖二)，最後的 'status' 就會從<ORDER_STATUS.OPEN: 0> 變成 <ORDER_STATUS.FILLED: 1>。"
   ]
  },
  {
   "cell_type": "code",
   "execution_count": 47,
   "id": "d832fc26",
   "metadata": {
    "scrolled": true
   },
   "outputs": [
    {
     "data": {
      "text/plain": [
       "[{'id': '6fbc1851eba045e38a6b66cfef0558bf',\n",
       "  'dt': Timestamp('2022-12-07 13:30:00+0800', tz='Asia/Taipei'),\n",
       "  'reason': None,\n",
       "  'created': Timestamp('2022-12-01 13:30:00+0800', tz='Asia/Taipei'),\n",
       "  'amount': 1500000,\n",
       "  'filled': 1293325,\n",
       "  'commission': 119849.74076566406,\n",
       "  'stop': None,\n",
       "  'limit': None,\n",
       "  'stop_reached': False,\n",
       "  'limit_reached': False,\n",
       "  'sid': Equity(0 [1216]),\n",
       "  'status': <ORDER_STATUS.OPEN: 0>}]"
      ]
     },
     "execution_count": 47,
     "metadata": {},
     "output_type": "execute_result"
    }
   ],
   "source": [
    "performance['orders'][4]"
   ]
  },
  {
   "cell_type": "code",
   "execution_count": 48,
   "id": "8eb42c03",
   "metadata": {},
   "outputs": [
    {
     "data": {
      "text/plain": [
       "[{'id': '6fbc1851eba045e38a6b66cfef0558bf',\n",
       "  'dt': Timestamp('2022-12-08 13:30:00+0800', tz='Asia/Taipei'),\n",
       "  'reason': None,\n",
       "  'created': Timestamp('2022-12-01 13:30:00+0800', tz='Asia/Taipei'),\n",
       "  'amount': 1500000,\n",
       "  'filled': 1500000,\n",
       "  'commission': 138993.9895287313,\n",
       "  'stop': None,\n",
       "  'limit': None,\n",
       "  'stop_reached': False,\n",
       "  'limit_reached': False,\n",
       "  'sid': Equity(0 [1216]),\n",
       "  'status': <ORDER_STATUS.FILLED: 1>}]"
      ]
     },
     "execution_count": 48,
     "metadata": {},
     "output_type": "execute_result"
    }
   ],
   "source": [
    "# 圖二\n",
    "performance['orders'][5]"
   ]
  },
  {
   "cell_type": "markdown",
   "id": "ac52c762",
   "metadata": {},
   "source": [
    "### 情況 2: 賣出時計算滑價"
   ]
  },
  {
   "cell_type": "markdown",
   "id": "e139b6ec",
   "metadata": {},
   "source": [
    "在 12/15 下單賣出 20 萬股，因為在 12/16 總交易量是 10721000，volume_share = 200000 / 10721000 ~= 0.0187 小於 0.025，所以 12/16 一天就能賣掉。成交價 (看圖四transactions.price) 是 65.3 * ( 1 - 0.1 * volume_share^2 ) = 65.297728 (賣出的話是減)。"
   ]
  },
  {
   "cell_type": "code",
   "execution_count": 49,
   "id": "b57ac94b",
   "metadata": {},
   "outputs": [
    {
     "data": {
      "text/plain": [
       "2022-12-15 13:30:00+08:00    Equity(0 [1216])    7422000\n",
       "Name: volume, dtyp...\n",
       "2022-12-16 13:30:00+08:00    Equity(0 [1216])    10721000\n",
       "Name: volume, dty...\n",
       "Name: volume, dtype: object"
      ]
     },
     "execution_count": 49,
     "metadata": {},
     "output_type": "execute_result"
    }
   ],
   "source": [
    "performance['volume'][10:12]"
   ]
  },
  {
   "cell_type": "code",
   "execution_count": 50,
   "id": "23544985",
   "metadata": {},
   "outputs": [
    {
     "data": {
      "text/plain": [
       "[{'id': '0cfe2f06b6ab400c80fb960046241991',\n",
       "  'dt': Timestamp('2022-12-16 13:30:00+0800', tz='Asia/Taipei'),\n",
       "  'reason': None,\n",
       "  'created': Timestamp('2022-12-15 13:30:00+0800', tz='Asia/Taipei'),\n",
       "  'amount': -200000,\n",
       "  'filled': -200000,\n",
       "  'commission': 18609.852339455556,\n",
       "  'stop': None,\n",
       "  'limit': None,\n",
       "  'stop_reached': False,\n",
       "  'limit_reached': False,\n",
       "  'sid': Equity(0 [1216]),\n",
       "  'status': <ORDER_STATUS.FILLED: 1>}]"
      ]
     },
     "execution_count": 50,
     "metadata": {},
     "output_type": "execute_result"
    }
   ],
   "source": [
    "performance['orders'][11]"
   ]
  },
  {
   "cell_type": "code",
   "execution_count": 51,
   "id": "19212b69",
   "metadata": {
    "scrolled": true
   },
   "outputs": [
    {
     "data": {
      "text/html": [
       "<div>\n",
       "<style scoped>\n",
       "    .dataframe tbody tr th:only-of-type {\n",
       "        vertical-align: middle;\n",
       "    }\n",
       "\n",
       "    .dataframe tbody tr th {\n",
       "        vertical-align: top;\n",
       "    }\n",
       "\n",
       "    .dataframe thead th {\n",
       "        text-align: right;\n",
       "    }\n",
       "</style>\n",
       "<table border=\"1\" class=\"dataframe\">\n",
       "  <thead>\n",
       "    <tr style=\"text-align: right;\">\n",
       "      <th></th>\n",
       "      <th></th>\n",
       "      <th></th>\n",
       "      <th>amount</th>\n",
       "      <th>dt</th>\n",
       "      <th>price</th>\n",
       "      <th>order_id</th>\n",
       "      <th>commission</th>\n",
       "    </tr>\n",
       "    <tr>\n",
       "      <th>date</th>\n",
       "      <th>asset</th>\n",
       "      <th>symbol</th>\n",
       "      <th></th>\n",
       "      <th></th>\n",
       "      <th></th>\n",
       "      <th></th>\n",
       "      <th></th>\n",
       "    </tr>\n",
       "  </thead>\n",
       "  <tbody>\n",
       "    <tr>\n",
       "      <th>2022-12-16 00:00:00+08:00</th>\n",
       "      <th>Equity(0 [1216])</th>\n",
       "      <th>1216</th>\n",
       "      <td>-200000</td>\n",
       "      <td>2022-12-16 13:30:00+08:00</td>\n",
       "      <td>65.297728</td>\n",
       "      <td>0cfe2f06b6ab400c80fb960046241991</td>\n",
       "      <td>None</td>\n",
       "    </tr>\n",
       "  </tbody>\n",
       "</table>\n",
       "</div>"
      ],
      "text/plain": [
       "                                                   amount  \\\n",
       "date                      asset            symbol           \n",
       "2022-12-16 00:00:00+08:00 Equity(0 [1216]) 1216   -200000   \n",
       "\n",
       "                                                                         dt  \\\n",
       "date                      asset            symbol                             \n",
       "2022-12-16 00:00:00+08:00 Equity(0 [1216]) 1216   2022-12-16 13:30:00+08:00   \n",
       "\n",
       "                                                       price  \\\n",
       "date                      asset            symbol              \n",
       "2022-12-16 00:00:00+08:00 Equity(0 [1216]) 1216    65.297728   \n",
       "\n",
       "                                                                           order_id  \\\n",
       "date                      asset            symbol                                     \n",
       "2022-12-16 00:00:00+08:00 Equity(0 [1216]) 1216    0cfe2f06b6ab400c80fb960046241991   \n",
       "\n",
       "                                                  commission  \n",
       "date                      asset            symbol             \n",
       "2022-12-16 00:00:00+08:00 Equity(0 [1216]) 1216         None  "
      ]
     },
     "execution_count": 51,
     "metadata": {},
     "output_type": "execute_result"
    }
   ],
   "source": [
    "transactions[-1:]"
   ]
  }
 ],
 "metadata": {
  "kernelspec": {
   "display_name": "Python 3 (ipykernel)",
   "language": "python",
   "name": "python3"
  },
  "language_info": {
   "codemirror_mode": {
    "name": "ipython",
    "version": 3
   },
   "file_extension": ".py",
   "mimetype": "text/x-python",
   "name": "python",
   "nbconvert_exporter": "python",
   "pygments_lexer": "ipython3",
   "version": "3.8.13"
  }
 },
 "nbformat": 4,
 "nbformat_minor": 5
}
