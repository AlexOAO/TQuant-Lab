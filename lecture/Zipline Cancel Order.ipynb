{
 "cells": [
  {
   "cell_type": "markdown",
   "id": "44bb5714",
   "metadata": {},
   "source": [
    "# Zipline 取消訂單"
   ]
  },
  {
   "cell_type": "markdown",
   "id": "f69a0567",
   "metadata": {},
   "source": [
    "在Zipline控制訂單的函數主要有：\n",
    "    \n",
    "    get_open_orders(asset = None)\n",
    "    cancel_order(order)\n",
    "    \n",
    "get_open_orders 如果沒有加入參數，就會列出所有未成交的訂單，回傳一個字典，每個key就是asset，例如symbol('2330')，對應一個list，裡面有order_object。如果加入參數，例如 get_open_orders(symbol('2330'))，就會回傳該股票未成交的訂單，是一個list，裡面有order_object。\n",
    "\n",
    "cancel_order 裡面的參數可以搭配 get_open_orders 用order_object，或是直接用order_id (string)。\n",
    "    "
   ]
  },
  {
   "cell_type": "markdown",
   "id": "dd0b09b1",
   "metadata": {},
   "source": [
    "Order object 格式：\n",
    "\n",
    "Event({'id': '3096bfae27824859a4f9aba7a75fb31a', 'dt': Timestamp('2022-10-17 05:30:00+0000', tz='UTC'), 'reason': None, 'created': Timestamp('2022-10-17 05:30:00+0000', tz='UTC'), 'amount': 1500000, 'filled': 0, 'commission': 0, 'stop': None, 'limit': None, 'stop_reached': False, 'limit_reached': False, 'sid': Equity(1 [1216]), 'status': <ORDER_STATUS.OPEN: 0>})\n",
    "\n",
    "裡面的資料，例如id，可以用object.id單獨呼叫。"
   ]
  },
  {
   "cell_type": "markdown",
   "id": "8476b529",
   "metadata": {},
   "source": [
    "## 建立環境"
   ]
  },
  {
   "cell_type": "code",
   "execution_count": 1,
   "id": "21194abe",
   "metadata": {},
   "outputs": [
    {
     "name": "stdout",
     "output_type": "stream",
     "text": [
      "Merging daily equity files:\n"
     ]
    },
    {
     "name": "stderr",
     "output_type": "stream",
     "text": [
      "[2023-08-15 01:23:57.931026] INFO: zipline.data.bundles.core: Ingesting tquant.\n"
     ]
    }
   ],
   "source": [
    "import pandas as pd\n",
    "import datetime\n",
    "import tejapi\n",
    "import time\n",
    "import os\n",
    "import warnings\n",
    "warnings.filterwarnings('ignore')\n",
    "\n",
    "# tej_key-------------------------------------------\n",
    "tej_key ='yourkey'\n",
    "tejapi.ApiConfig.api_key = tej_key  \n",
    "os.environ['TEJAPI_KEY'] = tej_key\n",
    "os.environ[\"TEJAPI_BASE\"] = \"https://api.tej.com.tw\"\n",
    "\n",
    "# universe and benchmark----------------------------\n",
    "idx=['TWN50']   # 'TM100' 'TWN50'\n",
    "benchmark=['IR0001']\n",
    "\n",
    "# date----------------------------------------------\n",
    "# set date\n",
    "start='2022-10-15'\n",
    "end='2022-11-05'\n",
    "os.environ['mdate'] = '20221015 20221105'      # start+' '+end #'20221011 20221223'\n",
    "\n",
    "tz = 'UTC'\n",
    "start_dt, end_dt = pd.Timestamp(start, tz = tz), pd.Timestamp(end, tz = tz)\n",
    "# calendar------------------------------------------\n",
    "calendar_name='TEJ'  # US equities  XTAI\n",
    "\n",
    "# bundle_name---------------------------------------\n",
    "bundle_name = 'tquant'\n",
    "\n",
    "from zipline.utils.calendar_utils import get_calendar\n",
    "if get_calendar(calendar_name).is_session(start_dt)==False:\n",
    "    start_dt=get_calendar(calendar_name).next_open(start_dt)\n",
    "    \n",
    "if get_calendar(calendar_name).is_session(end_dt)==False:\n",
    "    end_dt=get_calendar(calendar_name).previous_close(pd.Timestamp(end_dt))\n",
    "    \n",
    "from zipline.api import    *\n",
    "\n",
    "from zipline import run_algorithm  \n",
    "from zipline.finance import commission, slippage\n",
    "from zipline.pipeline import Pipeline, CustomFactor\n",
    "from zipline.pipeline.factors import Returns, AverageDollarVolume\n",
    "\n",
    "from zipline.utils.run_algo import (get_transaction_detail,\n",
    "                    get_data_for_alphalens,\n",
    "                    get_record_vars)\n",
    "\n",
    "from zipline.sources.TEJ_Api_Data import (get_Treasury_Return,\n",
    "                                          get_Benchmark_Return)\n",
    "\n",
    "\n",
    "from logbook import Logger, StderrHandler, INFO\n",
    "import numpy as np\n",
    "import pandas as pd\n",
    "%matplotlib inline\n",
    "import matplotlib.pyplot as plt\n",
    "import seaborn as sns\n",
    "sns.set_style('whitegrid')\n",
    "\n",
    "from zipline.utils import run_algo\n",
    "from zipline.data import bundles\n",
    "\n",
    "log_handler = StderrHandler(format_string='[{record.time:%Y-%m-%d %H:%M:%S.%f}]: ' +\n",
    "                            '{record.level_name}: {record.func_name}: {record.message}',\n",
    "                            level=INFO)\n",
    "log_handler.push_application()\n",
    "log = Logger('Algorithm')\n",
    "\n",
    "coid = \"1216 2330 2327 IR0001 5844\"\n",
    "    \n",
    "os.environ['ticker'] = coid       \n",
    "\n",
    "!zipline ingest -b tquant"
   ]
  },
  {
   "cell_type": "markdown",
   "id": "e2940ed8",
   "metadata": {},
   "source": [
    "## 範例：限制交易量、暫停交易\n",
    "\n",
    "### zipline.api.get_open_orders(self, asset=None)\n",
    "- asset (Asset) – If passed and not None, return only the open orders for the given asset instead of all open orders.\n",
    "\n",
    "### zipline.api.cancel_order(self, order_param)\n",
    "- order_param (str or Order) – The order_id or order object to cancel.\n",
    "\n"
   ]
  },
  {
   "cell_type": "code",
   "execution_count": 2,
   "id": "abb62ce7",
   "metadata": {},
   "outputs": [
    {
     "name": "stderr",
     "output_type": "stream",
     "text": [
      "[2023-08-15 01:24:00.913679]: INFO: handle_simulation_end: Simulated 15 trading days\n",
      "first open: 2022-10-17 01:01:00+00:00\n",
      "last close: 2022-11-04 05:30:00+00:00\n"
     ]
    },
    {
     "name": "stdout",
     "output_type": "stream",
     "text": [
      "2022-10-17 05:30:00+00:00 Equity(1 [2327]) is_stale = False\n",
      "2022-10-18 05:30:00+00:00 Equity(1 [2327]) is_stale = False\n",
      "2022-10-19 05:30:00+00:00 Equity(1 [2327]) is_stale = False\n",
      "2022-10-20 05:30:00+00:00 Equity(1 [2327]) is_stale = True\n",
      "2022-10-21 05:30:00+00:00 Equity(1 [2327]) is_stale = True\n",
      "2022-10-24 05:30:00+00:00 Equity(1 [2327]) is_stale = True\n",
      "2022-10-25 05:30:00+00:00 Equity(1 [2327]) is_stale = True\n",
      "2022-10-26 05:30:00+00:00 Equity(1 [2327]) is_stale = True\n",
      "2022-10-27 05:30:00+00:00 Equity(1 [2327]) is_stale = True\n",
      "2022-10-28 05:30:00+00:00 Equity(1 [2327]) is_stale = True\n",
      "2022-10-31 05:30:00+00:00 Equity(1 [2327]) is_stale = False\n",
      "2022-11-01 05:30:00+00:00 Equity(1 [2327]) is_stale = False\n",
      "2022-11-02 05:30:00+00:00 Equity(1 [2327]) is_stale = False\n",
      "2022-11-03 05:30:00+00:00 Equity(1 [2327]) is_stale = False\n",
      "2022-11-04 05:30:00+00:00 Equity(1 [2327]) is_stale = False\n"
     ]
    }
   ],
   "source": [
    "def initialize(context):\n",
    "    context.i = 0  \n",
    "    context.tickers = ['1216', '2330', '2327']\n",
    "    context.asset = [symbol(ticker) for ticker in context.tickers]      \n",
    "    set_slippage(slippage. VolumeShareSlippage(volume_limit=0.025, price_impact=0.1))\n",
    "    set_commission(commission.PerDollar(cost = commission_cost))\n",
    "    set_benchmark(symbol('IR0001'))\n",
    "    \n",
    "def handle_data(context, data):\n",
    "    \n",
    "    #PART A\n",
    "    open_orders = get_open_orders()\n",
    "    \n",
    "    for asset in open_orders:\n",
    "        for o in open_orders[asset]:\n",
    "            cancel_order(o)\n",
    "    #PART A\n",
    "    \n",
    "    print(get_datetime(), symbol('2327'), 'is_stale =', data.is_stale(symbol('2327')))\n",
    "\n",
    "    if context.i == 0:\n",
    "        order(symbol('1216'), 1500000)\n",
    "    \n",
    "    if context.i == 2:\n",
    "        order(symbol('2327'), 1000) \n",
    "\n",
    "    if context.i == 3:\n",
    "        order(symbol('2327'), 1000) \n",
    "     \n",
    "    #PART B\n",
    "    open_orders = get_open_orders()\n",
    "       \n",
    "    for asset in open_orders:\n",
    "        if data.is_stale(asset):\n",
    "            for o in open_orders[asset]:\n",
    "                cancel_order(o)\n",
    "    #PART B\n",
    "    \n",
    "    record(close=data.current(context.asset, 'close'))\n",
    "    record(volume=data.current(context.asset, 'volume')*1000)\n",
    "    context.i += 1\n",
    "    \n",
    "def analyze(context, perf):\n",
    "\n",
    "    pass\n",
    "\n",
    "commission_cost = 0.001425\n",
    "capital_base = 1e8\n",
    "treasury_returns = get_Treasury_Return(start = start_dt,\n",
    "                                      end = end_dt,\n",
    "                                      rate_type = 'Time_Deposit_Rate',                     \n",
    "                                      term = '1y',\n",
    "                                      symbol = '5844')\n",
    "\n",
    "\n",
    "\n",
    "performance = run_algorithm(start=start_dt,\n",
    "                            end=end_dt,\n",
    "                            initialize=initialize,\n",
    "                            handle_data=handle_data,\n",
    "                            capital_base=capital_base,\n",
    "                            analyze=analyze,\n",
    "                            treasury_returns=treasury_returns,\n",
    "                            trading_calendar=get_calendar(calendar_name),\n",
    "                            bundle=bundle_name)\n",
    "\n",
    "closing_price = tejapi.get('TWN/APIPRCD',coid=['1216'], opts={'columns':['mdate','coid','open_d','close_d']}, mdate={'gte':start,'lte':end }, paginate=True)\n",
    "\n",
    "positions, transactions, orders = get_transaction_detail(performance)"
   ]
  },
  {
   "cell_type": "markdown",
   "id": "023ace8e",
   "metadata": {},
   "source": [
    "## 1"
   ]
  },
  {
   "cell_type": "markdown",
   "id": "f10a262c",
   "metadata": {},
   "source": [
    "在第一天下單1500張統一 (1216) 股票，因為超過第二天總交易量的2.5%，第二天只成交總交易量的2.5%，剩下分批消化 (細節在Slippage篇)。如果希望達到第二天限制量就停止，加入上面PART A程式碼，在每天交易前檢查並取消還沒成交的訂單。在 'status' 可以看到訂單在買完第二天的量 'filled' 後被提前取消。 "
   ]
  },
  {
   "cell_type": "code",
   "execution_count": 3,
   "id": "86e277dc",
   "metadata": {},
   "outputs": [
    {
     "data": {
      "text/plain": [
       "[{'id': '0b638ca2a1ef4434b36c4f0064ad06d1',\n",
       "  'dt': Timestamp('2022-10-18 13:30:00+0800', tz='Asia/Taipei'),\n",
       "  'reason': None,\n",
       "  'created': Timestamp('2022-10-17 13:30:00+0800', tz='Asia/Taipei'),\n",
       "  'amount': 1500000,\n",
       "  'filled': 162350,\n",
       "  'commission': 15108.017567085937,\n",
       "  'stop': None,\n",
       "  'limit': None,\n",
       "  'stop_reached': False,\n",
       "  'limit_reached': False,\n",
       "  'sid': Equity(0 [1216]),\n",
       "  'status': <ORDER_STATUS.CANCELLED: 2>}]"
      ]
     },
     "execution_count": 3,
     "metadata": {},
     "output_type": "execute_result"
    }
   ],
   "source": [
    "performance['orders'][1]"
   ]
  },
  {
   "cell_type": "code",
   "execution_count": 4,
   "id": "4daaad85",
   "metadata": {},
   "outputs": [
    {
     "data": {
      "text/html": [
       "<div>\n",
       "<style scoped>\n",
       "    .dataframe tbody tr th:only-of-type {\n",
       "        vertical-align: middle;\n",
       "    }\n",
       "\n",
       "    .dataframe tbody tr th {\n",
       "        vertical-align: top;\n",
       "    }\n",
       "\n",
       "    .dataframe thead th {\n",
       "        text-align: right;\n",
       "    }\n",
       "</style>\n",
       "<table border=\"1\" class=\"dataframe\">\n",
       "  <thead>\n",
       "    <tr style=\"text-align: right;\">\n",
       "      <th></th>\n",
       "      <th></th>\n",
       "      <th></th>\n",
       "      <th>amount</th>\n",
       "      <th>dt</th>\n",
       "      <th>price</th>\n",
       "      <th>order_id</th>\n",
       "      <th>commission</th>\n",
       "    </tr>\n",
       "    <tr>\n",
       "      <th>date</th>\n",
       "      <th>asset</th>\n",
       "      <th>symbol</th>\n",
       "      <th></th>\n",
       "      <th></th>\n",
       "      <th></th>\n",
       "      <th></th>\n",
       "      <th></th>\n",
       "    </tr>\n",
       "  </thead>\n",
       "  <tbody>\n",
       "    <tr>\n",
       "      <th>2022-10-18 00:00:00+08:00</th>\n",
       "      <th>Equity(0 [1216])</th>\n",
       "      <th>1216</th>\n",
       "      <td>162350</td>\n",
       "      <td>2022-10-18 13:30:00+08:00</td>\n",
       "      <td>65.304081</td>\n",
       "      <td>0b638ca2a1ef4434b36c4f0064ad06d1</td>\n",
       "      <td>None</td>\n",
       "    </tr>\n",
       "  </tbody>\n",
       "</table>\n",
       "</div>"
      ],
      "text/plain": [
       "                                                   amount  \\\n",
       "date                      asset            symbol           \n",
       "2022-10-18 00:00:00+08:00 Equity(0 [1216]) 1216    162350   \n",
       "\n",
       "                                                                         dt  \\\n",
       "date                      asset            symbol                             \n",
       "2022-10-18 00:00:00+08:00 Equity(0 [1216]) 1216   2022-10-18 13:30:00+08:00   \n",
       "\n",
       "                                                       price  \\\n",
       "date                      asset            symbol              \n",
       "2022-10-18 00:00:00+08:00 Equity(0 [1216]) 1216    65.304081   \n",
       "\n",
       "                                                                           order_id  \\\n",
       "date                      asset            symbol                                     \n",
       "2022-10-18 00:00:00+08:00 Equity(0 [1216]) 1216    0b638ca2a1ef4434b36c4f0064ad06d1   \n",
       "\n",
       "                                                  commission  \n",
       "date                      asset            symbol             \n",
       "2022-10-18 00:00:00+08:00 Equity(0 [1216]) 1216         None  "
      ]
     },
     "execution_count": 4,
     "metadata": {},
     "output_type": "execute_result"
    }
   ],
   "source": [
    "transactions"
   ]
  },
  {
   "cell_type": "markdown",
   "id": "216a6814",
   "metadata": {},
   "source": [
    "## 2"
   ]
  },
  {
   "cell_type": "markdown",
   "id": "1804426b",
   "metadata": {},
   "source": [
    "股票2327在10/20到10/28暫停交易 (參考上面is_stale = True)，按照原本Zipline設計，不管是暫停前一天，或是暫停期間下單，都會在恢復交易第一天成交。但如果要加入限制機制，參考上面程式PART B，在每天下單後，檢查任何暫停交易中的股票，並取消相關的訂單。可以看到，10/19下的單子(第一個)，在10/20被取消，在10/20下的單子，在當天就被取消。"
   ]
  },
  {
   "cell_type": "code",
   "execution_count": 5,
   "id": "37c3bc91",
   "metadata": {
    "scrolled": true
   },
   "outputs": [
    {
     "data": {
      "text/plain": [
       "[{'id': 'fb2bf15e5c574f73ad68fe6920aac1d8',\n",
       "  'dt': Timestamp('2022-10-20 13:30:00+0800', tz='Asia/Taipei'),\n",
       "  'reason': None,\n",
       "  'created': Timestamp('2022-10-19 13:30:00+0800', tz='Asia/Taipei'),\n",
       "  'amount': 1000,\n",
       "  'filled': 0,\n",
       "  'commission': 0,\n",
       "  'stop': None,\n",
       "  'limit': None,\n",
       "  'stop_reached': False,\n",
       "  'limit_reached': False,\n",
       "  'sid': Equity(1 [2327]),\n",
       "  'status': <ORDER_STATUS.CANCELLED: 2>},\n",
       " {'id': 'ecf1f99999d14e668eebcd55a8392be6',\n",
       "  'dt': Timestamp('2022-10-20 13:30:00+0800', tz='Asia/Taipei'),\n",
       "  'reason': None,\n",
       "  'created': Timestamp('2022-10-20 13:30:00+0800', tz='Asia/Taipei'),\n",
       "  'amount': 1000,\n",
       "  'filled': 0,\n",
       "  'commission': 0,\n",
       "  'stop': None,\n",
       "  'limit': None,\n",
       "  'stop_reached': False,\n",
       "  'limit_reached': False,\n",
       "  'sid': Equity(1 [2327]),\n",
       "  'status': <ORDER_STATUS.CANCELLED: 2>}]"
      ]
     },
     "execution_count": 5,
     "metadata": {},
     "output_type": "execute_result"
    }
   ],
   "source": [
    "performance['orders'][3]"
   ]
  },
  {
   "cell_type": "markdown",
   "id": "eaf9035d",
   "metadata": {},
   "source": [
    "## 取消交易、日期、limit/stop 應用"
   ]
  },
  {
   "cell_type": "code",
   "execution_count": 6,
   "id": "198f9e57",
   "metadata": {},
   "outputs": [
    {
     "name": "stderr",
     "output_type": "stream",
     "text": [
      "[2023-08-15 01:24:01.631734]: INFO: handle_simulation_end: Simulated 15 trading days\n",
      "first open: 2022-10-17 01:01:00+00:00\n",
      "last close: 2022-11-04 05:30:00+00:00\n"
     ]
    }
   ],
   "source": [
    "def initialize(context):\n",
    "    context.i = 0  \n",
    "    context.tickers = ['1216', '2330', '2327']\n",
    "    context.asset = [symbol(ticker) for ticker in context.tickers]      \n",
    "    set_slippage(slippage. VolumeShareSlippage(volume_limit=0.025, price_impact=0.1))\n",
    "    set_commission(commission.PerDollar(cost = commission_cost))\n",
    "    set_benchmark(symbol('IR0001'))\n",
    "    \n",
    "def handle_data(context, data):\n",
    "    \n",
    "    \n",
    "    open_orders = get_open_orders()\n",
    "\n",
    "    #PART C\n",
    "    for asset in open_orders:\n",
    "        for o in open_orders[asset]:\n",
    "            waiting_time = (len(get_calendar(calendar_name).sessions_in_range(o.created, get_datetime())))\n",
    "            if waiting_time == 10:\n",
    "                cancel_order(o)\n",
    "    #PART C\n",
    "    \n",
    "    if context.i == 0:\n",
    "        order(symbol('1216'), 1000, stop_price = 66)\n",
    "\n",
    "    if context.i == 3:\n",
    "        order(symbol('1216'), 1000, stop_price = 65.5)\n",
    "        \n",
    "   \n",
    "   \n",
    "    record(close=data.current(context.asset, 'close'))\n",
    "    record(volume=data.current(context.asset, 'volume')*1000)\n",
    "    context.i += 1\n",
    "    \n",
    "def analyze(context, perf):\n",
    "\n",
    "    pass\n",
    "\n",
    "commission_cost = 0.001425\n",
    "capital_base = 1e8\n",
    "treasury_returns = get_Treasury_Return(start = start_dt,\n",
    "                                      end = end_dt,\n",
    "                                      rate_type = 'Time_Deposit_Rate',                     \n",
    "                                      term = '1y',\n",
    "                                      symbol = '5844')\n",
    "\n",
    "\n",
    "\n",
    "performance = run_algorithm(start=start_dt,\n",
    "                            end=end_dt,\n",
    "                            initialize=initialize,\n",
    "                            handle_data=handle_data,\n",
    "                            capital_base=capital_base,\n",
    "                            analyze=analyze,\n",
    "                            treasury_returns=treasury_returns,\n",
    "                            trading_calendar=get_calendar(calendar_name),\n",
    "                            bundle=bundle_name)\n",
    "\n",
    "closing_price = tejapi.get('TWN/APIPRCD',coid=['1216'], opts={'columns':['mdate','coid','close_d']}, mdate={'gte':start,'lte':end }, paginate=True)\n",
    "\n",
    "positions, transactions, orders = get_transaction_detail(performance)"
   ]
  },
  {
   "cell_type": "markdown",
   "id": "54dd38da",
   "metadata": {},
   "source": [
    "## 1"
   ]
  },
  {
   "cell_type": "markdown",
   "id": "e4f685a6",
   "metadata": {},
   "source": [
    "在第0天下單，stop_price = 66，這單會一直在open_orders，直到股票1216在第11天 (交易日) 超過66才會買入。理論上Zipline會無限期的等stop和limit達到目標，那如果希望設下限制，如果等超過十個交易日就取消，可以參考PART C。\n",
    "\n",
    "這段程式碼先運用了order object 裡面的.created 取得訂單創立時間，再用get_datetime()取得當天時間，再用get_calendar(calendar_name).sessions_in_range(start, end) 來算出經過了幾個交易日，並建立迴圈在每天開始檢查並取消等太久的訂單。\n",
    "\n",
    "在第三天下的單，stop_price = 65.5，在第六天就成交，沒有等超過十天，所以沒有被PART C取消掉。\n",
    "\n",
    "註：在訂單成交日，訂單就不會出現在open_orders裡面。"
   ]
  },
  {
   "cell_type": "code",
   "execution_count": 7,
   "id": "d2d418bd",
   "metadata": {
    "scrolled": true
   },
   "outputs": [
    {
     "data": {
      "text/html": [
       "<div>\n",
       "<style scoped>\n",
       "    .dataframe tbody tr th:only-of-type {\n",
       "        vertical-align: middle;\n",
       "    }\n",
       "\n",
       "    .dataframe tbody tr th {\n",
       "        vertical-align: top;\n",
       "    }\n",
       "\n",
       "    .dataframe thead th {\n",
       "        text-align: right;\n",
       "    }\n",
       "</style>\n",
       "<table border=\"1\" class=\"dataframe\">\n",
       "  <thead>\n",
       "    <tr style=\"text-align: right;\">\n",
       "      <th></th>\n",
       "      <th>mdate</th>\n",
       "      <th>coid</th>\n",
       "      <th>close_d</th>\n",
       "    </tr>\n",
       "    <tr>\n",
       "      <th>None</th>\n",
       "      <th></th>\n",
       "      <th></th>\n",
       "      <th></th>\n",
       "    </tr>\n",
       "  </thead>\n",
       "  <tbody>\n",
       "    <tr>\n",
       "      <th>0</th>\n",
       "      <td>2022-10-17</td>\n",
       "      <td>1216</td>\n",
       "      <td>65.9</td>\n",
       "    </tr>\n",
       "    <tr>\n",
       "      <th>1</th>\n",
       "      <td>2022-10-18</td>\n",
       "      <td>1216</td>\n",
       "      <td>65.3</td>\n",
       "    </tr>\n",
       "    <tr>\n",
       "      <th>2</th>\n",
       "      <td>2022-10-19</td>\n",
       "      <td>1216</td>\n",
       "      <td>65.3</td>\n",
       "    </tr>\n",
       "    <tr>\n",
       "      <th>3</th>\n",
       "      <td>2022-10-20</td>\n",
       "      <td>1216</td>\n",
       "      <td>64.7</td>\n",
       "    </tr>\n",
       "    <tr>\n",
       "      <th>4</th>\n",
       "      <td>2022-10-21</td>\n",
       "      <td>1216</td>\n",
       "      <td>64.1</td>\n",
       "    </tr>\n",
       "    <tr>\n",
       "      <th>5</th>\n",
       "      <td>2022-10-24</td>\n",
       "      <td>1216</td>\n",
       "      <td>65.1</td>\n",
       "    </tr>\n",
       "    <tr>\n",
       "      <th>6</th>\n",
       "      <td>2022-10-25</td>\n",
       "      <td>1216</td>\n",
       "      <td>65.5</td>\n",
       "    </tr>\n",
       "    <tr>\n",
       "      <th>7</th>\n",
       "      <td>2022-10-26</td>\n",
       "      <td>1216</td>\n",
       "      <td>65.6</td>\n",
       "    </tr>\n",
       "    <tr>\n",
       "      <th>8</th>\n",
       "      <td>2022-10-27</td>\n",
       "      <td>1216</td>\n",
       "      <td>65.8</td>\n",
       "    </tr>\n",
       "    <tr>\n",
       "      <th>9</th>\n",
       "      <td>2022-10-28</td>\n",
       "      <td>1216</td>\n",
       "      <td>65.8</td>\n",
       "    </tr>\n",
       "    <tr>\n",
       "      <th>10</th>\n",
       "      <td>2022-10-31</td>\n",
       "      <td>1216</td>\n",
       "      <td>65.5</td>\n",
       "    </tr>\n",
       "    <tr>\n",
       "      <th>11</th>\n",
       "      <td>2022-11-01</td>\n",
       "      <td>1216</td>\n",
       "      <td>66.1</td>\n",
       "    </tr>\n",
       "    <tr>\n",
       "      <th>12</th>\n",
       "      <td>2022-11-02</td>\n",
       "      <td>1216</td>\n",
       "      <td>65.9</td>\n",
       "    </tr>\n",
       "    <tr>\n",
       "      <th>13</th>\n",
       "      <td>2022-11-03</td>\n",
       "      <td>1216</td>\n",
       "      <td>65.6</td>\n",
       "    </tr>\n",
       "    <tr>\n",
       "      <th>14</th>\n",
       "      <td>2022-11-04</td>\n",
       "      <td>1216</td>\n",
       "      <td>65.5</td>\n",
       "    </tr>\n",
       "  </tbody>\n",
       "</table>\n",
       "</div>"
      ],
      "text/plain": [
       "          mdate  coid  close_d\n",
       "None                          \n",
       "0    2022-10-17  1216     65.9\n",
       "1    2022-10-18  1216     65.3\n",
       "2    2022-10-19  1216     65.3\n",
       "3    2022-10-20  1216     64.7\n",
       "4    2022-10-21  1216     64.1\n",
       "5    2022-10-24  1216     65.1\n",
       "6    2022-10-25  1216     65.5\n",
       "7    2022-10-26  1216     65.6\n",
       "8    2022-10-27  1216     65.8\n",
       "9    2022-10-28  1216     65.8\n",
       "10   2022-10-31  1216     65.5\n",
       "11   2022-11-01  1216     66.1\n",
       "12   2022-11-02  1216     65.9\n",
       "13   2022-11-03  1216     65.6\n",
       "14   2022-11-04  1216     65.5"
      ]
     },
     "execution_count": 7,
     "metadata": {},
     "output_type": "execute_result"
    }
   ],
   "source": [
    "closing_price"
   ]
  },
  {
   "cell_type": "code",
   "execution_count": 8,
   "id": "fb672896",
   "metadata": {
    "scrolled": true
   },
   "outputs": [
    {
     "data": {
      "text/plain": [
       "[{'id': 'a4d4db24fdb84e7d927d61aa96a91374',\n",
       "  'dt': Timestamp('2022-10-31 13:30:00+0800', tz='Asia/Taipei'),\n",
       "  'reason': None,\n",
       "  'created': Timestamp('2022-10-17 13:30:00+0800', tz='Asia/Taipei'),\n",
       "  'amount': 1000,\n",
       "  'filled': 0,\n",
       "  'commission': 0,\n",
       "  'stop': 66.0,\n",
       "  'limit': None,\n",
       "  'stop_reached': False,\n",
       "  'limit_reached': False,\n",
       "  'sid': Equity(0 [1216]),\n",
       "  'status': <ORDER_STATUS.CANCELLED: 2>}]"
      ]
     },
     "execution_count": 8,
     "metadata": {},
     "output_type": "execute_result"
    }
   ],
   "source": [
    "performance['orders'][10]"
   ]
  },
  {
   "cell_type": "code",
   "execution_count": 9,
   "id": "61195c68",
   "metadata": {},
   "outputs": [
    {
     "data": {
      "text/plain": [
       "[{'id': 'd312b3cc4960483a9b7986e92d13ba23',\n",
       "  'dt': Timestamp('2022-10-25 13:30:00+0800', tz='Asia/Taipei'),\n",
       "  'reason': None,\n",
       "  'created': Timestamp('2022-10-20 13:30:00+0800', tz='Asia/Taipei'),\n",
       "  'amount': 1000,\n",
       "  'filled': 1000,\n",
       "  'commission': 93.33750011778255,\n",
       "  'stop': 65.5,\n",
       "  'limit': None,\n",
       "  'stop_reached': True,\n",
       "  'limit_reached': False,\n",
       "  'sid': Equity(0 [1216]),\n",
       "  'status': <ORDER_STATUS.FILLED: 1>}]"
      ]
     },
     "execution_count": 9,
     "metadata": {},
     "output_type": "execute_result"
    }
   ],
   "source": [
    "performance['orders'][6]"
   ]
  },
  {
   "cell_type": "code",
   "execution_count": 10,
   "id": "a8668fb7",
   "metadata": {},
   "outputs": [
    {
     "data": {
      "text/html": [
       "<div>\n",
       "<style scoped>\n",
       "    .dataframe tbody tr th:only-of-type {\n",
       "        vertical-align: middle;\n",
       "    }\n",
       "\n",
       "    .dataframe tbody tr th {\n",
       "        vertical-align: top;\n",
       "    }\n",
       "\n",
       "    .dataframe thead th {\n",
       "        text-align: right;\n",
       "    }\n",
       "</style>\n",
       "<table border=\"1\" class=\"dataframe\">\n",
       "  <thead>\n",
       "    <tr style=\"text-align: right;\">\n",
       "      <th></th>\n",
       "      <th></th>\n",
       "      <th></th>\n",
       "      <th>amount</th>\n",
       "      <th>dt</th>\n",
       "      <th>price</th>\n",
       "      <th>order_id</th>\n",
       "      <th>commission</th>\n",
       "    </tr>\n",
       "    <tr>\n",
       "      <th>date</th>\n",
       "      <th>asset</th>\n",
       "      <th>symbol</th>\n",
       "      <th></th>\n",
       "      <th></th>\n",
       "      <th></th>\n",
       "      <th></th>\n",
       "      <th></th>\n",
       "    </tr>\n",
       "  </thead>\n",
       "  <tbody>\n",
       "    <tr>\n",
       "      <th>2022-10-25 00:00:00+08:00</th>\n",
       "      <th>Equity(0 [1216])</th>\n",
       "      <th>1216</th>\n",
       "      <td>1000</td>\n",
       "      <td>2022-10-25 13:30:00+08:00</td>\n",
       "      <td>65.5</td>\n",
       "      <td>d312b3cc4960483a9b7986e92d13ba23</td>\n",
       "      <td>None</td>\n",
       "    </tr>\n",
       "  </tbody>\n",
       "</table>\n",
       "</div>"
      ],
      "text/plain": [
       "                                                   amount  \\\n",
       "date                      asset            symbol           \n",
       "2022-10-25 00:00:00+08:00 Equity(0 [1216]) 1216      1000   \n",
       "\n",
       "                                                                         dt  \\\n",
       "date                      asset            symbol                             \n",
       "2022-10-25 00:00:00+08:00 Equity(0 [1216]) 1216   2022-10-25 13:30:00+08:00   \n",
       "\n",
       "                                                   price  \\\n",
       "date                      asset            symbol          \n",
       "2022-10-25 00:00:00+08:00 Equity(0 [1216]) 1216     65.5   \n",
       "\n",
       "                                                                           order_id  \\\n",
       "date                      asset            symbol                                     \n",
       "2022-10-25 00:00:00+08:00 Equity(0 [1216]) 1216    d312b3cc4960483a9b7986e92d13ba23   \n",
       "\n",
       "                                                  commission  \n",
       "date                      asset            symbol             \n",
       "2022-10-25 00:00:00+08:00 Equity(0 [1216]) 1216         None  "
      ]
     },
     "execution_count": 10,
     "metadata": {},
     "output_type": "execute_result"
    }
   ],
   "source": [
    "transactions"
   ]
  }
 ],
 "metadata": {
  "kernelspec": {
   "display_name": "Python 3 (ipykernel)",
   "language": "python",
   "name": "python3"
  },
  "language_info": {
   "codemirror_mode": {
    "name": "ipython",
    "version": 3
   },
   "file_extension": ".py",
   "mimetype": "text/x-python",
   "name": "python",
   "nbconvert_exporter": "python",
   "pygments_lexer": "ipython3",
   "version": "3.8.13"
  }
 },
 "nbformat": 4,
 "nbformat_minor": 5
}
