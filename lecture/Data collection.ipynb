{
 "cells": [
  {
   "cell_type": "markdown",
   "id": "0593c9fa",
   "metadata": {},
   "source": [
    "# Data Collection"
   ]
  },
  {
   "cell_type": "markdown",
   "id": "3f657cd5",
   "metadata": {},
   "source": [
    "這個教程使用了台灣股市的數據包( bundle )。Pipeline API運行在每日數據上，所以你可以選擇使用整個分鐘數據包，或者只使用數據包中的每日部分。我們將會說明後者。"
   ]
  },
  {
   "cell_type": "markdown",
   "id": "1d826f7b",
   "metadata": {},
   "source": [
    "### 載入所需套件"
   ]
  },
  {
   "cell_type": "code",
   "execution_count": 1,
   "id": "6aaa0ad8",
   "metadata": {},
   "outputs": [],
   "source": [
    "import os\n",
    "import pandas as pd\n",
    "import numpy as np"
   ]
  },
  {
   "cell_type": "markdown",
   "id": "cd29670f",
   "metadata": {},
   "source": [
    "### 載入所需要的股票資料"
   ]
  },
  {
   "cell_type": "code",
   "execution_count": 2,
   "id": "1fc40065",
   "metadata": {},
   "outputs": [
    {
     "name": "stdout",
     "output_type": "stream",
     "text": [
      "總共有 : 107 筆資料\n"
     ]
    }
   ],
   "source": [
    "tickers = 'IR001 0050 0056 00737 1108 1101 1102 1103 6243 6451 1216 1301 1303 1326 1402 1476 1590 1605 1722 1802 2002 2105 2201 2207 2227 2301 2939 4108 4148 6431 6541 6657 2883 2891 2543 2929 2303 6505 9926 2308 2311 2317 2324 2325 2327 2330 2347 2353 2354 2357 2379 2382 2395 2408 2409 2412 2448 2454 2474 2492 2498 2603 2609 2615 2618 2633 2801 2823 2880 2881 2882 2883 2884 2885 2886 2887 2888 2890 2891 2892 2912 3008 3009 3034 3037 3045 3231 3474 3481 3673 3697 3711 4904 4938 5854 5871 5876 5880 6239 6415 6505 6669 6770 8046 8454 9904 9910'\n",
    "print(\"總共有 :\",len(tickers.split()),\"筆資料\")"
   ]
  },
  {
   "cell_type": "markdown",
   "id": "479ba028",
   "metadata": {},
   "source": [
    "## Bundle設置\n",
    "用於設置一個資料包（bundle）的環境變數\n",
    "\n",
    "#### environ:\n",
    "用於設置bundles的環境\n",
    "* os.environ['TEJAPI_BASE'] = 'https://api.tej.com.tw' <br>\n",
    "        用於TEJ資料庫的連結\n",
    "\n",
    "* os.environ['TEJAPI_KEY']<br>\n",
    "        用於識別使用者\n",
    "* os.environ['ticker']<br>\n",
    "        tickers = 'xxxx xxxx xxxx'\n",
    "        os.environ['ticker'] = tickers \n",
    "        設置我們所需要的股票代碼  \n",
    "* os.environ['mdate'] = 'yyyymmdd yyyymmdd'<br>\n",
    "        設置tquant數據的起始時間與結束時間\n",
    "* !zipline ingest -b tquant\n",
    "        將上方資料輸入進 bundle並命名為 tquant"
   ]
  },
  {
   "cell_type": "markdown",
   "id": "a3936d1f",
   "metadata": {},
   "source": [
    "### 載入bundle所需要的參數\n",
    "\n",
    "於此例我們載入 1101 2330 3443 2498 2388 IR0001，其中 IR0001 為台股大盤報酬。"
   ]
  },
  {
   "cell_type": "code",
   "execution_count": 3,
   "id": "5566b1c9",
   "metadata": {
    "scrolled": true
   },
   "outputs": [
    {
     "name": "stderr",
     "output_type": "stream",
     "text": [
      "Traceback (most recent call last):\n",
      "  File \"C:\\Users\\Admin\\anaconda3\\envs\\zipline-tej\\lib\\runpy.py\", line 194, in _run_module_as_main\n",
      "    return _run_code(code, main_globals, None,\n",
      "  File \"C:\\Users\\Admin\\anaconda3\\envs\\zipline-tej\\lib\\runpy.py\", line 87, in _run_code\n",
      "    exec(code, run_globals)\n",
      "  File \"C:\\Users\\Admin\\anaconda3\\envs\\zipline-tej\\Scripts\\zipline.exe\\__main__.py\", line 4, in <module>\n",
      "  File \"C:\\Users\\Admin\\anaconda3\\envs\\zipline-tej\\lib\\site-packages\\zipline\\__init__.py\", line 21, in <module>\n",
      "    from zipline.utils.calendar_utils import get_calendar\n",
      "  File \"C:\\Users\\Admin\\anaconda3\\envs\\zipline-tej\\lib\\site-packages\\zipline\\utils\\calendar_utils.py\", line 24, in <module>\n",
      "    from exchange_calendars import ExchangeCalendar as TradingCalendar\n",
      "  File \"C:\\Users\\Admin\\anaconda3\\envs\\zipline-tej\\lib\\site-packages\\exchange_calendars\\__init__.py\", line 16, in <module>\n",
      "    from .calendar_utils import (\n",
      "  File \"C:\\Users\\Admin\\anaconda3\\envs\\zipline-tej\\lib\\site-packages\\exchange_calendars\\calendar_utils.py\", line 61, in <module>\n",
      "    from .exchange_calendar_tejxtai import TEJ_XTAIExchangeCalendar\n",
      "  File \"C:\\Users\\Admin\\anaconda3\\envs\\zipline-tej\\lib\\site-packages\\exchange_calendars\\exchange_calendar_tejxtai.py\", line 4993, in <module>\n",
      "    dynamic_close_dates = get_dynamic_close_days(_close_dates)\n",
      "  File \"C:\\Users\\Admin\\anaconda3\\envs\\zipline-tej\\lib\\site-packages\\exchange_calendars\\exchange_calendar_tejxtai.py\", line 4988, in get_dynamic_close_days\n",
      "    data = tejapi.get('TWN/TRADEDAY_TWSE',zdate= {'gt':static_close_dates[-1],'lte':current_date},opts = {'columns':['zdate','day_week','tradeday_cno']},paginate=True)\n",
      "  File \"C:\\Users\\Admin\\anaconda3\\envs\\zipline-tej\\lib\\site-packages\\tejapi\\get.py\", line 29, in get\n",
      "    next_data = Datatable(datatable_code).data(params=next_options)\n",
      "  File \"C:\\Users\\Admin\\anaconda3\\envs\\zipline-tej\\lib\\site-packages\\tejapi\\model\\datatable.py\", line 16, in data\n",
      "    return Data.page(self, **updated_options)\n",
      "  File \"C:\\Users\\Admin\\anaconda3\\envs\\zipline-tej\\lib\\site-packages\\tejapi\\operations\\list.py\", line 38, in page\n",
      "    r = Connection.request(http_verb, path, **options)\n",
      "  File \"C:\\Users\\Admin\\anaconda3\\envs\\zipline-tej\\lib\\site-packages\\tejapi\\connection.py\", line 43, in request\n",
      "    return cls.execute_request(http_verb, abs_url, **options)\n",
      "  File \"C:\\Users\\Admin\\anaconda3\\envs\\zipline-tej\\lib\\site-packages\\tejapi\\connection.py\", line 54, in execute_request\n",
      "    cls.handle_api_error(response)\n",
      "  File \"C:\\Users\\Admin\\anaconda3\\envs\\zipline-tej\\lib\\site-packages\\tejapi\\connection.py\", line 95, in handle_api_error\n",
      "    raise klass(message, resp.status_code, resp.text, resp.headers, code)\n",
      "tejapi.errors.tej_error.AuthenticationError: (Status 400) (Tej Error AAA002) 認證失敗，請輸入正確的api_key\n"
     ]
    }
   ],
   "source": [
    "os.environ[\"TEJAPI_BASE\"] = 'https://api.tej.com.tw'\n",
    "os.environ['TEJAPI_KEY'] = \"Your_Key\" \n",
    "tickers = '1101 2330 3443 2498 2388 IR0001'\n",
    "os.environ['ticker'] = tickers\n",
    "os.environ['mdate'] = '20000103 20230530'\n",
    "\n",
    "!zipline ingest -b tquant"
   ]
  },
  {
   "cell_type": "code",
   "execution_count": null,
   "id": "79969402",
   "metadata": {},
   "outputs": [],
   "source": []
  }
 ],
 "metadata": {
  "kernelspec": {
   "display_name": "Python [conda env:zipline-tej] *",
   "language": "python",
   "name": "conda-env-zipline-tej-py"
  },
  "language_info": {
   "codemirror_mode": {
    "name": "ipython",
    "version": 3
   },
   "file_extension": ".py",
   "mimetype": "text/x-python",
   "name": "python",
   "nbconvert_exporter": "python",
   "pygments_lexer": "ipython3",
   "version": "3.8.13"
  }
 },
 "nbformat": 4,
 "nbformat_minor": 5
}
