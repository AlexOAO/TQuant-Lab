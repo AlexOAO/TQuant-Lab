{
 "cells": [
  {
   "cell_type": "markdown",
   "id": "0593c9fa",
   "metadata": {},
   "source": [
    "# Data Collection"
   ]
  },
  {
   "cell_type": "markdown",
   "id": "3f657cd5",
   "metadata": {},
   "source": [
    "本課程實作如何將資料（如價量、基本面、籌碼面...等）ingest到zipline回測引擎中。\n",
    "\n",
    "透過這個動作，後續在使用Pipeline API時，就可以很有效率地獲取資料並計算因子。"
   ]
  },
  {
   "cell_type": "markdown",
   "id": "1d826f7b",
   "metadata": {},
   "source": [
    "### 載入所需套件"
   ]
  },
  {
   "cell_type": "code",
   "execution_count": 1,
   "id": "6aaa0ad8",
   "metadata": {},
   "outputs": [],
   "source": [
    "import os\n",
    "import pandas as pd\n",
    "import numpy as np"
   ]
  },
  {
   "cell_type": "markdown",
   "id": "479ba028",
   "metadata": {},
   "source": [
    "## Bundle設置\n",
    "\n",
    "介紹環境變數(environ)設定、運用設定的環境變數做價量、非價量資料的bundle。\n",
    "\n",
    "#### os.environ 變數設定:\n",
    "<u>設置價量資料bundle需要的資訊：</u>\n",
    "* os.environ['TEJAPI_BASE'] = \"https://api.tej.com.tw\" <br>\n",
    "        用於連結TEJ資料庫\n",
    "\n",
    "* os.environ['TEJAPI_KEY'] = \"Your_Key\"<br>\n",
    "        用於識別使用者\n",
    "* os.environ['ticker']<br>\n",
    "        tickers = 'xxxx xxxx xxxx'\n",
    "        os.environ['ticker'] = tickers \n",
    "        設置我們所需要的股票代碼  \n",
    "* os.environ['mdate'] = 'yyyymmdd yyyymmdd'<br>\n",
    "        設置取得資料的起始時間與結束時間\n",
    "* !zipline ingest -b tquant\n",
    "        將上方資料 ingest 進 bundle 並命名為 tquant\n",
    "\n",
    "<u>設置非價量資料bundle需要的資訊：</u>\n",
    "* os.environ['fields'] = 'field1, field2, field3'<br>\n",
    "        設置撈取非價量資料的欄位，其中 field1、field2、field3 代表資料欄位名稱 \n",
    "* !zipline ingest -b fundamentals\n",
    "        將非價量資料 ingest 進 bundle 並命名為 fundamentals"
   ]
  },
  {
   "cell_type": "markdown",
   "id": "a3936d1f",
   "metadata": {},
   "source": [
    "### 價量資料\n",
    "\n",
    "載入指定股票的價量資料，其中 IR0001 為台灣發行量加權股價報酬指數。"
   ]
  },
  {
   "cell_type": "code",
   "execution_count": 2,
   "id": "32827fc3",
   "metadata": {},
   "outputs": [
    {
     "name": "stdout",
     "output_type": "stream",
     "text": [
      "總共有 : 107 筆資料\n"
     ]
    }
   ],
   "source": [
    "tickers = 'IR001 0050 0056 00737 1108 1101 1102 1103 6243 6451 1216 1301 1303 1326 1402 1476 1590 1605 1722 1802 2002 2105 2201 2207 2227 2301 2939 4108 4148 6431 6541 6657 2883 2891 2543 2929 2303 6505 9926 2308 2311 2317 2324 2325 2327 2330 2347 2353 2354 2357 2379 2382 2395 2408 2409 2412 2448 2454 2474 2492 2498 2603 2609 2615 2618 2633 2801 2823 2880 2881 2882 2883 2884 2885 2886 2887 2888 2890 2891 2892 2912 3008 3009 3034 3037 3045 3231 3474 3481 3673 3697 3711 4904 4938 5854 5871 5876 5880 6239 6415 6505 6669 6770 8046 8454 9904 9910'\n",
    "print(\"總共有 :\",len(tickers.split()),\"筆資料\")"
   ]
  },
  {
   "cell_type": "code",
   "execution_count": 3,
   "id": "5566b1c9",
   "metadata": {
    "scrolled": false
   },
   "outputs": [
    {
     "name": "stdout",
     "output_type": "stream",
     "text": [
      "Merging daily equity files:\n"
     ]
    },
    {
     "name": "stderr",
     "output_type": "stream",
     "text": [
      "[2023-10-25 08:22:12.414494] INFO: zipline.data.bundles.core: Ingesting tquant.\n"
     ]
    }
   ],
   "source": [
    "os.environ[\"TEJAPI_BASE\"] = 'https://api.tej.com.tw'\n",
    "os.environ['TEJAPI_KEY'] = \"Your_Key\"\n",
    "\n",
    "os.environ['ticker'] = tickers\n",
    "os.environ['mdate'] = '20000103 20230530'\n",
    "\n",
    "!zipline ingest -b tquant"
   ]
  },
  {
   "cell_type": "markdown",
   "id": "3922be7d",
   "metadata": {},
   "source": [
    "### 非價量資料\n",
    "載入所需要的非價量資料。"
   ]
  },
  {
   "cell_type": "code",
   "execution_count": 4,
   "id": "8393f09c",
   "metadata": {},
   "outputs": [],
   "source": [
    "columns = ['Sales_Growth_Rate','Gross_Margin_Growth_Rate', 'Operating_Income_Growth_Rate', \n",
    "           'Pre_Tax_Income_Growth_Rate','Net_Income_Growth_Rate',\n",
    "           'Industry_Eng','Industry', 'roi', 'YoY_Monthly_Sales','mktcap']"
   ]
  },
  {
   "cell_type": "code",
   "execution_count": 5,
   "id": "5e04d170",
   "metadata": {},
   "outputs": [
    {
     "name": "stderr",
     "output_type": "stream",
     "text": [
      "[2023-10-25 08:23:07.062963] INFO: zipline.data.bundles.core: Ingesting fundamentals.\n"
     ]
    }
   ],
   "source": [
    "os.environ['fields'] = \" \".join(columns)\n",
    "!zipline ingest -b fundamentals"
   ]
  }
 ],
 "metadata": {
  "kernelspec": {
   "display_name": "Python [conda env:zipline-tej] *",
   "language": "python",
   "name": "conda-env-zipline-tej-py"
  },
  "language_info": {
   "codemirror_mode": {
    "name": "ipython",
    "version": 3
   },
   "file_extension": ".py",
   "mimetype": "text/x-python",
   "name": "python",
   "nbconvert_exporter": "python",
   "pygments_lexer": "ipython3",
   "version": "3.8.13"
  }
 },
 "nbformat": 4,
 "nbformat_minor": 5
}
