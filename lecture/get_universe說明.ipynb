{
 "cells": [
  {
   "cell_type": "markdown",
   "id": "036115ba",
   "metadata": {},
   "source": [
    "# get_universe說明"
   ]
  },
  {
   "cell_type": "markdown",
   "id": "f1dc1a2c",
   "metadata": {},
   "source": [
    "## Import and Setting"
   ]
  },
  {
   "cell_type": "code",
   "execution_count": 1,
   "id": "1a5029ba",
   "metadata": {},
   "outputs": [],
   "source": [
    "import pandas as pd\n",
    "import datetime\n",
    "import tejapi\n",
    "import os\n",
    "import numpy as np\n",
    "\n",
    "# set tej_key and base\n",
    "os.environ['TEJAPI_KEY'] = \"your key\" \n",
    "os.environ['TEJAPI_BASE'] = \"https://api.tej.com.tw\"\n",
    "\n",
    "# set date\n",
    "start='2023-01-01'\n",
    "end='2023-10-24'\n",
    "\n",
    "from logbook import Logger, StderrHandler, INFO\n",
    "log_handler = StderrHandler(format_string='[{record.time:%Y-%m-%d %H:%M:%S.%f}]: ' +\n",
    "                            '{record.level_name}: {record.func_name}: {record.message}',\n",
    "                            level=INFO)\n",
    "log_handler.push_application()\n",
    "log = Logger('get_universe')"
   ]
  },
  {
   "cell_type": "markdown",
   "id": "1a0a065b",
   "metadata": {},
   "source": [
    "## get_universe\n",
    "用來取得特定的股票池（<font color=DeepPink>使用此函數會消耗API流量</font>）。\n",
    "\n",
    "\n",
    "### **zipline.sources.TEJ_Api_Data.<font color=DeepPink>get_universe</font>** \n",
    "```python\n",
    "(start,\n",
    " end=datetime.datetime.now().date().strftime('%Y-%m-%d'),\n",
    " trading_calendar = get_calendar('TEJ_XTAI'),\n",
    " **kwargs)\n",
    "```\n",
    "\n",
    "<!-- <table><tr><td bgcolor=green>Parameters</td></tr></table> -->\n",
    "\n",
    "### Parameters\n",
    "---\n",
    "- **start**(*datetime or str*)－Start date.\n",
    "- **end**(*datetime or str, optional*)－This defaults to the current date.\n",
    "- **trading_calendar**(*TradingCalendar, optional*)－設置交易日曆。預設是`get_calendar('TEJ_XTAI')`。\n",
    "- **available kwargs properties（至少需要指定一個，若沒指定則返回全樣本）**\n",
    "  - **mkt**(*list or str*)－市場別。\n",
    "    - valid mkt：`['TWSE', 'OTC']`。\n",
    "    - 若在**證券交易所**掛牌，註記為「TWSE」；若在**櫃買中心**掛牌，註記為「OTC」。\n",
    "    - **市場別（mkt）** 、**板塊別（mkt_bd_c、mkt_bd_e）**的概念請參考以下說明：[市場別（mkt） 與板塊別（mkt_bd_c、mkt_bd_e）](#mktandmkt_bd)。\n",
    "  - **mkt_bd_c**(*list or str*)－板塊別(中)。\n",
    "    - valid mkt_bd_c：`['上市一般版', '上櫃一般版', '創新版']`。\n",
    "    - 若在**上市一般板**，註記為「上市一般版」；若在**上市創新板**，註記為「創新版」；若在**上櫃一般板**，註記為「上櫃一般版」。\n",
    "  - **mkt_bd_e**(*list or str*)－板塊別(英)。\n",
    "    - valid mkt_bd_e：`['TSE', 'OTC', 'TIB']`。\n",
    "    - 若在**上市一般板**，註記為「TSE」；若在**上市創新板**，註記為「TIB」；若在**上櫃一般板**，註記為「OTC」。\n",
    "  - **stktp_c**(*list or str*)－證券種類(中)。\n",
    "    - valid stktp_c：`['指數', '普通股-海外', '普通股', '特別股', '封閉型基金', 'ETF', 'REIT', '國外ETF','開放式基金', '台灣存託憑證']`。\n",
    "    - `'普通股-海外'`：僅包含F股或KY股。`'普通股'`：不含F股或KY股。若同時想取得所有普通股，請使用stktp_c=`['普通股-海外', '普通股']`。\n",
    "  - **stktp_e**(*list or str*)－證券種類(英)。\n",
    "    - valid stktp_e：`['Index', 'Common Stock-Foreign', 'Common Stock', 'Preferred Stock', 'Close End Fund', 'ETF', 'REIT', 'Foreign ETF', 'Open End Fund', 'TDR']`。\n",
    "    - `'Common Stock-Foreign'`：僅包含F股或KY股。`'Common Stock'`：不含F股或KY股。若同時想取得所有普通股，請使用stktp_e=`['Common Stock-Foreign', 'Common Stock']`。\n",
    "  - **main_ind_c**(*list or str*)－主產業別(中)。（請輸入完整字串，例如：'M1100 水泥工業'）\n",
    "    <details>\n",
    "    <summary><font color=Blue>點選查看valid main_ind_c</font>：</summary>\n",
    "    <pre>\n",
    "    \n",
    "    -  M1100 水泥工業\n",
    "    -  M1200 食品工業\n",
    "    -  M1300 塑膠工業\n",
    "    -  M1400 紡織纖維\n",
    "    -  M1500 電機機械\n",
    "    -  M1600 電器電纜\n",
    "    -  M1700 化學生技醫療\n",
    "    -  M1800 玻璃陶瓷\n",
    "    -  M1900 造紙工業\n",
    "    -  M2000 鋼鐵工業\n",
    "    -  M2100 橡膠工業\n",
    "    -  M2200 汽車工業\n",
    "    -  M2300 電子工業\n",
    "    -  M2500 建材營造\n",
    "    -  M2600 航運業\n",
    "    -  M2700 觀光餐旅\n",
    "    -  M2800 金融業\n",
    "    -  M2900 貿易百貨\n",
    "    -  M3000 証券\n",
    "    -  M3500 綠能環保\n",
    "    -  M3600 數位雲端\n",
    "    -  M3700 運動休閒\n",
    "    -  M3800 居家生活\n",
    "    -  M9700 油電燃氣業\n",
    "    -  M9900 其他\n",
    "    -  OTC12 OTC 食品工業\n",
    "    -  OTC13 OTC 塑膠工業\n",
    "    -  OTC14 OTC 紡織纖維\n",
    "    -  OTC15 OTC 電機機械\n",
    "    -  OTC16 OTC 電器電纜\n",
    "    -  OTC17 OTC 化學生技\n",
    "    -  OTC18 OTC 玻璃\n",
    "    -  OTC20 OTC 鋼鐵工業\n",
    "    -  OTC21 OTC 橡膠類\n",
    "    -  OTC22 OTC 汽車類\n",
    "    -  OTC23 OTC 電子類\n",
    "    -  OTC25 OTC 建材營造\n",
    "    -  OTC26 OTC 航運業\n",
    "    -  OTC27 OTC 觀光餐旅\n",
    "    -  OTC28 OTC 金融業\n",
    "    -  OTC29 OTC 百貨類\n",
    "    -  OTC30 OTC 證券類\n",
    "    -  OTC32 文化創意業\n",
    "    -  OTC33 OTC 農業科技\n",
    "    -  OTC34 OTC 電子商務\n",
    "    -  OTC35 OTC 綠能環保\n",
    "    -  OTC36 OTC 數位雲端\n",
    "    -  OTC37 OTC 運動休閒\n",
    "    -  OTC38 OTC 居家生活\n",
    "    -  OTC89 OTC 其它\n",
    "    -  OTC97 OTC 油電燃氣業\n",
    "    -  金融與證券業\n",
    "    -  一般產業 \n",
    "\n",
    "    </pre>\n",
    "    </details>\n",
    "    \n",
    "  - **main_ind_e**(*list or str*)－主產業別(英)。（請輸入完整字串，例如：'M1100 Cement'）\n",
    "    <details>\n",
    "    <summary><font color=Blue>點選查看valid main_ind_e</font>：</summary>\n",
    "    <pre>\n",
    "    \n",
    "    -  M1100 Cement\n",
    "    -  M1200 Foods\n",
    "    -  M1300 Plastics\n",
    "    -  M1400 Textiles\n",
    "    -  M1500 Electric Machinery\n",
    "    -  M1600 Electrical and Cable\n",
    "    -  M1700 Chemical Biotechnology & Medical Care\n",
    "    -  M1800 Glass and Ceramics\n",
    "    -  M1900 Paper and Pulp\n",
    "    -  M2000 Iron and Steel\n",
    "    -  M2100 Rubber\n",
    "    -  M2200 Automobile\n",
    "    -  M2300 Electronics\n",
    "    -  M2500 Building Material and Construction\n",
    "    -  M2600 Shipping and Transportation\n",
    "    -  M2700 Tourism\n",
    "    -  M2800 Financial Industry\n",
    "    -  M2900 Trading and Consumers' Goods\n",
    "    -  M3000 Securities\n",
    "    -  M3500 TSE Green Energy and Environmental Services\n",
    "    -  M3600 TSE Digital and Cloud Services\n",
    "    -  M3700 TSE Sports and Leisure\n",
    "    -  M3800 TSE Household\n",
    "    -  M9700 Oil Gas and Electricity\n",
    "    -  M9900 Others\n",
    "    -  OTC12 OTC Foods\n",
    "    -  OTC13 OTC Plastic\n",
    "    -  OTC14 OTC Textile\n",
    "    -  OTC15 OTC Electronical\n",
    "    -  OTC16 OTC Wire & Cable\n",
    "    -  OTC17 OTC Chemical & Biotech\n",
    "    -  OTC18 OTC Glass\n",
    "    -  OTC20 OTC Steel\n",
    "    -  OTC21 OTC Rubbers\n",
    "    -  OTC22 OTC Automobile\n",
    "    -  OTC23 OTC Electronic\n",
    "    -  OTC25 OTC Construction\n",
    "    -  OTC26 OTC Transporation\n",
    "    -  OTC27 OTC Tourism\n",
    "    -  OTC28 OTC Banking\n",
    "    -  OTC29 OTC Retailing\n",
    "    -  OTC30 OTC Securities\n",
    "    -  OTC32 Cultural & Creative Industry\n",
    "    -  OTC33 OTC Agricultural Science and Technology\n",
    "    -  OTC34 OTC E-commerce\n",
    "    -  OTC35 OTC Green Energy and Environmental Services\n",
    "    -  OTC36 OTC Digital and Cloud Services\n",
    "    -  OTC37 OTC Sports and Leisure\n",
    "    -  OTC38 OTC Household\n",
    "    -  OTC89 OTC Others\n",
    "    -  OTC97 OTC Gas and Electricity Industry\n",
    "    -  Financial and Securities Industry\n",
    "    -  General Industry \n",
    "\n",
    "    </pre>\n",
    "    </details>\n",
    "    \n",
    "  - **sub_ind_c**(*list or str*)－子產業別(中)。（請輸入完整字串，例如：'M1721 化學工業'）\n",
    "    <details>\n",
    "    <summary><font color=Blue>點選查看valid sub_ind_c</font>：</summary>\n",
    "    <pre>\n",
    "\n",
    "    -  M1721 化學工業\n",
    "    -  M1722 生技醫療業\n",
    "    -  M2324 半導體業\n",
    "    -  M2325 電腦及週邊設備業\n",
    "    -  M2326 光電業\n",
    "    -  M2327 通信網路業\n",
    "    -  M2328 電子零組件\n",
    "    -  M2329 電子通路業\n",
    "    -  M2330 資訊服務業\n",
    "    -  M2331 其他電子業\n",
    "    -  M2335 綠能環保\n",
    "    -  M2336 數位雲端\n",
    "    -  O1721 OTC 化學工業\n",
    "    -  O1722 OTC 生技醫療\n",
    "    -  O2324 OTC 半導體業\n",
    "    -  O2325 OTC 電腦及週邊設備業\n",
    "    -  O2326 OTC 光電業\n",
    "    -  O2327 OTC 通信網路業\n",
    "    -  O2328 OTC 電子零組件\n",
    "    -  O2329 OTC 電子通路業\n",
    "    -  O2330 OTC 資訊服務業\n",
    "    -  O2331 OTC 其他電子業\n",
    "  \n",
    "    </pre>\n",
    "    </details>\n",
    "    \n",
    "  - **sub_ind_e**(*list or str*)－子產業別(英)。（請輸入完整字串，例如：'M1721 Chemical'）\n",
    "    <details>\n",
    "    <summary><font color=Blue>點選查看valid sub_ind_e</font>：</summary>\n",
    "    <pre>\n",
    "    \n",
    "    -  M1721 Chemical\n",
    "    -  M1722 Biotechnology and Medical Care\n",
    "    -  M2324 Semiconductor\n",
    "    -  M2325 Computer and Peripheral Equipment\n",
    "    -  M2326 Optoelectronic\n",
    "    -  M2327 Communications and Internet\n",
    "    -  M2328 Electronic Parts and Components\n",
    "    -  M2329 Electronic Products Distribution\n",
    "    -  M2330 Information Service\n",
    "    -  M2331 Other Electronic\n",
    "    -  M2335 TSE Green Energy and Environmental Services\n",
    "    -  M2336 TSE Digital and Cloud Services\n",
    "    -  O1721 OTC Chemical Industry\n",
    "    -  O1722 OTC Biotechnology and Medical Care Industry\n",
    "    -  O2324 OTC Semiconductor Industry\n",
    "    -  O2325 OTC Computer and Peripheral Equipment Industry\n",
    "    -  O2326 OTC Optoelectronic Industry\n",
    "    -  O2327 OTC Communications and Internet Industry\n",
    "    -  O2328 OTC Electronic Parts and Components Industry\n",
    "    -  O2329 OTC Electronic Products Distribution Industry\n",
    "    -  O2330 OTC Information Service Industry\n",
    "    -  O2331 OTC Other Electronic\n",
    " \n",
    "    </pre>\n",
    "    </details>\n",
    "        \n",
    "  - **idx_id**(*list or str*)－指數名稱。（請輸入指數就好，後面的中文不需輸入，例如：'IX0001'）\n",
    "    \n",
    "    <details>\n",
    "    <summary><font color=Blue>點選查看valid idx_id</font>：</summary>\n",
    "    <pre> \n",
    "    \n",
    "    - IX0001\t加權指數\n",
    "    - IX0002\t台灣50指數\n",
    "    - IX0003\t台灣中型指數\n",
    "    - IX0006\t台灣高股息指數\n",
    "    - IX0010\t水泥工業類指數\n",
    "    - IX0011\t食品工業類指數\n",
    "    - IX0012\t塑膠工業類指數\n",
    "    - IX0016\t紡織纖維類指數\n",
    "    - IX0017\t電機機械類指數\n",
    "    - IX0018\t電器電纜類指數\n",
    "    - IX0019\t化學生技醫療類指數\n",
    "    - IX0020\t化學工業指數\n",
    "    - IX0021\t生技醫療指數\n",
    "    - IX0022\t玻璃陶瓷類指數\n",
    "    - IX0023\t造紙工業類指數\n",
    "    - IX0024\t鋼鐵工業類指數\n",
    "    - IX0025\t橡膠類指數\n",
    "    - IX0026\t汽車工業類指數\n",
    "    - IX0027\t電子類指數\n",
    "    - IX0028\t半導體業指數\n",
    "    - IX0029\t電腦及週邊設備業指數\n",
    "    - IX0030\t光電業指數\n",
    "    - IX0031\t通信網路業指數\n",
    "    - IX0032\t電子零組件業指數\n",
    "    - IX0033\t電子通路業指數\n",
    "    - IX0034\t資訊服務業指數\n",
    "    - IX0035\t其他電子業指數\n",
    "    - IX0036\t建材營造類指數\n",
    "    - IX0037\t航運業類指數\n",
    "    - IX0038\t觀光事業類指數\n",
    "    - IX0039\t金融保險類指數\n",
    "    - IX0040\t貿易百貨類指數\n",
    "    - IX0041\t油電燃氣業指數\n",
    "    - IX0042\t其他類指數\n",
    "    - IX0043\tOTC 指數\n",
    "    - IX0044\tOTC 紡織纖維類\n",
    "    - IX0045\tOTC 電機機械類\n",
    "    - IX0046\tOTC 鋼鐵類\n",
    "    - IX0047\tOTC 電子類\n",
    "    - IX0048\tOTC 營造建材類\n",
    "    - IX0049\tOTC 航運類\n",
    "    - IX0050\tOTC 觀光類指數\n",
    "    - IX0051\tOTC 化學工業指數\n",
    "    - IX0052\tOTC 生技醫療指數\n",
    "    - IX0053\tOTC 半導體業指數\n",
    "    - IX0054\tOTC 電腦及週邊設備業指數\n",
    "    - IX0055\tOTC 光電業指數\n",
    "    - IX0056\tOTC 通信網路業指數\n",
    "    - IX0057\tOTC 電子零組件指數\n",
    "    - IX0058\tOTC 電子通路業指數\n",
    "    - IX0059\tOTC 資訊服務業指數\n",
    "    - IX0060\t富櫃五十指數\n",
    "    - IX0063\t線上遊戲指數\n",
    "    - IX0075\t文化創意業指數\n",
    "    - IX0082\t臺灣證券交易所公司治理100 指數\n",
    "    - IX0085\t櫃買治理\n",
    "    - IX0099\t其他電子業指數\n",
    "    - IX0118\t櫃買富櫃200指數\n",
    "\n",
    "    </pre>\n",
    "    </details>"
   ]
  },
  {
   "cell_type": "markdown",
   "id": "23299ef7",
   "metadata": {},
   "source": [
    "   \n",
    "### Returns\n",
    "---\n",
    "List of symbols.\n",
    "\n",
    "### Return type\n",
    "---\n",
    "*list*\n",
    "\n",
    "### Note\n",
    "---\n",
    "- `main_ind_c`的特殊產業\n",
    "  - main_ind_c=`'金融與證券業'`：**屬於**以下4種產業的所有公司\n",
    "    - M2800 金融業\n",
    "    - OTC28 OTC 金融業\n",
    "    - M3000 証券\n",
    "    - OTC30 OTC 證券類\n",
    "  - main_ind_c=`'一般產業'`：**非**以下4種產業的所有公司\n",
    "    - M2800 金融業\n",
    "    - OTC28 OTC 金融業\n",
    "    - M3000 証券\n",
    "    - OTC30 OTC 證券類\n",
    "- `main_ind_e`的特殊產業\n",
    "  - main_ind_e=`'Financial and Securities Industry'`：**屬於**以下4種產業的所有公司\n",
    "    - M2800 Financial Industry\n",
    "    - OTC30 OTC Securities\n",
    "    - M3000 Securities\n",
    "    - OTC28 OTC Banking\n",
    "  - main_ind_e=`'General Industry'`：**非**以下4種產業的所有公司\n",
    "    - M2800 Financial Industry\n",
    "    - OTC30 OTC Securities\n",
    "    - M3000 Securities\n",
    "    - OTC28 OTC Banking"
   ]
  },
  {
   "attachments": {
    "get_universe.png": {
     "image/png": "[encoded data removed]"
    }
   },
   "cell_type": "markdown",
   "id": "dcbd2d4a",
   "metadata": {},
   "source": [
    "<span id=\"mktandmkt_bd\"></span>\n",
    "## 市場別（mkt） 與板塊別（mkt_bd_c、mkt_bd_e）\n",
    "---\n",
    "以 **'普通股'** 為例（不含F股或KY股）：\n",
    "\n",
    "- **'普通股'** （**stktp_c='普通股'**）：包含在**證券交易所（mkt='TWSE'）掛牌的普通股** 與在**櫃買中心（mkt='OTC'）掛牌的普通股**。\n",
    "  - 在**證券交易所掛牌的普通股**：包含**上市一般板（mkt_bd_e='TSE'、mkt_bd_c='上市一般版'）** 與 **上市創新板（mkt_bd_e='TIB'、mkt_bd_c='創新版'）**。\n",
    "  - 在**櫃買中心掛牌的普通股**：包含**上櫃一般板（mkt_bd_e='OTC'、mkt_bd_c='上櫃一般版'）**，不含興櫃。\n",
    "\n",
    "- 統整上述關係：\n",
    "> ![get_universe.png](attachment:get_universe.png)"
   ]
  },
  {
   "cell_type": "markdown",
   "id": "e15bede3",
   "metadata": {},
   "source": [
    "## Import get_universe"
   ]
  },
  {
   "cell_type": "code",
   "execution_count": 2,
   "id": "dc905f20",
   "metadata": {},
   "outputs": [],
   "source": [
    "from zipline.sources.TEJ_Api_Data import get_universe"
   ]
  },
  {
   "cell_type": "markdown",
   "id": "dd649947",
   "metadata": {},
   "source": [
    "<span id=\"menu\"></span>\n",
    "## Examples"
   ]
  },
  {
   "cell_type": "markdown",
   "id": "274a22a7",
   "metadata": {},
   "source": [
    "包含以下九個範例：\n",
    "1. [case1 取曾經在上市一般板+上櫃一般板的證券](#case1)\n",
    "2. [case2 取曾經在證券交易所／櫃買中心掛牌的證券](#case2)\n",
    "3. [case3 取曾經上市+上櫃的普通股](#case3)\n",
    "4. [case4 取子產業別曾經為\"M2324 半導體業\"的證券](#case4)\n",
    "5. [case5 取子產業別曾經為\"M2324 Semiconductor\"&\"M2325 Computer and Peripheral Equipment\"的證券](#case5)\n",
    "6. [case6 取證券種類為\"ETF\"及\"普通股\"且掛牌於證券交易所的證券](#case6)\n",
    "7. [case7 取曾經為\"IX0002\"（台灣50指數）成份股的證券](#case7)\n",
    "8. [case8 取主產業別曾經為\"M1100 水泥工業\"且為\"IX0006\"（台灣高股息指數）成份股的證券](#case8)\n",
    "9. [case9 取非金融業的普通股](#case9)"
   ]
  },
  {
   "cell_type": "markdown",
   "id": "b8e5dafc",
   "metadata": {},
   "source": [
    "<span id=\"case1\"></span>\n",
    "### case1 取曾經在上市一般板+上櫃一般板的證券（不限於普通股）\n",
    "\n",
    "這樣的使用方式不會取出`mkt_bd_e`=TIB（創新板）的證券\n",
    "\n",
    "[Return to Examples Menu](#menu)"
   ]
  },
  {
   "cell_type": "code",
   "execution_count": 3,
   "id": "06c591ff",
   "metadata": {},
   "outputs": [
    {
     "name": "stderr",
     "output_type": "stream",
     "text": [
      "[2024-02-07 03:53:53.679057]: INFO: get_universe_TW: Filters：{'mkt_bd_e': ['TSE', 'OTC']}\n"
     ]
    },
    {
     "name": "stdout",
     "output_type": "stream",
     "text": [
      "Currently used TEJ API key call quota 587/9223372036854775807 (0.0%)\n",
      "Currently used TEJ API key data quota 63565100/9223372036854775807 (0.0%)\n"
     ]
    },
    {
     "data": {
      "text/plain": [
       "['0050',\n",
       " '0051',\n",
       " '0052',\n",
       " '0053',\n",
       " '0055',\n",
       " '0056',\n",
       " '0057',\n",
       " '0061',\n",
       " '006201',\n",
       " '006203']"
      ]
     },
     "execution_count": 3,
     "metadata": {},
     "output_type": "execute_result"
    }
   ],
   "source": [
    "# 僅顯示前10筆\n",
    "get_universe(start, end, mkt_bd_e=['TSE','OTC'])[0:10]"
   ]
  },
  {
   "cell_type": "markdown",
   "id": "7965fb8a",
   "metadata": {},
   "source": [
    "<span id=\"case2\"></span>\n",
    "### case2 取曾經在證券交易所／櫃買中心掛牌的證券（不限於普通股）\n",
    "[Return to Examples Menu](#menu)"
   ]
  },
  {
   "cell_type": "markdown",
   "id": "b3d90511",
   "metadata": {},
   "source": [
    "#### 取曾經在證券交易所掛牌的證券"
   ]
  },
  {
   "cell_type": "code",
   "execution_count": 4,
   "id": "620edb15",
   "metadata": {},
   "outputs": [
    {
     "name": "stderr",
     "output_type": "stream",
     "text": [
      "[2024-02-07 03:53:57.107778]: INFO: get_universe_TW: Filters：{'mkt': ['TWSE']}\n"
     ]
    },
    {
     "name": "stdout",
     "output_type": "stream",
     "text": [
      "Currently used TEJ API key call quota 589/9223372036854775807 (0.0%)\n",
      "Currently used TEJ API key data quota 64021031/9223372036854775807 (0.0%)\n"
     ]
    },
    {
     "data": {
      "text/plain": [
       "['0050',\n",
       " '0051',\n",
       " '0052',\n",
       " '0053',\n",
       " '0055',\n",
       " '0056',\n",
       " '0057',\n",
       " '0061',\n",
       " '006203',\n",
       " '006204']"
      ]
     },
     "execution_count": 4,
     "metadata": {},
     "output_type": "execute_result"
    }
   ],
   "source": [
    "# 僅顯示前10筆\n",
    "get_universe(start, end, mkt=['TWSE'])[0:10]"
   ]
  },
  {
   "cell_type": "markdown",
   "id": "50106d48",
   "metadata": {},
   "source": [
    "#### 取曾經在櫃買中心掛牌的證券"
   ]
  },
  {
   "cell_type": "code",
   "execution_count": 5,
   "id": "9f1b6205",
   "metadata": {},
   "outputs": [
    {
     "name": "stderr",
     "output_type": "stream",
     "text": [
      "[2024-02-07 03:54:00.019207]: INFO: get_universe_TW: Filters：{'mkt': ['OTC']}\n"
     ]
    },
    {
     "name": "stdout",
     "output_type": "stream",
     "text": [
      "Currently used TEJ API key call quota 591/9223372036854775807 (0.0%)\n",
      "Currently used TEJ API key data quota 64476962/9223372036854775807 (0.0%)\n"
     ]
    },
    {
     "data": {
      "text/plain": [
       "['006201',\n",
       " '00679B',\n",
       " '00687B',\n",
       " '00694B',\n",
       " '00695B',\n",
       " '00696B',\n",
       " '00697B',\n",
       " '00718B',\n",
       " '00719B',\n",
       " '00720B']"
      ]
     },
     "execution_count": 5,
     "metadata": {},
     "output_type": "execute_result"
    }
   ],
   "source": [
    "# 僅顯示前10筆\n",
    "get_universe(start, end, mkt=['OTC'])[0:10]"
   ]
  },
  {
   "cell_type": "markdown",
   "id": "3ec6d469",
   "metadata": {},
   "source": [
    "<span id=\"case3\"></span>\n",
    "### case3 取曾經上市+上櫃的普通股（不含F股或KY股）\n",
    "\n",
    "- case1與case2取出的證券**不限於普通股**，若**僅想取出普通股**（不含F股或KY股），則可以新增`stktp_c=['普通股']`的條件。\n",
    "  \n",
    "\n",
    "- 以下兩種方式皆能取得曾經上市+上櫃的普通股（不含F股或KY股）：\n",
    "  - `get_universe(start, end, mkt=['TWSE','OTC'], stktp_c=['普通股'])`\n",
    "  - `get_universe(start, end, mkt_bd_e=['TSE','OTC','TIB'], mkt=['TWSE','OTC'], stktp_c=['普通股'])`\n",
    "  \n",
    "  \n",
    "\n",
    "- 若需要排除**上市創新板（mkt_bd='TIB'）** 的普通股（不含F股或KY股），可使用：\n",
    "  - `get_universe(start, end, mkt_bd_e=['TSE','OTC'], mkt=['TWSE','OTC'], stktp_c=['普通股'])`\n",
    "\n",
    "[Return to Examples Menu](#menu)"
   ]
  },
  {
   "cell_type": "code",
   "execution_count": 6,
   "id": "10d2ab6c",
   "metadata": {},
   "outputs": [
    {
     "name": "stderr",
     "output_type": "stream",
     "text": [
      "[2024-02-07 03:54:02.654693]: INFO: get_universe_TW: Filters：{'mkt': ['TWSE', 'OTC'], 'stktp_c': ['普通股']}\n"
     ]
    },
    {
     "name": "stdout",
     "output_type": "stream",
     "text": [
      "Currently used TEJ API key call quota 591/9223372036854775807 (0.0%)\n",
      "Currently used TEJ API key data quota 64476962/9223372036854775807 (0.0%)\n"
     ]
    },
    {
     "data": {
      "text/plain": [
       "['1101',\n",
       " '1102',\n",
       " '1103',\n",
       " '1104',\n",
       " '1108',\n",
       " '1109',\n",
       " '1110',\n",
       " '1201',\n",
       " '1203',\n",
       " '1210']"
      ]
     },
     "execution_count": 6,
     "metadata": {},
     "output_type": "execute_result"
    }
   ],
   "source": [
    "# 僅顯示前10筆\n",
    "get_universe(start, end, mkt=['TWSE','OTC'], stktp_c=['普通股'])[0:10]"
   ]
  },
  {
   "cell_type": "code",
   "execution_count": 7,
   "id": "9d3fdac7",
   "metadata": {},
   "outputs": [
    {
     "name": "stderr",
     "output_type": "stream",
     "text": [
      "[2024-02-07 03:54:05.673290]: INFO: get_universe_TW: Filters：{'mkt_bd_e': ['TSE', 'OTC', 'TIB'], 'mkt': ['TWSE', 'OTC'], 'stktp_c': ['普通股']}\n"
     ]
    },
    {
     "name": "stdout",
     "output_type": "stream",
     "text": [
      "Currently used TEJ API key call quota 591/9223372036854775807 (0.0%)\n",
      "Currently used TEJ API key data quota 64476962/9223372036854775807 (0.0%)\n"
     ]
    },
    {
     "data": {
      "text/plain": [
       "['1101',\n",
       " '1102',\n",
       " '1103',\n",
       " '1104',\n",
       " '1108',\n",
       " '1109',\n",
       " '1110',\n",
       " '1201',\n",
       " '1203',\n",
       " '1210']"
      ]
     },
     "execution_count": 7,
     "metadata": {},
     "output_type": "execute_result"
    }
   ],
   "source": [
    "get_universe(start, end, mkt_bd_e=['TSE','OTC','TIB'], mkt=['TWSE','OTC'], stktp_c=['普通股'])[0:10]"
   ]
  },
  {
   "cell_type": "markdown",
   "id": "0331f9a8",
   "metadata": {},
   "source": [
    "<span id=\"case4\"></span>\n",
    "### case4 取子產業別曾經為\"M2324 半導體業\"的證券\n",
    "[Return to Examples Menu](#menu)"
   ]
  },
  {
   "cell_type": "code",
   "execution_count": 8,
   "id": "0574d829",
   "metadata": {
    "scrolled": true
   },
   "outputs": [
    {
     "name": "stderr",
     "output_type": "stream",
     "text": [
      "[2024-02-07 03:54:09.247120]: INFO: get_universe_TW: Filters：{'sub_ind_c': ['M2324 半導體業']}\n"
     ]
    },
    {
     "name": "stdout",
     "output_type": "stream",
     "text": [
      "Currently used TEJ API key call quota 593/9223372036854775807 (0.0%)\n",
      "Currently used TEJ API key data quota 65119296/9223372036854775807 (0.0%)\n"
     ]
    },
    {
     "data": {
      "text/plain": [
       "['2302',\n",
       " '2303',\n",
       " '2329',\n",
       " '2330',\n",
       " '2337',\n",
       " '2338',\n",
       " '2342',\n",
       " '2344',\n",
       " '2351',\n",
       " '2363']"
      ]
     },
     "execution_count": 8,
     "metadata": {},
     "output_type": "execute_result"
    }
   ],
   "source": [
    "# 僅顯示前10筆\n",
    "get_universe(start, end, sub_ind_c=['M2324 半導體業'])[0:10]"
   ]
  },
  {
   "cell_type": "markdown",
   "id": "a32bc015",
   "metadata": {},
   "source": [
    "<span id=\"case5\"></span>\n",
    "          \n",
    "### case5 取子產業別曾經為\"M2324 Semiconductor\"&\"M2325 Computer and Peripheral Equipment\"的證券\n",
    "[Return to Examples Menu](#menu)"
   ]
  },
  {
   "cell_type": "code",
   "execution_count": 9,
   "id": "5883079a",
   "metadata": {
    "scrolled": true
   },
   "outputs": [
    {
     "name": "stderr",
     "output_type": "stream",
     "text": [
      "[2024-02-07 03:54:11.567247]: INFO: get_universe_TW: Filters：{'sub_ind_e': ['M2324 Semiconductor', 'M2325 Computer and Peripheral Equipment']}\n"
     ]
    },
    {
     "name": "stdout",
     "output_type": "stream",
     "text": [
      "Currently used TEJ API key call quota 593/9223372036854775807 (0.0%)\n",
      "Currently used TEJ API key data quota 65119296/9223372036854775807 (0.0%)\n"
     ]
    },
    {
     "data": {
      "text/plain": [
       "['2301',\n",
       " '2302',\n",
       " '2303',\n",
       " '2305',\n",
       " '2324',\n",
       " '2329',\n",
       " '2330',\n",
       " '2331',\n",
       " '2337',\n",
       " '2338']"
      ]
     },
     "execution_count": 9,
     "metadata": {},
     "output_type": "execute_result"
    }
   ],
   "source": [
    "# 僅顯示前10筆\n",
    "get_universe(start, end, sub_ind_e=['M2324 Semiconductor',\n",
    "                                    'M2325 Computer and Peripheral Equipment'])[0:10]"
   ]
  },
  {
   "cell_type": "markdown",
   "id": "3f50051f",
   "metadata": {},
   "source": [
    "<span id=\"case6\"></span>\n",
    "### case6 取證券種類為\"ETF\"及\"普通股\"（不含F股或KY股）且掛牌於證券交易所的證券\n",
    "[Return to Examples Menu](#menu)"
   ]
  },
  {
   "cell_type": "code",
   "execution_count": 10,
   "id": "085b7385",
   "metadata": {},
   "outputs": [
    {
     "name": "stderr",
     "output_type": "stream",
     "text": [
      "[2024-02-07 03:54:14.027597]: INFO: get_universe_TW: Filters：{'stktp_c': ['ETF', '普通股'], 'mkt': ['TWSE']}\n"
     ]
    },
    {
     "name": "stdout",
     "output_type": "stream",
     "text": [
      "Currently used TEJ API key call quota 595/9223372036854775807 (0.0%)\n",
      "Currently used TEJ API key data quota 65162021/9223372036854775807 (0.0%)\n"
     ]
    },
    {
     "data": {
      "text/plain": [
       "['0050',\n",
       " '0051',\n",
       " '0052',\n",
       " '0053',\n",
       " '0055',\n",
       " '0056',\n",
       " '0057',\n",
       " '006203',\n",
       " '006204',\n",
       " '006208']"
      ]
     },
     "execution_count": 10,
     "metadata": {},
     "output_type": "execute_result"
    }
   ],
   "source": [
    "# 僅顯示前10筆\n",
    "get_universe(start, end, stktp_c=['ETF', '普通股'], mkt=['TWSE'])[0:10]"
   ]
  },
  {
   "cell_type": "markdown",
   "id": "fa57ec54",
   "metadata": {},
   "source": [
    "<span id=\"case7\"></span>\n",
    "### case7 取曾經為\"IX0002\"（台灣50指數）成份股的證券\n",
    "[Return to Examples Menu](#menu)"
   ]
  },
  {
   "cell_type": "code",
   "execution_count": 11,
   "id": "358622e2",
   "metadata": {
    "scrolled": true
   },
   "outputs": [
    {
     "name": "stderr",
     "output_type": "stream",
     "text": [
      "[2024-02-07 03:54:16.921081]: INFO: get_universe_TW: Filters：{'idx_id': ['IX0002']}\n"
     ]
    },
    {
     "name": "stdout",
     "output_type": "stream",
     "text": [
      "Currently used TEJ API key call quota 595/9223372036854775807 (0.0%)\n",
      "Currently used TEJ API key data quota 65162021/9223372036854775807 (0.0%)\n"
     ]
    },
    {
     "data": {
      "text/plain": [
       "['1101',\n",
       " '1216',\n",
       " '1301',\n",
       " '1303',\n",
       " '1326',\n",
       " '1402',\n",
       " '1590',\n",
       " '1605',\n",
       " '2002',\n",
       " '2207']"
      ]
     },
     "execution_count": 11,
     "metadata": {},
     "output_type": "execute_result"
    }
   ],
   "source": [
    "# 僅顯示前10筆\n",
    "get_universe(start, end, idx_id='IX0002')[0:10]"
   ]
  },
  {
   "cell_type": "markdown",
   "id": "8ad1ea1c",
   "metadata": {},
   "source": [
    "<span id=\"case8\"></span>\n",
    "### case8 取主產業別曾經為\"M1100 水泥工業\"且為\"IX0006\"（台灣高股息指數）成份股的證券\n",
    "[Return to Examples Menu](#menu)"
   ]
  },
  {
   "cell_type": "code",
   "execution_count": 12,
   "id": "c14db5cf",
   "metadata": {
    "scrolled": true
   },
   "outputs": [
    {
     "name": "stderr",
     "output_type": "stream",
     "text": [
      "[2024-02-07 03:54:18.284225]: INFO: get_universe_TW: Filters：{'main_ind_c': 'M1100 水泥工業', 'idx_id': ['IX0006']}\n"
     ]
    },
    {
     "name": "stdout",
     "output_type": "stream",
     "text": [
      "Currently used TEJ API key call quota 595/9223372036854775807 (0.0%)\n",
      "Currently used TEJ API key data quota 65162021/9223372036854775807 (0.0%)\n"
     ]
    },
    {
     "data": {
      "text/plain": [
       "['1102']"
      ]
     },
     "execution_count": 12,
     "metadata": {},
     "output_type": "execute_result"
    }
   ],
   "source": [
    "# 僅顯示前10筆\n",
    "get_universe(start, end, main_ind_c='M1100 水泥工業', idx_id='IX0006')[0:10]"
   ]
  },
  {
   "cell_type": "markdown",
   "id": "db5a6b17",
   "metadata": {},
   "source": [
    "<span id=\"case9\"></span>\n",
    "### case9 取非金融業的普通股（不含F股或KY股）\n",
    "[Return to Examples Menu](#menu)"
   ]
  },
  {
   "cell_type": "code",
   "execution_count": 13,
   "id": "86fcd383",
   "metadata": {},
   "outputs": [
    {
     "name": "stderr",
     "output_type": "stream",
     "text": [
      "[2024-02-07 03:54:21.025443]: INFO: get_universe_TW: Filters：{'main_ind_c': '一般產業', 'stktp_c': '普通股'}\n"
     ]
    },
    {
     "name": "stdout",
     "output_type": "stream",
     "text": [
      "Currently used TEJ API key call quota 599/9223372036854775807 (0.0%)\n",
      "Currently used TEJ API key data quota 65343704/9223372036854775807 (0.0%)\n"
     ]
    },
    {
     "data": {
      "text/plain": [
       "['1101',\n",
       " '1102',\n",
       " '1103',\n",
       " '1104',\n",
       " '1108',\n",
       " '1109',\n",
       " '1110',\n",
       " '1201',\n",
       " '1203',\n",
       " '1210']"
      ]
     },
     "execution_count": 13,
     "metadata": {},
     "output_type": "execute_result"
    }
   ],
   "source": [
    "# 僅顯示前10筆\n",
    "get_universe(start, end, main_ind_c=['一般產業',\n",
    "                                     'M3500 綠能環保',\n",
    "                                     'M3600 數位雲端',\n",
    "                                     'OTC35 OTC 綠能環保',\n",
    "                                     'OTC36 OTC 數位雲端']\n",
    "             , stktp_c='普通股')[0:10]"
   ]
  }
 ],
 "metadata": {
  "kernelspec": {
   "display_name": "Python [conda env:zipline-tej_v11]",
   "language": "python",
   "name": "conda-env-zipline-tej_v11-py"
  },
  "language_info": {
   "codemirror_mode": {
    "name": "ipython",
    "version": 3
   },
   "file_extension": ".py",
   "mimetype": "text/x-python",
   "name": "python",
   "nbconvert_exporter": "python",
   "pygments_lexer": "ipython3",
   "version": "3.11.5"
  }
 },
 "nbformat": 4,
 "nbformat_minor": 5
}
