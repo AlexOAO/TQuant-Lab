{
 "cells": [
  {
   "cell_type": "markdown",
   "id": "e5e12b50",
   "metadata": {},
   "source": [
    "# Pipeline DataFrameLoader - Pipeline API with Custom Data\n",
    "---\n",
    "`DataFrameLoader` 允許將客製化的數據透過 DataFrame 導入至 pipeline 中，本範例將演示 `DataFrameLoader` 的用法。"
   ]
  },
  {
   "cell_type": "markdown",
   "id": "9c6764db",
   "metadata": {},
   "source": [
    "## Imports & Settings"
   ]
  },
  {
   "cell_type": "code",
   "execution_count": 1,
   "id": "03b2151e",
   "metadata": {},
   "outputs": [],
   "source": [
    "import os\n",
    "import pandas as pd\n",
    "\n",
    "os.environ['TEJAPI_BASE'] = 'https://api.tej.com.tw'\n",
    "os.environ['TEJAPI_KEY'] = 'YOUR KEY'\n",
    "\n",
    "from zipline.pipeline import Pipeline\n",
    "from zipline.pipeline.loaders import EquityPricingLoader\n",
    "from zipline.pipeline.loaders.frame import DataFrameLoader\n",
    "from zipline.pipeline.data import Column, DataSet, TQAltDataSet, EquityPricing\n",
    "from zipline.pipeline.engine import SimplePipelineEngine\n",
    "from zipline.pipeline.domain import TW_EQUITIES\n",
    "\n",
    "from zipline.data.data_portal import bundles\n",
    "from zipline.data.run_ingest import simple_ingest\n",
    "\n",
    "from zipline.sources.TEJ_Api_Data import get_universe\n",
    "\n",
    "from TejToolAPI.TejToolAPI import get_history_data"
   ]
  },
  {
   "cell_type": "markdown",
   "id": "3286a4ad",
   "metadata": {},
   "source": [
    "<span id=\"load_data\"></span>\n",
    "\n",
    "## 獲取外部資料，並進行整理"
   ]
  },
  {
   "cell_type": "markdown",
   "id": "7a05fcf7",
   "metadata": {},
   "source": [
    "#### 載入先前已導入的 tquant bundle\n",
    "- 若尚未執行 tquant bundle ingest 的流程，請先執行以下 simple_ingest 程式。\n",
    "- `bundles.load` 函式負責從先前已經 ingest 的 bundle 中載入數據，使使用者能夠在 Zipline 環境中利用 `AssetFinder` 存取證券 `SID`（Security Identifier）。"
   ]
  },
  {
   "cell_type": "code",
   "execution_count": 2,
   "id": "a5d37786",
   "metadata": {},
   "outputs": [
    {
     "name": "stdout",
     "output_type": "stream",
     "text": [
      "Currently used TEJ API key call quota 583/100000 (0.58%)\n",
      "Currently used TEJ API key data quota 35238291/10000000 (352.38%)\n"
     ]
    }
   ],
   "source": [
    "start = '2020-01-03'\n",
    "end = '2025-02-04'\n",
    "\n",
    "start_dt = pd.Timestamp(start, tz='utc')\n",
    "end_dt = pd.Timestamp(end, tz='utc')\n",
    "\n",
    "# pool = get_universe(start, end, idx_id=['IX0002'])\n",
    "\n",
    "# simple_ingest(name = 'tquant', tickers = pool, start_date = start , end_date = end)"
   ]
  },
  {
   "cell_type": "code",
   "execution_count": 3,
   "id": "713c5999",
   "metadata": {},
   "outputs": [],
   "source": [
    "bundle_name = 'tquant'\n",
    "bundle = bundles.load(bundle_name)"
   ]
  },
  {
   "cell_type": "markdown",
   "id": "92989636",
   "metadata": {},
   "source": [
    "#### 取得證券標的（Symbols）\n",
    "在 Zipline 中，`AssetFinder` 是一個專門負責管理資產（`Asset`）資訊的工具，提供查找和檢索證券標的的功能。以下四行程式碼分別執行：\n",
    "1. 取得 bundle 中所有股票的 `SID`。\n",
    "2. 透過 SID 取得對應的 `Asset` 物件。\n",
    "3. 透過 `Asset` 物件取得交易代碼（`symbol`）。\n",
    "4. 建立 `symbol` mapping `SID` 的對照。"
   ]
  },
  {
   "cell_type": "code",
   "execution_count": 4,
   "id": "044263ca",
   "metadata": {
    "scrolled": true
   },
   "outputs": [],
   "source": [
    "sids = bundle.asset_finder.equities_sids\n",
    "assets = bundle.asset_finder.retrieve_all(sids)\n",
    "symbols = [i.symbol for i in assets]\n",
    "symbol_map = dict(zip(symbols, sids))"
   ]
  },
  {
   "cell_type": "markdown",
   "id": "4f71b546",
   "metadata": {},
   "source": [
    "#### 利用 TEJ TOOL API 獲取資料\n",
    "這邊取得外資買賣超張數（`Qfii_Diff_Vol`）資料作為示範。"
   ]
  },
  {
   "cell_type": "code",
   "execution_count": 5,
   "id": "029300fd",
   "metadata": {},
   "outputs": [
    {
     "name": "stdout",
     "output_type": "stream",
     "text": [
      "todayRows 227523\n",
      "todayReqCount 5\n",
      "Currently used TEJ API key call quota 590/100000 (0.59%)\n",
      "Currently used TEJ API key data quota 35557972/10000000 (355.58%)\n"
     ]
    }
   ],
   "source": [
    "custom_data = get_history_data(\n",
    "    ticker=symbols,\n",
    "    columns=['Qfii_Diff_Vol'],\n",
    "    start=start,\n",
    "    end=end,\n",
    "    transfer_to_chinese=False\n",
    ")"
   ]
  },
  {
   "cell_type": "code",
   "execution_count": 6,
   "id": "43f2cfa6",
   "metadata": {},
   "outputs": [
    {
     "data": {
      "text/html": [
       "<div>\n",
       "<style scoped>\n",
       "    .dataframe tbody tr th:only-of-type {\n",
       "        vertical-align: middle;\n",
       "    }\n",
       "\n",
       "    .dataframe tbody tr th {\n",
       "        vertical-align: top;\n",
       "    }\n",
       "\n",
       "    .dataframe thead th {\n",
       "        text-align: right;\n",
       "    }\n",
       "</style>\n",
       "<table border=\"1\" class=\"dataframe\">\n",
       "  <thead>\n",
       "    <tr style=\"text-align: right;\">\n",
       "      <th></th>\n",
       "      <th>coid</th>\n",
       "      <th>mdate</th>\n",
       "      <th>Qfii_Diff_Vol</th>\n",
       "    </tr>\n",
       "  </thead>\n",
       "  <tbody>\n",
       "    <tr>\n",
       "      <th>0</th>\n",
       "      <td>1101</td>\n",
       "      <td>2020-01-03</td>\n",
       "      <td>-2030.0</td>\n",
       "    </tr>\n",
       "    <tr>\n",
       "      <th>1</th>\n",
       "      <td>3037</td>\n",
       "      <td>2020-01-03</td>\n",
       "      <td>-7028.0</td>\n",
       "    </tr>\n",
       "    <tr>\n",
       "      <th>2</th>\n",
       "      <td>1101</td>\n",
       "      <td>2020-01-06</td>\n",
       "      <td>-1410.0</td>\n",
       "    </tr>\n",
       "    <tr>\n",
       "      <th>3</th>\n",
       "      <td>3037</td>\n",
       "      <td>2020-01-06</td>\n",
       "      <td>-3672.0</td>\n",
       "    </tr>\n",
       "    <tr>\n",
       "      <th>4</th>\n",
       "      <td>1101</td>\n",
       "      <td>2020-01-07</td>\n",
       "      <td>1622.0</td>\n",
       "    </tr>\n",
       "  </tbody>\n",
       "</table>\n",
       "</div>"
      ],
      "text/plain": [
       "   coid      mdate  Qfii_Diff_Vol\n",
       "0  1101 2020-01-03        -2030.0\n",
       "1  3037 2020-01-03        -7028.0\n",
       "2  1101 2020-01-06        -1410.0\n",
       "3  3037 2020-01-06        -3672.0\n",
       "4  1101 2020-01-07         1622.0"
      ]
     },
     "execution_count": 6,
     "metadata": {},
     "output_type": "execute_result"
    }
   ],
   "source": [
    "custom_data.head()"
   ]
  },
  {
   "cell_type": "markdown",
   "id": "fc3b8826",
   "metadata": {},
   "source": [
    "整理外部資料以符合 `DataFrameLoader` 要求的格式\n",
    "- 將外部資料作轉置，一個欄位整理為一個 DataFrame。\n",
    "- 接著將外部資料的 coid 替換成 `SID`。\n",
    "- 最後將外部資料的 mdate 設定為 UTC 時區。\n",
    "\n",
    "註：此處資料採用**不平移**的方式進行處理"
   ]
  },
  {
   "cell_type": "code",
   "execution_count": 7,
   "id": "409a17f6",
   "metadata": {},
   "outputs": [],
   "source": [
    "transform_data = (\n",
    "    custom_data\n",
    "    .set_index(['coid', 'mdate'])['Qfii_Diff_Vol']\n",
    "    .unstack('coid')\n",
    "    .rename(columns=symbol_map, errors='raise') # errors = 'raise' 會在遇到錯誤時拋出異常，避免 bundle 與 custom_data 資產不一致\n",
    "    .tz_localize('UTC')\n",
    ")"
   ]
  },
  {
   "cell_type": "code",
   "execution_count": 8,
   "id": "c4ce908b",
   "metadata": {},
   "outputs": [
    {
     "data": {
      "text/html": [
       "<div>\n",
       "<style scoped>\n",
       "    .dataframe tbody tr th:only-of-type {\n",
       "        vertical-align: middle;\n",
       "    }\n",
       "\n",
       "    .dataframe tbody tr th {\n",
       "        vertical-align: top;\n",
       "    }\n",
       "\n",
       "    .dataframe thead th {\n",
       "        text-align: right;\n",
       "    }\n",
       "</style>\n",
       "<table border=\"1\" class=\"dataframe\">\n",
       "  <thead>\n",
       "    <tr style=\"text-align: right;\">\n",
       "      <th>coid</th>\n",
       "      <th>0</th>\n",
       "      <th>1</th>\n",
       "      <th>2</th>\n",
       "      <th>3</th>\n",
       "      <th>4</th>\n",
       "      <th>5</th>\n",
       "      <th>6</th>\n",
       "      <th>7</th>\n",
       "      <th>8</th>\n",
       "      <th>9</th>\n",
       "      <th>...</th>\n",
       "      <th>59</th>\n",
       "      <th>60</th>\n",
       "      <th>61</th>\n",
       "      <th>62</th>\n",
       "      <th>63</th>\n",
       "      <th>64</th>\n",
       "      <th>65</th>\n",
       "      <th>66</th>\n",
       "      <th>67</th>\n",
       "      <th>68</th>\n",
       "    </tr>\n",
       "    <tr>\n",
       "      <th>mdate</th>\n",
       "      <th></th>\n",
       "      <th></th>\n",
       "      <th></th>\n",
       "      <th></th>\n",
       "      <th></th>\n",
       "      <th></th>\n",
       "      <th></th>\n",
       "      <th></th>\n",
       "      <th></th>\n",
       "      <th></th>\n",
       "      <th></th>\n",
       "      <th></th>\n",
       "      <th></th>\n",
       "      <th></th>\n",
       "      <th></th>\n",
       "      <th></th>\n",
       "      <th></th>\n",
       "      <th></th>\n",
       "      <th></th>\n",
       "      <th></th>\n",
       "      <th></th>\n",
       "    </tr>\n",
       "  </thead>\n",
       "  <tbody>\n",
       "    <tr>\n",
       "      <th>2020-01-03 00:00:00+00:00</th>\n",
       "      <td>-2030.0</td>\n",
       "      <td>-2286.0</td>\n",
       "      <td>660.0</td>\n",
       "      <td>1733.0</td>\n",
       "      <td>852.0</td>\n",
       "      <td>-87.0</td>\n",
       "      <td>-708.0</td>\n",
       "      <td>-280.0</td>\n",
       "      <td>800.0</td>\n",
       "      <td>671.0</td>\n",
       "      <td>...</td>\n",
       "      <td>-108.0</td>\n",
       "      <td>66.0</td>\n",
       "      <td>-4.0</td>\n",
       "      <td>1058.0</td>\n",
       "      <td>244.0</td>\n",
       "      <td>NaN</td>\n",
       "      <td>-1644.0</td>\n",
       "      <td>8.0</td>\n",
       "      <td>-1372.0</td>\n",
       "      <td>-257.0</td>\n",
       "    </tr>\n",
       "    <tr>\n",
       "      <th>2020-01-06 00:00:00+00:00</th>\n",
       "      <td>-1410.0</td>\n",
       "      <td>-503.0</td>\n",
       "      <td>-2432.0</td>\n",
       "      <td>1423.0</td>\n",
       "      <td>310.0</td>\n",
       "      <td>-319.0</td>\n",
       "      <td>-2114.0</td>\n",
       "      <td>-100.0</td>\n",
       "      <td>840.0</td>\n",
       "      <td>-3425.0</td>\n",
       "      <td>...</td>\n",
       "      <td>-1267.0</td>\n",
       "      <td>204.0</td>\n",
       "      <td>3.0</td>\n",
       "      <td>-238.0</td>\n",
       "      <td>198.0</td>\n",
       "      <td>NaN</td>\n",
       "      <td>-1533.0</td>\n",
       "      <td>12.0</td>\n",
       "      <td>-1190.0</td>\n",
       "      <td>-255.0</td>\n",
       "    </tr>\n",
       "    <tr>\n",
       "      <th>2020-01-07 00:00:00+00:00</th>\n",
       "      <td>1622.0</td>\n",
       "      <td>1003.0</td>\n",
       "      <td>-3166.0</td>\n",
       "      <td>693.0</td>\n",
       "      <td>-685.0</td>\n",
       "      <td>-3411.0</td>\n",
       "      <td>-2163.0</td>\n",
       "      <td>-149.0</td>\n",
       "      <td>-1576.0</td>\n",
       "      <td>-2232.0</td>\n",
       "      <td>...</td>\n",
       "      <td>-1308.0</td>\n",
       "      <td>-181.0</td>\n",
       "      <td>21.0</td>\n",
       "      <td>-867.0</td>\n",
       "      <td>103.0</td>\n",
       "      <td>NaN</td>\n",
       "      <td>1469.0</td>\n",
       "      <td>80.0</td>\n",
       "      <td>-1137.0</td>\n",
       "      <td>-340.0</td>\n",
       "    </tr>\n",
       "    <tr>\n",
       "      <th>2020-01-08 00:00:00+00:00</th>\n",
       "      <td>-1593.0</td>\n",
       "      <td>1994.0</td>\n",
       "      <td>-2194.0</td>\n",
       "      <td>-903.0</td>\n",
       "      <td>-1327.0</td>\n",
       "      <td>-2761.0</td>\n",
       "      <td>-3335.0</td>\n",
       "      <td>-262.0</td>\n",
       "      <td>481.0</td>\n",
       "      <td>-3934.0</td>\n",
       "      <td>...</td>\n",
       "      <td>-5161.0</td>\n",
       "      <td>49.0</td>\n",
       "      <td>-3.0</td>\n",
       "      <td>-2635.0</td>\n",
       "      <td>255.0</td>\n",
       "      <td>NaN</td>\n",
       "      <td>118.0</td>\n",
       "      <td>20.0</td>\n",
       "      <td>-2050.0</td>\n",
       "      <td>-570.0</td>\n",
       "    </tr>\n",
       "    <tr>\n",
       "      <th>2020-01-09 00:00:00+00:00</th>\n",
       "      <td>3719.0</td>\n",
       "      <td>940.0</td>\n",
       "      <td>-772.0</td>\n",
       "      <td>-1025.0</td>\n",
       "      <td>-708.0</td>\n",
       "      <td>-471.0</td>\n",
       "      <td>-778.0</td>\n",
       "      <td>578.0</td>\n",
       "      <td>-1243.0</td>\n",
       "      <td>-1067.0</td>\n",
       "      <td>...</td>\n",
       "      <td>426.0</td>\n",
       "      <td>164.0</td>\n",
       "      <td>-7.0</td>\n",
       "      <td>-2031.0</td>\n",
       "      <td>1393.0</td>\n",
       "      <td>NaN</td>\n",
       "      <td>511.0</td>\n",
       "      <td>0.0</td>\n",
       "      <td>-280.0</td>\n",
       "      <td>-162.0</td>\n",
       "    </tr>\n",
       "  </tbody>\n",
       "</table>\n",
       "<p>5 rows × 69 columns</p>\n",
       "</div>"
      ],
      "text/plain": [
       "coid                           0       1       2       3       4       5    \n",
       "mdate                                                                       \n",
       "2020-01-03 00:00:00+00:00 -2030.0 -2286.0   660.0  1733.0   852.0   -87.0  \\\n",
       "2020-01-06 00:00:00+00:00 -1410.0  -503.0 -2432.0  1423.0   310.0  -319.0   \n",
       "2020-01-07 00:00:00+00:00  1622.0  1003.0 -3166.0   693.0  -685.0 -3411.0   \n",
       "2020-01-08 00:00:00+00:00 -1593.0  1994.0 -2194.0  -903.0 -1327.0 -2761.0   \n",
       "2020-01-09 00:00:00+00:00  3719.0   940.0  -772.0 -1025.0  -708.0  -471.0   \n",
       "\n",
       "coid                           6      7       8       9   ...      59     60   \n",
       "mdate                                                     ...                  \n",
       "2020-01-03 00:00:00+00:00  -708.0 -280.0   800.0   671.0  ...  -108.0   66.0  \\\n",
       "2020-01-06 00:00:00+00:00 -2114.0 -100.0   840.0 -3425.0  ... -1267.0  204.0   \n",
       "2020-01-07 00:00:00+00:00 -2163.0 -149.0 -1576.0 -2232.0  ... -1308.0 -181.0   \n",
       "2020-01-08 00:00:00+00:00 -3335.0 -262.0   481.0 -3934.0  ... -5161.0   49.0   \n",
       "2020-01-09 00:00:00+00:00  -778.0  578.0 -1243.0 -1067.0  ...   426.0  164.0   \n",
       "\n",
       "coid                         61      62      63  64      65    66      67   \n",
       "mdate                                                                       \n",
       "2020-01-03 00:00:00+00:00  -4.0  1058.0   244.0 NaN -1644.0   8.0 -1372.0  \\\n",
       "2020-01-06 00:00:00+00:00   3.0  -238.0   198.0 NaN -1533.0  12.0 -1190.0   \n",
       "2020-01-07 00:00:00+00:00  21.0  -867.0   103.0 NaN  1469.0  80.0 -1137.0   \n",
       "2020-01-08 00:00:00+00:00  -3.0 -2635.0   255.0 NaN   118.0  20.0 -2050.0   \n",
       "2020-01-09 00:00:00+00:00  -7.0 -2031.0  1393.0 NaN   511.0   0.0  -280.0   \n",
       "\n",
       "coid                          68  \n",
       "mdate                             \n",
       "2020-01-03 00:00:00+00:00 -257.0  \n",
       "2020-01-06 00:00:00+00:00 -255.0  \n",
       "2020-01-07 00:00:00+00:00 -340.0  \n",
       "2020-01-08 00:00:00+00:00 -570.0  \n",
       "2020-01-09 00:00:00+00:00 -162.0  \n",
       "\n",
       "[5 rows x 69 columns]"
      ]
     },
     "execution_count": 8,
     "metadata": {},
     "output_type": "execute_result"
    }
   ],
   "source": [
    "transform_data.head()"
   ]
  },
  {
   "cell_type": "markdown",
   "id": "ba6d6dc7",
   "metadata": {},
   "source": [
    "## 定義自訂數據集（Custom Dataset）\n",
    "在 Zipline 中，我們可以透過自訂數據集（Custom Dataset），將額外的欄位與 tquant bundle 數據合併，以擴充回測數據的應用範圍。\n",
    "\n",
    "在 Zipline Pipeline 中，`DataSet` 由兩個主要部分組成：\n",
    "- 一組 Column 物件：描述數據集內可查詢的數據欄位。\n",
    "- 一個 Domain 物件：描述該數據集適用的資產（assets）和交易日曆（calendar）。\n",
    "\n",
    "### 定義 `DataSet` 的步驟\n",
    "1. 定義 `Column`（欄位）\n",
    "    - `Column` 代表 `DataSet` 內的數據欄位，每個 `Column` 需要指定一個 **numpy 資料型別（`np.dtype`）**，用來描述數據格式。常用的 type 如下：\n",
    "        - 使用 `float` 表示數值型（Numeric）數據。由於 NumPy 不原生支援帶有缺失值的 `int` 型別，建議對所有數值型數據使用 `float`，即使該數據概念上是整數。這樣可以利用 `NaN`（Not a Number）作為自然的缺失值，並獲得更好的數據處理能力。\n",
    "        - 使用 `object` 儲存字串類型（String）數據。\n",
    "        - 使用 `int` 表示類別型（Categorical）數據。整數型別（`int`）需要顯式指定 missing_value，例如 -1，用來標記當某個證券在特定日期沒有值時的預設值。\n",
    "        - 使用 `bool` 表示布林型（Boolean）數據。\n",
    "\n",
    "        ```python\n",
    "        # 一個簡易的範例\n",
    "        class CustomDataset(DataSet):\n",
    "            # float\n",
    "            shares_outstanding = Column(float)\n",
    "\n",
    "            # object\n",
    "            industry = Column(object)\n",
    "\n",
    "            # int\n",
    "            mch_prd = Column(int, missing_value=-1)\n",
    "\n",
    "            # bool\n",
    "            is_suspend = Column(bool)\n",
    "        ```\n",
    "\n",
    "2. 定義 `Domain`（適用範圍）\n",
    "    - **特定 `Domain`（如 `TW_EQUITIES`）**：當數據來自特定市場時，可透過 `domain` 屬性指定適用範圍。"
   ]
  },
  {
   "cell_type": "markdown",
   "id": "e9e0f635",
   "metadata": {},
   "source": [
    "以下範例定義了一個 `CustomDataset` 類別，它繼承自 `zipline.pipeline.DataSet`，並包含一個型別為 float 的 `zipline.pipeline.Column`，適用於 `TW_EQUITIES` domain。（註：可同時納入多個不同`Column`）"
   ]
  },
  {
   "cell_type": "code",
   "execution_count": 9,
   "id": "e4da8259",
   "metadata": {},
   "outputs": [],
   "source": [
    "class CustomDataset(DataSet):\n",
    "    Qfii_Diff_Vol = Column(dtype=float)\n",
    "    domain = TW_EQUITIES"
   ]
  },
  {
   "cell_type": "markdown",
   "id": "1df7842d",
   "metadata": {},
   "source": [
    "## 定義 Pipeline Loaders"
   ]
  },
  {
   "cell_type": "markdown",
   "id": "a4d6ce8c",
   "metadata": {},
   "source": [
    "在 Zipline Pipeline 中，`PipelineLoader` 負責載入 Pipeline 所需的數據。我們可以使用 `DataFrameLoader` 來從 pandas.DataFrame 讀取數據，並讓 Pipeline 取得這些數據進行計算。\n",
    "\n",
    "以下代碼建立一個字典 `Custom_loader`：\n",
    "- 字典的key是 `Column` 物件，該物件包含該欄位的 metadata。\n",
    "- 字典的 value 是 `DataFrameLoader` 物件，需傳入兩個參數：`column`（`Column`物件）及 `baseline`（資料）。"
   ]
  },
  {
   "cell_type": "code",
   "execution_count": 10,
   "id": "9d73e31d",
   "metadata": {},
   "outputs": [
    {
     "data": {
      "text/plain": [
       "{CustomDataset<TW>.Qfii_Diff_Vol::float64: <zipline.pipeline.loaders.frame.DataFrameLoader at 0x1b51b38f190>}"
      ]
     },
     "execution_count": 10,
     "metadata": {},
     "output_type": "execute_result"
    }
   ],
   "source": [
    "Custom_loader= {CustomDataset.Qfii_Diff_Vol: DataFrameLoader(column=CustomDataset.Qfii_Diff_Vol, baseline=transform_data)}\n",
    "Custom_loader"
   ]
  },
  {
   "cell_type": "code",
   "execution_count": 11,
   "id": "c302b4a0",
   "metadata": {},
   "outputs": [
    {
     "data": {
      "text/plain": [
       "frozenset({CustomDataset<TW>.Qfii_Diff_Vol::float64})"
      ]
     },
     "execution_count": 11,
     "metadata": {},
     "output_type": "execute_result"
    }
   ],
   "source": [
    "CustomDataset.columns"
   ]
  },
  {
   "cell_type": "markdown",
   "id": "12784da4",
   "metadata": {},
   "source": [
    "## 建立 Pipeline engine，並執行計算\n",
    "- 在 Zipline Pipeline 中，我們需要建立 Pipeline engine 來執行客製化數據的查詢，並將客製化欄位加入 Pipeline 以供策略開發使用。\n",
    "- 在建構 Pipeline engine 時，我們須先定義 `choose_loader` 函式：\n",
    "    - 在 Zipline Pipeline 框架中，當 Pipeline 需要數據時，它會根據 loadable term（可載入的數據項目，如 `Column`）來查找對應的 `PipelineLoader`。我們可以撰寫一個函式，根據輸入的 term 回傳適當的 `PipelineLoader` 來載入對應的數據。\n",
    "    - `choose_loader` 函式將會確認該欄位是否在 `CustomDataset.columns` 中，若 column 存在，則回傳我們前面建立的 `Custom_loader` 至 Pipeline engine。"
   ]
  },
  {
   "cell_type": "code",
   "execution_count": 12,
   "id": "3b9c1ee0",
   "metadata": {},
   "outputs": [],
   "source": [
    "# Loader for pricing\n",
    "pricing_loader = EquityPricingLoader.without_fx(bundle.equity_daily_bar_reader, bundle.adjustment_reader)\n",
    "\n",
    "# Define the function for the get_loader parameter\n",
    "def choose_loader(column):\n",
    "    if column in CustomDataset.columns:\n",
    "        return Custom_loader[column]\n",
    "    elif column.unspecialize() in EquityPricing.columns:\n",
    "         return pricing_loader\n",
    "    else:\n",
    "        raise Exception('Column not available')\n",
    "\n",
    "# Create a Pipeline engine\n",
    "engine = SimplePipelineEngine(\n",
    "    get_loader = choose_loader,\n",
    "    asset_finder = bundle.asset_finder,\n",
    "    default_domain = TW_EQUITIES\n",
    ")"
   ]
  },
  {
   "cell_type": "markdown",
   "id": "b89137b4",
   "metadata": {},
   "source": [
    "現在，我們將在 make_pipeline() 函式中實例化（instantiate）我們的數據，並將其加入 Pipeline"
   ]
  },
  {
   "cell_type": "code",
   "execution_count": 13,
   "id": "b9174df2",
   "metadata": {},
   "outputs": [],
   "source": [
    "def make_pipeline():\n",
    "    qfii_custom = CustomDataset.Qfii_Diff_Vol.latest\n",
    "    close = EquityPricing.close.latest\n",
    "\n",
    "    return Pipeline(\n",
    "        columns={\n",
    "            'qfii_custom': qfii_custom,\n",
    "            'close': close\n",
    "        }\n",
    "    )"
   ]
  },
  {
   "cell_type": "markdown",
   "id": "8f3e0749",
   "metadata": {},
   "source": [
    "最後，執行 Pipeline 數據計算（從 start_date 到 end_date）\n",
    "\n",
    "**註：若要使用 CustomDataset 來執行計算，必須使用 `SimplePipelineEngine.run_pipeline`，而不能使用 `zipline.TQresearch.tej_pipeline.run_pipeline`**"
   ]
  },
  {
   "cell_type": "code",
   "execution_count": 14,
   "id": "83121164",
   "metadata": {
    "scrolled": false
   },
   "outputs": [
    {
     "data": {
      "text/html": [
       "<div>\n",
       "<style scoped>\n",
       "    .dataframe tbody tr th:only-of-type {\n",
       "        vertical-align: middle;\n",
       "    }\n",
       "\n",
       "    .dataframe tbody tr th {\n",
       "        vertical-align: top;\n",
       "    }\n",
       "\n",
       "    .dataframe thead th {\n",
       "        text-align: right;\n",
       "    }\n",
       "</style>\n",
       "<table border=\"1\" class=\"dataframe\">\n",
       "  <thead>\n",
       "    <tr style=\"text-align: right;\">\n",
       "      <th></th>\n",
       "      <th></th>\n",
       "      <th>qfii_custom</th>\n",
       "      <th>close</th>\n",
       "    </tr>\n",
       "  </thead>\n",
       "  <tbody>\n",
       "    <tr>\n",
       "      <th rowspan=\"5\" valign=\"top\">2025-02-04 00:00:00+00:00</th>\n",
       "      <th>Equity(0 [1101])</th>\n",
       "      <td>-3170.0</td>\n",
       "      <td>31.75</td>\n",
       "    </tr>\n",
       "    <tr>\n",
       "      <th>Equity(1 [1102])</th>\n",
       "      <td>-1191.0</td>\n",
       "      <td>40.70</td>\n",
       "    </tr>\n",
       "    <tr>\n",
       "      <th>Equity(2 [1216])</th>\n",
       "      <td>-2091.0</td>\n",
       "      <td>79.20</td>\n",
       "    </tr>\n",
       "    <tr>\n",
       "      <th>Equity(3 [1301])</th>\n",
       "      <td>-1567.0</td>\n",
       "      <td>34.45</td>\n",
       "    </tr>\n",
       "    <tr>\n",
       "      <th>Equity(4 [1303])</th>\n",
       "      <td>-3453.0</td>\n",
       "      <td>31.25</td>\n",
       "    </tr>\n",
       "  </tbody>\n",
       "</table>\n",
       "</div>"
      ],
      "text/plain": [
       "                                            qfii_custom  close\n",
       "2025-02-04 00:00:00+00:00 Equity(0 [1101])      -3170.0  31.75\n",
       "                          Equity(1 [1102])      -1191.0  40.70\n",
       "                          Equity(2 [1216])      -2091.0  79.20\n",
       "                          Equity(3 [1301])      -1567.0  34.45\n",
       "                          Equity(4 [1303])      -3453.0  31.25"
      ]
     },
     "execution_count": 14,
     "metadata": {},
     "output_type": "execute_result"
    }
   ],
   "source": [
    "result = engine.run_pipeline(make_pipeline(), end_dt, end_dt)\n",
    "result.head()"
   ]
  },
  {
   "cell_type": "markdown",
   "id": "39695b13",
   "metadata": {},
   "source": [
    "## 補充說明\n",
    "- DataSet\n",
    "    - 因 Zipline 為了預防使用者用到未來資料，所以內建 `DataSet`（`zipline.pipeline.data.TQAltDataSet／TQDataSet／EquityPricing／TWEquityPricing`）均會將原始資料平移一個交易日。若要自行決定平移天數，則可以透過客製化 `DataSet` 來實現，本範例即是採用不平移的方式進行處理。\n",
    "- run_pipeline\n",
    "    - 若要使用 CustomDataset 來執行 run_pipeline 計算，必須使用 `SimplePipelineEngine.run_pipeline`，而不能使用 `zipline.TQresearch.tej_pipeline.run_pipeline`"
   ]
  }
 ],
 "metadata": {
  "kernelspec": {
   "display_name": "zipline-tej_v11",
   "language": "python",
   "name": "python3"
  },
  "language_info": {
   "codemirror_mode": {
    "name": "ipython",
    "version": 3
   },
   "file_extension": ".py",
   "mimetype": "text/x-python",
   "name": "python",
   "nbconvert_exporter": "python",
   "pygments_lexer": "ipython3",
   "version": "3.11.5"
  }
 },
 "nbformat": 4,
 "nbformat_minor": 5
}
