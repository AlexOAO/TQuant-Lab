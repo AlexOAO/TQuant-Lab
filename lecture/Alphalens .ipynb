{
 "cells": [
  {
   "cell_type": "markdown",
   "id": "776391d7",
   "metadata": {},
   "source": [
    "# Alphalens\n",
    "\n",
    "用於因子研究，請下載此檔案並執行，以獲得最佳閱讀體驗。"
   ]
  },
  {
   "cell_type": "code",
   "execution_count": null,
   "id": "097ba1c4",
   "metadata": {},
   "outputs": [],
   "source": [
    "import os \n",
    "StockList = \\\n",
    "['1227', '1234', '1304', '1314', '1434', '1440', '1476', '1504', '1507', '1590', '1605', '1704', '1710', '1717', '1723', '1789',\n",
    " '1802', '1907', '2006', '2015', '2049', '2101', '2103', '2106', '2204', '2227', '2327', '2337', '2344', '2356', '2360', '2362',\n",
    " '2379', '2384', '2385', '2392', '2395', '2448', '2449', '2450', '2451', '2489', '2501', '2504', '2511', '2542', '2545', '2548',\n",
    " '2603', '2606', '2607', '2608', '2609', '2610', '2615', '2618', '2707', '2723', '2727', '2809', '2812', '2823', '2834', '2845',\n",
    " '2847', '2855', '2884', '2887', '2888', '2889', '2903', '2915', '3034', '3037', '3044', '3149', '3189', '3406', '3702', '4938',\n",
    " '4958', '5522', '5871', '6005', '6176', '6239', '6269', '6286', '8008', '8046', '8078', '8422', '9904', '9907', '9914', '9917', '9921',\n",
    " '9933', '9940', '9945', '2458', '5264', '2206', '1201', '2347', '3231', '5534', '6116', '9910', '1477', '2353', '6271', '1319',\n",
    " '1722', '2059', '3060', '3474', '3673', '2393', '2376', '2439', '3682', '1262', '2201', '2377', '3576', '2352', '2838', '8150',\n",
    " '2324', '2231', '8454', '2833', '6285', '6409', '1536', '1702', '2313', '2498', '2867', '6415', '6456', '9938', '2383', '4137', '6452',\n",
    " '1707', '1589', '2849', '6414', '8464', '2355', '2345', '3706', '2023', '2371', '1909', '2633', '3532', '9941', '2492', '3019',\n",
    " '3443', '4915', '4943', '1229', '2441', '2027', '3026', '1210', '2104', '2456', '5269', '8341', '2354', '3005', '3481', '6669',\n",
    " '2409', '3023', '6213', '2404', '3533', '6278', '6592', '3653', '3661', '3665', '2301', '3714', '2883', '2890', '6531', '1904',\n",
    " '2014', '2105', '2108', '2474', '2637', '6781', '1102', '4919', '1402', '3035', '3036', '4961', '6719', '6770', '2368', '1795',\n",
    " '6550', '6789', '3017', '1101', '1216', '1301', '1303', '1326', '2002', '2207', '2303', '2308', '2311', '2317', '2325', '2330',\n",
    " '2357', '2382', '2412', '2454', '2801', '2880', '2881', '2882', '2885', '2886', '2891', '2892', '2912', '3008', '3045', '3697',\n",
    " '4904', '5880', '6505', '2408', '3711', '5876']\n",
    "\n",
    "os.environ['ticker'] = ' '.join(StockList)\n",
    "os.environ['TEJAPI_BASE'] = \"https://api.tej.com.tw\"\n",
    "os.environ['TEJAPI_KEY'] = \"your key\"\n",
    "os.environ['mdate'] = \"20180726 20230726\"\n",
    "!zipline ingest -b tquant"
   ]
  },
  {
   "cell_type": "code",
   "execution_count": null,
   "id": "58fd1dca",
   "metadata": {},
   "outputs": [],
   "source": [
    "import pandas as pd \n",
    "import numpy as np \n",
    "import seaborn as sns\n",
    "import matplotlib.pyplot as plt\n",
    "from scipy import stats\n",
    "import alphalens\n",
    "import TejToolAPI\n",
    "\n",
    "%matplotlib inline\n",
    "plt.rcParams['figure.dpi'] = 200\n",
    "sns.set_style('white')"
   ]
  },
  {
   "cell_type": "markdown",
   "id": "b1e47e61",
   "metadata": {},
   "source": [
    "# 觀察載入資料"
   ]
  },
  {
   "cell_type": "code",
   "execution_count": null,
   "id": "0396fbff",
   "metadata": {},
   "outputs": [],
   "source": [
    "from zipline.data.data_portal import get_bundle\n",
    "\n",
    "df_bundle = get_bundle(bundle_name = 'tquant',\n",
    "                        calendar_name = 'TEJ',\n",
    "                        start_dt = pd.Timestamp(\"2018-07-26\"),\n",
    "                        end_dt = pd.Timestamp(\"2023-07-26\"))"
   ]
  },
  {
   "cell_type": "code",
   "execution_count": null,
   "id": "46f979de",
   "metadata": {},
   "outputs": [],
   "source": [
    "df_bundle.head(15)"
   ]
  },
  {
   "cell_type": "markdown",
   "id": "291da591",
   "metadata": {},
   "source": [
    "# 建立因子\n",
    "\n",
    "本次發想至 Fama-French 三因子模型中的 SMB 因子，以每日各公司標準化後的市值作為因子進行後續因子分析。"
   ]
  },
  {
   "cell_type": "code",
   "execution_count": null,
   "id": "bfcbaf83",
   "metadata": {},
   "outputs": [],
   "source": [
    "from zipline.data import bundles\n",
    "\n",
    "bundle = bundles.load(\"tquant\")\n",
    "sids = bundle.asset_finder.equities_sids\n",
    "assets = bundle.asset_finder.retrieve_all(sids)\n",
    "symbols = [i.symbol for i in assets]\n",
    "columns = [\"Market_Cap_Dollars\"]\n",
    "\n",
    "mkt_value = TejToolAPI.get_history_data(\n",
    "    ticker = symbols,\n",
    "    columns = columns,\n",
    "    tranfer_to_chinese = False,\n",
    "    start = pd.Timestamp(\"2018-07-02\", tz = \"UTC\"),\n",
    "    end = pd.Timestamp(\"2023-07-02\", tz = \"UTC\"),\n",
    "    fin_type = [\"A\"],\n",
    "    include_self_acc = \"Y\"\n",
    ")"
   ]
  },
  {
   "cell_type": "code",
   "execution_count": null,
   "id": "594b979a",
   "metadata": {},
   "outputs": [],
   "source": [
    "means = mkt_value.groupby(\"mdate\").mean()\n",
    "stds = mkt_value.groupby(\"mdate\").std()\n",
    "means.rename({\"Market_Cap_Dollars\":\"mean\"}, axis = 1, inplace = True)\n",
    "stds.rename({\"Market_Cap_Dollars\":\"std\"}, axis = 1, inplace = True)\n",
    "ovo = means.merge(stds, left_index = True, right_index = True)\n",
    "mkt_value_med = mkt_value.merge(ovo, left_on = \"mdate\", right_index = True).reset_index(drop=True)\n",
    "mkt_value_med[\"MKTValue\"] = (mkt_value_med.Market_Cap_Dollars - mkt_value_med['mean']) / mkt_value_med['std']\n",
    "mkt_value_med.mdate = pd.to_datetime(mkt_value_med.mdate, utc = True)\n",
    "mkt_value_med.set_index(['mdate', 'coid'], inplace = True)\n",
    "mkt_value = mkt_value_med.MKTValue"
   ]
  },
  {
   "cell_type": "code",
   "execution_count": null,
   "id": "b8c8e795",
   "metadata": {},
   "outputs": [],
   "source": [
    "mkt_value"
   ]
  },
  {
   "cell_type": "markdown",
   "id": "f7c0a4ed",
   "metadata": {},
   "source": [
    "# 取得價格資料"
   ]
  },
  {
   "cell_type": "code",
   "execution_count": null,
   "id": "d3f7f287",
   "metadata": {},
   "outputs": [],
   "source": [
    "pricing = df_bundle[['date','symbol','open_adj']].set_index(['date','symbol']).iloc[1:].unstack('symbol')['open_adj']\n",
    "pricing.head(6)"
   ]
  },
  {
   "cell_type": "markdown",
   "id": "f2d91150",
   "metadata": {},
   "source": [
    "# Sector mapping\n",
    "\n",
    "取得資產的產業類別"
   ]
  },
  {
   "cell_type": "code",
   "execution_count": null,
   "id": "e65606b3",
   "metadata": {},
   "outputs": [],
   "source": [
    "sector = tejapi.get('TWN/APISTKATTR',\n",
    "                    coid=df_bundle.symbol.unique(),\n",
    "                    opts={'columns':['coid','industry_e','industry_c']},\n",
    "                    paginate=True).rename(columns={'coid':'symbol',\n",
    "                                                   'industry_e':'sector',\n",
    "                                                   'industry_c':'sector_code'})"
   ]
  },
  {
   "cell_type": "code",
   "execution_count": null,
   "id": "a00f7403",
   "metadata": {},
   "outputs": [],
   "source": [
    "sector_map = sector.set_index(\"symbol\")['sector'].to_dict()"
   ]
  },
  {
   "cell_type": "code",
   "execution_count": null,
   "id": "42d828a3",
   "metadata": {},
   "outputs": [],
   "source": [
    "sector_map"
   ]
  },
  {
   "cell_type": "markdown",
   "id": "bee2ce3f",
   "metadata": {},
   "source": [
    "# 建立因子與報酬表\n",
    "\n",
    "### Further information\n",
    "\n",
    "```python\n",
    "alphalens.utils.get_clean_factor_and_forward_returns(factor,\n",
    "                                                     prices,\n",
    "                                                     groupby=None,\n",
    "                                                     binning_by_group=False,\n",
    "                                                     quantiles=5,\n",
    "                                                     bins=None,\n",
    "                                                     periods=(1, 5, 10),\n",
    "                                                     filter_zscore=20,\n",
    "                                                     groupby_labels=None,\n",
    "                                                     max_loss=0.35,\n",
    "                                                     zero_aware=False,\n",
    "                                                     cumulative_returns=True)\n",
    "```\n",
    "\n",
    "- 利用`alphalens.utils.get_clean_factor_and_forward_returns()`將因子資料（`factor`參數）、價格資料（`prices`參數）以及部門資料（`groupby`參數）整理成一個資料表，以利後續計算，這個資料表的索引（index）是日期（DatetimeIndex）及公司碼（asset）。\n",
    "- 此外這邊也會針對因子資料或價格資料缺值的資料做清理，確保可以正確計算。\n",
    "- 最重要的是這邊會利用因子資料將樣本分組（`quantiles`、`bins`、`binning_by_group`、`zero_aware`參數）及利用預計的持有期（`periods`參數）計算持有期報酬率。\n",
    "  - `quantiles`、`bins`、`binning_by_group`：\n",
    "    - quantiles：*int or sequence[float]*\n",
    "      - 利用樣本公司數量來分組，**預設值為5**。參考[pandas.qcut](https://pandas.pydata.org/pandas-docs/stable/reference/api/pandas.qcut.html#pandas.qcut)。\n",
    "      - `quantile`與`bins`只能擇一使用。\n",
    "      - 當quantiles為*int*：將樣本按照數量盡可能平均分配至各組，若樣本公司有100家，欲將樣本公司分為5組（`quantile=5`），且每一組皆須有20家公司，則quantiles方法會將因子値（`factor`）最小的20家公司分到第1組，因子値最大的20家公司分到第5組，以此類推。\n",
    "      - 當quantiles為*sequence[float]*：允許數量不均等的分組，若有以下5個factor：[1,2,3,4,5]且**quantiles=[0, .5, 1.]**（代表會分為兩組：(0,0.5]及(0.5,1.]），則[1,2,3]會被分到第1組；[4,5]會被分到第2組。\n",
    "    - bins：*int or sequence[float]*\n",
    "      - 利用因子取値範圍分組，類似直方圖的概念。參考[pandas.cut](https://pandas.pydata.org/pandas-docs/stable/reference/api/pandas.cut.html#pandas.cut)。\n",
    "      - `quantile`與`bins`只能擇一使用。若要使用bins必須設定**`quantile`=None**，因`quantile`預設值為5。\n",
    "      - 當bins為*int*：若因子取値於0至100，欲按因子値（`factor`）數值大小均分為5組（`bins=5`），則bins方法會將因子値介於0到20的公司分到第1組，因子値介於21~40的公司分到第2組，以此類推。每一組的公司數目不一定相同。\n",
    "      - 當bins為*sequence[float]*：允許間距不均等的分組，若有以下4個factor：[1, 2, 3, 4]且**bins=[0, 3, 4]**（代表會分為兩組：(0., 3.]及(3., 4.]），則[1,2,3]會被分到第1組；[4]會被分到第2組。\n",
    "    - binning_by_group：*bool*\n",
    "      - 可結合上述兩者做部門內分組，達成**部門中立（group neutral）**的效果。\n",
    "      - 以結合quantiles及binning_by_group的分組方式為例，若欲分為5組（`quantile=5`且`binning_by_group=True`），則該方法會將每一個部門內因子値最小的一群公司分到第1組，因子値最大的一群公司分到第5組。\n",
    "  - `zero_aware`：*bool, optional*\n",
    "    - 預設為False，當設定為True時，**quantiles或bins必須是整數**。\n",
    "    - 若設定為True時，會先將因子（`factor`）資料依數值大小分為 **>=0**及 **<0**兩組，再個別將兩組內的資料平均切分（quantiles//2）。\n",
    "    - 以結合`quantiles`及`zero_aware`的分組方式為例，若有以下10個factor：[-4,-3,-2,-1,1,2,3,4,5,6]欲分為5組（`quantile=5`且`zero_aware=True`），則：\n",
    "      - 先將5//2得到2，因此因子值>=0的樣本平均分2組；因子值<0的樣本平均分2組，總共4組。\n",
    "      - -4及-3分至第1組；-2及-1分至第2組；1、2及3分至第3組；4、5及6分至第4組。\n",
    "- 另外，利用`filter_zscore`參數可以將大於平均值X倍標準差的持有期報酬率修改為nan。（不推薦使用，因為這會產生lookahead bias）\n",
    "\n",
    "#### 因子資料及價格資料的一些規範：\n",
    "- `factor`及`prices`資料的timezone要一致。\n",
    "- `factor`及`prices`資料的DatetimeIndex不可其中一個是timezone-aware另一個是timezone-naive。\n",
    "- `factor`及`prices`資料的日期起訖可以不一樣，但不能一邊有非交易日，一邊都是交易日。  \n",
    "  （否則會報錯`ValueError: Inferred frequency None from passed values does not conform to passed frequency C`）\n",
    "\n",
    "#### 持有期報酬率\n",
    "因為這邊是模擬利用因子做逐日交易的策略，所以持有期報酬率是每日計算。  \n",
    "（若提供的因子、價格及部門分類資料為月頻率，則持有期報酬率就是逐月計算） \n",
    "\n",
    "根據*Fundamental law of active management*（Grinold, 1989）一書，投資組合獲取超額報酬的能力可以用資訊比率衡量（IR），IR又可以拆分成資訊係數（IC）及投資策略廣度（BR）。公式如下：  \n",
    "\n",
    "$$ IR=IC * \\sqrt {BR} $$\n",
    "\n",
    "其中，IC是利用因子値與持有期報酬率間的相關係數來衡量因子有效性，隱含經理人的預測能力，這部份會於資訊分析（information）中說明。  \n",
    "  \n",
    "而BR則可以透過提高交易的頻率來改善，並近一步提升IR。舉例來說，若是每日換股，則每年交易次數約為252次；若是每22天換一次股，則會降低每一年的交易次數（約為252/22次），進而降低報酬。  \n",
    "  \n",
    "為了避免這個情況，Alphalens模擬一種策略：以持有期為22天為例，利用持有期訂定一個交易週期（22天），並且將本金分為22等份。每一天利用其中1等份的本金交易，22天後調整持股，所以總共會有22個投資組合。此外，由於將本金分成22份，滑價（slippage） 的影響也會降低。\n",
    "<br>\n",
    "\n",
    "> #### 持有期報酬率計算：$${個股i、日期為t且持有期間為n的持有期報酬率=}\\frac{(股價_{i,t+n})}{股價_{i,t}}{-1}$$   \n",
    ">\n",
    "> #### 範例：\n",
    ">\n",
    "> date=2013-01-02，asset=1102，持有1D報酬率 =（2013-01-03收盤價／2013-01-02收盤價）－1。"
   ]
  },
  {
   "cell_type": "code",
   "execution_count": null,
   "id": "d66ec8b9",
   "metadata": {},
   "outputs": [],
   "source": [
    "factor_data = alphalens.utils.get_clean_factor_and_forward_returns(mkt_value,\n",
    "                                                                   pricing,\n",
    "                                                                   quantiles = 5,\n",
    "                                                                   bins = None,\n",
    "                                                                   groupby = sector_map\n",
    "                                                                  )"
   ]
  },
  {
   "cell_type": "code",
   "execution_count": null,
   "id": "81b93abf",
   "metadata": {},
   "outputs": [],
   "source": [
    "factor_data"
   ]
  },
  {
   "cell_type": "markdown",
   "id": "20ebf580",
   "metadata": {},
   "source": [
    "# Analysis\n",
    "\n",
    "#### Alphalens提供以下三種類型的因子分析工具，讓我們對因子有初步的了解：\n",
    "- Returns（報酬率分析）\n",
    "- Information（資訊分析）\n",
    "- Turnover（周轉率分析）\n",
    "\n",
    "#### 透過以上的功能，可以從中了解以下內容，並輔助後續的回測：\n",
    "\n",
    "- 因子預測力的好壞。\n",
    "- 因子的周轉率是否過高（可能導致較高的交易成本）。\n",
    "- 持有期應該如何設置最恰當。\n",
    "- 因子在所有部門中的表現是否一致。\n",
    "- 在多空對沖策略中，哪些股票應該做多，哪些股票應該放空。\n",
    "- 應該用哪一種權重形成投資組合？等權重（equally weighted）或因子加權（factor weighted）。\n",
    "\n",
    "#### 後續研究：  \n",
    "\n",
    "當使用Alphalens分析因子後，我們可以了解因子的**預測能力**及**因子最佳的交易方式**。但因為Alphalens不考慮股票交易時所產生的**手續費、滑價、暫停交易、漲跌停**等因素，故後續可以再透過Zipline、Pyfolio或其他分析工具進行更深入的分析，了解因子在實際交易上的可能性。\n",
    "\n"
   ]
  },
  {
   "cell_type": "markdown",
   "id": "f63b10e8",
   "metadata": {},
   "source": [
    "# Returns Analysis\n",
    "\n",
    "#### 報酬率處理方式：\n",
    "Alphalens的函數中，若將`long_short`或`long_short`參數設定為True則將每一檔股票的報酬率扣除全市場（所有樣本公司）的平均報酬，得到demeaned後的報酬率，消除整體市場波動的影響。\n",
    "\n",
    "兩種報酬率處理方式可按照預期的投資策略來選擇：\n",
    "- 若預期採用的是多空對沖策略（long-short strategies）、本金中立多空對沖策略（long-short dollar neutral strategy）或市場風險對沖策略（beta hedging strategy）時，將`long_short`參數設定為True，選擇demeaned後報酬率，可以更好的觀察各個分組的相對報酬，類似超額報酬的概念。\n",
    "\n",
    "- 若預期採用的是**long only strategy**時，則應將`long_short`參數設定為False，觀察絕對報酬率。\n",
    "\n",
    "這邊預期採用**long-short strategies**，並將`long_short`設定為True（**Alphalens預設就是True**）且後續皆會採用demeaned的平均報酬率進行計算。"
   ]
  },
  {
   "cell_type": "markdown",
   "id": "c89c116d",
   "metadata": {},
   "source": [
    "## Performance Metrics & Plotting Functions\n",
    "\n",
    "### Mean Return by Factor Quantile（by date）\n",
    "\n",
    "以下利用`mean_return_by_quantile`函數並將`by_date`參數設置為**True**，計算不同時間點下平均報酬率，後續可以用來觀察投資組合報酬率隨時間的變化及計算累計報酬率。\n",
    "\n",
    "#### 平均報酬率：\n",
    "- 若`demeaned`參數設定為True則將每一檔股票的報酬率扣除全市場（所有樣本公司）的平均報酬，得到demeaned後的平均報酬率，消除整體市場波動的影響。（這邊`demeaned`參數的功能與`create_returns_tear_sheet`函數的`long_short`參數功能一致）  \n",
    "\n",
    "- 須注意持有期1日、5日及10日的報酬率計算頻率不同，無法直接比較。\n",
    "\n",
    "> 以factor_quantile=1，持有期=1D，date=2013-01-03為例：\n",
    "> \n",
    "> ##### 若demeaned=False：\n",
    "> 利用2013-01-03當日所有quantile=1公司計算平均報酬率（簡單平均）。\n",
    "> \n",
    "> ##### 若demeaned=True：  \n",
    "> 1.先對2013-01-03當日quantile＝1所有公司的報酬率做demeaned：（當日原始的報酬率－當日factor_quantile＝1~5所有公司的平均報酬率）。 \n",
    "> 2.再對上述demeaned後的報酬率做平均，得到quantile＝1當日demeaned後的平均報酬率。\n",
    "\n",
    "#### 平均報酬率標準差：  \n",
    "\n",
    "> 以factor_quantile=1，持有期=1D，date=2013-01-03為例：\n",
    "> \n",
    "> ##### 若demeaned=False：\n",
    "> σ（quantile=1所有公司在2013-01-03當日的平均報酬率)／${\\sqrt {公司數目}}$  \n",
    "> \n",
    "> ##### 若demeaned=True：\n",
    "> σ（quantile=1所有公司在2013-01-03當日的demeaned後的平均報酬率)／${\\sqrt {公司數目}}$  "
   ]
  },
  {
   "cell_type": "code",
   "execution_count": null,
   "id": "81bdaae4",
   "metadata": {},
   "outputs": [],
   "source": [
    "mean_return_by_q_daily, std_err_by_q_daily = alphalens.performance.mean_return_by_quantile(factor_data, by_date=True)"
   ]
  },
  {
   "cell_type": "code",
   "execution_count": null,
   "id": "307b96ff",
   "metadata": {},
   "outputs": [],
   "source": [
    "mean_return_by_q_daily.head()"
   ]
  },
  {
   "cell_type": "code",
   "execution_count": null,
   "id": "04efa912",
   "metadata": {},
   "outputs": [],
   "source": [
    "std_err_by_q_daily.head()"
   ]
  },
  {
   "cell_type": "markdown",
   "id": "a41c6bed",
   "metadata": {},
   "source": [
    "### Convert returns to one_period_len\n",
    "\n",
    "\n",
    "因前面提及持有期1日、5日及10日的報酬率計算頻率不同，無法直接比較，故這邊利用 `alphalens.utils.rate_of_return` 將不同持有期的報酬率皆轉為日報酬。\n",
    "\n",
    "#### 平均報酬率頻率轉換：\n",
    "> 利用`rate_of_return`函數針對報酬率計算的基準期做轉換（類似複合成長率CAGR的概念）。  \n",
    "> \n",
    "> ##### 轉換方式如下：  \n",
    "> \n",
    "> $ ({轉換前報酬率+1})^{\\left({\\cfrac{基準期}{原始持有期}}\\right)}-1 $  \n",
    "> \n",
    "> 例如：quantile=1，持有期=10D，date=2013-01-03的報酬率為-0.046771，若基準期為1天，則轉換後報酬率為：$ ({-0.046771+1})^ {1/10}-1 $"
   ]
  },
  {
   "cell_type": "code",
   "execution_count": null,
   "id": "168a25dc",
   "metadata": {},
   "outputs": [],
   "source": [
    "mean_return_by_q_daily_convertfreq=mean_return_by_q_daily.apply(alphalens.utils.rate_of_return,\n",
    "                                                                axis=0,\n",
    "                                                                base_period=mean_return_by_q_daily.columns[0])\n",
    "mean_return_by_q_daily_convertfreq.head()"
   ]
  },
  {
   "cell_type": "markdown",
   "id": "c9ff7745",
   "metadata": {},
   "source": [
    "#### 標準差頻率轉換：  \n",
    "> 在`mean_return_by_quantile`函數計算出來的標準差會因為持有期不同而產生頻率不同的情形，為了利於比較，以下利用`std_conversion`函數將標準差做轉換。 \n",
    "> \n",
    "> ##### 轉換方式如下：  \n",
    "> \n",
    "> $ {\\cfrac{轉換前標準差} {{\\sqrt{\\cfrac{基準期}{base\\ period}}}}} $ \n",
    "> \n",
    "> 例如：quantile=1，持有期=10D，date=2013-01-03的標準差為0.008489，若基準期為1天，則轉換後報酬率為：$ {\\cfrac{0.008489} {{\\sqrt{\\cfrac{10}{1}}}}} $ "
   ]
  },
  {
   "cell_type": "code",
   "execution_count": null,
   "id": "8cbd43fe",
   "metadata": {},
   "outputs": [],
   "source": [
    "std_err_by_q_daily_convertfreq=std_err_by_q_daily.apply(alphalens.utils.std_conversion,\n",
    "                                                        axis=0,\n",
    "                                                        base_period=std_err_by_q_daily.columns[0])\n",
    "std_err_by_q_daily_convertfreq.head()"
   ]
  },
  {
   "cell_type": "markdown",
   "id": "87d331f1",
   "metadata": {},
   "source": [
    "### Mean Return by Factor Quantile\n",
    "用`mean_return_by_quantile`函數並將`by_date`參數設置為**False**，不考慮時間差異，計算整體的平均報酬率。可以從中了解買入各分組的股票，利用特定持有期持有至期末能獲得的平均報酬，對因子的預測力做初步了解。\n",
    "<!-- \n",
    "（註：`plot_quantile_returns_bar`函數內部會`utils.rate_of_return`並將不同持有期的報酬率皆轉為日報酬，故可以直接比較） -->\n",
    "\n",
    "#### 平均報酬率：  \n",
    "   \n",
    "> 以quantile=1，持有期=1D為例：\n",
    "> \n",
    "> ##### 因demeaned=True：  \n",
    "> 1.針對所有quantile=1的公司，計算每一日的demeaned後平均報酬率。  \n",
    "> 2.將每一日的demeaned後平均報酬率再取平均。  \n",
    "\n",
    "#### 平均報酬的標準差：  \n",
    "  \n",
    "> 以factor_quantile=1，持有期=1D為例：\n",
    ">   \n",
    "> ##### 因demeaned=True：\n",
    "> σ（所有quantile=1的公司，每一日demeaned後平均報酬率）／${\\sqrt {交易日數}}$  "
   ]
  },
  {
   "cell_type": "code",
   "execution_count": null,
   "id": "a4b7fcd8",
   "metadata": {},
   "outputs": [],
   "source": [
    "mean_return_by_q, std_err_by_q = alphalens.performance.mean_return_by_quantile(factor_data,\n",
    "                                                                               by_date=False)\n",
    "mean_return_by_q.head()"
   ]
  },
  {
   "cell_type": "markdown",
   "id": "a44a36ee",
   "metadata": {},
   "source": [
    "#### 平均報酬率轉換頻率："
   ]
  },
  {
   "cell_type": "code",
   "execution_count": null,
   "id": "dce00593",
   "metadata": {},
   "outputs": [],
   "source": [
    "mean_return_by_q_convertfreq=mean_return_by_q.apply(alphalens.utils.rate_of_return,\n",
    "                                                    axis=0,\n",
    "                                                    base_period=mean_return_by_q.columns[0])\n",
    "mean_return_by_q_convertfreq"
   ]
  },
  {
   "cell_type": "markdown",
   "id": "9f8c8b82",
   "metadata": {},
   "source": [
    "### Mean Period Wise Return by Factor Quantile\n",
    "\n",
    "最後將`performance.mean_return_by_quantile`的計算結果利用`plot_quantile_returns_bar`函數將因子平均報酬率畫成柱狀圖。  \n",
    "  \n",
    "我們通常會希望報酬在不同分組中呈現單調遞增，即bottom quantile（第一組）報酬率最低，top quantile（第五組）報酬率最高。在這種情形下可以透過做多第一組的股票、放空第五組的股票，來建構多空策略。 \n",
    "\n",
    "另一個可以觀察的重點為不同的持有期間對應的平均報酬率，它告訴我們需要持有特定股票多久才可以最大化報酬。"
   ]
  },
  {
   "cell_type": "code",
   "execution_count": null,
   "id": "c22e3273",
   "metadata": {},
   "outputs": [],
   "source": [
    "alphalens.plotting.plot_quantile_returns_bar(mean_return_by_q_convertfreq)\n",
    "sns.despine()"
   ]
  },
  {
   "cell_type": "markdown",
   "id": "87afdaa9",
   "metadata": {},
   "source": [
    "### Period Wise Return by Factor Quantile（Violin plots）\n",
    "\n",
    "小提琴圖結合機率密度函數圖（probability density function plot）及盒鬚圖（box plot）。該圖形可以展示變數的三個四分位數、極值及機率分佈。\n",
    "可以用來了解因子中噪音的大小。"
   ]
  },
  {
   "cell_type": "code",
   "execution_count": null,
   "id": "d6cd8f76",
   "metadata": {},
   "outputs": [],
   "source": [
    "alphalens.plotting.plot_quantile_returns_violin(mean_return_by_q_daily_convertfreq)\n",
    "sns.despine()"
   ]
  },
  {
   "cell_type": "markdown",
   "id": "3c41e3f7",
   "metadata": {},
   "source": [
    "### Top Minus Bottom Quantile Mean Returns\n",
    "\n",
    "#### Mean return spread（by date）\n",
    "在各因子分組平均報酬率（非時間序列）的結果中可以發現第五組的報酬率最高且第一組的報酬最低，因此可以透過多空對沖策略（等權重配置），做多第五組的股票並同時放空第一組的股票來最大化報酬。\n",
    "\n",
    "這邊利用`compute_mean_returns_spread`函數將第5組（`upper_quant`參數）平均報酬率減去第1組（`lower_quant`參數）的平均報酬率，得到多空對沖投組平均報酬率（即mean return spread）及其標準差。  \n",
    "\n",
    "##### 通常會選擇頭尾兩個分組做分別做為top quantile及bottom quantile，不過在Alphalens中也可以使用其他分組進行計算。 \n",
    "\n",
    "> #### 多空對沖平均報酬\n",
    "> 利用各因子分組平均報酬率（by date）計算。\n",
    "> \n",
    "> 以持有期=10D，date=2013-01-03為例：（當天第五組平均報酬－當天第一組平均報酬）\n",
    "> \n",
    "> #### 多空對沖平均報酬率的標準差\n",
    "> 利用各因子分組平均報酬率（by date）的標準差計算。\n",
    "> \n",
    "> 以持有期=10D，date=2013-01-03為例：$\\sqrt {（當天第5組平均報酬率的標準差）^2 + （當天第1組平均報酬率的標準差）^2}$"
   ]
  },
  {
   "cell_type": "code",
   "execution_count": null,
   "id": "5549b692",
   "metadata": {},
   "outputs": [],
   "source": [
    "quant_return_spread, std_err_spread = alphalens.performance.compute_mean_returns_spread(mean_return_by_q_daily_convertfreq,\n",
    "                                                                                        upper_quant=5,\n",
    "                                                                                        lower_quant=1,\n",
    "                                                                                        std_err=std_err_by_q_daily_convertfreq)\n",
    "quant_return_spread.head()"
   ]
  },
  {
   "cell_type": "code",
   "execution_count": null,
   "id": "c471d821",
   "metadata": {},
   "outputs": [],
   "source": [
    "std_err_spread.head()"
   ]
  },
  {
   "cell_type": "markdown",
   "id": "8dab7b4f",
   "metadata": {},
   "source": [
    "利用`plot_mean_quantile_returns_spread_time_series`函數繪製多空對沖投組平均報酬率（mean return spread）的折線圖，觀察不同期間多空對沖均報酬率的變化。通常會希望得到穩定＞0的曲線，代表多空對沖策略能穩定優於所有樣本公司的平均報酬率。  \n",
    "  \n",
    "圖中的淺色線代表多空對沖投組的平均報酬率（mean return spread）、深色線代表過去22個交易日的多空對沖平均報酬率（1 month moving avg）、陰影處則代表報酬率的信賴區間。\n",
    "\n",
    "\n",
    "#### 陰影處上下軌（其中，bandwidth預設1）  \n",
    "上軌 = 當天多空對沖投組平均報酬率 + （當天多空對沖投組平均報酬率的標準差 * bandwidth）  \n",
    "下軌 = 當天多空對沖投組平均報酬率 - （當天多空對沖投組平均報酬率的標準差 * bandwidth）"
   ]
  },
  {
   "cell_type": "code",
   "execution_count": null,
   "id": "b07164dc",
   "metadata": {},
   "outputs": [],
   "source": [
    "alphalens.plotting.plot_mean_quantile_returns_spread_time_series(quant_return_spread,\n",
    "                                                                 std_err_spread)"
   ]
  },
  {
   "cell_type": "markdown",
   "id": "c3f99273",
   "metadata": {},
   "source": [
    "### Cumulative Return by Quantile\n",
    "\n",
    "相較於前面提及的平均報酬率，這邊模擬透過等權重方式交易各因子分組中的所有股票，並計算實際報酬率。\n",
    "\n",
    "這邊我們希望看到不同分組的報酬率走勢呈現發散且各分組的表現呈現單調遞增，即top quantile的報酬率優於bottom quantile。  \n",
    "\n",
    "此外，在採用多空對沖策略的情形下，會做多top quantile，並同時放空bottom quantile的股票。因此我們希望看到top quantile逐漸上升且bottom quantile的報酬率逐漸下降。（此處top quantile為第5組，bottom quantile為第1組） \n",
    "\n",
    "#### 累計報酬率計算方式  \n",
    "- 利用`cumulative_returns`函數將同一分組每天的報酬率+1後再做連乘，得到日累計報酬率。  \n",
    "- `performance.cumulative_returns`函數利用`ep.cum_returns(returns, starting_value=1)`做計算。  \n",
    "\n",
    "<!-- 參考http://quantopian.github.io/empyrical/_modules/empyrical/stats.html\n",
    "df_cum = np.exp(np.log1p(returns).cumsum())  \n",
    "log1p = log（x+1）  -->\n",
    "\n",
    "公式如下： \n",
    "\n",
    "$$\\quad \\prod_{t=1}^p {(1+平均報酬率_t)} \\quad $$"
   ]
  },
  {
   "cell_type": "code",
   "execution_count": null,
   "id": "0fe90fb2",
   "metadata": {},
   "outputs": [],
   "source": [
    "cum_ret=mean_return_by_q_daily[['1D']].unstack('factor_quantile').apply(alphalens.performance.cumulative_returns)\n",
    "cum_ret.head()"
   ]
  },
  {
   "cell_type": "markdown",
   "id": "afcd70fa",
   "metadata": {},
   "source": [
    "以下利用`plot_cumulative_returns_by_quantile`函數將累計報酬率繪製成折線圖。受限於Alphalens計算累計報酬率的方式，僅呈現持有期為1日的累計報酬率折線圖。  \n",
    "\n",
    "#### 限制：\n",
    "因這邊使用的為日頻率資料，當持有期為10日時，若要計算20130102至20130103的累計報酬率，則Alphalens計算方式為（1+在20130102時點持有10日的報酬率） ×（1+在20130103時點持有10日的報酬率），但這個計算方式並不恰當。"
   ]
  },
  {
   "cell_type": "code",
   "execution_count": null,
   "id": "f6384d38",
   "metadata": {},
   "outputs": [],
   "source": [
    "alphalens.plotting.plot_cumulative_returns_by_quantile(mean_return_by_q_daily['1D'], period='1D')\n",
    "sns.despine()"
   ]
  },
  {
   "cell_type": "markdown",
   "id": "1e6c26c4",
   "metadata": {},
   "source": [
    "### Factor weighted Long/Short Portfolio Cumulative Return\n",
    "While looking at quantiles is important we must also look at the factor returns as a whole. The cumulative factor long/short returns plot lets us view the combined effects overtime of our entire factor.\n",
    "\n",
    "這邊利用`factor_returns`函數模擬了另一種多空對沖策略：以因子值為權重，做多因子值為正的股票，做空因子值為負的股票 ，獲得多空對沖報酬。這個策略納入所有股票池中的股票進行交易，與前面提到的因子分組組別（quantile）無關。若因子皆為正，則會形成一個純做多的投資組合。  \n",
    "\n",
    "通常實務上進行多空對沖策略時，只會交易top quantile及bottom quantile，但是依然可以利用因子加權的累計報酬率來觀察因子整體預測能力的一致性。若是越一致則以因子加權的方式建立投資組合會更有優勢。\n",
    "\n",
    "#### 因子加權\n",
    "根據`factor_returns`函數中demeaned參數設定的不同，因子加權投組的權數計算方式可分為以下兩種：\n",
    "\n",
    "> #### demeaned=False（不針對因子値做demeaned處理）\n",
    "> 股票i在時點t權數的計算方式為：將該股票當天的因子值除以當天所有股票因子値取絕對値後的總合。公式如下： \n",
    "> \n",
    "> $${權數_{i,t}=}\\frac{因子值_{i,t}}{\\sum_{i=1}^n  {\\mid因子值_{i,t}}\\mid}$$ \n",
    "> \n",
    "> #### demeaned=True（針對因子値做demeaned處理）\n",
    "> 先計算股票i在時點t的demeaned後因子值，計算方式為：將該股票當天的因子值扣除當天所有股票因子值的平均。公式如下：    \n",
    "> \n",
    "> $${demeaned後因子值_{i,t}=}{因子值_{i,t}}{-}\\frac{{\\sum_{i=1}^n{因子值_{i,t}}}}{n}$$ \n",
    ">   \n",
    "> 接著再計算股票i在時點t權數，公式如下： \n",
    "> \n",
    "> $${權數_{i,t}=}\\frac{demeaned後因子值_{i,t}}{\\sum_{i=1}^n  {\\mid demeaned後因子值_{i,t}}\\mid}$$ "
   ]
  },
  {
   "cell_type": "code",
   "execution_count": null,
   "id": "167db0e4",
   "metadata": {},
   "outputs": [],
   "source": [
    "ls_factor_returns = alphalens.performance.factor_returns(factor_data)\n",
    "ls_factor_returns.head()"
   ]
  },
  {
   "cell_type": "markdown",
   "id": "e16ca9c9",
   "metadata": {},
   "source": [
    "最後將累計報酬率繪製成折線圖。受限於Alphalens計算累計報酬率的方式 ，僅呈現持有期為1日的累計報酬率折線圖。  \n",
    "\n",
    "\n",
    "#### 限制：\n",
    "因這邊使用的為日頻率資料，當持有期為10日時，若要計算20130102至20130103的累計報酬率，則Alphalens計算方式為（1+在20130102時點持有10日的報酬率） ×（1+在20130103時點持有10日的報酬率），但這個計算方式並不恰當。解決方法為：將原始資料直接調整為月頻率，並且將持有期設定為1，就可以得到月的累計報酬率。"
   ]
  },
  {
   "cell_type": "code",
   "execution_count": null,
   "id": "48c6df6a",
   "metadata": {},
   "outputs": [],
   "source": [
    "alphalens.plotting.plot_cumulative_returns(ls_factor_returns['1D'], \n",
    "                                           period='1D')\n",
    "sns.despine()"
   ]
  },
  {
   "cell_type": "markdown",
   "id": "520cfa3b",
   "metadata": {},
   "source": [
    "### Alpha and beta\n",
    "Ann. alpha和beta來自於簡單迴歸中的兩個迴歸係數。其中，Ann. alpha需將原始的迴歸係數做年化處理，計算方式為：  \n",
    "\n",
    "$${(1+alpha)^\\frac{252}{持有期 }}{ }{-1}$$ \n",
    "\n",
    "迴歸的自變數X是全市場的平均報酬率（計算方式是將股票池中所有股票的報酬率取平均），應變數Y是因子加權多空對沖投組的平均報酬率。  \n",
    "（若demeaned參數設定為True則Y利用demeaned後報酬率計算）  \n",
    "\n",
    "其中，alpha衡量因子加權多空對沖投組所能獲得的超額報酬；beta則衡量該投組暴露於市場風險的程度。"
   ]
  },
  {
   "cell_type": "code",
   "execution_count": null,
   "id": "548c0435",
   "metadata": {},
   "outputs": [],
   "source": [
    "alpha_beta = alphalens.performance.factor_alpha_beta(factor_data)\n",
    "alpha_beta"
   ]
  },
  {
   "cell_type": "markdown",
   "id": "21d954c5",
   "metadata": {},
   "source": [
    "### Returns table\n",
    "包含alpha和beta、不同持有期下的top quantile及bottom quantile的平均報酬及多空對沖報酬率的平均值。"
   ]
  },
  {
   "cell_type": "code",
   "execution_count": null,
   "id": "99e3e7a6",
   "metadata": {},
   "outputs": [],
   "source": [
    "alphalens.plotting.plot_returns_table(alpha_beta,\n",
    "                                      mean_return_by_q_convertfreq,\n",
    "                                      quant_return_spread)"
   ]
  },
  {
   "cell_type": "markdown",
   "id": "2172ff46",
   "metadata": {},
   "source": [
    "## Returns Tear Sheet\n",
    "\n",
    "Return Analysis 所有圖表。"
   ]
  },
  {
   "cell_type": "code",
   "execution_count": null,
   "id": "3fafa7c2",
   "metadata": {},
   "outputs": [],
   "source": [
    "alphalens.tears.create_returns_tear_sheet(factor_data)"
   ]
  },
  {
   "cell_type": "markdown",
   "id": "8056c952",
   "metadata": {},
   "source": [
    "# Information Analysis\n",
    "\n",
    "- Information Coefficient（IC）是另一種觀察因子預測性的方法，透過計算因子值與持有期報酬的斯皮爾曼等級相關係數（Spearman rank correlation coefficient）而得。\n",
    "- 如果IC值為1，則說明因子的值排序和對應的持有期報酬率排序是一致的；如果是-1，則相反（若為負值代表應把策略利用相反方向進行操作）。\n",
    "- 通常我們會希望能持續保有正的IC值，代表因子對於未來報酬有預測力（一個常見的標準：若IC＞0.05~0.02代表該因子非常有效）。\n",
    "- 總體來說，Return Analysis和Information Analysis都是用來評估因子的預測能力，但是它們採用的不同的方法。Return Analysis基於股票報酬率來評估因子的效果，而Information Analysis基於資訊係數來評估因子的效果。因此，當我們評估因子時，可以同時使用這兩種分析方法來獲得更全面的資訊。\n",
    "\n",
    "## Performance Metrics & Plotting Functions\n",
    "\n",
    "### N Period Forward Return Information Coefficient\n",
    "利用`factor_information_coefficient`函數計算各持有期下每一日的IC值，觀察因子預測力隨時間變動的情況。\n",
    "\n",
    "#### 計算方式：\n",
    "- 若date=2013-01-03，持有期=10D：\n",
    "  Corr(date=2013-01-03當天所有股票因子值轉為排序值,date=2013-01-03當天所有股票持有10D的報酬率轉為排序值)\n",
    "- 若用EXCEL試算應使用RANK.AVG()先將持有期報酬及因子值轉為排序值，再用CORREL()函數計算相關係數。"
   ]
  },
  {
   "cell_type": "code",
   "execution_count": null,
   "id": "ed11f118",
   "metadata": {},
   "outputs": [],
   "source": [
    "ic = alphalens.performance.factor_information_coefficient(factor_data)\n",
    "ic.head()"
   ]
  },
  {
   "cell_type": "markdown",
   "id": "078f56e8",
   "metadata": {},
   "source": [
    "利用`plotting.plot_ic_ts`函數把不同時點的IC值繪製成折線圖，可以了解因子預測能力隨著時間的變化情況。  \n",
    "- 通常會希望看到IC在時間序列上大部分的時間點皆穩定為正（甚至＞0.05），且擁有較大的IC均值以及較小的IC標準差。  \n",
    "- 其中，圖中藍色線為每日的IC值；綠色線為近一個月（過去22天）的IC均值；橘色虛線為IC的標準值（0.05及-0.05）做為比較的參考線；右上角顯示IC均值及IC標準差（利用每日的IC值計算平均數及標準差）。\n",
    "- 近一個月的IC均值計算方式為`ic.rolling(window=22,min_periods=None).mean()`，因此當過去22天的資料中有一筆是NA時，近一個月的IC均值就是NA。"
   ]
  },
  {
   "cell_type": "code",
   "execution_count": null,
   "id": "f2f3b092",
   "metadata": {},
   "outputs": [],
   "source": [
    "alphalens.plotting.plot_ic_ts(ic)"
   ]
  },
  {
   "cell_type": "markdown",
   "id": "8edc49c4",
   "metadata": {},
   "source": [
    "### IC Histograms\n",
    "\n",
    "\n",
    "- 利用`plotting.plot_ic_hist`函數將不同持有期的IC序列資料繪製成直方圖觀察IC值的分佈情況（Alphalens利用`seaborn.histplot()`函數繪製）。\n",
    "- 通常會希望有較高的IC均值以及較為集中的分佈（標準差低）。  \n",
    "- 圖中白色虛線為IC均值；藍色實線為利用kernel density estimate方法估計的機率密度函數。 \n",
    "  - 因直方圖受限於長條寬度（bin），而不夠準確。Alphalens將`seaborn.histplot()`的`kde`參數設為True，利用kernel density estimate的方式估計機率密度，得到平滑且連續的結果。\n",
    "  - [seaborn.histplot](https://seaborn.pydata.org/generated/seaborn.histplot.html)"
   ]
  },
  {
   "cell_type": "code",
   "execution_count": null,
   "id": "de99acde",
   "metadata": {},
   "outputs": [],
   "source": [
    "alphalens.plotting.plot_ic_hist(ic)"
   ]
  },
  {
   "cell_type": "markdown",
   "id": "d4850d45",
   "metadata": {},
   "source": [
    "### N Period IC Normal Dist. Q-Q\n",
    "\n",
    "- QQ圖（使用`plot_ic_qq`函數）可以觀察IC值的機率分配是否近似於常態分配。以下圖來觀察，若藍色點的分佈大致貼合紅色線，代表IC的分佈接近常態分配。\n",
    "- 若圖形為凹向下，代表較接近左偏；若為凸向下，代表較接近右偏。"
   ]
  },
  {
   "cell_type": "code",
   "execution_count": null,
   "id": "63eb8106",
   "metadata": {},
   "outputs": [],
   "source": [
    "alphalens.plotting.plot_ic_qq(ic)"
   ]
  },
  {
   "cell_type": "markdown",
   "id": "85b68347",
   "metadata": {},
   "source": [
    "### Monthly Mean N Period IC\n",
    "將IC值按月取平均。"
   ]
  },
  {
   "cell_type": "code",
   "execution_count": null,
   "id": "8bb26167",
   "metadata": {},
   "outputs": [],
   "source": [
    "mean_monthly_ic = alphalens.performance.mean_information_coefficient(factor_data, \n",
    "                                                                     by_time='M')\n",
    "mean_monthly_ic.head()"
   ]
  },
  {
   "cell_type": "markdown",
   "id": "aeb3c78c",
   "metadata": {},
   "source": [
    "利用熱區圖觀察因子是否有月份效應。"
   ]
  },
  {
   "cell_type": "code",
   "execution_count": null,
   "id": "31eb3222",
   "metadata": {},
   "outputs": [],
   "source": [
    "alphalens.plotting.plot_monthly_ic_heatmap(mean_monthly_ic)"
   ]
  },
  {
   "cell_type": "markdown",
   "id": "b64f77ec",
   "metadata": {},
   "source": [
    "### Yearly Mean N Period IC\n",
    "將IC值按年取平均。\n",
    "\n",
    "#### 計算方式：\n",
    "date＝2013-12-31，持有期＝10D:\n",
    "把所有持有期＝10D且date在2013年間的IC值取平均。"
   ]
  },
  {
   "cell_type": "code",
   "execution_count": null,
   "id": "d9a1d44a",
   "metadata": {},
   "outputs": [],
   "source": [
    "mean_yearly_ic = alphalens.performance.mean_information_coefficient(factor_data,\n",
    "                                                                    by_time='1Y')\n",
    "mean_yearly_ic.head()"
   ]
  },
  {
   "cell_type": "code",
   "execution_count": null,
   "id": "589266ea",
   "metadata": {},
   "outputs": [],
   "source": [
    "fig = plt.figure(dpi=200)\n",
    "mean_yearly_ic.index = mean_yearly_ic.index.year\n",
    "mean_yearly_ic.plot.bar(figsize=(8, 4),rot=0,ax=plt.gca())\n",
    "plt.tight_layout();"
   ]
  },
  {
   "cell_type": "markdown",
   "id": "749faaf9",
   "metadata": {},
   "source": [
    "### Information Table\n",
    "- IC Mean：把各持有期下的IC序列取平均。\n",
    "- IC Std.：利用各持有期下的IC序列計算樣本標準差。  \n",
    "- Risk-Adjusted IC：`IC Mean` / `IC Std.`。因IC可能會受到樣本的波動性所影響，因此Risk-Adjusted IC通過將`IC Mean`除以`IC Std.`來消除波動性帶來的影響，以獲得更準確的評估。  \n",
    "- IC Skew：利用`scipy.stats.skew()`函數計算IC序列的偏態係數（SciPy是一個開源的Python演算法庫和數學工具包）。\n",
    "  - bias參數為True，代表未將利用小樣本資料計算偏態係數造成的偏誤進行修正。\n",
    "  - 常態分配的偏態係數為0（by Fisher’s definition）。[scipy.stats.skew](https://docs.scipy.org/doc/scipy-1.8.0/reference/generated/scipy.stats.skew.html)\n",
    "- IC Kurtosis：利用`scipy.stats.kurtosis()`函數計算IC序列的峰態係數。\n",
    "  - bias參數為True，代表未將利用小樣本資料計算峰態係數造成的偏誤進行修正。\n",
    "  - 常態分配的峰態係數為0（by Fisher’s definition）。[scipy.stats.kurtosis](https://docs.scipy.org/doc/scipy/reference/generated/scipy.stats.kurtosis.html)\n",
    "- t-stat(IC)／p-value(IC)：利用`scipy.stats.ttest_lsamp()`，將IC序列資料進行T檢定，檢驗其是否顯著異於0。\n",
    "  - 檢定統計量＝(`IC Mean`－0)／[(`IC Std.`／樣本數) ^ 0.5 ]。\n",
    "  - 若偏態的數值大於1或小於-1，實質上即可被視為偏態分配；同樣地，若峰態數值大於1，代表分配過於高聳，小於-1則代表分配過於平坦（Hair et al.,2017） "
   ]
  },
  {
   "cell_type": "code",
   "execution_count": null,
   "id": "134cb18e",
   "metadata": {},
   "outputs": [],
   "source": [
    "alphalens.plotting.plot_information_table(ic)"
   ]
  },
  {
   "cell_type": "code",
   "execution_count": null,
   "id": "afb1950e",
   "metadata": {},
   "outputs": [],
   "source": [
    "print(stats.skew(ic))  #Alphalens計算的版本\n",
    "print(stats.skew(ic, bias=False)) #EXCEL計算的版本\n",
    "\n",
    "print(stats.kurtosis(ic))  #Alphalens計算的版本\n",
    "print(stats.kurtosis(ic, bias=False)) #EXCEL計算的版本"
   ]
  },
  {
   "cell_type": "markdown",
   "id": "8cd32c06",
   "metadata": {},
   "source": [
    "## Information Tear Sheet\n",
    "\n",
    "Information analysis 所有圖表"
   ]
  },
  {
   "cell_type": "code",
   "execution_count": null,
   "id": "24021cde",
   "metadata": {},
   "outputs": [],
   "source": [
    "alphalens.tears.create_information_tear_sheet(factor_data)"
   ]
  },
  {
   "cell_type": "markdown",
   "id": "e5b7f56b",
   "metadata": {},
   "source": [
    "# Turnover Analysis\n",
    "\n",
    "\n",
    "因子周轉率間接衡量因子的穩定性及潛在的交易成本（Aphalens並沒有考慮佣金、滑價等交易成本）。周轉率低的因子能使投資組合不需要頻繁調整持股，也間接代表因子有更好的持續性且享有較低的交易成本。\n",
    "\n",
    "## 因子周轉率 Turnover\n",
    "各組在某一時點的周轉率 = 本期在第N組但前P期不在這一組的資產數量／本期在第N組的資產數量。\n",
    "- 若資料為日頻率且持有期為10日，則前P期就代表前10日。\n",
    "        \n",
    "## 因子自我相關係數 Autocorrelation\n",
    "- 因子自我相關係數衡量當期因子值排序與前一期因子值排序的相關程度。若自我相關係數絕對值較高，代表因子前後期存在較大相關性且穩定性較高；若自我相關係數絕對值較低，代表因子前後期相關性較低，投資組合容易面臨頻繁的持股調整。 \n",
    "- 計算因子自我相關的公式：corr（因子值本期排名, 因子值前P期的排名）。其中相關係數為皮爾森相關係數（Pearson correlation coefficient）。\n",
    "  - 若資料為日頻率且持有期為10日，則前P期就代表前10日。  \n",
    "  \n",
    "## Performance Metrics & Plotting Functions\n",
    "\n",
    "### N Period Top and Bottom Quantile Turnover\n",
    "`quantile_turnover`函數計算第N組周轉率的公式為：本期在第N組但前P期不在這一組的資產數量／本期在第N組的資產數量。\n",
    "\n",
    "註1：P由period參數控制。若資料為日頻率且period＝10，則前P期就代表前10日；通常period會設定與持有期相同。  \n",
    "註2：N由quantile參數來指定。若quantile＝1則計算第1組的周轉率。  \n",
    "\n",
    "以下計算持有期=1d的周轉率："
   ]
  },
  {
   "cell_type": "code",
   "execution_count": null,
   "id": "3d518a9c",
   "metadata": {},
   "outputs": [],
   "source": [
    "quantile_turnover =\\\n",
    "{\n",
    "        HOLDING_PERIODS: pd.concat([alphalens.performance.quantile_turnover(factor_data['factor_quantile'],\n",
    "                                                           quantile=quantile,\n",
    "                                                           period=HOLDING_PERIODS)\n",
    "             for quantile in factor_data.factor_quantile.sort_values().unique().tolist()],axis=1,)\n",
    "        for HOLDING_PERIODS in (1, 5, 10)\n",
    "        }\n",
    "\n",
    "quantile_turnover"
   ]
  },
  {
   "cell_type": "markdown",
   "id": "91e5c3b2",
   "metadata": {},
   "source": [
    "將top quantile及bottom quantile的因子周轉率繪製成折線圖，觀察在時序列上的變化。"
   ]
  },
  {
   "cell_type": "code",
   "execution_count": null,
   "id": "3e15f4bb",
   "metadata": {},
   "outputs": [],
   "source": [
    "for HOLDING_PERIODS in (1, 5, 10):\n",
    "    alphalens.plotting.plot_top_bottom_quantile_turnover(quantile_turnover[HOLDING_PERIODS],\n",
    "                                                         period=HOLDING_PERIODS)\n",
    "    plt.tight_layout()"
   ]
  },
  {
   "cell_type": "markdown",
   "id": "c1004a4f",
   "metadata": {},
   "source": [
    "### N Period Factor Rank Autocorrelation\n",
    "factor_rank_autocorrelation()函數計算因子自我相關的公式：corr（因子值本期排名, 因子值前P期的排名）。  \n",
    "其中相關係數為皮爾森相關係數（Pearson correlation coefficient）。\n",
    "  \n",
    "註1：P可由period參數控制。若資料為日頻率且period＝10，則前P期就代表前10日；通常period會設定與持有期相同。"
   ]
  },
  {
   "cell_type": "code",
   "execution_count": null,
   "id": "1fda886a",
   "metadata": {},
   "outputs": [],
   "source": [
    "factor_rank_autocorrelation=pd.DataFrame()\n",
    "for HOLDING_PERIODS in (1, 5, 10):\n",
    "    factor_rank_autocorrelation=factor_rank_autocorrelation.\\\n",
    "                                append(alphalens.performance.factor_rank_autocorrelation(factor_data,\n",
    "                                                                                         period=HOLDING_PERIODS))\n",
    "factor_rank_autocorrelation=factor_rank_autocorrelation.T\n",
    "factor_rank_autocorrelation.head(15)"
   ]
  },
  {
   "cell_type": "markdown",
   "id": "ac4d9ae7",
   "metadata": {},
   "source": [
    "將不同持有期的因子自我相關係數繪製成折線圖，觀察在時序列上的變化。同時折線圖右上角也呈現平均自我相關係數。"
   ]
  },
  {
   "cell_type": "code",
   "execution_count": null,
   "id": "3cfb6ee4",
   "metadata": {},
   "outputs": [],
   "source": [
    "for HOLDING_PERIODS in (1, 5, 10):\n",
    "    alphalens.plotting.plot_factor_rank_auto_correlation(factor_rank_autocorrelation[HOLDING_PERIODS],\n",
    "                                                         period=HOLDING_PERIODS)\n",
    "    plt.tight_layout()"
   ]
  },
  {
   "cell_type": "markdown",
   "id": "ddd8c9b7",
   "metadata": {},
   "source": [
    "### Turnover table"
   ]
  },
  {
   "cell_type": "code",
   "execution_count": null,
   "id": "cf713c96",
   "metadata": {},
   "outputs": [],
   "source": [
    "alphalens.plotting.plot_turnover_table(factor_rank_autocorrelation,\n",
    "                                       quantile_turnover)"
   ]
  },
  {
   "cell_type": "markdown",
   "id": "58bad534",
   "metadata": {},
   "source": [
    "## Turnover Tear Sheet\n",
    "\n",
    "所有 Turnover analysis 圖表"
   ]
  },
  {
   "cell_type": "code",
   "execution_count": null,
   "id": "75ad1713",
   "metadata": {},
   "outputs": [],
   "source": [
    "alphalens.tears.create_turnover_tear_sheet(factor_data)"
   ]
  },
  {
   "cell_type": "markdown",
   "id": "95765221",
   "metadata": {},
   "source": [
    "# Groupwise Performance\n",
    "\n",
    "若提供群集資料(比如: 產業類別)，可以透過加入 `by_group=True` 根據不同群集繪製出不同因子分析圖表。"
   ]
  },
  {
   "cell_type": "markdown",
   "id": "924d0d04",
   "metadata": {},
   "source": [
    "### IC by sector"
   ]
  },
  {
   "cell_type": "code",
   "execution_count": null,
   "id": "17115087",
   "metadata": {},
   "outputs": [],
   "source": [
    "ic_by_sector = alphalens.performance.mean_information_coefficient(factor_data, \n",
    "                                                                  by_group=True)\n",
    "ic_by_sector.head()"
   ]
  },
  {
   "cell_type": "code",
   "execution_count": null,
   "id": "0e016e10",
   "metadata": {},
   "outputs": [],
   "source": [
    "alphalens.plotting.plot_ic_by_group(ic_by_sector)"
   ]
  },
  {
   "cell_type": "markdown",
   "id": "e457ee4a",
   "metadata": {},
   "source": [
    "### Mean return quantile by sector"
   ]
  },
  {
   "cell_type": "code",
   "execution_count": null,
   "id": "c76a384b",
   "metadata": {},
   "outputs": [],
   "source": [
    "mean_return_quantile_sector, mean_return_quantile_sector_err = alphalens.performance.mean_return_by_quantile(factor_data, \n",
    "                                                                                                             by_group=True)\n",
    "mean_return_quantile_sector.head()"
   ]
  },
  {
   "cell_type": "markdown",
   "id": "dc3cbc00",
   "metadata": {},
   "source": [
    "平均報酬率轉換："
   ]
  },
  {
   "cell_type": "code",
   "execution_count": null,
   "id": "3d25d22d",
   "metadata": {},
   "outputs": [],
   "source": [
    "mean_return_quantile_sector_convertfreq=mean_return_quantile_sector.apply(alphalens.utils.rate_of_return,\n",
    "                                                                          axis=0,\n",
    "                                                                          base_period=mean_return_quantile_sector.columns[0])\n",
    "mean_return_quantile_sector_convertfreq.head()"
   ]
  },
  {
   "cell_type": "code",
   "execution_count": null,
   "id": "06c0b3df",
   "metadata": {},
   "outputs": [],
   "source": [
    "alphalens.plotting.plot_quantile_returns_bar(mean_return_quantile_sector_convertfreq, \n",
    "                                             by_group=True);"
   ]
  },
  {
   "cell_type": "markdown",
   "id": "7d35dc01",
   "metadata": {},
   "source": [
    "# Summary Tear Sheet\n",
    "\n",
    "匯出重點圖表 (請下載此檔案自行執行)"
   ]
  },
  {
   "cell_type": "code",
   "execution_count": null,
   "id": "36b29fe3",
   "metadata": {},
   "outputs": [],
   "source": [
    "alphalens.tears.create_summary_tear_sheet(factor_data)"
   ]
  },
  {
   "cell_type": "markdown",
   "id": "58e62d27",
   "metadata": {},
   "source": [
    "# The Whole Thing\n",
    "\n",
    "一次匯出所有圖表 (請下載此檔案自行執行)"
   ]
  },
  {
   "cell_type": "code",
   "execution_count": null,
   "id": "9e59a8e2",
   "metadata": {},
   "outputs": [],
   "source": [
    "alphalens.tears.create_full_tear_sheet(factor_data)"
   ]
  },
  {
   "cell_type": "code",
   "execution_count": null,
   "id": "38cdedda",
   "metadata": {},
   "outputs": [],
   "source": []
  }
 ],
 "metadata": {
  "kernelspec": {
   "display_name": "Python [conda env:zipline-tej] *",
   "language": "python",
   "name": "conda-env-zipline-tej-py"
  },
  "language_info": {
   "codemirror_mode": {
    "name": "ipython",
    "version": 3
   },
   "file_extension": ".py",
   "mimetype": "text/x-python",
   "name": "python",
   "nbconvert_exporter": "python",
   "pygments_lexer": "ipython3",
   "version": "3.8.13"
  }
 },
 "nbformat": 4,
 "nbformat_minor": 5
}
