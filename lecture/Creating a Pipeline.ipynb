{
 "cells": [
  {
   "cell_type": "markdown",
   "metadata": {},
   "source": [
    "# 建立 Pipeline\n",
    "\n",
    "Pipeline 幫助使用者於每個交易日整理且計算價格、交易量、量化指標等交易所需的數據。在編寫交易策略時，會在 initialize 函式以 `attach_pipeline` 將 Pipeline 中夾帶的資料導入策略當中。\n",
    "\n",
    "### zipline.pipeline.Pipeline\n",
    "\n",
    "#### Parameters:\n",
    "* columns: _dict_, optional\n",
    "        決定 Pipeline 所攜帶的資料。\n",
    "* screen: _zipline.pipeline.Filter_, optional\n",
    "        設定過濾掉部分資產標的的條件。\n",
    "\n",
    "於此例中，我們首先 ingest 台積電與旺宏股價並記錄於 `TWEquityPricing` 資料集中。"
   ]
  },
  {
   "cell_type": "code",
   "execution_count": 7,
   "metadata": {},
   "outputs": [],
   "source": [
    "import tejapi\n",
    "import pandas as pd\n",
    "import numpy as np\n",
    "\n",
    "import os\n",
    "os.environ['TEJAPI_BASE'] = 'https://api.tej.com.tw'\n",
    "os.environ['TEJAPI_KEY'] = 'your key'\n",
    "os.environ['ticker'] = '2330 2337'\n",
    "os.environ['mdate'] = '20170101 20230701'\n",
    "\n",
    "from zipline.pipeline import Pipeline\n",
    "from zipline.pipeline.data import TWEquityPricing"
   ]
  },
  {
   "cell_type": "markdown",
   "metadata": {},
   "source": [
    "接著宣告一個 `make_pipeline`，其中設定 `columns` 為 TWEquityPricing 中的最新收盤價格。\n",
    "\n"
   ]
  },
  {
   "cell_type": "code",
   "execution_count": 8,
   "metadata": {},
   "outputs": [],
   "source": [
    "def make_pipeline():\n",
    "    return Pipeline(columns={'close':TWEquityPricing.close.latest})"
   ]
  },
  {
   "cell_type": "code",
   "execution_count": 9,
   "metadata": {},
   "outputs": [],
   "source": [
    "my_pipe = make_pipeline()"
   ]
  },
  {
   "cell_type": "markdown",
   "metadata": {},
   "source": [
    "## 運行 Pipeline\n",
    "\n",
    "接著我們使用 `run_pipeline`，`run_pipeline` 僅用於研究用並不用於編寫交易策略中。觀察 Pipeline 輸出樣式，可以發現 Pipeline 會提供每日每公司的收盤價。\n",
    "\n",
    "### zipline.master.run_pipeline\n",
    "\n",
    "#### Parameters:\n",
    "* pipeline: _zipline.pipeline.Pipeline_\n",
    "        已經宣告的 pipeline。\n",
    "* start_date: _str_ or _pd.Timestamp_\n",
    "        起始日期。\n",
    "* end_date: _str_ or _pd.Timestamp_\n",
    "        結束日期。"
   ]
  },
  {
   "cell_type": "code",
   "execution_count": 16,
   "metadata": {},
   "outputs": [],
   "source": [
    "from zipline.master import run_pipeline"
   ]
  },
  {
   "cell_type": "code",
   "execution_count": 17,
   "metadata": {},
   "outputs": [],
   "source": [
    "result = run_pipeline(my_pipe, '2018-01-03', '2022-12-30')"
   ]
  },
  {
   "cell_type": "code",
   "execution_count": 18,
   "metadata": {},
   "outputs": [
    {
     "data": {
      "text/html": [
       "<div>\n",
       "<style scoped>\n",
       "    .dataframe tbody tr th:only-of-type {\n",
       "        vertical-align: middle;\n",
       "    }\n",
       "\n",
       "    .dataframe tbody tr th {\n",
       "        vertical-align: top;\n",
       "    }\n",
       "\n",
       "    .dataframe thead th {\n",
       "        text-align: right;\n",
       "    }\n",
       "</style>\n",
       "<table border=\"1\" class=\"dataframe\">\n",
       "  <thead>\n",
       "    <tr style=\"text-align: right;\">\n",
       "      <th></th>\n",
       "      <th></th>\n",
       "      <th>close</th>\n",
       "    </tr>\n",
       "  </thead>\n",
       "  <tbody>\n",
       "    <tr>\n",
       "      <th rowspan=\"2\" valign=\"top\">2022-12-02 00:00:00+00:00</th>\n",
       "      <th>Equity(0 [1216])</th>\n",
       "      <td>65.90</td>\n",
       "    </tr>\n",
       "    <tr>\n",
       "      <th>Equity(1 [IR0001])</th>\n",
       "      <td>31157.86</td>\n",
       "    </tr>\n",
       "    <tr>\n",
       "      <th rowspan=\"2\" valign=\"top\">2022-12-05 00:00:00+00:00</th>\n",
       "      <th>Equity(0 [1216])</th>\n",
       "      <td>65.00</td>\n",
       "    </tr>\n",
       "    <tr>\n",
       "      <th>Equity(1 [IR0001])</th>\n",
       "      <td>31070.56</td>\n",
       "    </tr>\n",
       "    <tr>\n",
       "      <th>2022-12-06 00:00:00+00:00</th>\n",
       "      <th>Equity(0 [1216])</th>\n",
       "      <td>65.40</td>\n",
       "    </tr>\n",
       "  </tbody>\n",
       "</table>\n",
       "</div>"
      ],
      "text/plain": [
       "                                                 close\n",
       "2022-12-02 00:00:00+00:00 Equity(0 [1216])       65.90\n",
       "                          Equity(1 [IR0001])  31157.86\n",
       "2022-12-05 00:00:00+00:00 Equity(0 [1216])       65.00\n",
       "                          Equity(1 [IR0001])  31070.56\n",
       "2022-12-06 00:00:00+00:00 Equity(0 [1216])       65.40"
      ]
     },
     "execution_count": 18,
     "metadata": {},
     "output_type": "execute_result"
    }
   ],
   "source": [
    "result.head()"
   ]
  }
 ],
 "metadata": {
  "kernelspec": {
   "display_name": "Python 3 (ipykernel)",
   "language": "python",
   "name": "python3"
  },
  "language_info": {
   "codemirror_mode": {
    "name": "ipython",
    "version": 3
   },
   "file_extension": ".py",
   "mimetype": "text/x-python",
   "name": "python",
   "nbconvert_exporter": "python",
   "pygments_lexer": "ipython3",
   "version": "3.8.13"
  }
 },
 "nbformat": 4,
 "nbformat_minor": 1
}
