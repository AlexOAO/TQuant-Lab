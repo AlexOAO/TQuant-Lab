{
 "cells": [
  {
   "cell_type": "markdown",
   "id": "2b076a6d",
   "metadata": {},
   "source": [
    "# Zipline 手續費"
   ]
  },
  {
   "cell_type": "markdown",
   "id": "34c071e5",
   "metadata": {},
   "source": [
    "Zipline有三種手續費計算方法(commission models)：\n",
    "    \n",
    "    PerShare(cost=0.001, min_trade_cost=0.0)：按照買賣的股數算，還可以設定一個最低費用\n",
    "    PerTrade(cost=0.1)：一筆交易收一個固定手續費\n",
    "    PerDollar(cost=0.0015)：按照交易額抽成\n",
    "    \n",
    "設定方法是在def initialize(context): 裡面加入\n",
    " \n",
    "    set_commission(commission.其中一種計費方法)\n",
    " \n",
    "set_commission只能一次用一種計算方法，如果要混合兩種計費方法，例如每單固定收0.5，再加上每股抽成0.001，zipline建議自己在commission.py下面寫一個class，裡面要包含calculate()。\n",
    "\n",
    "參考資料：https://zipline.ml4trading.io/api-reference.html#commission-models"
   ]
  },
  {
   "cell_type": "markdown",
   "id": "2ae06196",
   "metadata": {},
   "source": [
    "## 設定環境"
   ]
  },
  {
   "cell_type": "code",
   "execution_count": 1,
   "id": "ee5cae9e",
   "metadata": {},
   "outputs": [
    {
     "name": "stdout",
     "output_type": "stream",
     "text": [
      "Merging daily equity files:\n"
     ]
    },
    {
     "name": "stderr",
     "output_type": "stream",
     "text": [
      "[2023-08-15 01:14:32.107915] INFO: zipline.data.bundles.core: Ingesting tquant.\n"
     ]
    }
   ],
   "source": [
    "import pandas as pd\n",
    "import datetime\n",
    "import tejapi\n",
    "import time\n",
    "import os\n",
    "import warnings\n",
    "warnings.filterwarnings('ignore')\n",
    "\n",
    "# tej_key-------------------------------------------\n",
    "tej_key ='your key'\n",
    "tejapi.ApiConfig.api_key = tej_key  \n",
    "os.environ['TEJAPI_KEY'] = tej_key\n",
    "os.environ['TEJAPI_BASE'] = \"https://api.tej.com.tw\"\n",
    "\n",
    "# universe and benchmark----------------------------\n",
    "idx=['TWN50']   # 'TM100' 'TWN50'\n",
    "benchmark=['Y9997']\n",
    "\n",
    "# date----------------------------------------------\n",
    "# set date\n",
    "start='2022-12-01'\n",
    "end='2022-12-31'\n",
    "os.environ['mdate'] = '20221201 20221231'      # start+' '+end #'20221011 20221223'\n",
    "\n",
    "tz = 'UTC'\n",
    "start_dt, end_dt = pd.Timestamp(start, tz = tz), pd.Timestamp(end, tz = tz)\n",
    "# calendar------------------------------------------\n",
    "calendar_name='TEJ'  # US equities  XTAI\n",
    "\n",
    "# bundle_name---------------------------------------\n",
    "bundle_name = 'tquant'\n",
    "\n",
    "from zipline.utils.calendar_utils import get_calendar\n",
    "if get_calendar(calendar_name).is_session(start_dt)==False:\n",
    "    start_dt=get_calendar(calendar_name).next_open(start_dt)\n",
    "    \n",
    "if get_calendar(calendar_name).is_session(end_dt)==False:\n",
    "    end_dt=get_calendar(calendar_name).previous_close(pd.Timestamp(end_dt))\n",
    "    \n",
    "from zipline.api import    *\n",
    "\n",
    "from zipline import run_algorithm  \n",
    "from zipline.finance import commission, slippage\n",
    "from zipline.pipeline import Pipeline, CustomFactor\n",
    "from zipline.pipeline.factors import Returns, AverageDollarVolume\n",
    "\n",
    "from zipline.utils.run_algo import (get_transaction_detail,\n",
    "                    get_data_for_alphalens,\n",
    "                    get_record_vars)\n",
    "\n",
    "from zipline.sources.TEJ_Api_Data import (get_Treasury_Return,\n",
    "                                          get_Benchmark_Return)\n",
    "\n",
    "\n",
    "from logbook import Logger, StderrHandler, INFO\n",
    "import numpy as np\n",
    "import pandas as pd\n",
    "%matplotlib inline\n",
    "import matplotlib.pyplot as plt\n",
    "import seaborn as sns\n",
    "sns.set_style('whitegrid')\n",
    "\n",
    "from zipline.utils import run_algo\n",
    "from zipline.data import bundles\n",
    "\n",
    "log_handler = StderrHandler(format_string='[{record.time:%Y-%m-%d %H:%M:%S.%f}]: ' +\n",
    "                            '{record.level_name}: {record.func_name}: {record.message}',\n",
    "                            level=INFO)\n",
    "log_handler.push_application()\n",
    "log = Logger('Algorithm')\n",
    "\n",
    "coid = \"1216 IR0001 5844\"\n",
    "    \n",
    "os.environ['ticker'] = coid       \n",
    "!zipline ingest -b tquant"
   ]
  },
  {
   "cell_type": "markdown",
   "id": "17a71831",
   "metadata": {},
   "source": [
    "## 比較三種計算方法，注意三個initialize的差別\n",
    "\n",
    "### class zipline.finance.commission.PerDollar(cost=0.0015)\n",
    "- cost (float, optional) – The flat amount of commissions paid per dollar of equities traded. Default is a commission of 0.0015 per dollar transacted.\n",
    "\n",
    "### class zipline.finance.commission.PerTrade(cost=0.0)\n",
    "- cost (float, optional) – The flat amount of commissions paid per equity trade.\n",
    "\n",
    "### class zipline.finance.commission.PerShare(cost=0.001, min_trade_cost=0.0)\n",
    "- cost (float, optional) – The amount of commissions paid per share traded. Default is one tenth of a cent per share.\n",
    "\n",
    "- min_trade_cost (float, optional) – The minimum amount of commissions paid per trade. Default is no minimum."
   ]
  },
  {
   "cell_type": "code",
   "execution_count": 4,
   "id": "bd78b018",
   "metadata": {},
   "outputs": [],
   "source": [
    "def initialize_perdollar(context):\n",
    "    context.i = 0\n",
    "    context.tickers = ['1216']\n",
    "    context.asset = [symbol(ticker) for ticker in context.tickers]      \n",
    "    set_slippage(slippage.FixedSlippage(spread=0.00))\n",
    "    set_commission(commission.PerDollar(cost=0.001))\n",
    "    set_benchmark(symbol('IR0001'))\n",
    "    \n",
    "def initialize_pertrade(context):\n",
    "    context.i = 0\n",
    "    context.tickers = ['1216']\n",
    "    context.asset = [symbol(ticker) for ticker in context.tickers]      \n",
    "    set_slippage(slippage.FixedSlippage(spread=0.00))\n",
    "    set_commission(commission.PerTrade(cost=0.5))\n",
    "    set_benchmark(symbol('IR0001'))\n",
    "    \n",
    "def initialize_pershare(context):\n",
    "    context.i = 0\n",
    "    context.tickers = ['1216']\n",
    "    context.asset = [symbol(ticker) for ticker in context.tickers]      \n",
    "    set_slippage(slippage.FixedSlippage(spread=0.00))\n",
    "    set_commission(commission.PerShare(cost=0.001, min_trade_cost=5.0))\n",
    "    set_benchmark(symbol('IR0001'))\n",
    "    \n",
    "    \n",
    "def handle_data(context, data):\n",
    "\n",
    "    if context.i == 0:\n",
    "        for asset in context.asset:\n",
    "            order_target(asset, 1000)\n",
    "            \n",
    "    record(close=data.current(context.asset, 'close'))\n",
    "    context.i += 1\n",
    "    \n",
    "def analyze(context, perf):\n",
    "\n",
    "    pass\n",
    "\n",
    "capital_base = 1e5\n",
    "treasury_returns = get_Treasury_Return(start = start_dt,\n",
    "                                      end = end_dt,\n",
    "                                      rate_type = 'Time_Deposit_Rate',                     \n",
    "                                      term = '1y',\n",
    "                                      symbol = '5844')\n"
   ]
  },
  {
   "cell_type": "code",
   "execution_count": 5,
   "id": "16f41ed9",
   "metadata": {},
   "outputs": [
    {
     "name": "stderr",
     "output_type": "stream",
     "text": [
      "[2023-08-15 01:15:03.074603]: INFO: handle_simulation_end: Simulated 22 trading days\n",
      "first open: 2022-12-01 01:01:00+00:00\n",
      "last close: 2022-12-30 05:30:00+00:00\n",
      "[2023-08-15 01:15:03.173243]: INFO: handle_simulation_end: Simulated 22 trading days\n",
      "first open: 2022-12-01 01:01:00+00:00\n",
      "last close: 2022-12-30 05:30:00+00:00\n",
      "[2023-08-15 01:15:03.272552]: INFO: handle_simulation_end: Simulated 22 trading days\n",
      "first open: 2022-12-01 01:01:00+00:00\n",
      "last close: 2022-12-30 05:30:00+00:00\n"
     ]
    }
   ],
   "source": [
    "closing_price = tejapi.get('TWN/APIPRCD',coid=['1216'], opts={'columns':['mdate','coid','close_d']}, mdate={'gte':start_dt,'lte':end_dt }, paginate=True)\n",
    "\n",
    "perdollar = run_algorithm(start=start_dt,\n",
    "                            end=end_dt,\n",
    "                            initialize=initialize_perdollar,\n",
    "                            handle_data=handle_data,\n",
    "                            capital_base=capital_base,\n",
    "                            analyze=analyze,\n",
    "                            treasury_returns=treasury_returns,\n",
    "                            trading_calendar=get_calendar(calendar_name),\n",
    "                            bundle=bundle_name)\n",
    "\n",
    "pertrade = run_algorithm(start=start_dt,\n",
    "                            end=end_dt,\n",
    "                            initialize=initialize_pertrade,\n",
    "                            handle_data=handle_data,\n",
    "                            capital_base=capital_base,\n",
    "                            analyze=analyze,\n",
    "                            treasury_returns=treasury_returns,\n",
    "                            trading_calendar=get_calendar(calendar_name),\n",
    "                            bundle=bundle_name)\n",
    "\n",
    "pershare = run_algorithm(start=start_dt,\n",
    "                            end=end_dt,\n",
    "                            initialize=initialize_pershare,\n",
    "                            handle_data=handle_data,\n",
    "                            capital_base=capital_base,\n",
    "                            analyze=analyze,\n",
    "                            treasury_returns=treasury_returns,\n",
    "                            trading_calendar=get_calendar(calendar_name),\n",
    "                            bundle=bundle_name)"
   ]
  },
  {
   "cell_type": "markdown",
   "id": "e7d5406f",
   "metadata": {},
   "source": [
    "同樣在12/1下單一張統一 (1216) 股票，如果用PerDollar算法，就是第二天12/2收盤價65 * 1000 * 0.001 = 65，如果是PerOrder，就固定是預先設定好的0.5。PerShare雖然設定一股抽0.001，但是1000 * 0.001 = 1 小於最低費用 min_trade_cost = 5，所以手續費是5。\n",
    "\n",
    "註：價格以成交日收盤價為準，數量以成交時為準，也就是說，如果因為split造成amount有任何變化，計算上都是用成交時新的amount。"
   ]
  },
  {
   "cell_type": "code",
   "execution_count": 6,
   "id": "14274138",
   "metadata": {},
   "outputs": [
    {
     "data": {
      "text/plain": [
       "[{'id': 'd45e2be1af584f919ac64518072072d8',\n",
       "  'dt': Timestamp('2022-12-02 13:30:00+0800', tz='Asia/Taipei'),\n",
       "  'reason': None,\n",
       "  'created': Timestamp('2022-12-01 13:30:00+0800', tz='Asia/Taipei'),\n",
       "  'amount': 1000,\n",
       "  'filled': 1000,\n",
       "  'commission': 65.0,\n",
       "  'stop': None,\n",
       "  'limit': None,\n",
       "  'stop_reached': False,\n",
       "  'limit_reached': False,\n",
       "  'sid': Equity(0 [1216]),\n",
       "  'status': <ORDER_STATUS.FILLED: 1>}]"
      ]
     },
     "execution_count": 6,
     "metadata": {},
     "output_type": "execute_result"
    }
   ],
   "source": [
    "perdollar['orders'][1]"
   ]
  },
  {
   "cell_type": "code",
   "execution_count": 7,
   "id": "0333a12d",
   "metadata": {
    "scrolled": true
   },
   "outputs": [
    {
     "data": {
      "text/plain": [
       "[{'id': 'a4f1ebe02f4048d2ade0fe58001a37d0',\n",
       "  'dt': Timestamp('2022-12-02 13:30:00+0800', tz='Asia/Taipei'),\n",
       "  'reason': None,\n",
       "  'created': Timestamp('2022-12-01 13:30:00+0800', tz='Asia/Taipei'),\n",
       "  'amount': 1000,\n",
       "  'filled': 1000,\n",
       "  'commission': 0.5,\n",
       "  'stop': None,\n",
       "  'limit': None,\n",
       "  'stop_reached': False,\n",
       "  'limit_reached': False,\n",
       "  'sid': Equity(0 [1216]),\n",
       "  'status': <ORDER_STATUS.FILLED: 1>}]"
      ]
     },
     "execution_count": 7,
     "metadata": {},
     "output_type": "execute_result"
    }
   ],
   "source": [
    "pertrade['orders'][1]"
   ]
  },
  {
   "cell_type": "code",
   "execution_count": 8,
   "id": "35e9a418",
   "metadata": {},
   "outputs": [
    {
     "data": {
      "text/plain": [
       "[{'id': 'ddd1619648f544afaa474ae5536b92bb',\n",
       "  'dt': Timestamp('2022-12-02 13:30:00+0800', tz='Asia/Taipei'),\n",
       "  'reason': None,\n",
       "  'created': Timestamp('2022-12-01 13:30:00+0800', tz='Asia/Taipei'),\n",
       "  'amount': 1000,\n",
       "  'filled': 1000,\n",
       "  'commission': 5.0,\n",
       "  'stop': None,\n",
       "  'limit': None,\n",
       "  'stop_reached': False,\n",
       "  'limit_reached': False,\n",
       "  'sid': Equity(0 [1216]),\n",
       "  'status': <ORDER_STATUS.FILLED: 1>}]"
      ]
     },
     "execution_count": 8,
     "metadata": {},
     "output_type": "execute_result"
    }
   ],
   "source": [
    "pershare['orders'][1]"
   ]
  },
  {
   "cell_type": "code",
   "execution_count": 9,
   "id": "54d27163",
   "metadata": {
    "scrolled": true
   },
   "outputs": [
    {
     "data": {
      "text/html": [
       "<div>\n",
       "<style scoped>\n",
       "    .dataframe tbody tr th:only-of-type {\n",
       "        vertical-align: middle;\n",
       "    }\n",
       "\n",
       "    .dataframe tbody tr th {\n",
       "        vertical-align: top;\n",
       "    }\n",
       "\n",
       "    .dataframe thead th {\n",
       "        text-align: right;\n",
       "    }\n",
       "</style>\n",
       "<table border=\"1\" class=\"dataframe\">\n",
       "  <thead>\n",
       "    <tr style=\"text-align: right;\">\n",
       "      <th></th>\n",
       "      <th>mdate</th>\n",
       "      <th>coid</th>\n",
       "      <th>close_d</th>\n",
       "    </tr>\n",
       "    <tr>\n",
       "      <th>None</th>\n",
       "      <th></th>\n",
       "      <th></th>\n",
       "      <th></th>\n",
       "    </tr>\n",
       "  </thead>\n",
       "  <tbody>\n",
       "    <tr>\n",
       "      <th>0</th>\n",
       "      <td>2022-12-01</td>\n",
       "      <td>1216</td>\n",
       "      <td>65.9</td>\n",
       "    </tr>\n",
       "    <tr>\n",
       "      <th>1</th>\n",
       "      <td>2022-12-02</td>\n",
       "      <td>1216</td>\n",
       "      <td>65.0</td>\n",
       "    </tr>\n",
       "  </tbody>\n",
       "</table>\n",
       "</div>"
      ],
      "text/plain": [
       "          mdate  coid  close_d\n",
       "None                          \n",
       "0    2022-12-01  1216     65.9\n",
       "1    2022-12-02  1216     65.0"
      ]
     },
     "execution_count": 9,
     "metadata": {},
     "output_type": "execute_result"
    }
   ],
   "source": [
    "closing_price[0:2]"
   ]
  },
  {
   "cell_type": "code",
   "execution_count": null,
   "id": "1598885e",
   "metadata": {},
   "outputs": [],
   "source": []
  }
 ],
 "metadata": {
  "kernelspec": {
   "display_name": "Python 3 (ipykernel)",
   "language": "python",
   "name": "python3"
  },
  "language_info": {
   "codemirror_mode": {
    "name": "ipython",
    "version": 3
   },
   "file_extension": ".py",
   "mimetype": "text/x-python",
   "name": "python",
   "nbconvert_exporter": "python",
   "pygments_lexer": "ipython3",
   "version": "3.8.13"
  }
 },
 "nbformat": 4,
 "nbformat_minor": 5
}
