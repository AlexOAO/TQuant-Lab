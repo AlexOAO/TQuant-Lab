{
 "cells": [
  {
   "cell_type": "markdown",
   "id": "2b076a6d",
   "metadata": {},
   "source": [
    "<span id=\"menu\"></span>\n",
    "# Zipline Commission Models 手續費模型"
   ]
  },
  {
   "cell_type": "markdown",
   "id": "34c071e5",
   "metadata": {},
   "source": [
    "> - 交易成本（transaction costs）被廣泛認為是影響投資績效的重要因素。它們不僅影響投資績效，還影響了將資產轉換成現金的難易度。\n",
    "> - 在真實世界的交易中存在許多種類的交易成本，其中一種是**直接成本（direct cost）**。\n",
    "> - 直接成本包含了**手續費（commission）、證交稅**等等，這些成本是在交易前已經**提前知道的成本**。\n",
    "> - 此類成本皆可以使用 Zipline 中的 **commission models** 進行模擬。\n",
    "> - 這也是回測（backtesting）的一大目的，考量投資策略在真實世界運行的可能性。\n",
    "> \n",
    "> \n",
    "> ## Zipline 有三種 commission models：\n",
    "> \n",
    "> 1. `PerShare`：按照下單的股數計算費用，同時還可以設定一個最低費用。\n",
    "> 2. `PerTrade`：一筆交易收取一筆固定費用。\n",
    "> 3. `PerDollar`：按照交易金額抽成計算。\n",
    ">\n",
    "> ## 閱讀本篇之前請先閱讀以下文章：\n",
    "> 1. [TSMC buy and hold strategy.ipynb](https://github.com/tejtw/TQuant-Lab/blob/main/lecture/TSMC%20buy%20and%20hold%20strategy.ipynb) \n",
    "> \n",
    "> 2. [Zipline Order（order & order_target）.ipynb](https://github.com/tejtw/TQuant-Lab/blob/main/lecture/Zipline%20Order%20(order%20%26%20order_target).ipynb)\n",
    "> \n",
    "> 3. [Zipline Order（value & target_value）.ipynb](https://github.com/tejtw/TQuant-Lab/blob/main/lecture/Zipline%20Order%20(value%20%26%20target_value).ipynb)\n",
    ">\n",
    "> 4. [Zipline Order（percent & target_percent）.ipynb](https://github.com/tejtw/TQuant-Lab/blob/main/lecture/Zipline%20Order%20(percent%20%26%20target_percent).ipynb)\n",
    ">\n",
    "> ## 閱讀本篇之後可以閱讀：\n",
    "> \n",
    "> [Zipline Slippage.ipynb](https://github.com/tejtw/TQuant-Lab/blob/main/lecture/Zipline%20Slippage.ipynb)"
   ]
  },
  {
   "cell_type": "markdown",
   "id": "ed7eff07",
   "metadata": {},
   "source": [
    "## 設定方法\n",
    "```python\n",
    "from zipline.api import set_commission\n",
    "from zipline.finance import commission\n",
    "\n",
    "def initialize(context):\n",
    "    set_commission(commission.<其中一種commission models>)\n",
    "```\n",
    "\n",
    "## 補充說明\n",
    "- `set_commission`只能一次用**一種**方法。\n",
    "- `set_commission`**只能**在`initialize`階段使用。\n",
    "- 手續費計算時，**價格以成交日收盤價為準，數量也以成交時為準**，也就是說，如果因為股數變動造成 amount 有任何變化，計算上都是用成交時新的 amount。"
   ]
  },
  {
   "cell_type": "markdown",
   "id": "2ae06196",
   "metadata": {},
   "source": [
    "## 設定環境"
   ]
  },
  {
   "cell_type": "code",
   "execution_count": 1,
   "id": "ee5cae9e",
   "metadata": {},
   "outputs": [],
   "source": [
    "import pandas as pd\n",
    "import numpy as np\n",
    "import datetime\n",
    "import tejapi\n",
    "import time\n",
    "import os\n",
    "import warnings\n",
    "warnings.filterwarnings('ignore')\n",
    "\n",
    "# tej_key\n",
    "tej_key ='your key'\n",
    "tejapi.ApiConfig.api_key = tej_key\n",
    "os.environ['TEJAPI_BASE'] = \"https://api.tej.com.tw\"\n",
    "os.environ['TEJAPI_KEY'] = tej_key\n",
    "\n",
    "# date\n",
    "# set date\n",
    "start='2022-12-01'\n",
    "end='2022-12-31'\n",
    "os.environ['mdate'] = '20221201 20221231'\n",
    "\n",
    "tz = 'UTC'\n",
    "start_dt, end_dt = pd.Timestamp(start, tz = tz), pd.Timestamp(end, tz = tz)\n",
    "\n",
    "# calendar\n",
    "calendar_name='TEJ'\n",
    "\n",
    "# bundle_name\n",
    "bundle_name = 'tquant'\n",
    "\n",
    "# ticker\n",
    "os.environ['ticker'] = '1216 IR0001'"
   ]
  },
  {
   "cell_type": "code",
   "execution_count": 2,
   "id": "fb7d14e2",
   "metadata": {},
   "outputs": [
    {
     "name": "stdout",
     "output_type": "stream",
     "text": [
      "Merging daily equity files:\n"
     ]
    },
    {
     "name": "stderr",
     "output_type": "stream",
     "text": [
      "[2023-09-15 11:20:30.497145] INFO: zipline.data.bundles.core: Ingesting tquant.\n"
     ]
    }
   ],
   "source": [
    "!zipline ingest -b tquant"
   ]
  },
  {
   "cell_type": "code",
   "execution_count": 3,
   "id": "b250e85c",
   "metadata": {},
   "outputs": [],
   "source": [
    "from zipline.finance import commission, slippage\n",
    "from zipline.api import *\n",
    "\n",
    "from zipline import run_algorithm\n",
    "from zipline.utils.calendar_utils import get_calendar\n",
    "\n",
    "from zipline.utils.run_algo import  (get_transaction_detail,\n",
    "                                     get_record_vars)"
   ]
  },
  {
   "cell_type": "markdown",
   "id": "17a71831",
   "metadata": {},
   "source": [
    "## 範例：比較三種計算方法，注意三個initialize函數的差別\n",
    "\n",
    "### class zipline.finance.commission.PerDollar(cost=0.0015)\n",
    "按照交易金額抽成計算\n",
    "\n",
    "- cost：*float, optional*，每交易一元的股票所需支付的固定費用。預設為 0.0015 元。\n",
    "\n",
    "### class zipline.finance.commission.PerTrade(cost=0.0)\n",
    "一筆交易收取一筆固定費用\n",
    "\n",
    "- cost：*float, optional*，每進行一筆交易所需支付的固定費用。預設為 0 元。\n",
    "\n",
    "### class zipline.finance.commission.PerShare(cost=0.001, min_trade_cost=0.0)\n",
    "按照下單的股數計算費用，同時還可以設定一個最低費用\n",
    "\n",
    "- cost：*float, optional*，每交易一股的股票所需支付的固定費用。預設為 0.001 元。\n",
    "- min_trade_cost：*float, optional*，最低費用，預設為無最低費用。"
   ]
  },
  {
   "cell_type": "code",
   "execution_count": 4,
   "id": "bd78b018",
   "metadata": {},
   "outputs": [],
   "source": [
    "def initialize_perdollar(context):\n",
    "    context.i = 0\n",
    "    context.tickers = ['1216']\n",
    "    context.asset = [symbol(ticker) for ticker in context.tickers]      \n",
    "    set_slippage(slippage.FixedSlippage(spread=0.00))\n",
    "    \n",
    "    # set_commission\n",
    "    set_commission(commission.PerDollar(cost=0.001))\n",
    "    \n",
    "    set_benchmark(symbol('IR0001'))\n",
    "    \n",
    "def initialize_pertrade(context):\n",
    "    context.i = 0\n",
    "    context.tickers = ['1216']\n",
    "    context.asset = [symbol(ticker) for ticker in context.tickers]      \n",
    "    set_slippage(slippage.FixedSlippage(spread=0.00))\n",
    "    \n",
    "    # set_commission\n",
    "    set_commission(commission.PerTrade(cost=0.5))\n",
    "    \n",
    "    set_benchmark(symbol('IR0001'))\n",
    "    \n",
    "def initialize_pershare(context):\n",
    "    context.i = 0\n",
    "    context.tickers = ['1216']\n",
    "    context.asset = [symbol(ticker) for ticker in context.tickers]      \n",
    "    set_slippage(slippage.FixedSlippage(spread=0.00))\n",
    "    \n",
    "    # set_commission\n",
    "    set_commission(commission.PerShare(cost=0.001, min_trade_cost=5.0))\n",
    "    \n",
    "    set_benchmark(symbol('IR0001'))\n",
    "    \n",
    "    \n",
    "def handle_data(context, data):\n",
    "\n",
    "    if context.i == 0:\n",
    "        for asset in context.asset:\n",
    "            order_target(asset, 1000)\n",
    "            \n",
    "    record(close=data.current(context.asset, 'close'))\n",
    "    context.i += 1\n",
    "\n",
    "capital_base = 1e5"
   ]
  },
  {
   "cell_type": "code",
   "execution_count": 5,
   "id": "16f41ed9",
   "metadata": {},
   "outputs": [],
   "source": [
    "closing_price = tejapi.get('TWN/APIPRCD',\n",
    "                           coid=['1216'],\n",
    "                           opts={'columns':['mdate','coid','close_d']},\n",
    "                           mdate={'gte':start_dt,'lte':end_dt },\n",
    "                           paginate=True)\n",
    "\n",
    "perdollar = run_algorithm(start=start_dt,\n",
    "                            end=end_dt,\n",
    "                            initialize=initialize_perdollar,\n",
    "                            handle_data=handle_data,\n",
    "                            capital_base=capital_base,\n",
    "                            trading_calendar=get_calendar(calendar_name),\n",
    "                            bundle=bundle_name)\n",
    "\n",
    "pertrade = run_algorithm(start=start_dt,\n",
    "                            end=end_dt,\n",
    "                            initialize=initialize_pertrade,\n",
    "                            handle_data=handle_data,\n",
    "                            capital_base=capital_base,\n",
    "                            trading_calendar=get_calendar(calendar_name),\n",
    "                            bundle=bundle_name)\n",
    "\n",
    "pershare = run_algorithm(start=start_dt,\n",
    "                            end=end_dt,\n",
    "                            initialize=initialize_pershare,\n",
    "                            handle_data=handle_data,\n",
    "                            capital_base=capital_base,\n",
    "                            trading_calendar=get_calendar(calendar_name),\n",
    "                            bundle=bundle_name)"
   ]
  },
  {
   "cell_type": "markdown",
   "id": "6fe6f9b2",
   "metadata": {},
   "source": [
    "## 講解說明"
   ]
  },
  {
   "cell_type": "markdown",
   "id": "e7d5406f",
   "metadata": {},
   "source": [
    "## 12/1"
   ]
  },
  {
   "cell_type": "code",
   "execution_count": 6,
   "id": "54d27163",
   "metadata": {
    "scrolled": true
   },
   "outputs": [
    {
     "data": {
      "text/html": [
       "<div>\n",
       "<style scoped>\n",
       "    .dataframe tbody tr th:only-of-type {\n",
       "        vertical-align: middle;\n",
       "    }\n",
       "\n",
       "    .dataframe tbody tr th {\n",
       "        vertical-align: top;\n",
       "    }\n",
       "\n",
       "    .dataframe thead th {\n",
       "        text-align: right;\n",
       "    }\n",
       "</style>\n",
       "<table border=\"1\" class=\"dataframe\">\n",
       "  <thead>\n",
       "    <tr style=\"text-align: right;\">\n",
       "      <th></th>\n",
       "      <th>mdate</th>\n",
       "      <th>coid</th>\n",
       "      <th>close_d</th>\n",
       "    </tr>\n",
       "    <tr>\n",
       "      <th>None</th>\n",
       "      <th></th>\n",
       "      <th></th>\n",
       "      <th></th>\n",
       "    </tr>\n",
       "  </thead>\n",
       "  <tbody>\n",
       "    <tr>\n",
       "      <th>0</th>\n",
       "      <td>2022-12-01</td>\n",
       "      <td>1216</td>\n",
       "      <td>65.9</td>\n",
       "    </tr>\n",
       "    <tr>\n",
       "      <th>1</th>\n",
       "      <td>2022-12-02</td>\n",
       "      <td>1216</td>\n",
       "      <td>65.0</td>\n",
       "    </tr>\n",
       "  </tbody>\n",
       "</table>\n",
       "</div>"
      ],
      "text/plain": [
       "          mdate  coid  close_d\n",
       "None                          \n",
       "0    2022-12-01  1216     65.9\n",
       "1    2022-12-02  1216     65.0"
      ]
     },
     "execution_count": 6,
     "metadata": {},
     "output_type": "execute_result"
    }
   ],
   "source": [
    "# 收盤價\n",
    "closing_price[0:2]"
   ]
  },
  {
   "cell_type": "markdown",
   "id": "f489bc60",
   "metadata": {},
   "source": [
    "### PerDollar\n",
    "同樣在12/1下單一張統一（1216）股票，如果用 PerDollar 算法，費用就是下一個交易日12/2的收盤價 65 * 1000 股 * 0.001 = 65。"
   ]
  },
  {
   "cell_type": "code",
   "execution_count": 7,
   "id": "14274138",
   "metadata": {},
   "outputs": [
    {
     "data": {
      "text/plain": [
       "[{'id': 'ebe9e745640046c3a21694038d045ec5',\n",
       "  'dt': Timestamp('2022-12-02 13:30:00+0800', tz='Asia/Taipei'),\n",
       "  'reason': None,\n",
       "  'created': Timestamp('2022-12-01 13:30:00+0800', tz='Asia/Taipei'),\n",
       "  'amount': 1000,\n",
       "  'filled': 1000,\n",
       "  'commission': 65.0,\n",
       "  'stop': None,\n",
       "  'limit': None,\n",
       "  'stop_reached': False,\n",
       "  'limit_reached': False,\n",
       "  'sid': Equity(0 [1216]),\n",
       "  'status': <ORDER_STATUS.FILLED: 1>}]"
      ]
     },
     "execution_count": 7,
     "metadata": {},
     "output_type": "execute_result"
    }
   ],
   "source": [
    "# PerDollar算法：費用65元\n",
    "perdollar['orders'][1]"
   ]
  },
  {
   "cell_type": "markdown",
   "id": "0f0ca6a7",
   "metadata": {},
   "source": [
    "### PerTrade\n",
    "如果是 PerOrder，就固定是預先設定好的 0.5 元。"
   ]
  },
  {
   "cell_type": "code",
   "execution_count": 8,
   "id": "0333a12d",
   "metadata": {
    "scrolled": true
   },
   "outputs": [
    {
     "data": {
      "text/plain": [
       "[{'id': 'b07f3b70df28469c9332c4ffe21fd88c',\n",
       "  'dt': Timestamp('2022-12-02 13:30:00+0800', tz='Asia/Taipei'),\n",
       "  'reason': None,\n",
       "  'created': Timestamp('2022-12-01 13:30:00+0800', tz='Asia/Taipei'),\n",
       "  'amount': 1000,\n",
       "  'filled': 1000,\n",
       "  'commission': 0.5,\n",
       "  'stop': None,\n",
       "  'limit': None,\n",
       "  'stop_reached': False,\n",
       "  'limit_reached': False,\n",
       "  'sid': Equity(0 [1216]),\n",
       "  'status': <ORDER_STATUS.FILLED: 1>}]"
      ]
     },
     "execution_count": 8,
     "metadata": {},
     "output_type": "execute_result"
    }
   ],
   "source": [
    "# pertrade算法：費用0.5元\n",
    "pertrade['orders'][1]"
   ]
  },
  {
   "cell_type": "markdown",
   "id": "56fcb7d1",
   "metadata": {},
   "source": [
    "### PerShare\n",
    "PerShare 雖然設定一股抽 0.001，但是因為 1000 股 * 0.001 = 1 小於最低費用 min_trade_cost = 5，所以費用是 5。"
   ]
  },
  {
   "cell_type": "code",
   "execution_count": 9,
   "id": "35e9a418",
   "metadata": {
    "scrolled": true
   },
   "outputs": [
    {
     "data": {
      "text/plain": [
       "[{'id': '0c1c87a51ffa4d9cb508e75dbb93903f',\n",
       "  'dt': Timestamp('2022-12-02 13:30:00+0800', tz='Asia/Taipei'),\n",
       "  'reason': None,\n",
       "  'created': Timestamp('2022-12-01 13:30:00+0800', tz='Asia/Taipei'),\n",
       "  'amount': 1000,\n",
       "  'filled': 1000,\n",
       "  'commission': 5.0,\n",
       "  'stop': None,\n",
       "  'limit': None,\n",
       "  'stop_reached': False,\n",
       "  'limit_reached': False,\n",
       "  'sid': Equity(0 [1216]),\n",
       "  'status': <ORDER_STATUS.FILLED: 1>}]"
      ]
     },
     "execution_count": 9,
     "metadata": {},
     "output_type": "execute_result"
    }
   ],
   "source": [
    "# pershare算法：費用5元\n",
    "pershare['orders'][1]"
   ]
  },
  {
   "cell_type": "markdown",
   "id": "16200936",
   "metadata": {},
   "source": [
    "## 台灣的情況\n",
    "在台灣交易股票時，主要有兩個直接成本：**手續費**及**證交稅**。\n",
    "\n",
    "### 手續費\n",
    "- **買進**或**賣出**時皆須繳交。\n",
    "- 計算方式為：成交價 × 成交股數 × 0.1425 % × 折扣 ( 通常是 0.5 ~ 0.6 左右)\n",
    "\n",
    "### 證交稅\n",
    "- **賣出**時才要繳交。\n",
    "- 計算方式為：成交價 × 成交股數 × 0.3 %\n",
    "\n",
    "### 限制\n",
    "由於目前的模型尚無法分別為買進及賣出設定不同的交易費率，所以可以先透過以下方式大致模擬：將僅有賣出時才要繳交的證交稅率 / 2，並於買進和賣出時皆支付該費用：\n",
    "\n",
    "```python\n",
    "set_commission(commission.PerDollar(cost = 0.001425 * discount + 0.003 / 2 )) # discount 自行設定\n",
    "```"
   ]
  },
  {
   "cell_type": "markdown",
   "id": "9737d8f1",
   "metadata": {},
   "source": [
    "[Return to Menu](#menu)"
   ]
  }
 ],
 "metadata": {
  "kernelspec": {
   "display_name": "Python 3 (ipykernel)",
   "language": "python",
   "name": "python3"
  },
  "language_info": {
   "codemirror_mode": {
    "name": "ipython",
    "version": 3
   },
   "file_extension": ".py",
   "mimetype": "text/x-python",
   "name": "python",
   "nbconvert_exporter": "python",
   "pygments_lexer": "ipython3",
   "version": "3.8.13"
  }
 },
 "nbformat": 4,
 "nbformat_minor": 5
}
