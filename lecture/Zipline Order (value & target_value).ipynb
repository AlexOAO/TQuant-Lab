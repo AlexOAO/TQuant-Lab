{
 "cells": [
  {
   "cell_type": "markdown",
   "id": "2ad82a80",
   "metadata": {},
   "source": [
    "# Zipline order_value 和 order_target_value"
   ]
  },
  {
   "cell_type": "markdown",
   "id": "d8683ce0",
   "metadata": {},
   "source": [
    "*　order_value:買賣股票至指定價值，指定價值 = 一股單價 * 股數。\n",
    "\n",
    "*　order_target_value:買/賣使手上股票的當下市場價值達到指定目標。"
   ]
  },
  {
   "cell_type": "markdown",
   "id": "a9b6fabc",
   "metadata": {},
   "source": [
    "兩個函數的 parameters 都是：\n",
    "\n",
    "- asset: 股票\n",
    "- value: 股票市場價值，正long負short\n",
    "- limit_price: 限價，預設為None\n",
    "- stop_price: 指損價，預設為None\n",
    "- style: Execution style，預設為None，也可以做 limit/stop 的功能。如果 limit_price 或 stop_price 已經填了，就不用也不能填這裡\n",
    "    \n",
    "和其他 Zipline 的 order 系列函數運作邏輯類似，都是用下單日的收盤價做基準，將價值先轉換為 amount (並用特別的捨去方式取整數，請見order_percent 篇) ，第二天再用第二天的收盤價 (如果有 stop/limit，則是達到條件的那天)，和下單時算出的 amount (如果期間遇到 split，則是amount / ratio 再捨去) 成交。"
   ]
  },
  {
   "cell_type": "markdown",
   "id": "fb6a8ba0",
   "metadata": {},
   "source": [
    "## 設定環境"
   ]
  },
  {
   "cell_type": "code",
   "execution_count": 22,
   "id": "660e446d",
   "metadata": {},
   "outputs": [
    {
     "name": "stdout",
     "output_type": "stream",
     "text": [
      "Merging daily equity files:\n"
     ]
    },
    {
     "name": "stderr",
     "output_type": "stream",
     "text": [
      "[2023-08-08 05:10:01.693450] INFO: zipline.data.bundles.core: Ingesting tquant.\n"
     ]
    }
   ],
   "source": [
    "import pandas as pd\n",
    "import datetime\n",
    "import tejapi\n",
    "import time\n",
    "import os\n",
    "import warnings\n",
    "warnings.filterwarnings('ignore')\n",
    "\n",
    "# tej_key-------------------------------------------\n",
    "tej_key ='your key '\n",
    "tejapi.ApiConfig.api_key = tej_key  \n",
    "os.environ['TEJAPI_BASE'] = \"https://api.tej.com.tw\" \n",
    "os.environ['TEJAPI_KEY'] = tej_key\n",
    "\n",
    "# date----------------------------------------------\n",
    "# set date\n",
    "start='2022-09-16'\n",
    "end='2022-10-16'\n",
    "os.environ['mdate'] = '20220916 20221016'     \n",
    "\n",
    "tz = 'UTC'\n",
    "start_dt, end_dt = pd.Timestamp(start, tz = tz), pd.Timestamp(end, tz = tz)\n",
    "# calendar------------------------------------------\n",
    "calendar_name='TEJ'  \n",
    "\n",
    "# bundle_name---------------------------------------\n",
    "bundle_name = 'tquant'\n",
    "\n",
    "from zipline.utils.calendar_utils import get_calendar\n",
    "if get_calendar(calendar_name).is_session(start_dt)==False:\n",
    "    start_dt=get_calendar(calendar_name).next_open(start_dt)\n",
    "    \n",
    "if get_calendar(calendar_name).is_session(end_dt)==False:\n",
    "    end_dt=get_calendar(calendar_name).previous_close(pd.Timestamp(end_dt))\n",
    "    \n",
    "from zipline.api import *\n",
    "\n",
    "from zipline import run_algorithm  \n",
    "from zipline.finance import commission, slippage\n",
    "from zipline.pipeline import Pipeline, CustomFactor\n",
    "from zipline.pipeline.factors import Returns, AverageDollarVolume\n",
    "\n",
    "from zipline.utils.run_algo import  (get_transaction_detail,\n",
    "                                     get_record_vars)\n",
    "\n",
    "from zipline.sources.TEJ_Api_Data import (get_Treasury_Return,\n",
    "                                          get_Benchmark_Return,)\n",
    "import numpy as np\n",
    "import pandas as pd\n",
    "from zipline.utils import run_algo\n",
    "from zipline.data import bundles\n",
    "\n",
    "coid='2603 IR0001'\n",
    "\n",
    "    \n",
    "os.environ['ticker'] = coid       #'1101 1102'   #coid\n",
    "\n",
    "!zipline ingest -b tquant"
   ]
  },
  {
   "cell_type": "markdown",
   "id": "d2bc49c2",
   "metadata": {},
   "source": [
    "## Order value購買訊號"
   ]
  },
  {
   "cell_type": "markdown",
   "id": "a296b050",
   "metadata": {},
   "source": [
    "### 交易策略\n",
    "\n",
    "#### def handle_data(context, data):\n",
    "\n",
    "在模擬的第一個時間點（context.i 為 0），對投資組合中的每個資產下單購買，其價值為 40000 元。\n",
    "\n",
    "if context.i == 0:\n",
    "    for asset in context.asset:\n",
    "        order_value(asset, 40000)\n",
    "\n",
    "在模擬的第十一個時間點（context.i 為 10），對投資組合中的每個資產進行調整，使其持有價值達到 60000 元。\n",
    "\n",
    "if context.i == 10:\n",
    "    for asset in context.asset:\n",
    "        order_target_value(asset, 60000)\n",
    "\n",
    "在模擬的第十六個時間點（context.i 為 15），對投資組合中的每個資產進行調整，使其持有價值減少到 30000 元。\n",
    "\n",
    "if context.i == 15:\n",
    "    for asset in context.asset:\n",
    "        order_target_value(asset, 30000)\n",
    "\n",
    "最後，使用 record 函數記錄每個資產的收盤價。然後遞增 context.i 的值，表示模擬已進入下一個時間點。  \n",
    "\n",
    "record(close=data.current(context.asset, 'close'))\n",
    "context.i += 1"
   ]
  },
  {
   "cell_type": "code",
   "execution_count": 23,
   "id": "8594bfe9",
   "metadata": {},
   "outputs": [],
   "source": [
    "def initialize(context):\n",
    "    context.i = 0\n",
    "    context.tickers = ['2603']\n",
    "    context.asset = [symbol(ticker) for ticker in context.tickers]      \n",
    "    set_slippage(slippage.FixedSlippage(spread=0.00))\n",
    "    set_commission(commission.PerDollar(cost=commission_cost))\n",
    "    set_benchmark(symbol('IR0001'))\n",
    "    \n",
    "def handle_data(context, data):\n",
    "    \n",
    "    if context.i == 0:\n",
    "        for asset in context.asset:\n",
    "            order_value(asset, 40000)\n",
    "            \n",
    "    if context.i == 10:\n",
    "        for asset in context.asset:\n",
    "            order_target_value(asset, 60000)\n",
    "\n",
    "    if context.i == 15:\n",
    "        for asset in context.asset:\n",
    "            order_target_value(asset, 30000)\n",
    "            \n",
    "    record(close=data.current(context.asset, 'close'))\n",
    "    context.i += 1\n",
    "    \n",
    "def analyze(context, perf):\n",
    "\n",
    "    pass\n",
    "\n",
    "commission_cost = 0.001425\n",
    "capital_base = 1e5\n",
    "treasury_returns = get_Treasury_Return(start = start_dt,\n",
    "                                      end = end_dt,\n",
    "                                      rate_type = 'Time_Deposit_Rate',                     \n",
    "                                      term = '1y',\n",
    "                                      symbol = '5844')"
   ]
  },
  {
   "cell_type": "code",
   "execution_count": 24,
   "id": "9531ef30",
   "metadata": {
    "scrolled": false
   },
   "outputs": [
    {
     "name": "stderr",
     "output_type": "stream",
     "text": [
      "[2023-08-08 05:10:03.688048]: INFO: handle_simulation_end: Simulated 20 trading days\n",
      "first open: 2022-09-16 01:01:00+00:00\n",
      "last close: 2022-10-14 05:30:00+00:00\n"
     ]
    }
   ],
   "source": [
    "closing_price = tejapi.get('TWN/APIPRCD',coid=['2603'], opts={'columns':['mdate','coid','close_d']}, mdate={'gte':start_dt,'lte':end_dt }, paginate=True)\n",
    "\n",
    "performance = run_algorithm(start=start_dt,\n",
    "                            end=end_dt,\n",
    "                            initialize=initialize,\n",
    "                            handle_data=handle_data,\n",
    "                            capital_base=capital_base,\n",
    "                            analyze=analyze,\n",
    "                            treasury_returns=treasury_returns,\n",
    "                            trading_calendar=get_calendar(calendar_name),\n",
    "                            bundle=bundle_name)\n",
    "\n",
    "positions, transactions, orders = get_transaction_detail(performance)"
   ]
  },
  {
   "cell_type": "markdown",
   "id": "0462c5f1",
   "metadata": {},
   "source": [
    "## 回測資料"
   ]
  },
  {
   "cell_type": "code",
   "execution_count": 25,
   "id": "12174dc2",
   "metadata": {},
   "outputs": [
    {
     "data": {
      "text/html": [
       "<div>\n",
       "<style scoped>\n",
       "    .dataframe tbody tr th:only-of-type {\n",
       "        vertical-align: middle;\n",
       "    }\n",
       "\n",
       "    .dataframe tbody tr th {\n",
       "        vertical-align: top;\n",
       "    }\n",
       "\n",
       "    .dataframe thead th {\n",
       "        text-align: right;\n",
       "    }\n",
       "</style>\n",
       "<table border=\"1\" class=\"dataframe\">\n",
       "  <thead>\n",
       "    <tr style=\"text-align: right;\">\n",
       "      <th></th>\n",
       "      <th></th>\n",
       "      <th></th>\n",
       "      <th>amount</th>\n",
       "      <th>cost_basis</th>\n",
       "      <th>last_sale_price</th>\n",
       "    </tr>\n",
       "    <tr>\n",
       "      <th>date</th>\n",
       "      <th>asset</th>\n",
       "      <th>symbol</th>\n",
       "      <th></th>\n",
       "      <th></th>\n",
       "      <th></th>\n",
       "    </tr>\n",
       "  </thead>\n",
       "  <tbody>\n",
       "    <tr>\n",
       "      <th>2022-09-19 00:00:00+08:00</th>\n",
       "      <th>Equity(0 [2603])</th>\n",
       "      <th>2603</th>\n",
       "      <td>213</td>\n",
       "      <td>169.240825</td>\n",
       "      <td>169.0</td>\n",
       "    </tr>\n",
       "    <tr>\n",
       "      <th>2022-09-20 00:00:00+08:00</th>\n",
       "      <th>Equity(0 [2603])</th>\n",
       "      <th>2603</th>\n",
       "      <td>213</td>\n",
       "      <td>169.240825</td>\n",
       "      <td>172.5</td>\n",
       "    </tr>\n",
       "    <tr>\n",
       "      <th>2022-09-21 00:00:00+08:00</th>\n",
       "      <th>Equity(0 [2603])</th>\n",
       "      <th>2603</th>\n",
       "      <td>213</td>\n",
       "      <td>169.240825</td>\n",
       "      <td>166.5</td>\n",
       "    </tr>\n",
       "    <tr>\n",
       "      <th>2022-09-22 00:00:00+08:00</th>\n",
       "      <th>Equity(0 [2603])</th>\n",
       "      <th>2603</th>\n",
       "      <td>213</td>\n",
       "      <td>169.240825</td>\n",
       "      <td>156.0</td>\n",
       "    </tr>\n",
       "    <tr>\n",
       "      <th>2022-09-23 00:00:00+08:00</th>\n",
       "      <th>Equity(0 [2603])</th>\n",
       "      <th>2603</th>\n",
       "      <td>213</td>\n",
       "      <td>169.240825</td>\n",
       "      <td>158.0</td>\n",
       "    </tr>\n",
       "    <tr>\n",
       "      <th>2022-09-26 00:00:00+08:00</th>\n",
       "      <th>Equity(0 [2603])</th>\n",
       "      <th>2603</th>\n",
       "      <td>213</td>\n",
       "      <td>169.240825</td>\n",
       "      <td>145.5</td>\n",
       "    </tr>\n",
       "    <tr>\n",
       "      <th>2022-09-27 00:00:00+08:00</th>\n",
       "      <th>Equity(0 [2603])</th>\n",
       "      <th>2603</th>\n",
       "      <td>213</td>\n",
       "      <td>169.240825</td>\n",
       "      <td>153.5</td>\n",
       "    </tr>\n",
       "    <tr>\n",
       "      <th>2022-09-28 00:00:00+08:00</th>\n",
       "      <th>Equity(0 [2603])</th>\n",
       "      <th>2603</th>\n",
       "      <td>213</td>\n",
       "      <td>169.240825</td>\n",
       "      <td>144.0</td>\n",
       "    </tr>\n",
       "    <tr>\n",
       "      <th>2022-09-29 00:00:00+08:00</th>\n",
       "      <th>Equity(0 [2603])</th>\n",
       "      <th>2603</th>\n",
       "      <td>213</td>\n",
       "      <td>169.240825</td>\n",
       "      <td>144.0</td>\n",
       "    </tr>\n",
       "    <tr>\n",
       "      <th>2022-09-30 00:00:00+08:00</th>\n",
       "      <th>Equity(0 [2603])</th>\n",
       "      <th>2603</th>\n",
       "      <td>213</td>\n",
       "      <td>169.240825</td>\n",
       "      <td>146.0</td>\n",
       "    </tr>\n",
       "    <tr>\n",
       "      <th>2022-10-03 00:00:00+08:00</th>\n",
       "      <th>Equity(0 [2603])</th>\n",
       "      <th>2603</th>\n",
       "      <td>410</td>\n",
       "      <td>159.857961</td>\n",
       "      <td>149.5</td>\n",
       "    </tr>\n",
       "    <tr>\n",
       "      <th>2022-10-04 00:00:00+08:00</th>\n",
       "      <th>Equity(0 [2603])</th>\n",
       "      <th>2603</th>\n",
       "      <td>410</td>\n",
       "      <td>159.857961</td>\n",
       "      <td>150.5</td>\n",
       "    </tr>\n",
       "    <tr>\n",
       "      <th>2022-10-05 00:00:00+08:00</th>\n",
       "      <th>Equity(0 [2603])</th>\n",
       "      <th>2603</th>\n",
       "      <td>410</td>\n",
       "      <td>159.857961</td>\n",
       "      <td>155.5</td>\n",
       "    </tr>\n",
       "    <tr>\n",
       "      <th>2022-10-06 00:00:00+08:00</th>\n",
       "      <th>Equity(0 [2603])</th>\n",
       "      <th>2603</th>\n",
       "      <td>410</td>\n",
       "      <td>159.857961</td>\n",
       "      <td>155.5</td>\n",
       "    </tr>\n",
       "    <tr>\n",
       "      <th>2022-10-07 00:00:00+08:00</th>\n",
       "      <th>Equity(0 [2603])</th>\n",
       "      <th>2603</th>\n",
       "      <td>410</td>\n",
       "      <td>159.857961</td>\n",
       "      <td>155.5</td>\n",
       "    </tr>\n",
       "    <tr>\n",
       "      <th>2022-10-11 00:00:00+08:00</th>\n",
       "      <th>Equity(0 [2603])</th>\n",
       "      <th>2603</th>\n",
       "      <td>193</td>\n",
       "      <td>160.107905</td>\n",
       "      <td>156.0</td>\n",
       "    </tr>\n",
       "    <tr>\n",
       "      <th>2022-10-12 00:00:00+08:00</th>\n",
       "      <th>Equity(0 [2603])</th>\n",
       "      <th>2603</th>\n",
       "      <td>193</td>\n",
       "      <td>160.107905</td>\n",
       "      <td>147.0</td>\n",
       "    </tr>\n",
       "    <tr>\n",
       "      <th>2022-10-13 00:00:00+08:00</th>\n",
       "      <th>Equity(0 [2603])</th>\n",
       "      <th>2603</th>\n",
       "      <td>193</td>\n",
       "      <td>160.107905</td>\n",
       "      <td>144.5</td>\n",
       "    </tr>\n",
       "    <tr>\n",
       "      <th>2022-10-14 00:00:00+08:00</th>\n",
       "      <th>Equity(0 [2603])</th>\n",
       "      <th>2603</th>\n",
       "      <td>193</td>\n",
       "      <td>160.107905</td>\n",
       "      <td>152.5</td>\n",
       "    </tr>\n",
       "  </tbody>\n",
       "</table>\n",
       "</div>"
      ],
      "text/plain": [
       "                                                   amount  cost_basis  \\\n",
       "date                      asset            symbol                       \n",
       "2022-09-19 00:00:00+08:00 Equity(0 [2603]) 2603       213  169.240825   \n",
       "2022-09-20 00:00:00+08:00 Equity(0 [2603]) 2603       213  169.240825   \n",
       "2022-09-21 00:00:00+08:00 Equity(0 [2603]) 2603       213  169.240825   \n",
       "2022-09-22 00:00:00+08:00 Equity(0 [2603]) 2603       213  169.240825   \n",
       "2022-09-23 00:00:00+08:00 Equity(0 [2603]) 2603       213  169.240825   \n",
       "2022-09-26 00:00:00+08:00 Equity(0 [2603]) 2603       213  169.240825   \n",
       "2022-09-27 00:00:00+08:00 Equity(0 [2603]) 2603       213  169.240825   \n",
       "2022-09-28 00:00:00+08:00 Equity(0 [2603]) 2603       213  169.240825   \n",
       "2022-09-29 00:00:00+08:00 Equity(0 [2603]) 2603       213  169.240825   \n",
       "2022-09-30 00:00:00+08:00 Equity(0 [2603]) 2603       213  169.240825   \n",
       "2022-10-03 00:00:00+08:00 Equity(0 [2603]) 2603       410  159.857961   \n",
       "2022-10-04 00:00:00+08:00 Equity(0 [2603]) 2603       410  159.857961   \n",
       "2022-10-05 00:00:00+08:00 Equity(0 [2603]) 2603       410  159.857961   \n",
       "2022-10-06 00:00:00+08:00 Equity(0 [2603]) 2603       410  159.857961   \n",
       "2022-10-07 00:00:00+08:00 Equity(0 [2603]) 2603       410  159.857961   \n",
       "2022-10-11 00:00:00+08:00 Equity(0 [2603]) 2603       193  160.107905   \n",
       "2022-10-12 00:00:00+08:00 Equity(0 [2603]) 2603       193  160.107905   \n",
       "2022-10-13 00:00:00+08:00 Equity(0 [2603]) 2603       193  160.107905   \n",
       "2022-10-14 00:00:00+08:00 Equity(0 [2603]) 2603       193  160.107905   \n",
       "\n",
       "                                                   last_sale_price  \n",
       "date                      asset            symbol                   \n",
       "2022-09-19 00:00:00+08:00 Equity(0 [2603]) 2603              169.0  \n",
       "2022-09-20 00:00:00+08:00 Equity(0 [2603]) 2603              172.5  \n",
       "2022-09-21 00:00:00+08:00 Equity(0 [2603]) 2603              166.5  \n",
       "2022-09-22 00:00:00+08:00 Equity(0 [2603]) 2603              156.0  \n",
       "2022-09-23 00:00:00+08:00 Equity(0 [2603]) 2603              158.0  \n",
       "2022-09-26 00:00:00+08:00 Equity(0 [2603]) 2603              145.5  \n",
       "2022-09-27 00:00:00+08:00 Equity(0 [2603]) 2603              153.5  \n",
       "2022-09-28 00:00:00+08:00 Equity(0 [2603]) 2603              144.0  \n",
       "2022-09-29 00:00:00+08:00 Equity(0 [2603]) 2603              144.0  \n",
       "2022-09-30 00:00:00+08:00 Equity(0 [2603]) 2603              146.0  \n",
       "2022-10-03 00:00:00+08:00 Equity(0 [2603]) 2603              149.5  \n",
       "2022-10-04 00:00:00+08:00 Equity(0 [2603]) 2603              150.5  \n",
       "2022-10-05 00:00:00+08:00 Equity(0 [2603]) 2603              155.5  \n",
       "2022-10-06 00:00:00+08:00 Equity(0 [2603]) 2603              155.5  \n",
       "2022-10-07 00:00:00+08:00 Equity(0 [2603]) 2603              155.5  \n",
       "2022-10-11 00:00:00+08:00 Equity(0 [2603]) 2603              156.0  \n",
       "2022-10-12 00:00:00+08:00 Equity(0 [2603]) 2603              147.0  \n",
       "2022-10-13 00:00:00+08:00 Equity(0 [2603]) 2603              144.5  \n",
       "2022-10-14 00:00:00+08:00 Equity(0 [2603]) 2603              152.5  "
      ]
     },
     "execution_count": 25,
     "metadata": {},
     "output_type": "execute_result"
    }
   ],
   "source": [
    "positions"
   ]
  },
  {
   "cell_type": "code",
   "execution_count": 26,
   "id": "e03ca27e",
   "metadata": {
    "scrolled": false
   },
   "outputs": [
    {
     "data": {
      "text/html": [
       "<div>\n",
       "<style scoped>\n",
       "    .dataframe tbody tr th:only-of-type {\n",
       "        vertical-align: middle;\n",
       "    }\n",
       "\n",
       "    .dataframe tbody tr th {\n",
       "        vertical-align: top;\n",
       "    }\n",
       "\n",
       "    .dataframe thead th {\n",
       "        text-align: right;\n",
       "    }\n",
       "</style>\n",
       "<table border=\"1\" class=\"dataframe\">\n",
       "  <thead>\n",
       "    <tr style=\"text-align: right;\">\n",
       "      <th></th>\n",
       "      <th></th>\n",
       "      <th></th>\n",
       "      <th>amount</th>\n",
       "      <th>dt</th>\n",
       "      <th>price</th>\n",
       "      <th>order_id</th>\n",
       "      <th>commission</th>\n",
       "    </tr>\n",
       "    <tr>\n",
       "      <th>date</th>\n",
       "      <th>asset</th>\n",
       "      <th>symbol</th>\n",
       "      <th></th>\n",
       "      <th></th>\n",
       "      <th></th>\n",
       "      <th></th>\n",
       "      <th></th>\n",
       "    </tr>\n",
       "  </thead>\n",
       "  <tbody>\n",
       "    <tr>\n",
       "      <th>2022-09-19 00:00:00+08:00</th>\n",
       "      <th>Equity(0 [2603])</th>\n",
       "      <th>2603</th>\n",
       "      <td>213</td>\n",
       "      <td>2022-09-19 13:30:00+08:00</td>\n",
       "      <td>169.0</td>\n",
       "      <td>0ce66796a0c743b6946dd3ab9340a704</td>\n",
       "      <td>None</td>\n",
       "    </tr>\n",
       "    <tr>\n",
       "      <th>2022-10-03 00:00:00+08:00</th>\n",
       "      <th>Equity(0 [2603])</th>\n",
       "      <th>2603</th>\n",
       "      <td>197</td>\n",
       "      <td>2022-10-03 13:30:00+08:00</td>\n",
       "      <td>149.5</td>\n",
       "      <td>326dd735ef3447ba899a5a0faeec476f</td>\n",
       "      <td>None</td>\n",
       "    </tr>\n",
       "    <tr>\n",
       "      <th>2022-10-11 00:00:00+08:00</th>\n",
       "      <th>Equity(0 [2603])</th>\n",
       "      <th>2603</th>\n",
       "      <td>-217</td>\n",
       "      <td>2022-10-11 13:30:00+08:00</td>\n",
       "      <td>156.0</td>\n",
       "      <td>bc3936f4cd64427099b3b1dddc7e8bc9</td>\n",
       "      <td>None</td>\n",
       "    </tr>\n",
       "  </tbody>\n",
       "</table>\n",
       "</div>"
      ],
      "text/plain": [
       "                                                   amount  \\\n",
       "date                      asset            symbol           \n",
       "2022-09-19 00:00:00+08:00 Equity(0 [2603]) 2603       213   \n",
       "2022-10-03 00:00:00+08:00 Equity(0 [2603]) 2603       197   \n",
       "2022-10-11 00:00:00+08:00 Equity(0 [2603]) 2603      -217   \n",
       "\n",
       "                                                                         dt  \\\n",
       "date                      asset            symbol                             \n",
       "2022-09-19 00:00:00+08:00 Equity(0 [2603]) 2603   2022-09-19 13:30:00+08:00   \n",
       "2022-10-03 00:00:00+08:00 Equity(0 [2603]) 2603   2022-10-03 13:30:00+08:00   \n",
       "2022-10-11 00:00:00+08:00 Equity(0 [2603]) 2603   2022-10-11 13:30:00+08:00   \n",
       "\n",
       "                                                   price  \\\n",
       "date                      asset            symbol          \n",
       "2022-09-19 00:00:00+08:00 Equity(0 [2603]) 2603    169.0   \n",
       "2022-10-03 00:00:00+08:00 Equity(0 [2603]) 2603    149.5   \n",
       "2022-10-11 00:00:00+08:00 Equity(0 [2603]) 2603    156.0   \n",
       "\n",
       "                                                                           order_id  \\\n",
       "date                      asset            symbol                                     \n",
       "2022-09-19 00:00:00+08:00 Equity(0 [2603]) 2603    0ce66796a0c743b6946dd3ab9340a704   \n",
       "2022-10-03 00:00:00+08:00 Equity(0 [2603]) 2603    326dd735ef3447ba899a5a0faeec476f   \n",
       "2022-10-11 00:00:00+08:00 Equity(0 [2603]) 2603    bc3936f4cd64427099b3b1dddc7e8bc9   \n",
       "\n",
       "                                                  commission  \n",
       "date                      asset            symbol             \n",
       "2022-09-19 00:00:00+08:00 Equity(0 [2603]) 2603         None  \n",
       "2022-10-03 00:00:00+08:00 Equity(0 [2603]) 2603         None  \n",
       "2022-10-11 00:00:00+08:00 Equity(0 [2603]) 2603         None  "
      ]
     },
     "execution_count": 26,
     "metadata": {},
     "output_type": "execute_result"
    }
   ],
   "source": [
    "transactions"
   ]
  },
  {
   "cell_type": "markdown",
   "id": "9baeb95b",
   "metadata": {},
   "source": [
    "### 每次交易時的現金持有量"
   ]
  },
  {
   "cell_type": "code",
   "execution_count": 14,
   "id": "c67e3c8f",
   "metadata": {},
   "outputs": [
    {
     "data": {
      "text/html": [
       "<div>\n",
       "<style scoped>\n",
       "    .dataframe tbody tr th:only-of-type {\n",
       "        vertical-align: middle;\n",
       "    }\n",
       "\n",
       "    .dataframe tbody tr th {\n",
       "        vertical-align: top;\n",
       "    }\n",
       "\n",
       "    .dataframe thead th {\n",
       "        text-align: right;\n",
       "    }\n",
       "</style>\n",
       "<table border=\"1\" class=\"dataframe\">\n",
       "  <thead>\n",
       "    <tr style=\"text-align: right;\">\n",
       "      <th></th>\n",
       "      <th>starting_cash</th>\n",
       "      <th>capital_used</th>\n",
       "      <th>ending_cash</th>\n",
       "    </tr>\n",
       "  </thead>\n",
       "  <tbody>\n",
       "    <tr>\n",
       "      <th>2022-09-19 13:30:00+08:00</th>\n",
       "      <td>100000.000000</td>\n",
       "      <td>-36048.295725</td>\n",
       "      <td>63951.704275</td>\n",
       "    </tr>\n",
       "    <tr>\n",
       "      <th>2022-10-03 13:30:00+08:00</th>\n",
       "      <td>63951.704275</td>\n",
       "      <td>-29493.468388</td>\n",
       "      <td>34458.235887</td>\n",
       "    </tr>\n",
       "    <tr>\n",
       "      <th>2022-10-11 13:30:00+08:00</th>\n",
       "      <td>34458.235887</td>\n",
       "      <td>33803.760900</td>\n",
       "      <td>68261.996787</td>\n",
       "    </tr>\n",
       "  </tbody>\n",
       "</table>\n",
       "</div>"
      ],
      "text/plain": [
       "                           starting_cash  capital_used   ending_cash\n",
       "2022-09-19 13:30:00+08:00  100000.000000 -36048.295725  63951.704275\n",
       "2022-10-03 13:30:00+08:00   63951.704275 -29493.468388  34458.235887\n",
       "2022-10-11 13:30:00+08:00   34458.235887  33803.760900  68261.996787"
      ]
     },
     "execution_count": 14,
     "metadata": {},
     "output_type": "execute_result"
    }
   ],
   "source": [
    "performance[['starting_cash','capital_used','ending_cash']].loc[performance['capital_used']!=0]"
   ]
  },
  {
   "cell_type": "markdown",
   "id": "a967f172",
   "metadata": {},
   "source": [
    "## Order value 與 Order target value 講解"
   ]
  },
  {
   "cell_type": "markdown",
   "id": "109b3088",
   "metadata": {},
   "source": [
    "## 1"
   ]
  },
  {
   "cell_type": "markdown",
   "id": "3d650429",
   "metadata": {},
   "source": [
    "9/16時下單買40000的長榮(2603)股票，用當天收盤價計算出應買股數為 40000 / 80.8 = 495。<br>\n",
    "下個交易日9/19遇到減資，比率是2.314356，所以訂購量調整成 495 / 2.314356 = 213，並以9/19收盤價169 * 213股成交。"
   ]
  },
  {
   "cell_type": "code",
   "execution_count": 15,
   "id": "13ddf528",
   "metadata": {},
   "outputs": [
    {
     "data": {
      "text/html": [
       "<div>\n",
       "<style scoped>\n",
       "    .dataframe tbody tr th:only-of-type {\n",
       "        vertical-align: middle;\n",
       "    }\n",
       "\n",
       "    .dataframe tbody tr th {\n",
       "        vertical-align: top;\n",
       "    }\n",
       "\n",
       "    .dataframe thead th {\n",
       "        text-align: right;\n",
       "    }\n",
       "</style>\n",
       "<table border=\"1\" class=\"dataframe\">\n",
       "  <thead>\n",
       "    <tr style=\"text-align: right;\">\n",
       "      <th></th>\n",
       "      <th>mdate</th>\n",
       "      <th>coid</th>\n",
       "      <th>close_d</th>\n",
       "    </tr>\n",
       "    <tr>\n",
       "      <th>None</th>\n",
       "      <th></th>\n",
       "      <th></th>\n",
       "      <th></th>\n",
       "    </tr>\n",
       "  </thead>\n",
       "  <tbody>\n",
       "    <tr>\n",
       "      <th>0</th>\n",
       "      <td>2022-09-16</td>\n",
       "      <td>2603</td>\n",
       "      <td>80.8</td>\n",
       "    </tr>\n",
       "    <tr>\n",
       "      <th>1</th>\n",
       "      <td>2022-09-19</td>\n",
       "      <td>2603</td>\n",
       "      <td>169.0</td>\n",
       "    </tr>\n",
       "    <tr>\n",
       "      <th>2</th>\n",
       "      <td>2022-09-20</td>\n",
       "      <td>2603</td>\n",
       "      <td>172.5</td>\n",
       "    </tr>\n",
       "  </tbody>\n",
       "</table>\n",
       "</div>"
      ],
      "text/plain": [
       "          mdate  coid  close_d\n",
       "None                          \n",
       "0    2022-09-16  2603     80.8\n",
       "1    2022-09-19  2603    169.0\n",
       "2    2022-09-20  2603    172.5"
      ]
     },
     "execution_count": 15,
     "metadata": {},
     "output_type": "execute_result"
    }
   ],
   "source": [
    "closing_price[0:3]"
   ]
  },
  {
   "cell_type": "code",
   "execution_count": 16,
   "id": "2d14ac29",
   "metadata": {
    "scrolled": true
   },
   "outputs": [
    {
     "data": {
      "text/plain": [
       "[{'id': 'dbcb3ff4db0145ca842fbf6e8e46efbf',\n",
       "  'dt': Timestamp('2022-09-16 13:30:00+0800', tz='Asia/Taipei'),\n",
       "  'reason': None,\n",
       "  'created': Timestamp('2022-09-16 13:30:00+0800', tz='Asia/Taipei'),\n",
       "  'amount': 495,\n",
       "  'filled': 0,\n",
       "  'commission': 0,\n",
       "  'stop': None,\n",
       "  'limit': None,\n",
       "  'stop_reached': False,\n",
       "  'limit_reached': False,\n",
       "  'sid': Equity(0 [2603]),\n",
       "  'status': <ORDER_STATUS.OPEN: 0>}]"
      ]
     },
     "execution_count": 16,
     "metadata": {},
     "output_type": "execute_result"
    }
   ],
   "source": [
    "performance['orders'][0]"
   ]
  },
  {
   "cell_type": "code",
   "execution_count": 17,
   "id": "e0880a8e",
   "metadata": {},
   "outputs": [
    {
     "data": {
      "text/plain": [
       "[{'id': 'dbcb3ff4db0145ca842fbf6e8e46efbf',\n",
       "  'dt': Timestamp('2022-09-19 13:30:00+0800', tz='Asia/Taipei'),\n",
       "  'reason': None,\n",
       "  'created': Timestamp('2022-09-16 13:30:00+0800', tz='Asia/Taipei'),\n",
       "  'amount': 213,\n",
       "  'filled': 213,\n",
       "  'commission': 51.295725000000004,\n",
       "  'stop': None,\n",
       "  'limit': None,\n",
       "  'stop_reached': False,\n",
       "  'limit_reached': False,\n",
       "  'sid': Equity(0 [2603]),\n",
       "  'status': <ORDER_STATUS.FILLED: 1>}]"
      ]
     },
     "execution_count": 17,
     "metadata": {},
     "output_type": "execute_result"
    }
   ],
   "source": [
    "performance['orders'][1]"
   ]
  },
  {
   "cell_type": "markdown",
   "id": "8c66a4b3",
   "metadata": {},
   "source": [
    "## 2"
   ]
  },
  {
   "cell_type": "markdown",
   "id": "3f0df68a",
   "metadata": {},
   "source": [
    "在9/30下了order_target_value，目標60000，首先計算手上2603市值 146 * 213股 = 31098，<br>\n",
    "再計算還需要 (60000-31098) / 146 = 197股 (捨去)，第二日成交。"
   ]
  },
  {
   "cell_type": "code",
   "execution_count": 29,
   "id": "8a4ce92a",
   "metadata": {},
   "outputs": [
    {
     "name": "stdout",
     "output_type": "stream",
     "text": [
      "date               2022-09-30 00:00:00+08:00\n",
      "asset                       Equity(0 [2603])\n",
      "symbol                                  2603\n",
      "amount                                   213\n",
      "cost_basis                        169.240825\n",
      "last_sale_price                        146.0\n",
      "Name: 9, dtype: object\n",
      "          mdate  coid  close_d\n",
      "None                          \n",
      "10   2022-09-30  2603    146.0\n"
     ]
    }
   ],
   "source": [
    "print(positions.reset_index().iloc[9])\n",
    "print(closing_price[10:11])"
   ]
  },
  {
   "cell_type": "code",
   "execution_count": 19,
   "id": "94b9e8bf",
   "metadata": {
    "scrolled": false
   },
   "outputs": [
    {
     "data": {
      "text/plain": [
       "[{'id': 'ca7f74f2d7ed4037a4d79689c9df2244',\n",
       "  'dt': Timestamp('2022-10-03 13:30:00+0800', tz='Asia/Taipei'),\n",
       "  'reason': None,\n",
       "  'created': Timestamp('2022-09-30 13:30:00+0800', tz='Asia/Taipei'),\n",
       "  'amount': 197,\n",
       "  'filled': 197,\n",
       "  'commission': 41.968387500000006,\n",
       "  'stop': None,\n",
       "  'limit': None,\n",
       "  'stop_reached': False,\n",
       "  'limit_reached': False,\n",
       "  'sid': Equity(0 [2603]),\n",
       "  'status': <ORDER_STATUS.FILLED: 1>}]"
      ]
     },
     "execution_count": 19,
     "metadata": {},
     "output_type": "execute_result"
    }
   ],
   "source": [
    "performance['orders'][11]"
   ]
  },
  {
   "cell_type": "markdown",
   "id": "f6be6950",
   "metadata": {},
   "source": [
    "## 3"
   ]
  },
  {
   "cell_type": "markdown",
   "id": "eb573fc3",
   "metadata": {},
   "source": [
    "在10/7下了order_target_value，目標30000。因為手上長榮股票市值超過30000，需要賣掉一定數量來達到目標。用10/7收盤價和10/7時手上持有數量，計算出價值155.5 * 410 = 63755，需要賣掉 (63755 - 30000) / 155 = 217股。在下個交易日10/11，以當天收盤價156賣出，手續費是156 * 217股 * 0.001425 (預先設好的commission_cost) = 48.2391\n",
    "\n",
    "在表格三可以看到，因為賣出股票得到現金，10/11的capital_used是正的，計算方法就是159 * 217 扣掉手續費48.2391 = 33803.7609，當日收盤時手上現金ending_cash = 開盤時現金starting_cash + 當日capital_used。"
   ]
  },
  {
   "cell_type": "code",
   "execution_count": 27,
   "id": "33c3c5bf",
   "metadata": {},
   "outputs": [
    {
     "name": "stdout",
     "output_type": "stream",
     "text": [
      "date               2022-10-07 00:00:00+08:00\n",
      "asset                       Equity(0 [2603])\n",
      "symbol                                  2603\n",
      "amount                                   410\n",
      "cost_basis                        159.857961\n",
      "last_sale_price                        155.5\n",
      "Name: 14, dtype: object\n",
      "          mdate  coid  close_d\n",
      "None                          \n",
      "15   2022-10-07  2603    155.5\n",
      "16   2022-10-11  2603    156.0\n"
     ]
    }
   ],
   "source": [
    "print(positions.reset_index().iloc[14])\n",
    "print(closing_price[15:17])"
   ]
  },
  {
   "cell_type": "code",
   "execution_count": 28,
   "id": "775e7018",
   "metadata": {},
   "outputs": [
    {
     "data": {
      "text/plain": [
       "[{'id': 'bc3936f4cd64427099b3b1dddc7e8bc9',\n",
       "  'dt': Timestamp('2022-10-11 13:30:00+0800', tz='Asia/Taipei'),\n",
       "  'reason': None,\n",
       "  'created': Timestamp('2022-10-07 13:30:00+0800', tz='Asia/Taipei'),\n",
       "  'amount': -217,\n",
       "  'filled': -217,\n",
       "  'commission': 48.2391,\n",
       "  'stop': None,\n",
       "  'limit': None,\n",
       "  'stop_reached': False,\n",
       "  'limit_reached': False,\n",
       "  'sid': Equity(0 [2603]),\n",
       "  'status': <ORDER_STATUS.FILLED: 1>}]"
      ]
     },
     "execution_count": 28,
     "metadata": {},
     "output_type": "execute_result"
    }
   ],
   "source": [
    "performance['orders'][16]"
   ]
  },
  {
   "cell_type": "markdown",
   "id": "5f4d7e9b",
   "metadata": {},
   "source": [
    "### 最終的現金持有量"
   ]
  },
  {
   "cell_type": "code",
   "execution_count": 38,
   "id": "0d38805b",
   "metadata": {},
   "outputs": [
    {
     "data": {
      "text/plain": [
       "starting_cash    34458.235887\n",
       "capital_used     33803.760900\n",
       "ending_cash      68261.996787\n",
       "Name: 2022-10-11 13:30:00+08:00, dtype: float64"
      ]
     },
     "execution_count": 38,
     "metadata": {},
     "output_type": "execute_result"
    }
   ],
   "source": [
    "performance[['starting_cash','capital_used','ending_cash']].iloc[16]"
   ]
  }
 ],
 "metadata": {
  "kernelspec": {
   "display_name": "Python [conda env:zipline-tej] *",
   "language": "python",
   "name": "conda-env-zipline-tej-py"
  },
  "language_info": {
   "codemirror_mode": {
    "name": "ipython",
    "version": 3
   },
   "file_extension": ".py",
   "mimetype": "text/x-python",
   "name": "python",
   "nbconvert_exporter": "python",
   "pygments_lexer": "ipython3",
   "version": "3.8.13"
  }
 },
 "nbformat": 4,
 "nbformat_minor": 5
}
