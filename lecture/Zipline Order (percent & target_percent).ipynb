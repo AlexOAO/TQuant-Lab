{
 "cells": [
  {
   "cell_type": "markdown",
   "id": "acf44d5d",
   "metadata": {},
   "source": [
    "<span id=\"menu\"></span>\n",
    "# Zipline order_percent\n",
    "* [Order_percent](#Order_percent)\n",
    "* [Order_target_percent](#Order_target_percent)"
   ]
  },
  {
   "cell_type": "markdown",
   "id": "b2db7825",
   "metadata": {},
   "source": [
    "order() 和 order_percent() 的差別是，前者由使用者指定股數，後者是指定投資組合總值 (portfolio value) 的一個比例。\n",
    "\n",
    "他的parameters是:\n",
    "\n",
    "- asset: 股票\n",
    "- percent: 介於-1和1，正long負short\n",
    "- limit_price: 限價，預設為None\n",
    "- stop_price: 指損價，預設為None\n",
    "- style: Execution style，預設為None，也可以做limit/stop的功能。如果limit_price或stop_price已經填了，就不用也不能填這裡\n",
    "    \n",
    "這函數的大致運作，是先用輸入的比例還有目前總值，算出要買的金額，再搭配最近的股價，算出要買的股數，最後代入order函數。\n",
    "\n",
    "order函數中，若股數和最近整數相差不到0.0001，就取最近整數，否則直接去掉小數 (5.5 -> 5.0, -5.5 -> -5.0)。"
   ]
  },
  {
   "cell_type": "markdown",
   "id": "8dbe06ff",
   "metadata": {},
   "source": [
    "# 範例講解"
   ]
  },
  {
   "cell_type": "markdown",
   "id": "4bd38788",
   "metadata": {},
   "source": [
    "## 設定環境"
   ]
  },
  {
   "cell_type": "code",
   "execution_count": 2,
   "id": "f7a621e0",
   "metadata": {},
   "outputs": [
    {
     "name": "stdout",
     "output_type": "stream",
     "text": [
      "Merging daily equity files:\n"
     ]
    },
    {
     "name": "stderr",
     "output_type": "stream",
     "text": [
      "[2023-08-08 09:30:14.541438] INFO: zipline.data.bundles.core: Ingesting tquant.\n"
     ]
    }
   ],
   "source": [
    "import pandas as pd\n",
    "import datetime\n",
    "import tejapi\n",
    "import time\n",
    "import os\n",
    "import warnings\n",
    "warnings.filterwarnings('ignore')\n",
    "\n",
    "# tej_key-------------------------------------------\n",
    "tejapi.ApiConfig.api_key = 'your key'  \n",
    "os.environ['TEJAPI_BASE'] = \"https://api.tej.com.tw\"\n",
    "os.environ['TEJAPI_KEY'] = 'your key' \n",
    "# date----------------------------------------------\n",
    "# set date\n",
    "start='2018-07-24'\n",
    "end='2018-08-14'\n",
    "os.environ['mdate'] = '20180724 20180814'      # start+' '+end #'20221011 20221223'\n",
    "\n",
    "tz = 'UTC'\n",
    "start_dt, end_dt = pd.Timestamp(start, tz = tz), pd.Timestamp(end, tz = tz)\n",
    "# calendar------------------------------------------\n",
    "calendar_name='TEJ'  # US equities  XTAI\n",
    "\n",
    "# bundle_name---------------------------------------\n",
    "bundle_name = 'tquant'\n",
    "\n",
    "from zipline.utils.calendar_utils import get_calendar\n",
    "if get_calendar(calendar_name).is_session(start_dt)==False:\n",
    "    start_dt=get_calendar(calendar_name).next_open(start_dt)\n",
    "    \n",
    "if get_calendar(calendar_name).is_session(end_dt)==False:\n",
    "    end_dt=get_calendar(calendar_name).previous_close(pd.Timestamp(end_dt))\n",
    "    \n",
    "from zipline.api import    *\n",
    "\n",
    "from zipline import run_algorithm  \n",
    "from zipline.finance import commission, slippage\n",
    "from zipline.pipeline import Pipeline, CustomFactor\n",
    "from zipline.pipeline.factors import Returns, AverageDollarVolume\n",
    "\n",
    "from zipline.utils.run_algo import  (get_transaction_detail,\n",
    "                                     get_record_vars)\n",
    "\n",
    "from zipline.sources.TEJ_Api_Data import (get_Treasury_Return,\n",
    "                                          get_Benchmark_Return,)\n",
    "\n",
    "import numpy as np\n",
    "import pandas as pd\n",
    "from zipline.utils import run_algo\n",
    "from zipline.data import bundles\n",
    "\n",
    "\n",
    "coid='1101 2330 IR0001 5844'\n",
    "    \n",
    "os.environ['ticker'] = coid       #'1101 1102'   #coid\n",
    "\n",
    "!zipline ingest -b tquant"
   ]
  },
  {
   "cell_type": "markdown",
   "id": "980f6212",
   "metadata": {},
   "source": [
    "<span id=\"Order_percent\"></span>\n",
    "## Order_percent介紹\n",
    "[Return to Menu](#menu)"
   ]
  },
  {
   "cell_type": "markdown",
   "id": "f5a0541f",
   "metadata": {},
   "source": [
    "## 投資1101、2330兩支股票"
   ]
  },
  {
   "cell_type": "markdown",
   "id": "7ea65d87",
   "metadata": {},
   "source": [
    "### 設置交易策略\n",
    "#### def handle_data(context, data):\n",
    "\n",
    "    在交易策略的第一個交易時間點（i 等於 0）時\n",
    "    if context.i == 0:\n",
    "        order_percent(symbol('1101'), 0.3, limit_price = 43.5)\n",
    "        使用限價訂單購買股票 '1101'，量為投資組合當前價值的 30%，限價為 43.5\n",
    "        order_percent(symbol('2330'), 0.3, limit_price = 240.6)\n",
    "        使用限價訂單購買股票 '2330'，量為投資組合當前價值的 30%，限價為 240.6\n",
    "    \n",
    "    在交易策略的第一個交易時間點（i 等於 6）時\n",
    "    if context.i == 6:\n",
    "        \n",
    "        order_percent(symbol('1101'), 0.2)\n",
    "        購買股票 '1101'，量為投資組合當前價值的 20%\n",
    "        order_percent(symbol('2330'), 0.2)\n",
    "        購買股票 '2330'，量為投資組合當前價值的 20%\n",
    "    \n",
    "    記錄投資組合中所有資產的收盤價\n",
    "    record(close=data.current(context.asset, 'close'))\n",
    "    context.i += 1"
   ]
  },
  {
   "cell_type": "code",
   "execution_count": 3,
   "id": "95e722d7",
   "metadata": {},
   "outputs": [],
   "source": [
    "def initialize(context):\n",
    "    context.i = 0\n",
    "    context.tickers = ['1101','2330']\n",
    "    context.asset = [symbol(ticker) for ticker in context.tickers]      \n",
    "    set_slippage(slippage.FixedSlippage(spread=0.00))\n",
    "    set_commission(commission.PerDollar(cost=commission_cost))\n",
    "    set_benchmark(symbol('IR0001'))\n",
    "    \n",
    "def handle_data(context, data):\n",
    "    \n",
    "    if context.i == 0:\n",
    "        order_percent(symbol('1101'), 0.3, limit_price = 43.5)\n",
    "        order_percent(symbol('2330'), 0.3, limit_price = 240.6)\n",
    "        \n",
    "    if context.i == 6:\n",
    "        order_percent(symbol('1101'), 0.2)\n",
    "        order_percent(symbol('2330'), 0.2)\n",
    "\n",
    "    record(close=data.current(context.asset, 'close'))\n",
    "    context.i += 1\n",
    "    \n",
    "def analyze(context, perf):\n",
    "\n",
    "    pass\n",
    "\n",
    "commission_cost = 0.001425\n",
    "capital_base = 1e5\n",
    "treasury_returns = get_Treasury_Return(start = start_dt,\n",
    "                                      end = end_dt,\n",
    "                                      rate_type = 'Time_Deposit_Rate',                     \n",
    "                                      term = '1y',\n",
    "                                      symbol = '5844')\n"
   ]
  },
  {
   "cell_type": "code",
   "execution_count": 6,
   "id": "5b4d5a74",
   "metadata": {},
   "outputs": [],
   "source": [
    "closing_price = tejapi.get('TWN/APIPRCD',\n",
    "                           coid=['1101','2330'], \n",
    "                           opts={'columns':['mdate','coid','close_d']}, \n",
    "                           mdate={'gte':start_dt,'lte':end_dt }, \n",
    "                           paginate=True)\n",
    "\n",
    "performance = run_algorithm(start=start_dt,\n",
    "                            end=end_dt,\n",
    "                            initialize=initialize,\n",
    "                            handle_data=handle_data,\n",
    "                            capital_base=capital_base,\n",
    "                            analyze=analyze,\n",
    "                            treasury_returns=treasury_returns,\n",
    "                            trading_calendar=get_calendar(calendar_name),\n",
    "                            bundle=bundle_name)\n",
    "\n",
    "positions, transactions, orders = get_transaction_detail(performance)"
   ]
  },
  {
   "cell_type": "markdown",
   "id": "e0d28354",
   "metadata": {},
   "source": [
    "## 回測結果"
   ]
  },
  {
   "cell_type": "markdown",
   "id": "24184d61",
   "metadata": {},
   "source": [
    "#### 收盤價"
   ]
  },
  {
   "cell_type": "code",
   "execution_count": 7,
   "id": "0545fd6f",
   "metadata": {},
   "outputs": [
    {
     "data": {
      "text/html": [
       "<div>\n",
       "<style scoped>\n",
       "    .dataframe tbody tr th:only-of-type {\n",
       "        vertical-align: middle;\n",
       "    }\n",
       "\n",
       "    .dataframe tbody tr th {\n",
       "        vertical-align: top;\n",
       "    }\n",
       "\n",
       "    .dataframe thead th {\n",
       "        text-align: right;\n",
       "    }\n",
       "</style>\n",
       "<table border=\"1\" class=\"dataframe\">\n",
       "  <thead>\n",
       "    <tr style=\"text-align: right;\">\n",
       "      <th></th>\n",
       "      <th>mdate</th>\n",
       "      <th>coid</th>\n",
       "      <th>close_d</th>\n",
       "    </tr>\n",
       "    <tr>\n",
       "      <th>None</th>\n",
       "      <th></th>\n",
       "      <th></th>\n",
       "      <th></th>\n",
       "    </tr>\n",
       "  </thead>\n",
       "  <tbody>\n",
       "    <tr>\n",
       "      <th>0</th>\n",
       "      <td>2018-07-24</td>\n",
       "      <td>1101</td>\n",
       "      <td>45.50</td>\n",
       "    </tr>\n",
       "    <tr>\n",
       "      <th>1</th>\n",
       "      <td>2018-07-25</td>\n",
       "      <td>1101</td>\n",
       "      <td>45.10</td>\n",
       "    </tr>\n",
       "    <tr>\n",
       "      <th>2</th>\n",
       "      <td>2018-07-26</td>\n",
       "      <td>1101</td>\n",
       "      <td>40.50</td>\n",
       "    </tr>\n",
       "    <tr>\n",
       "      <th>3</th>\n",
       "      <td>2018-07-27</td>\n",
       "      <td>1101</td>\n",
       "      <td>40.30</td>\n",
       "    </tr>\n",
       "    <tr>\n",
       "      <th>4</th>\n",
       "      <td>2018-07-30</td>\n",
       "      <td>1101</td>\n",
       "      <td>40.70</td>\n",
       "    </tr>\n",
       "    <tr>\n",
       "      <th>5</th>\n",
       "      <td>2018-07-31</td>\n",
       "      <td>1101</td>\n",
       "      <td>39.35</td>\n",
       "    </tr>\n",
       "    <tr>\n",
       "      <th>6</th>\n",
       "      <td>2018-08-01</td>\n",
       "      <td>1101</td>\n",
       "      <td>41.05</td>\n",
       "    </tr>\n",
       "    <tr>\n",
       "      <th>7</th>\n",
       "      <td>2018-08-02</td>\n",
       "      <td>1101</td>\n",
       "      <td>40.60</td>\n",
       "    </tr>\n",
       "    <tr>\n",
       "      <th>8</th>\n",
       "      <td>2018-08-03</td>\n",
       "      <td>1101</td>\n",
       "      <td>40.45</td>\n",
       "    </tr>\n",
       "    <tr>\n",
       "      <th>9</th>\n",
       "      <td>2018-08-06</td>\n",
       "      <td>1101</td>\n",
       "      <td>40.35</td>\n",
       "    </tr>\n",
       "    <tr>\n",
       "      <th>10</th>\n",
       "      <td>2018-08-07</td>\n",
       "      <td>1101</td>\n",
       "      <td>40.15</td>\n",
       "    </tr>\n",
       "    <tr>\n",
       "      <th>11</th>\n",
       "      <td>2018-08-08</td>\n",
       "      <td>1101</td>\n",
       "      <td>40.60</td>\n",
       "    </tr>\n",
       "    <tr>\n",
       "      <th>12</th>\n",
       "      <td>2018-08-09</td>\n",
       "      <td>1101</td>\n",
       "      <td>40.50</td>\n",
       "    </tr>\n",
       "    <tr>\n",
       "      <th>13</th>\n",
       "      <td>2018-08-10</td>\n",
       "      <td>1101</td>\n",
       "      <td>41.50</td>\n",
       "    </tr>\n",
       "    <tr>\n",
       "      <th>14</th>\n",
       "      <td>2018-08-13</td>\n",
       "      <td>1101</td>\n",
       "      <td>42.15</td>\n",
       "    </tr>\n",
       "    <tr>\n",
       "      <th>15</th>\n",
       "      <td>2018-08-14</td>\n",
       "      <td>1101</td>\n",
       "      <td>43.30</td>\n",
       "    </tr>\n",
       "    <tr>\n",
       "      <th>16</th>\n",
       "      <td>2018-07-24</td>\n",
       "      <td>2330</td>\n",
       "      <td>241.00</td>\n",
       "    </tr>\n",
       "    <tr>\n",
       "      <th>17</th>\n",
       "      <td>2018-07-25</td>\n",
       "      <td>2330</td>\n",
       "      <td>240.50</td>\n",
       "    </tr>\n",
       "    <tr>\n",
       "      <th>18</th>\n",
       "      <td>2018-07-26</td>\n",
       "      <td>2330</td>\n",
       "      <td>241.00</td>\n",
       "    </tr>\n",
       "    <tr>\n",
       "      <th>19</th>\n",
       "      <td>2018-07-27</td>\n",
       "      <td>2330</td>\n",
       "      <td>244.50</td>\n",
       "    </tr>\n",
       "    <tr>\n",
       "      <th>20</th>\n",
       "      <td>2018-07-30</td>\n",
       "      <td>2330</td>\n",
       "      <td>245.50</td>\n",
       "    </tr>\n",
       "    <tr>\n",
       "      <th>21</th>\n",
       "      <td>2018-07-31</td>\n",
       "      <td>2330</td>\n",
       "      <td>246.00</td>\n",
       "    </tr>\n",
       "    <tr>\n",
       "      <th>22</th>\n",
       "      <td>2018-08-01</td>\n",
       "      <td>2330</td>\n",
       "      <td>248.00</td>\n",
       "    </tr>\n",
       "    <tr>\n",
       "      <th>23</th>\n",
       "      <td>2018-08-02</td>\n",
       "      <td>2330</td>\n",
       "      <td>244.50</td>\n",
       "    </tr>\n",
       "    <tr>\n",
       "      <th>24</th>\n",
       "      <td>2018-08-03</td>\n",
       "      <td>2330</td>\n",
       "      <td>247.00</td>\n",
       "    </tr>\n",
       "    <tr>\n",
       "      <th>25</th>\n",
       "      <td>2018-08-06</td>\n",
       "      <td>2330</td>\n",
       "      <td>245.50</td>\n",
       "    </tr>\n",
       "    <tr>\n",
       "      <th>26</th>\n",
       "      <td>2018-08-07</td>\n",
       "      <td>2330</td>\n",
       "      <td>241.50</td>\n",
       "    </tr>\n",
       "    <tr>\n",
       "      <th>27</th>\n",
       "      <td>2018-08-08</td>\n",
       "      <td>2330</td>\n",
       "      <td>247.50</td>\n",
       "    </tr>\n",
       "    <tr>\n",
       "      <th>28</th>\n",
       "      <td>2018-08-09</td>\n",
       "      <td>2330</td>\n",
       "      <td>247.00</td>\n",
       "    </tr>\n",
       "    <tr>\n",
       "      <th>29</th>\n",
       "      <td>2018-08-10</td>\n",
       "      <td>2330</td>\n",
       "      <td>245.00</td>\n",
       "    </tr>\n",
       "    <tr>\n",
       "      <th>30</th>\n",
       "      <td>2018-08-13</td>\n",
       "      <td>2330</td>\n",
       "      <td>240.50</td>\n",
       "    </tr>\n",
       "    <tr>\n",
       "      <th>31</th>\n",
       "      <td>2018-08-14</td>\n",
       "      <td>2330</td>\n",
       "      <td>243.50</td>\n",
       "    </tr>\n",
       "  </tbody>\n",
       "</table>\n",
       "</div>"
      ],
      "text/plain": [
       "          mdate  coid  close_d\n",
       "None                          \n",
       "0    2018-07-24  1101    45.50\n",
       "1    2018-07-25  1101    45.10\n",
       "2    2018-07-26  1101    40.50\n",
       "3    2018-07-27  1101    40.30\n",
       "4    2018-07-30  1101    40.70\n",
       "5    2018-07-31  1101    39.35\n",
       "6    2018-08-01  1101    41.05\n",
       "7    2018-08-02  1101    40.60\n",
       "8    2018-08-03  1101    40.45\n",
       "9    2018-08-06  1101    40.35\n",
       "10   2018-08-07  1101    40.15\n",
       "11   2018-08-08  1101    40.60\n",
       "12   2018-08-09  1101    40.50\n",
       "13   2018-08-10  1101    41.50\n",
       "14   2018-08-13  1101    42.15\n",
       "15   2018-08-14  1101    43.30\n",
       "16   2018-07-24  2330   241.00\n",
       "17   2018-07-25  2330   240.50\n",
       "18   2018-07-26  2330   241.00\n",
       "19   2018-07-27  2330   244.50\n",
       "20   2018-07-30  2330   245.50\n",
       "21   2018-07-31  2330   246.00\n",
       "22   2018-08-01  2330   248.00\n",
       "23   2018-08-02  2330   244.50\n",
       "24   2018-08-03  2330   247.00\n",
       "25   2018-08-06  2330   245.50\n",
       "26   2018-08-07  2330   241.50\n",
       "27   2018-08-08  2330   247.50\n",
       "28   2018-08-09  2330   247.00\n",
       "29   2018-08-10  2330   245.00\n",
       "30   2018-08-13  2330   240.50\n",
       "31   2018-08-14  2330   243.50"
      ]
     },
     "execution_count": 7,
     "metadata": {},
     "output_type": "execute_result"
    }
   ],
   "source": [
    "closing_price"
   ]
  },
  {
   "cell_type": "markdown",
   "id": "93a32505",
   "metadata": {},
   "source": [
    "### 下單紀錄"
   ]
  },
  {
   "cell_type": "code",
   "execution_count": 8,
   "id": "a2dbfc61",
   "metadata": {
    "scrolled": true
   },
   "outputs": [
    {
     "data": {
      "text/html": [
       "<div>\n",
       "<style scoped>\n",
       "    .dataframe tbody tr th:only-of-type {\n",
       "        vertical-align: middle;\n",
       "    }\n",
       "\n",
       "    .dataframe tbody tr th {\n",
       "        vertical-align: top;\n",
       "    }\n",
       "\n",
       "    .dataframe thead th {\n",
       "        text-align: right;\n",
       "    }\n",
       "</style>\n",
       "<table border=\"1\" class=\"dataframe\">\n",
       "  <thead>\n",
       "    <tr style=\"text-align: right;\">\n",
       "      <th></th>\n",
       "      <th></th>\n",
       "      <th></th>\n",
       "      <th>amount</th>\n",
       "      <th>dt</th>\n",
       "      <th>price</th>\n",
       "      <th>order_id</th>\n",
       "      <th>commission</th>\n",
       "    </tr>\n",
       "    <tr>\n",
       "      <th>date</th>\n",
       "      <th>asset</th>\n",
       "      <th>symbol</th>\n",
       "      <th></th>\n",
       "      <th></th>\n",
       "      <th></th>\n",
       "      <th></th>\n",
       "      <th></th>\n",
       "    </tr>\n",
       "  </thead>\n",
       "  <tbody>\n",
       "    <tr>\n",
       "      <th>2018-07-25 00:00:00+08:00</th>\n",
       "      <th>Equity(1 [2330])</th>\n",
       "      <th>2330</th>\n",
       "      <td>124</td>\n",
       "      <td>2018-07-25 13:30:00+08:00</td>\n",
       "      <td>240.50</td>\n",
       "      <td>a4a72ad3229541c9b655745f305c7b0d</td>\n",
       "      <td>None</td>\n",
       "    </tr>\n",
       "    <tr>\n",
       "      <th>2018-07-31 00:00:00+08:00</th>\n",
       "      <th>Equity(0 [1101])</th>\n",
       "      <th>1101</th>\n",
       "      <td>725</td>\n",
       "      <td>2018-07-31 13:30:00+08:00</td>\n",
       "      <td>39.35</td>\n",
       "      <td>d4f04b538af140298289d1cc96620a1c</td>\n",
       "      <td>None</td>\n",
       "    </tr>\n",
       "    <tr>\n",
       "      <th rowspan=\"2\" valign=\"top\">2018-08-02 00:00:00+08:00</th>\n",
       "      <th>Equity(0 [1101])</th>\n",
       "      <th>1101</th>\n",
       "      <td>497</td>\n",
       "      <td>2018-08-02 13:30:00+08:00</td>\n",
       "      <td>40.60</td>\n",
       "      <td>6121b364417b471f92de68d5c246237f</td>\n",
       "      <td>None</td>\n",
       "    </tr>\n",
       "    <tr>\n",
       "      <th>Equity(1 [2330])</th>\n",
       "      <th>2330</th>\n",
       "      <td>82</td>\n",
       "      <td>2018-08-02 13:30:00+08:00</td>\n",
       "      <td>244.50</td>\n",
       "      <td>00099a5ddcfb496db3b6aea457670fd3</td>\n",
       "      <td>None</td>\n",
       "    </tr>\n",
       "  </tbody>\n",
       "</table>\n",
       "</div>"
      ],
      "text/plain": [
       "                                                   amount  \\\n",
       "date                      asset            symbol           \n",
       "2018-07-25 00:00:00+08:00 Equity(1 [2330]) 2330       124   \n",
       "2018-07-31 00:00:00+08:00 Equity(0 [1101]) 1101       725   \n",
       "2018-08-02 00:00:00+08:00 Equity(0 [1101]) 1101       497   \n",
       "                          Equity(1 [2330]) 2330        82   \n",
       "\n",
       "                                                                         dt  \\\n",
       "date                      asset            symbol                             \n",
       "2018-07-25 00:00:00+08:00 Equity(1 [2330]) 2330   2018-07-25 13:30:00+08:00   \n",
       "2018-07-31 00:00:00+08:00 Equity(0 [1101]) 1101   2018-07-31 13:30:00+08:00   \n",
       "2018-08-02 00:00:00+08:00 Equity(0 [1101]) 1101   2018-08-02 13:30:00+08:00   \n",
       "                          Equity(1 [2330]) 2330   2018-08-02 13:30:00+08:00   \n",
       "\n",
       "                                                    price  \\\n",
       "date                      asset            symbol           \n",
       "2018-07-25 00:00:00+08:00 Equity(1 [2330]) 2330    240.50   \n",
       "2018-07-31 00:00:00+08:00 Equity(0 [1101]) 1101     39.35   \n",
       "2018-08-02 00:00:00+08:00 Equity(0 [1101]) 1101     40.60   \n",
       "                          Equity(1 [2330]) 2330    244.50   \n",
       "\n",
       "                                                                           order_id  \\\n",
       "date                      asset            symbol                                     \n",
       "2018-07-25 00:00:00+08:00 Equity(1 [2330]) 2330    a4a72ad3229541c9b655745f305c7b0d   \n",
       "2018-07-31 00:00:00+08:00 Equity(0 [1101]) 1101    d4f04b538af140298289d1cc96620a1c   \n",
       "2018-08-02 00:00:00+08:00 Equity(0 [1101]) 1101    6121b364417b471f92de68d5c246237f   \n",
       "                          Equity(1 [2330]) 2330    00099a5ddcfb496db3b6aea457670fd3   \n",
       "\n",
       "                                                  commission  \n",
       "date                      asset            symbol             \n",
       "2018-07-25 00:00:00+08:00 Equity(1 [2330]) 2330         None  \n",
       "2018-07-31 00:00:00+08:00 Equity(0 [1101]) 1101         None  \n",
       "2018-08-02 00:00:00+08:00 Equity(0 [1101]) 1101         None  \n",
       "                          Equity(1 [2330]) 2330         None  "
      ]
     },
     "execution_count": 8,
     "metadata": {},
     "output_type": "execute_result"
    }
   ],
   "source": [
    "transactions"
   ]
  },
  {
   "cell_type": "markdown",
   "id": "2c044833",
   "metadata": {},
   "source": [
    "## 1"
   ]
  },
  {
   "cell_type": "markdown",
   "id": "5c27e0b8",
   "metadata": {},
   "source": [
    "第一天 (7/24) 建立兩單，1101、2330各30%，limit_price分別為43.5, 240.6。因為當天1101收盤價是45.5"
   ]
  },
  {
   "cell_type": "markdown",
   "id": "7901eac7",
   "metadata": {},
   "source": [
    "#### 在7/24時起始現金為100,000，30%的金額為30000\n",
    "#### 1101購買股數 = 30000 / 45.5 = 659 股\n",
    "#### 2330購買股數 = 30000 / 241 = 124股"
   ]
  },
  {
   "cell_type": "code",
   "execution_count": 9,
   "id": "b40220e5",
   "metadata": {
    "scrolled": true
   },
   "outputs": [
    {
     "data": {
      "text/plain": [
       "[{'id': 'd4f04b538af140298289d1cc96620a1c',\n",
       "  'dt': Timestamp('2018-07-24 13:30:00+0800', tz='Asia/Taipei'),\n",
       "  'reason': None,\n",
       "  'created': Timestamp('2018-07-24 13:30:00+0800', tz='Asia/Taipei'),\n",
       "  'amount': 659,\n",
       "  'filled': 0,\n",
       "  'commission': 0,\n",
       "  'stop': None,\n",
       "  'limit': 43.5,\n",
       "  'stop_reached': False,\n",
       "  'limit_reached': False,\n",
       "  'sid': Equity(0 [1101]),\n",
       "  'status': <ORDER_STATUS.OPEN: 0>},\n",
       " {'id': 'a4a72ad3229541c9b655745f305c7b0d',\n",
       "  'dt': Timestamp('2018-07-24 13:30:00+0800', tz='Asia/Taipei'),\n",
       "  'reason': None,\n",
       "  'created': Timestamp('2018-07-24 13:30:00+0800', tz='Asia/Taipei'),\n",
       "  'amount': 124,\n",
       "  'filled': 0,\n",
       "  'commission': 0,\n",
       "  'stop': None,\n",
       "  'limit': 240.6,\n",
       "  'stop_reached': False,\n",
       "  'limit_reached': False,\n",
       "  'sid': Equity(1 [2330]),\n",
       "  'status': <ORDER_STATUS.OPEN: 0>}]"
      ]
     },
     "execution_count": 9,
     "metadata": {},
     "output_type": "execute_result"
    }
   ],
   "source": [
    "performance['orders'][0]"
   ]
  },
  {
   "cell_type": "code",
   "execution_count": 10,
   "id": "254faada",
   "metadata": {
    "scrolled": true
   },
   "outputs": [
    {
     "data": {
      "text/html": [
       "<div>\n",
       "<style scoped>\n",
       "    .dataframe tbody tr th:only-of-type {\n",
       "        vertical-align: middle;\n",
       "    }\n",
       "\n",
       "    .dataframe tbody tr th {\n",
       "        vertical-align: top;\n",
       "    }\n",
       "\n",
       "    .dataframe thead th {\n",
       "        text-align: right;\n",
       "    }\n",
       "</style>\n",
       "<table border=\"1\" class=\"dataframe\">\n",
       "  <thead>\n",
       "    <tr style=\"text-align: right;\">\n",
       "      <th></th>\n",
       "      <th>mdate</th>\n",
       "      <th>coid</th>\n",
       "      <th>close_d</th>\n",
       "    </tr>\n",
       "    <tr>\n",
       "      <th>None</th>\n",
       "      <th></th>\n",
       "      <th></th>\n",
       "      <th></th>\n",
       "    </tr>\n",
       "  </thead>\n",
       "  <tbody>\n",
       "    <tr>\n",
       "      <th>0</th>\n",
       "      <td>2018-07-24</td>\n",
       "      <td>1101</td>\n",
       "      <td>45.5</td>\n",
       "    </tr>\n",
       "    <tr>\n",
       "      <th>16</th>\n",
       "      <td>2018-07-24</td>\n",
       "      <td>2330</td>\n",
       "      <td>241.0</td>\n",
       "    </tr>\n",
       "  </tbody>\n",
       "</table>\n",
       "</div>"
      ],
      "text/plain": [
       "          mdate  coid  close_d\n",
       "None                          \n",
       "0    2018-07-24  1101     45.5\n",
       "16   2018-07-24  2330    241.0"
      ]
     },
     "execution_count": 10,
     "metadata": {},
     "output_type": "execute_result"
    }
   ],
   "source": [
    "closing_price[closing_price['mdate'] == '2018-07-24']"
   ]
  },
  {
   "cell_type": "markdown",
   "id": "88df39af",
   "metadata": {},
   "source": [
    "## 2"
   ]
  },
  {
   "cell_type": "markdown",
   "id": "e276e62a",
   "metadata": {},
   "source": [
    "7/25時2330收盤價240.5低於limit_price 240.6，於是成交。但1101股價還是高於43.5，沒有成交。"
   ]
  },
  {
   "cell_type": "code",
   "execution_count": 11,
   "id": "11529b01",
   "metadata": {
    "scrolled": true
   },
   "outputs": [
    {
     "data": {
      "text/html": [
       "<div>\n",
       "<style scoped>\n",
       "    .dataframe tbody tr th:only-of-type {\n",
       "        vertical-align: middle;\n",
       "    }\n",
       "\n",
       "    .dataframe tbody tr th {\n",
       "        vertical-align: top;\n",
       "    }\n",
       "\n",
       "    .dataframe thead th {\n",
       "        text-align: right;\n",
       "    }\n",
       "</style>\n",
       "<table border=\"1\" class=\"dataframe\">\n",
       "  <thead>\n",
       "    <tr style=\"text-align: right;\">\n",
       "      <th></th>\n",
       "      <th></th>\n",
       "      <th></th>\n",
       "      <th>amount</th>\n",
       "      <th>dt</th>\n",
       "      <th>price</th>\n",
       "      <th>order_id</th>\n",
       "      <th>commission</th>\n",
       "    </tr>\n",
       "    <tr>\n",
       "      <th>date</th>\n",
       "      <th>asset</th>\n",
       "      <th>symbol</th>\n",
       "      <th></th>\n",
       "      <th></th>\n",
       "      <th></th>\n",
       "      <th></th>\n",
       "      <th></th>\n",
       "    </tr>\n",
       "  </thead>\n",
       "  <tbody>\n",
       "    <tr>\n",
       "      <th>2018-07-25 00:00:00+08:00</th>\n",
       "      <th>Equity(1 [2330])</th>\n",
       "      <th>2330</th>\n",
       "      <td>124</td>\n",
       "      <td>2018-07-25 13:30:00+08:00</td>\n",
       "      <td>240.50</td>\n",
       "      <td>a4a72ad3229541c9b655745f305c7b0d</td>\n",
       "      <td>None</td>\n",
       "    </tr>\n",
       "    <tr>\n",
       "      <th>2018-07-31 00:00:00+08:00</th>\n",
       "      <th>Equity(0 [1101])</th>\n",
       "      <th>1101</th>\n",
       "      <td>725</td>\n",
       "      <td>2018-07-31 13:30:00+08:00</td>\n",
       "      <td>39.35</td>\n",
       "      <td>d4f04b538af140298289d1cc96620a1c</td>\n",
       "      <td>None</td>\n",
       "    </tr>\n",
       "    <tr>\n",
       "      <th rowspan=\"2\" valign=\"top\">2018-08-02 00:00:00+08:00</th>\n",
       "      <th>Equity(0 [1101])</th>\n",
       "      <th>1101</th>\n",
       "      <td>497</td>\n",
       "      <td>2018-08-02 13:30:00+08:00</td>\n",
       "      <td>40.60</td>\n",
       "      <td>6121b364417b471f92de68d5c246237f</td>\n",
       "      <td>None</td>\n",
       "    </tr>\n",
       "    <tr>\n",
       "      <th>Equity(1 [2330])</th>\n",
       "      <th>2330</th>\n",
       "      <td>82</td>\n",
       "      <td>2018-08-02 13:30:00+08:00</td>\n",
       "      <td>244.50</td>\n",
       "      <td>00099a5ddcfb496db3b6aea457670fd3</td>\n",
       "      <td>None</td>\n",
       "    </tr>\n",
       "  </tbody>\n",
       "</table>\n",
       "</div>"
      ],
      "text/plain": [
       "                                                   amount  \\\n",
       "date                      asset            symbol           \n",
       "2018-07-25 00:00:00+08:00 Equity(1 [2330]) 2330       124   \n",
       "2018-07-31 00:00:00+08:00 Equity(0 [1101]) 1101       725   \n",
       "2018-08-02 00:00:00+08:00 Equity(0 [1101]) 1101       497   \n",
       "                          Equity(1 [2330]) 2330        82   \n",
       "\n",
       "                                                                         dt  \\\n",
       "date                      asset            symbol                             \n",
       "2018-07-25 00:00:00+08:00 Equity(1 [2330]) 2330   2018-07-25 13:30:00+08:00   \n",
       "2018-07-31 00:00:00+08:00 Equity(0 [1101]) 1101   2018-07-31 13:30:00+08:00   \n",
       "2018-08-02 00:00:00+08:00 Equity(0 [1101]) 1101   2018-08-02 13:30:00+08:00   \n",
       "                          Equity(1 [2330]) 2330   2018-08-02 13:30:00+08:00   \n",
       "\n",
       "                                                    price  \\\n",
       "date                      asset            symbol           \n",
       "2018-07-25 00:00:00+08:00 Equity(1 [2330]) 2330    240.50   \n",
       "2018-07-31 00:00:00+08:00 Equity(0 [1101]) 1101     39.35   \n",
       "2018-08-02 00:00:00+08:00 Equity(0 [1101]) 1101     40.60   \n",
       "                          Equity(1 [2330]) 2330    244.50   \n",
       "\n",
       "                                                                           order_id  \\\n",
       "date                      asset            symbol                                     \n",
       "2018-07-25 00:00:00+08:00 Equity(1 [2330]) 2330    a4a72ad3229541c9b655745f305c7b0d   \n",
       "2018-07-31 00:00:00+08:00 Equity(0 [1101]) 1101    d4f04b538af140298289d1cc96620a1c   \n",
       "2018-08-02 00:00:00+08:00 Equity(0 [1101]) 1101    6121b364417b471f92de68d5c246237f   \n",
       "                          Equity(1 [2330]) 2330    00099a5ddcfb496db3b6aea457670fd3   \n",
       "\n",
       "                                                  commission  \n",
       "date                      asset            symbol             \n",
       "2018-07-25 00:00:00+08:00 Equity(1 [2330]) 2330         None  \n",
       "2018-07-31 00:00:00+08:00 Equity(0 [1101]) 1101         None  \n",
       "2018-08-02 00:00:00+08:00 Equity(0 [1101]) 1101         None  \n",
       "                          Equity(1 [2330]) 2330         None  "
      ]
     },
     "execution_count": 11,
     "metadata": {},
     "output_type": "execute_result"
    }
   ],
   "source": [
    "transactions"
   ]
  },
  {
   "cell_type": "markdown",
   "id": "fe2527b4",
   "metadata": {},
   "source": [
    "## 3"
   ]
  },
  {
   "cell_type": "markdown",
   "id": "4c958084",
   "metadata": {},
   "source": [
    "7/26時1101經過一次分割，比率 = 1/1.1，7/24訂單現在變成limit_price = 43.5 / 1.1 = 39.54，amount = 659 * 1.1 = 725。單子還繼續開著，到了7/31才以39.35成交。<br>\n",
    "注意，購買量是用下訂日的總額、收盤價計算，成交時用成交日收盤價，所以購入的金額不是原訂的接近30000，也不會是成交日時的資產組合總額的30%。\n",
    "\n",
    "註：amount的計算，函數應該是用捨去前的659.xxx，乘上1.1，再捨去。"
   ]
  },
  {
   "cell_type": "code",
   "execution_count": 12,
   "id": "12ba0500",
   "metadata": {
    "scrolled": true
   },
   "outputs": [
    {
     "data": {
      "text/plain": [
       "[{'id': 'd4f04b538af140298289d1cc96620a1c',\n",
       "  'dt': Timestamp('2018-07-31 13:30:00+0800', tz='Asia/Taipei'),\n",
       "  'reason': None,\n",
       "  'created': Timestamp('2018-07-24 13:30:00+0800', tz='Asia/Taipei'),\n",
       "  'amount': 725,\n",
       "  'filled': 725,\n",
       "  'commission': 40.65346875,\n",
       "  'stop': None,\n",
       "  'limit': 39.54,\n",
       "  'stop_reached': False,\n",
       "  'limit_reached': True,\n",
       "  'sid': Equity(0 [1101]),\n",
       "  'status': <ORDER_STATUS.FILLED: 1>}]"
      ]
     },
     "execution_count": 12,
     "metadata": {},
     "output_type": "execute_result"
    }
   ],
   "source": [
    "performance['orders'][5]"
   ]
  },
  {
   "cell_type": "markdown",
   "id": "1e7b1155",
   "metadata": {},
   "source": [
    "## 4"
   ]
  },
  {
   "cell_type": "markdown",
   "id": "73025666",
   "metadata": {},
   "source": [
    "接下來是8/1下單1101, 2330各20%，沒有stop/limit。用最新的portfolio value * 0.2 / 8/1收盤價，算出1101需要497股，2330需要82股，第二日成交。"
   ]
  },
  {
   "cell_type": "markdown",
   "id": "1b62a143",
   "metadata": {},
   "source": [
    "#### 在8/1時總資產為102079，20%的金額為20415\n",
    "#### 1101目標股數 = 20415 / 41.05 = 498股\n",
    "#### 2330目標股數 = 20415 / 248 = 83股"
   ]
  },
  {
   "cell_type": "code",
   "execution_count": 13,
   "id": "19faa5f9",
   "metadata": {},
   "outputs": [
    {
     "data": {
      "text/plain": [
       "102079.35018124999"
      ]
     },
     "execution_count": 13,
     "metadata": {},
     "output_type": "execute_result"
    }
   ],
   "source": [
    "performance['portfolio_value'][6]"
   ]
  },
  {
   "cell_type": "code",
   "execution_count": 14,
   "id": "ff35fa0a",
   "metadata": {},
   "outputs": [
    {
     "data": {
      "text/html": [
       "<div>\n",
       "<style scoped>\n",
       "    .dataframe tbody tr th:only-of-type {\n",
       "        vertical-align: middle;\n",
       "    }\n",
       "\n",
       "    .dataframe tbody tr th {\n",
       "        vertical-align: top;\n",
       "    }\n",
       "\n",
       "    .dataframe thead th {\n",
       "        text-align: right;\n",
       "    }\n",
       "</style>\n",
       "<table border=\"1\" class=\"dataframe\">\n",
       "  <thead>\n",
       "    <tr style=\"text-align: right;\">\n",
       "      <th></th>\n",
       "      <th>mdate</th>\n",
       "      <th>coid</th>\n",
       "      <th>close_d</th>\n",
       "    </tr>\n",
       "    <tr>\n",
       "      <th>None</th>\n",
       "      <th></th>\n",
       "      <th></th>\n",
       "      <th></th>\n",
       "    </tr>\n",
       "  </thead>\n",
       "  <tbody>\n",
       "    <tr>\n",
       "      <th>6</th>\n",
       "      <td>2018-08-01</td>\n",
       "      <td>1101</td>\n",
       "      <td>41.05</td>\n",
       "    </tr>\n",
       "    <tr>\n",
       "      <th>22</th>\n",
       "      <td>2018-08-01</td>\n",
       "      <td>2330</td>\n",
       "      <td>248.00</td>\n",
       "    </tr>\n",
       "  </tbody>\n",
       "</table>\n",
       "</div>"
      ],
      "text/plain": [
       "          mdate  coid  close_d\n",
       "None                          \n",
       "6    2018-08-01  1101    41.05\n",
       "22   2018-08-01  2330   248.00"
      ]
     },
     "execution_count": 14,
     "metadata": {},
     "output_type": "execute_result"
    }
   ],
   "source": [
    "closing_price[closing_price['mdate'] == '2018-08-01']"
   ]
  },
  {
   "cell_type": "markdown",
   "id": "2e53539c",
   "metadata": {},
   "source": [
    "#### 8/1交易訊號跑出"
   ]
  },
  {
   "cell_type": "code",
   "execution_count": 15,
   "id": "075728bf",
   "metadata": {
    "scrolled": true
   },
   "outputs": [
    {
     "data": {
      "text/plain": [
       "[{'id': '6121b364417b471f92de68d5c246237f',\n",
       "  'dt': Timestamp('2018-08-01 13:30:00+0800', tz='Asia/Taipei'),\n",
       "  'reason': None,\n",
       "  'created': Timestamp('2018-08-01 13:30:00+0800', tz='Asia/Taipei'),\n",
       "  'amount': 497,\n",
       "  'filled': 0,\n",
       "  'commission': 0,\n",
       "  'stop': None,\n",
       "  'limit': None,\n",
       "  'stop_reached': False,\n",
       "  'limit_reached': False,\n",
       "  'sid': Equity(0 [1101]),\n",
       "  'status': <ORDER_STATUS.OPEN: 0>},\n",
       " {'id': '00099a5ddcfb496db3b6aea457670fd3',\n",
       "  'dt': Timestamp('2018-08-01 13:30:00+0800', tz='Asia/Taipei'),\n",
       "  'reason': None,\n",
       "  'created': Timestamp('2018-08-01 13:30:00+0800', tz='Asia/Taipei'),\n",
       "  'amount': 82,\n",
       "  'filled': 0,\n",
       "  'commission': 0,\n",
       "  'stop': None,\n",
       "  'limit': None,\n",
       "  'stop_reached': False,\n",
       "  'limit_reached': False,\n",
       "  'sid': Equity(1 [2330]),\n",
       "  'status': <ORDER_STATUS.OPEN: 0>}]"
      ]
     },
     "execution_count": 15,
     "metadata": {},
     "output_type": "execute_result"
    }
   ],
   "source": [
    "performance['orders'][6]"
   ]
  },
  {
   "cell_type": "markdown",
   "id": "9025cc6f",
   "metadata": {},
   "source": [
    "#### 8/2買入股票"
   ]
  },
  {
   "cell_type": "code",
   "execution_count": 16,
   "id": "971c4e6b",
   "metadata": {},
   "outputs": [
    {
     "data": {
      "text/plain": [
       "[{'id': '6121b364417b471f92de68d5c246237f',\n",
       "  'dt': Timestamp('2018-08-02 13:30:00+0800', tz='Asia/Taipei'),\n",
       "  'reason': None,\n",
       "  'created': Timestamp('2018-08-01 13:30:00+0800', tz='Asia/Taipei'),\n",
       "  'amount': 497,\n",
       "  'filled': 497,\n",
       "  'commission': 28.753935000000002,\n",
       "  'stop': None,\n",
       "  'limit': None,\n",
       "  'stop_reached': False,\n",
       "  'limit_reached': False,\n",
       "  'sid': Equity(0 [1101]),\n",
       "  'status': <ORDER_STATUS.FILLED: 1>},\n",
       " {'id': '00099a5ddcfb496db3b6aea457670fd3',\n",
       "  'dt': Timestamp('2018-08-02 13:30:00+0800', tz='Asia/Taipei'),\n",
       "  'reason': None,\n",
       "  'created': Timestamp('2018-08-01 13:30:00+0800', tz='Asia/Taipei'),\n",
       "  'amount': 82,\n",
       "  'filled': 82,\n",
       "  'commission': 28.569825,\n",
       "  'stop': None,\n",
       "  'limit': None,\n",
       "  'stop_reached': False,\n",
       "  'limit_reached': False,\n",
       "  'sid': Equity(1 [2330]),\n",
       "  'status': <ORDER_STATUS.FILLED: 1>}]"
      ]
     },
     "execution_count": 16,
     "metadata": {},
     "output_type": "execute_result"
    }
   ],
   "source": [
    "performance['orders'][7]"
   ]
  },
  {
   "cell_type": "markdown",
   "id": "67da4620",
   "metadata": {},
   "source": [
    "<span id=\"Order_target_percent\"></span>\n",
    "## Order_target_percent介紹\n",
    "order_target的用法為限制住他的股票的總資產占比，如果持股價值超過設定的總資產權重，他就會賣出股票來達到目標權重。相對的，如果持股價值低於總資產權重，則買入股票。<br>\n",
    "[Return to Menu](#menu)"
   ]
  },
  {
   "cell_type": "markdown",
   "id": "fd101461",
   "metadata": {},
   "source": [
    "## 投資1101、2330兩支股票"
   ]
  },
  {
   "cell_type": "markdown",
   "id": "9bed5109",
   "metadata": {},
   "source": [
    "### 設置交易策略\n",
    "#### def handle_data(context, data):\n",
    "\n",
    "    在交易策略的第一個交易時間點（i 等於 0）時\n",
    "    if context.i == 0:\n",
    "        order_percent(symbol('1101'), 0.3, limit_price = 43.5)\n",
    "        使用限價訂單購買股票 '1101'，量為投資組合當前價值的 30%，限價為 43.5\n",
    "        order_percent(symbol('2330'), 0.3, limit_price = 240.6)\n",
    "        使用限價訂單購買股票 '2330'，量為投資組合當前價值的 30%，限價為 240.6\n",
    "    \n",
    "    在交易策略的第一個交易時間點（i 等於 6）時\n",
    "    if context.i == 6:\n",
    "        \n",
    "        order_percent(symbol('1101'), 0.2)\n",
    "        購買股票 '1101'，量為投資組合當前價值的 20%\n",
    "        order_percent(symbol('2330'), 0.2)\n",
    "        購買股票 '2330'，量為投資組合當前價值的 20%\n",
    "    \n",
    "    記錄投資組合中所有資產的收盤價\n",
    "    record(close=data.current(context.asset, 'close'))\n",
    "    context.i += 1"
   ]
  },
  {
   "cell_type": "code",
   "execution_count": 17,
   "id": "e1807b0e",
   "metadata": {},
   "outputs": [],
   "source": [
    "def initialize(context):\n",
    "    context.i = 0\n",
    "    context.tickers = ['1101','2330']\n",
    "    context.asset = [symbol(ticker) for ticker in context.tickers]      \n",
    "    set_slippage(slippage.FixedSlippage(spread=0.00))\n",
    "    set_commission(commission.PerDollar(cost=commission_cost))\n",
    "    set_benchmark(symbol('IR0001'))\n",
    "    \n",
    "def handle_data(context, data):\n",
    "    \n",
    "    if context.i == 0:\n",
    "        order_target_percent(symbol('1101'), 0.3, limit_price = 43.5)\n",
    "        order_target_percent(symbol('2330'), 0.3, limit_price = 240.6)\n",
    "        \n",
    "    if context.i == 6:\n",
    "        order_target_percent(symbol('1101'), 0.2)\n",
    "        order_target_percent(symbol('2330'), 0.2)\n",
    "\n",
    "    record(close=data.current(context.asset, 'close'))\n",
    "    context.i += 1\n",
    "    \n",
    "def analyze(context, perf):\n",
    "\n",
    "    pass\n",
    "\n",
    "commission_cost = 0.001425\n",
    "capital_base = 1e5\n",
    "treasury_returns = get_Treasury_Return(start = start_dt,\n",
    "                                      end = end_dt,\n",
    "                                      rate_type = 'Time_Deposit_Rate',                     \n",
    "                                      term = '1y',\n",
    "                                      symbol = '5844')\n"
   ]
  },
  {
   "cell_type": "code",
   "execution_count": 19,
   "id": "0606a31a",
   "metadata": {},
   "outputs": [],
   "source": [
    "closing_price = tejapi.get('TWN/APIPRCD',\n",
    "                           coid=['1101','2330'], \n",
    "                           opts={'columns':['mdate','coid','close_d']}, \n",
    "                           mdate={'gte':start_dt,'lte':end_dt }, \n",
    "                           paginate=True)\n",
    "\n",
    "performance = run_algorithm(start=start_dt,\n",
    "                            end=end_dt,\n",
    "                            initialize=initialize,\n",
    "                            handle_data=handle_data,\n",
    "                            capital_base=capital_base,\n",
    "                            analyze=analyze,\n",
    "                            treasury_returns=treasury_returns,\n",
    "                            trading_calendar=get_calendar(calendar_name),\n",
    "                            bundle=bundle_name)\n",
    "\n",
    "positions, transactions, orders = get_transaction_detail(performance)"
   ]
  },
  {
   "cell_type": "markdown",
   "id": "158c5132",
   "metadata": {},
   "source": [
    "## 回測結果"
   ]
  },
  {
   "cell_type": "markdown",
   "id": "3f0d5679",
   "metadata": {},
   "source": [
    "## 1"
   ]
  },
  {
   "cell_type": "markdown",
   "id": "90cb0ceb",
   "metadata": {},
   "source": [
    "這邊7/25以及7/31的部分跟上面order_percent一樣"
   ]
  },
  {
   "cell_type": "code",
   "execution_count": 20,
   "id": "91be43f0",
   "metadata": {
    "scrolled": true
   },
   "outputs": [
    {
     "data": {
      "text/html": [
       "<div>\n",
       "<style scoped>\n",
       "    .dataframe tbody tr th:only-of-type {\n",
       "        vertical-align: middle;\n",
       "    }\n",
       "\n",
       "    .dataframe tbody tr th {\n",
       "        vertical-align: top;\n",
       "    }\n",
       "\n",
       "    .dataframe thead th {\n",
       "        text-align: right;\n",
       "    }\n",
       "</style>\n",
       "<table border=\"1\" class=\"dataframe\">\n",
       "  <thead>\n",
       "    <tr style=\"text-align: right;\">\n",
       "      <th></th>\n",
       "      <th></th>\n",
       "      <th></th>\n",
       "      <th>amount</th>\n",
       "      <th>dt</th>\n",
       "      <th>price</th>\n",
       "      <th>order_id</th>\n",
       "      <th>commission</th>\n",
       "    </tr>\n",
       "    <tr>\n",
       "      <th>date</th>\n",
       "      <th>asset</th>\n",
       "      <th>symbol</th>\n",
       "      <th></th>\n",
       "      <th></th>\n",
       "      <th></th>\n",
       "      <th></th>\n",
       "      <th></th>\n",
       "    </tr>\n",
       "  </thead>\n",
       "  <tbody>\n",
       "    <tr>\n",
       "      <th>2018-07-25 00:00:00+08:00</th>\n",
       "      <th>Equity(1 [2330])</th>\n",
       "      <th>2330</th>\n",
       "      <td>124</td>\n",
       "      <td>2018-07-25 13:30:00+08:00</td>\n",
       "      <td>240.50</td>\n",
       "      <td>147a0ea8bfff471d8fc51f31b0246e1c</td>\n",
       "      <td>None</td>\n",
       "    </tr>\n",
       "    <tr>\n",
       "      <th>2018-07-31 00:00:00+08:00</th>\n",
       "      <th>Equity(0 [1101])</th>\n",
       "      <th>1101</th>\n",
       "      <td>725</td>\n",
       "      <td>2018-07-31 13:30:00+08:00</td>\n",
       "      <td>39.35</td>\n",
       "      <td>022aeb348f5c4ea88fa909a2b4f4fb29</td>\n",
       "      <td>None</td>\n",
       "    </tr>\n",
       "    <tr>\n",
       "      <th rowspan=\"2\" valign=\"top\">2018-08-02 00:00:00+08:00</th>\n",
       "      <th>Equity(0 [1101])</th>\n",
       "      <th>1101</th>\n",
       "      <td>-227</td>\n",
       "      <td>2018-08-02 13:30:00+08:00</td>\n",
       "      <td>40.60</td>\n",
       "      <td>b05d6c0fda6f4fa890886708d55eb649</td>\n",
       "      <td>None</td>\n",
       "    </tr>\n",
       "    <tr>\n",
       "      <th>Equity(1 [2330])</th>\n",
       "      <th>2330</th>\n",
       "      <td>-41</td>\n",
       "      <td>2018-08-02 13:30:00+08:00</td>\n",
       "      <td>244.50</td>\n",
       "      <td>52fdc2dbfc214bec938bccbb83de0ff8</td>\n",
       "      <td>None</td>\n",
       "    </tr>\n",
       "  </tbody>\n",
       "</table>\n",
       "</div>"
      ],
      "text/plain": [
       "                                                   amount  \\\n",
       "date                      asset            symbol           \n",
       "2018-07-25 00:00:00+08:00 Equity(1 [2330]) 2330       124   \n",
       "2018-07-31 00:00:00+08:00 Equity(0 [1101]) 1101       725   \n",
       "2018-08-02 00:00:00+08:00 Equity(0 [1101]) 1101      -227   \n",
       "                          Equity(1 [2330]) 2330       -41   \n",
       "\n",
       "                                                                         dt  \\\n",
       "date                      asset            symbol                             \n",
       "2018-07-25 00:00:00+08:00 Equity(1 [2330]) 2330   2018-07-25 13:30:00+08:00   \n",
       "2018-07-31 00:00:00+08:00 Equity(0 [1101]) 1101   2018-07-31 13:30:00+08:00   \n",
       "2018-08-02 00:00:00+08:00 Equity(0 [1101]) 1101   2018-08-02 13:30:00+08:00   \n",
       "                          Equity(1 [2330]) 2330   2018-08-02 13:30:00+08:00   \n",
       "\n",
       "                                                    price  \\\n",
       "date                      asset            symbol           \n",
       "2018-07-25 00:00:00+08:00 Equity(1 [2330]) 2330    240.50   \n",
       "2018-07-31 00:00:00+08:00 Equity(0 [1101]) 1101     39.35   \n",
       "2018-08-02 00:00:00+08:00 Equity(0 [1101]) 1101     40.60   \n",
       "                          Equity(1 [2330]) 2330    244.50   \n",
       "\n",
       "                                                                           order_id  \\\n",
       "date                      asset            symbol                                     \n",
       "2018-07-25 00:00:00+08:00 Equity(1 [2330]) 2330    147a0ea8bfff471d8fc51f31b0246e1c   \n",
       "2018-07-31 00:00:00+08:00 Equity(0 [1101]) 1101    022aeb348f5c4ea88fa909a2b4f4fb29   \n",
       "2018-08-02 00:00:00+08:00 Equity(0 [1101]) 1101    b05d6c0fda6f4fa890886708d55eb649   \n",
       "                          Equity(1 [2330]) 2330    52fdc2dbfc214bec938bccbb83de0ff8   \n",
       "\n",
       "                                                  commission  \n",
       "date                      asset            symbol             \n",
       "2018-07-25 00:00:00+08:00 Equity(1 [2330]) 2330         None  \n",
       "2018-07-31 00:00:00+08:00 Equity(0 [1101]) 1101         None  \n",
       "2018-08-02 00:00:00+08:00 Equity(0 [1101]) 1101         None  \n",
       "                          Equity(1 [2330]) 2330         None  "
      ]
     },
     "execution_count": 20,
     "metadata": {},
     "output_type": "execute_result"
    }
   ],
   "source": [
    "transactions"
   ]
  },
  {
   "cell_type": "markdown",
   "id": "a97a78f8",
   "metadata": {},
   "source": [
    "## 2"
   ]
  },
  {
   "cell_type": "markdown",
   "id": "768a3cf2",
   "metadata": {},
   "source": [
    "#### 在8/1時總資產為102079，20%的金額為20415\n",
    "#### 1101目標股數 = 20415 / 41.05 = 498股，因此 725 - 498 = 227\n",
    "     要將股數售出227筆，才能讓目標股數變成當下總資產的20%\n",
    "#### 2330目標股數 = 20415 / 248 = 83股，因此 124 - 83 = 41\n",
    "     要將股數售出41筆，才能讓目標股數變成當下總資產的20%"
   ]
  },
  {
   "cell_type": "code",
   "execution_count": 21,
   "id": "e4452582",
   "metadata": {},
   "outputs": [
    {
     "data": {
      "text/plain": [
       "102079.35018124999"
      ]
     },
     "execution_count": 21,
     "metadata": {},
     "output_type": "execute_result"
    }
   ],
   "source": [
    "performance['portfolio_value'][6]"
   ]
  },
  {
   "cell_type": "code",
   "execution_count": 22,
   "id": "8e7515de",
   "metadata": {},
   "outputs": [
    {
     "data": {
      "text/html": [
       "<div>\n",
       "<style scoped>\n",
       "    .dataframe tbody tr th:only-of-type {\n",
       "        vertical-align: middle;\n",
       "    }\n",
       "\n",
       "    .dataframe tbody tr th {\n",
       "        vertical-align: top;\n",
       "    }\n",
       "\n",
       "    .dataframe thead th {\n",
       "        text-align: right;\n",
       "    }\n",
       "</style>\n",
       "<table border=\"1\" class=\"dataframe\">\n",
       "  <thead>\n",
       "    <tr style=\"text-align: right;\">\n",
       "      <th></th>\n",
       "      <th>mdate</th>\n",
       "      <th>coid</th>\n",
       "      <th>close_d</th>\n",
       "    </tr>\n",
       "    <tr>\n",
       "      <th>None</th>\n",
       "      <th></th>\n",
       "      <th></th>\n",
       "      <th></th>\n",
       "    </tr>\n",
       "  </thead>\n",
       "  <tbody>\n",
       "    <tr>\n",
       "      <th>6</th>\n",
       "      <td>2018-08-01</td>\n",
       "      <td>1101</td>\n",
       "      <td>41.05</td>\n",
       "    </tr>\n",
       "    <tr>\n",
       "      <th>22</th>\n",
       "      <td>2018-08-01</td>\n",
       "      <td>2330</td>\n",
       "      <td>248.00</td>\n",
       "    </tr>\n",
       "  </tbody>\n",
       "</table>\n",
       "</div>"
      ],
      "text/plain": [
       "          mdate  coid  close_d\n",
       "None                          \n",
       "6    2018-08-01  1101    41.05\n",
       "22   2018-08-01  2330   248.00"
      ]
     },
     "execution_count": 22,
     "metadata": {},
     "output_type": "execute_result"
    }
   ],
   "source": [
    "closing_price[closing_price['mdate'] == '2018-08-01']"
   ]
  },
  {
   "cell_type": "markdown",
   "id": "20c5b23f",
   "metadata": {},
   "source": [
    "#### 8/1交易訊號跑出並下單"
   ]
  },
  {
   "cell_type": "code",
   "execution_count": 23,
   "id": "3850a854",
   "metadata": {
    "scrolled": true
   },
   "outputs": [
    {
     "data": {
      "text/plain": [
       "[{'id': 'b05d6c0fda6f4fa890886708d55eb649',\n",
       "  'dt': Timestamp('2018-08-01 13:30:00+0800', tz='Asia/Taipei'),\n",
       "  'reason': None,\n",
       "  'created': Timestamp('2018-08-01 13:30:00+0800', tz='Asia/Taipei'),\n",
       "  'amount': -227,\n",
       "  'filled': 0,\n",
       "  'commission': 0,\n",
       "  'stop': None,\n",
       "  'limit': None,\n",
       "  'stop_reached': False,\n",
       "  'limit_reached': False,\n",
       "  'sid': Equity(0 [1101]),\n",
       "  'status': <ORDER_STATUS.OPEN: 0>},\n",
       " {'id': '52fdc2dbfc214bec938bccbb83de0ff8',\n",
       "  'dt': Timestamp('2018-08-01 13:30:00+0800', tz='Asia/Taipei'),\n",
       "  'reason': None,\n",
       "  'created': Timestamp('2018-08-01 13:30:00+0800', tz='Asia/Taipei'),\n",
       "  'amount': -41,\n",
       "  'filled': 0,\n",
       "  'commission': 0,\n",
       "  'stop': None,\n",
       "  'limit': None,\n",
       "  'stop_reached': False,\n",
       "  'limit_reached': False,\n",
       "  'sid': Equity(1 [2330]),\n",
       "  'status': <ORDER_STATUS.OPEN: 0>}]"
      ]
     },
     "execution_count": 23,
     "metadata": {},
     "output_type": "execute_result"
    }
   ],
   "source": [
    "performance['orders'][6]"
   ]
  },
  {
   "cell_type": "markdown",
   "id": "625c63da",
   "metadata": {},
   "source": [
    "#### 8/2賣出股票"
   ]
  },
  {
   "cell_type": "code",
   "execution_count": 24,
   "id": "5ba497db",
   "metadata": {},
   "outputs": [
    {
     "data": {
      "text/plain": [
       "[{'id': 'b05d6c0fda6f4fa890886708d55eb649',\n",
       "  'dt': Timestamp('2018-08-02 13:30:00+0800', tz='Asia/Taipei'),\n",
       "  'reason': None,\n",
       "  'created': Timestamp('2018-08-01 13:30:00+0800', tz='Asia/Taipei'),\n",
       "  'amount': -227,\n",
       "  'filled': -227,\n",
       "  'commission': 13.133085000000001,\n",
       "  'stop': None,\n",
       "  'limit': None,\n",
       "  'stop_reached': False,\n",
       "  'limit_reached': False,\n",
       "  'sid': Equity(0 [1101]),\n",
       "  'status': <ORDER_STATUS.FILLED: 1>},\n",
       " {'id': '52fdc2dbfc214bec938bccbb83de0ff8',\n",
       "  'dt': Timestamp('2018-08-02 13:30:00+0800', tz='Asia/Taipei'),\n",
       "  'reason': None,\n",
       "  'created': Timestamp('2018-08-01 13:30:00+0800', tz='Asia/Taipei'),\n",
       "  'amount': -41,\n",
       "  'filled': -41,\n",
       "  'commission': 14.2849125,\n",
       "  'stop': None,\n",
       "  'limit': None,\n",
       "  'stop_reached': False,\n",
       "  'limit_reached': False,\n",
       "  'sid': Equity(1 [2330]),\n",
       "  'status': <ORDER_STATUS.FILLED: 1>}]"
      ]
     },
     "execution_count": 24,
     "metadata": {},
     "output_type": "execute_result"
    }
   ],
   "source": [
    "performance['orders'][7]"
   ]
  },
  {
   "cell_type": "code",
   "execution_count": null,
   "id": "0457452f",
   "metadata": {},
   "outputs": [],
   "source": []
  }
 ],
 "metadata": {
  "kernelspec": {
   "display_name": "Python [conda env:zipline-tej] *",
   "language": "python",
   "name": "conda-env-zipline-tej-py"
  },
  "language_info": {
   "codemirror_mode": {
    "name": "ipython",
    "version": 3
   },
   "file_extension": ".py",
   "mimetype": "text/x-python",
   "name": "python",
   "nbconvert_exporter": "python",
   "pygments_lexer": "ipython3",
   "version": "3.8.13"
  }
 },
 "nbformat": 4,
 "nbformat_minor": 5
}
