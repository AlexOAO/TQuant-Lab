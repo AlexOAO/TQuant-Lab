{
 "cells": [
  {
   "cell_type": "code",
   "execution_count": 2,
   "id": "d230d4c5",
   "metadata": {},
   "outputs": [
    {
     "name": "stderr",
     "output_type": "stream",
     "text": [
      "[2023-08-09 06:07:14.675115] INFO: zipline.data.bundles.core: Ingesting tquant.\n",
      "Traceback (most recent call last):\n",
      "  File \"C:\\Users\\Admin\\anaconda3\\envs\\zipline-tej\\lib\\runpy.py\", line 194, in _run_module_as_main\n",
      "    return _run_code(code, main_globals, None,\n",
      "  File \"C:\\Users\\Admin\\anaconda3\\envs\\zipline-tej\\lib\\runpy.py\", line 87, in _run_code\n",
      "    exec(code, run_globals)\n",
      "  File \"C:\\Users\\Admin\\anaconda3\\envs\\zipline-tej\\Scripts\\zipline.exe\\__main__.py\", line 7, in <module>\n",
      "  File \"C:\\Users\\Admin\\anaconda3\\envs\\zipline-tej\\lib\\site-packages\\click\\core.py\", line 1128, in __call__\n",
      "    return self.main(*args, **kwargs)\n",
      "  File \"C:\\Users\\Admin\\anaconda3\\envs\\zipline-tej\\lib\\site-packages\\click\\core.py\", line 1053, in main\n",
      "    rv = self.invoke(ctx)\n",
      "  File \"C:\\Users\\Admin\\anaconda3\\envs\\zipline-tej\\lib\\site-packages\\click\\core.py\", line 1659, in invoke\n",
      "    return _process_result(sub_ctx.command.invoke(sub_ctx))\n",
      "  File \"C:\\Users\\Admin\\anaconda3\\envs\\zipline-tej\\lib\\site-packages\\click\\core.py\", line 1395, in invoke\n",
      "    return ctx.invoke(self.callback, **ctx.params)\n",
      "  File \"C:\\Users\\Admin\\anaconda3\\envs\\zipline-tej\\lib\\site-packages\\click\\core.py\", line 754, in invoke\n",
      "    return __callback(*args, **kwargs)\n",
      "  File \"C:\\Users\\Admin\\anaconda3\\envs\\zipline-tej\\lib\\site-packages\\zipline\\__main__.py\", line 389, in ingest\n",
      "    bundles_module.ingest(\n",
      "  File \"C:\\Users\\Admin\\anaconda3\\envs\\zipline-tej\\lib\\site-packages\\zipline\\data\\bundles\\core.py\", line 469, in ingest\n",
      "    downgrade(wf.path, version)\n",
      "  File \"C:\\Users\\Admin\\anaconda3\\envs\\zipline-tej\\lib\\site-packages\\zipline\\utils\\cache.py\", line 245, in __exit__\n",
      "    rmtree(self.path)\n",
      "  File \"C:\\Users\\Admin\\anaconda3\\envs\\zipline-tej\\lib\\shutil.py\", line 740, in rmtree\n",
      "    return _rmtree_unsafe(path, onerror)\n",
      "  File \"C:\\Users\\Admin\\anaconda3\\envs\\zipline-tej\\lib\\shutil.py\", line 599, in _rmtree_unsafe\n",
      "    onerror(os.scandir, path, sys.exc_info())\n",
      "  File \"C:\\Users\\Admin\\anaconda3\\envs\\zipline-tej\\lib\\shutil.py\", line 596, in _rmtree_unsafe\n",
      "    with os.scandir(path) as scandir_it:\n",
      "FileNotFoundError: [WinError 3] 系統找不到指定的路徑。: 'C:\\\\Users\\\\Admin/.zipline\\\\data\\\\tquant\\\\.cache'\n"
     ]
    },
    {
     "name": "stdout",
     "output_type": "stream",
     "text": [
      "Merging daily equity files:\n"
     ]
    }
   ],
   "source": [
    "import os \n",
    "StockList1 = ['1227', '1234', '1304', '1314', '1434', '1440', '1476', '1504', '1507', '1590', '1605', '1704', '1710', '1717', '1723', '1789',\n",
    " '1802', '1907', '2006', '2015', '2049', '2101', '2103', '2106', '2204', '2227', '2327', '2337', '2344', '2356', '2360', '2362',\n",
    " '2379', '2384', '2385', '2392', '2395', '2448', '2449', '2450', '2451', '2489', '2501', '2504', '2511', '2542', '2545', '2548',\n",
    " '2603', '2606', '2607', '2608', '2609', '2610', '2615', '2618', '2707', '2723', '2727', '2809', '2812', '2823', '2834', '2845',\n",
    " '2847', '2855', '2884', '2887', '2888', '2889', '2903', '2915', '3034', '3037', '3044', '3149', '3189', '3406', '3702', '4938',\n",
    " '4958', '5522', '5871', '6005', '6176', '6239', '6269', '6286', '8008', '8046', '8078', '8422', '9904', '9907', '9914', '9917', '9921',\n",
    " '9933', '9940', '9945', '2458', '5264', '2206', '1201', '2347', '3231', '5534', '6116', '9910', '1477', '2353', '6271', '1319',\n",
    " '1722', '2059', '3060', '3474', '3673', '2393', '2376', '2439', '3682', '1262', '2201', '2377', '3576', '2352', '2838', '8150',\n",
    " '2324', '2231', '8454', '2833', '6285', '6409', '1536', '1702', '2313', '2498', '2867', '6415', '6456', '9938', '2383', '4137', '6452',\n",
    " '1707', '1589', '2849', '6414', '8464', '2355', '2345', '3706', '2023', '2371', '1909', '2633', '3532', '9941', '2492', '3019',\n",
    " '3443', '4915', '4943', '1229', '2441', '2027', '3026', '1210', '2104', '2456', '5269', '8341', '2354', '3005', '3481', '6669',\n",
    " '2409', '3023', '6213', '2404', '3533', '6278', '6592', '3653', '3661', '3665', '2301', '3714', '2883', '2890', '6531', '1904',\n",
    " '2014', '2105', '2108', '2474', '2637', '6781', '1102', '4919', '1402', '3035', '3036', '4961', '6719', '6770', '2368', '1795',\n",
    " '6550', '6789', '3017', '1101', '1216', '1301', '1303', '1326', '2002', '2207', '2303', '2308', '2311', '2317', '2325', '2330',\n",
    " '2357', '2382', '2412', '2454', '2801', '2880', '2881', '2882', '2885', '2886', '2891', '2892', '2912', '3008', '3045', '3697',\n",
    " '4904', '5880', '6505', '2408', '3711', '5876']\n",
    "tickers = \" \".join(StockList1)\n",
    "os.environ['TEJAPI_BASE'] = 'https://api.tej.com.tw'\n",
    "os.environ['TEJAPI_KEY'] = 'your_key'\n",
    "os.environ['mdate'] = '20170101 20230726'\n",
    "os.environ['ticker'] = tickers\n",
    "\n",
    "!zipline ingest -b tquant\n",
    "\n",
    "from zipline.pipeline import Pipeline\n",
    "from zipline.master import run_pipeline\n",
    "from zipline.pipeline.data import TWEquityPricing\n",
    "from zipline.pipeline.factors import SimpleMovingAverage"
   ]
  },
  {
   "cell_type": "markdown",
   "id": "0297dc5e",
   "metadata": {},
   "source": [
    "## Filters\n",
    "Filters 是一個將資產與時間戳記轉換成布林值的 function ：\n",
    "```\n",
    "F(asset, timestamp) -> boolean\n",
    "```\n",
    "在 Pipeline 中，Filters 用於在計算過程或是 pipeline 的最終產出中以縮小證券集合的範圍，這裡有兩種 `Filter` 常見的創建方式：  \n",
    "在 `Factor` 和 `Classifier` 方法上使用比較運算符。\n",
    "\n",
    "### Comparison Operators\n",
    "對 `Factor` 和 `Classifier` 使用比較運算符會創建 Filters。有鑒於我們尚未介紹到 `Classifier`，我們僅使用 `Factors` 舉例，下方的範例製造了一個當最近收盤價大於 $20 時會返回 `True` 的 filter "
   ]
  },
  {
   "cell_type": "code",
   "execution_count": 3,
   "id": "4b4b27b0",
   "metadata": {},
   "outputs": [],
   "source": [
    "last_close_price = TWEquityPricing.close.latest\n",
    "close_price_filter = last_close_price > 20"
   ]
  },
  {
   "cell_type": "markdown",
   "id": "169f2d58",
   "metadata": {},
   "source": [
    "增加一個 filter 範例，只要 10 天平均值低於 30 天平均值，該過濾器就會返回 True。\n"
   ]
  },
  {
   "cell_type": "code",
   "execution_count": 4,
   "id": "8256aafe",
   "metadata": {},
   "outputs": [],
   "source": [
    "mean_close_10 = SimpleMovingAverage(inputs=[TWEquityPricing.close], window_length=10)\n",
    "mean_close_30 = SimpleMovingAverage(inputs=[TWEquityPricing.close], window_length=30)\n",
    "mean_crossover_filter = mean_close_10 < mean_close_30"
   ]
  },
  {
   "cell_type": "markdown",
   "id": "35ee0055",
   "metadata": {},
   "source": [
    "記住，每天每隻證券都會擁有自己的 `True` 或 `False` 值。"
   ]
  },
  {
   "cell_type": "markdown",
   "id": "51622e08",
   "metadata": {},
   "source": [
    "### Factor/Classifier Methods\n",
    "很多種類的  `Factor` 和 `Classifier` 都會返回 `Filters`。但同樣地，由於我們尚未套論到 `Classifier`，目前我們僅使用 `Factor`（稍後我們會討論 `Classifier`）。`Factor.top(n)`會製造一個回傳指定 `Factor` 的前 `n` 個證券 `True` 值的 `Filter`。下方的範例製作了一個會每天回傳30支證券 `True` 值的 filter ，代表這些證券是所以已知證券中，最後收盤價排名前30名的。"
   ]
  },
  {
   "cell_type": "code",
   "execution_count": 5,
   "id": "503afe3a",
   "metadata": {},
   "outputs": [],
   "source": [
    "last_close_price = TWEquityPricing.close.latest\n",
    "top_close_price_filter = last_close_price.top(30)"
   ]
  },
  {
   "cell_type": "markdown",
   "id": "6ec445dd",
   "metadata": {},
   "source": [
    "## Dollar Volume Filter\n",
    "作為第一個範例，我們創建一個如果該證券 30 日平均交易量大於 $10,000,000 回傳 `True` 值的 `Filter`。為了實現這個效果，我們首先需要創建一個 `AverageDollarVolume` factor 以計算 30 日平均交易量。讓我們匯入 __built-in factor__ `AverageDollarVolume`。"
   ]
  },
  {
   "cell_type": "code",
   "execution_count": 6,
   "id": "c0942b13",
   "metadata": {},
   "outputs": [],
   "source": [
    "from zipline.pipeline.factors import AverageDollarVolume"
   ]
  },
  {
   "cell_type": "markdown",
   "id": "6c1e168e",
   "metadata": {},
   "source": [
    "接著，讓我們實例化 `AverageDollarVolume` factor。"
   ]
  },
  {
   "cell_type": "code",
   "execution_count": 7,
   "id": "23a2db1c",
   "metadata": {},
   "outputs": [],
   "source": [
    "dollar_volume = AverageDollarVolume(inputs = [TWEquityPricing.close, TWEquityPricing.volume],window_length=30)*1000"
   ]
  },
  {
   "cell_type": "markdown",
   "id": "0480e041",
   "metadata": {},
   "source": [
    "在預設情況下， `AverageDollarVolume` 會使用 `TWEquityPricing.close` 與 `TWEquityPricing.volume` 作為 `inputs`，所以我們不須去定義他們。"
   ]
  },
  {
   "cell_type": "markdown",
   "id": "f84dba52",
   "metadata": {},
   "source": [
    "現在我們有了交易量 factor ，我們可以以布林值表達式創建 filter。下方程式創建了一個當證券的 `dollar_volume` 大於 1,000,000,000時會回傳 `True` 的 filter。"
   ]
  },
  {
   "cell_type": "code",
   "execution_count": 8,
   "id": "8bc44caf",
   "metadata": {},
   "outputs": [],
   "source": [
    "high_dollar_volume = (dollar_volume > 1000000000)"
   ]
  },
  {
   "cell_type": "markdown",
   "id": "d4eac677",
   "metadata": {},
   "source": [
    "為了知道 fitler 長怎樣，我們將它作為一個欄位加入先前課程中創立的 pipeline 中。"
   ]
  },
  {
   "cell_type": "code",
   "execution_count": 9,
   "id": "918d80d1",
   "metadata": {},
   "outputs": [],
   "source": [
    "def make_pipeline():\n",
    "\n",
    "    mean_close_10 = SimpleMovingAverage(inputs=[TWEquityPricing.close], window_length=10)\n",
    "    mean_close_30 = SimpleMovingAverage(inputs=[TWEquityPricing.close], window_length=30)\n",
    "\n",
    "    percent_difference = (mean_close_10 - mean_close_30) / mean_close_30\n",
    "    \n",
    "    dollar_volume = AverageDollarVolume(inputs = [TWEquityPricing.close, TWEquityPricing.volume],window_length=30)*1000\n",
    "    high_dollar_volume = (dollar_volume > 1000000000)\n",
    "\n",
    "    return Pipeline(\n",
    "        columns={\n",
    "            'percent_difference': percent_difference,            \n",
    "            'high_dollar_volume': high_dollar_volume\n",
    "        }\n",
    "    )"
   ]
  },
  {
   "cell_type": "markdown",
   "id": "57cdfbb8",
   "metadata": {},
   "source": [
    "如果我們要執行 pipeline ，我們現在有一個欄位 `high_dollar_volume`，當 filter 條件成立時會回傳布林值 `True`。"
   ]
  },
  {
   "cell_type": "code",
   "execution_count": 10,
   "id": "ad36bbd0",
   "metadata": {},
   "outputs": [
    {
     "name": "stderr",
     "output_type": "stream",
     "text": [
      "C:\\Users\\Admin\\anaconda3\\envs\\zipline-tej\\lib\\site-packages\\zipline\\pipeline\\engine.py:407: FutureWarning: Indexing a timezone-aware DatetimeIndex with a timezone-naive datetime is deprecated and will raise KeyError in a future version.  Use a timezone-aware object instead.\n",
      "  root_mask = self._compute_root_mask(\n"
     ]
    },
    {
     "data": {
      "text/html": [
       "<div>\n",
       "<style scoped>\n",
       "    .dataframe tbody tr th:only-of-type {\n",
       "        vertical-align: middle;\n",
       "    }\n",
       "\n",
       "    .dataframe tbody tr th {\n",
       "        vertical-align: top;\n",
       "    }\n",
       "\n",
       "    .dataframe thead th {\n",
       "        text-align: right;\n",
       "    }\n",
       "</style>\n",
       "<table border=\"1\" class=\"dataframe\">\n",
       "  <thead>\n",
       "    <tr style=\"text-align: right;\">\n",
       "      <th></th>\n",
       "      <th></th>\n",
       "      <th>percent_difference</th>\n",
       "      <th>high_dollar_volume</th>\n",
       "    </tr>\n",
       "  </thead>\n",
       "  <tbody>\n",
       "    <tr>\n",
       "      <th rowspan=\"5\" valign=\"top\">2023-03-03 00:00:00+00:00</th>\n",
       "      <th>Equity(0 [1101])</th>\n",
       "      <td>0.037521</td>\n",
       "      <td>True</td>\n",
       "    </tr>\n",
       "    <tr>\n",
       "      <th>Equity(1 [1102])</th>\n",
       "      <td>0.023348</td>\n",
       "      <td>True</td>\n",
       "    </tr>\n",
       "    <tr>\n",
       "      <th>Equity(2 [1201])</th>\n",
       "      <td>0.033230</td>\n",
       "      <td>True</td>\n",
       "    </tr>\n",
       "    <tr>\n",
       "      <th>Equity(3 [1210])</th>\n",
       "      <td>0.034966</td>\n",
       "      <td>True</td>\n",
       "    </tr>\n",
       "    <tr>\n",
       "      <th>Equity(4 [1216])</th>\n",
       "      <td>-0.002188</td>\n",
       "      <td>True</td>\n",
       "    </tr>\n",
       "    <tr>\n",
       "      <th>...</th>\n",
       "      <th>...</th>\n",
       "      <td>...</td>\n",
       "      <td>...</td>\n",
       "    </tr>\n",
       "    <tr>\n",
       "      <th rowspan=\"5\" valign=\"top\">2023-06-01 00:00:00+00:00</th>\n",
       "      <th>Equity(235 [9933])</th>\n",
       "      <td>-0.007137</td>\n",
       "      <td>True</td>\n",
       "    </tr>\n",
       "    <tr>\n",
       "      <th>Equity(236 [9938])</th>\n",
       "      <td>-0.011435</td>\n",
       "      <td>True</td>\n",
       "    </tr>\n",
       "    <tr>\n",
       "      <th>Equity(237 [9940])</th>\n",
       "      <td>0.018450</td>\n",
       "      <td>True</td>\n",
       "    </tr>\n",
       "    <tr>\n",
       "      <th>Equity(238 [9941])</th>\n",
       "      <td>0.027063</td>\n",
       "      <td>True</td>\n",
       "    </tr>\n",
       "    <tr>\n",
       "      <th>Equity(239 [9945])</th>\n",
       "      <td>-0.001933</td>\n",
       "      <td>True</td>\n",
       "    </tr>\n",
       "  </tbody>\n",
       "</table>\n",
       "<p>14030 rows × 2 columns</p>\n",
       "</div>"
      ],
      "text/plain": [
       "                                              percent_difference  \\\n",
       "2023-03-03 00:00:00+00:00 Equity(0 [1101])              0.037521   \n",
       "                          Equity(1 [1102])              0.023348   \n",
       "                          Equity(2 [1201])              0.033230   \n",
       "                          Equity(3 [1210])              0.034966   \n",
       "                          Equity(4 [1216])             -0.002188   \n",
       "...                                                          ...   \n",
       "2023-06-01 00:00:00+00:00 Equity(235 [9933])           -0.007137   \n",
       "                          Equity(236 [9938])           -0.011435   \n",
       "                          Equity(237 [9940])            0.018450   \n",
       "                          Equity(238 [9941])            0.027063   \n",
       "                          Equity(239 [9945])           -0.001933   \n",
       "\n",
       "                                              high_dollar_volume  \n",
       "2023-03-03 00:00:00+00:00 Equity(0 [1101])                  True  \n",
       "                          Equity(1 [1102])                  True  \n",
       "                          Equity(2 [1201])                  True  \n",
       "                          Equity(3 [1210])                  True  \n",
       "                          Equity(4 [1216])                  True  \n",
       "...                                                          ...  \n",
       "2023-06-01 00:00:00+00:00 Equity(235 [9933])                True  \n",
       "                          Equity(236 [9938])                True  \n",
       "                          Equity(237 [9940])                True  \n",
       "                          Equity(238 [9941])                True  \n",
       "                          Equity(239 [9945])                True  \n",
       "\n",
       "[14030 rows x 2 columns]"
      ]
     },
     "execution_count": 10,
     "metadata": {},
     "output_type": "execute_result"
    }
   ],
   "source": [
    "result = run_pipeline(make_pipeline(), '2023-03-03', '2023-06-01')\n",
    "result"
   ]
  },
  {
   "cell_type": "markdown",
   "id": "5cc296ef",
   "metadata": {},
   "source": [
    "## Applying a Screen\n",
    "在預設情況下，pipeline 每日會針對每個在 TEJ 資料庫中的資產生成一個計算值。但很多時候，我們只關注那些達成特定條件的證券（例如，為了能快速實現成交，我們可能只會關注那些每日交易量足夠大的證券）。我們可以透過 `screen` 關鍵字告訴 pipeline 去忽略那些 filter 回傳的布林值為 `False` 的證券。  \n",
    "  \n",
    "為了讓 pipeline 過濾出那些 30日平均交易量 大於 1,000,000,000 的證券，我們可以簡單的將 `high_dollar_volume` filter 作為 `screen` 的參數。現在我們的 pipeline 應該會長這樣："
   ]
  },
  {
   "cell_type": "code",
   "execution_count": 11,
   "id": "34e40c9d",
   "metadata": {},
   "outputs": [],
   "source": [
    "def make_pipeline():\n",
    "\n",
    "    mean_close_10 = SimpleMovingAverage(inputs=[TWEquityPricing.close], window_length=10)\n",
    "    mean_close_30 = SimpleMovingAverage(inputs=[TWEquityPricing.close], window_length=30)\n",
    "\n",
    "    percent_difference = (mean_close_10 - mean_close_30) / mean_close_30\n",
    "    \n",
    "    dollar_volume = AverageDollarVolume(inputs = [TWEquityPricing.close, TWEquityPricing.volume],window_length=30)*1000\n",
    "    high_dollar_volume = (dollar_volume > 1000000000)\n",
    "\n",
    "    return Pipeline(\n",
    "        columns={\n",
    "            'percent_difference': percent_difference\n",
    "        },\n",
    "        screen=high_dollar_volume\n",
    "    )"
   ]
  },
  {
   "cell_type": "markdown",
   "id": "d977e566",
   "metadata": {},
   "source": [
    "當我們執行程式時，pipeline 的輸出僅僅只會包含那些在特定日子通過 `high_dollar_volume` filter 的證券。"
   ]
  },
  {
   "cell_type": "code",
   "execution_count": 14,
   "id": "77058008",
   "metadata": {},
   "outputs": [
    {
     "name": "stderr",
     "output_type": "stream",
     "text": [
      "C:\\Users\\Admin\\anaconda3\\envs\\zipline-tej\\lib\\site-packages\\zipline\\pipeline\\engine.py:407: FutureWarning: Indexing a timezone-aware DatetimeIndex with a timezone-naive datetime is deprecated and will raise KeyError in a future version.  Use a timezone-aware object instead.\n",
      "  root_mask = self._compute_root_mask(\n"
     ]
    },
    {
     "name": "stdout",
     "output_type": "stream",
     "text": [
      "通過 filter 的證券數: 229\n"
     ]
    },
    {
     "data": {
      "text/html": [
       "<div>\n",
       "<style scoped>\n",
       "    .dataframe tbody tr th:only-of-type {\n",
       "        vertical-align: middle;\n",
       "    }\n",
       "\n",
       "    .dataframe tbody tr th {\n",
       "        vertical-align: top;\n",
       "    }\n",
       "\n",
       "    .dataframe thead th {\n",
       "        text-align: right;\n",
       "    }\n",
       "</style>\n",
       "<table border=\"1\" class=\"dataframe\">\n",
       "  <thead>\n",
       "    <tr style=\"text-align: right;\">\n",
       "      <th></th>\n",
       "      <th></th>\n",
       "      <th>percent_difference</th>\n",
       "    </tr>\n",
       "  </thead>\n",
       "  <tbody>\n",
       "    <tr>\n",
       "      <th rowspan=\"11\" valign=\"top\">2023-03-03 00:00:00+00:00</th>\n",
       "      <th>Equity(0 [1101])</th>\n",
       "      <td>0.037521</td>\n",
       "    </tr>\n",
       "    <tr>\n",
       "      <th>Equity(1 [1102])</th>\n",
       "      <td>0.023348</td>\n",
       "    </tr>\n",
       "    <tr>\n",
       "      <th>Equity(2 [1201])</th>\n",
       "      <td>0.033230</td>\n",
       "    </tr>\n",
       "    <tr>\n",
       "      <th>Equity(3 [1210])</th>\n",
       "      <td>0.034966</td>\n",
       "    </tr>\n",
       "    <tr>\n",
       "      <th>Equity(4 [1216])</th>\n",
       "      <td>-0.002188</td>\n",
       "    </tr>\n",
       "    <tr>\n",
       "      <th>...</th>\n",
       "      <td>...</td>\n",
       "    </tr>\n",
       "    <tr>\n",
       "      <th>Equity(235 [9933])</th>\n",
       "      <td>0.015381</td>\n",
       "    </tr>\n",
       "    <tr>\n",
       "      <th>Equity(236 [9938])</th>\n",
       "      <td>0.027505</td>\n",
       "    </tr>\n",
       "    <tr>\n",
       "      <th>Equity(237 [9940])</th>\n",
       "      <td>0.021334</td>\n",
       "    </tr>\n",
       "    <tr>\n",
       "      <th>Equity(238 [9941])</th>\n",
       "      <td>0.013461</td>\n",
       "    </tr>\n",
       "    <tr>\n",
       "      <th>Equity(239 [9945])</th>\n",
       "      <td>-0.001735</td>\n",
       "    </tr>\n",
       "  </tbody>\n",
       "</table>\n",
       "<p>229 rows × 1 columns</p>\n",
       "</div>"
      ],
      "text/plain": [
       "                                              percent_difference\n",
       "2023-03-03 00:00:00+00:00 Equity(0 [1101])              0.037521\n",
       "                          Equity(1 [1102])              0.023348\n",
       "                          Equity(2 [1201])              0.033230\n",
       "                          Equity(3 [1210])              0.034966\n",
       "                          Equity(4 [1216])             -0.002188\n",
       "...                                                          ...\n",
       "                          Equity(235 [9933])            0.015381\n",
       "                          Equity(236 [9938])            0.027505\n",
       "                          Equity(237 [9940])            0.021334\n",
       "                          Equity(238 [9941])            0.013461\n",
       "                          Equity(239 [9945])           -0.001735\n",
       "\n",
       "[229 rows x 1 columns]"
      ]
     },
     "execution_count": 14,
     "metadata": {},
     "output_type": "execute_result"
    }
   ],
   "source": [
    "result = run_pipeline(make_pipeline(), '2023-03-03', '2023-03-03')\n",
    "print('通過 filter 的證券數: %d' % len(result))\n",
    "result"
   ]
  },
  {
   "cell_type": "markdown",
   "id": "3a23525e",
   "metadata": {},
   "source": [
    "## Inverting a Filter\n",
    "`~` 運算符是用於反轉 filter 的，將所有 `True` 轉變為 `False`，反之亦然。例如，我們可以撰寫下列的 filter 去過濾出低交易量的證券。"
   ]
  },
  {
   "cell_type": "code",
   "execution_count": 13,
   "id": "10989dd3",
   "metadata": {},
   "outputs": [],
   "source": [
    "low_dollar_volume = ~high_dollar_volume"
   ]
  },
  {
   "cell_type": "markdown",
   "id": "8c83e42f",
   "metadata": {},
   "source": [
    "這會對過去 30 天內所有平均交易量低於或等於 $1,000,000,000的證券回傳 `True`。"
   ]
  }
 ],
 "metadata": {
  "kernelspec": {
   "display_name": "Python [conda env:zipline-tej] *",
   "language": "python",
   "name": "conda-env-zipline-tej-py"
  },
  "language_info": {
   "codemirror_mode": {
    "name": "ipython",
    "version": 3
   },
   "file_extension": ".py",
   "mimetype": "text/x-python",
   "name": "python",
   "nbconvert_exporter": "python",
   "pygments_lexer": "ipython3",
   "version": "3.8.13"
  }
 },
 "nbformat": 4,
 "nbformat_minor": 5
}
